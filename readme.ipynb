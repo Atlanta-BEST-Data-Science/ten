{
 "cells": [
  {
   "cell_type": "markdown",
   "metadata": {
    "slideshow": {
     "slide_type": "slide"
    }
   },
   "source": [
    "Project Jupyter is a growing ecosystem of free, open source scientific software for interactive computing, \n",
    "consisting of millions of users and over a million notebooks on GitHub.  Jupyter's Notebook, and related \n",
    "experiences, are becoming standard interfaces for scientists and engineers.  The notebook interface is impacting \n",
    "the broader landscapes of research, computing, and teaching where data and code are essential; the stakeholders \n",
    "span industry, academia, and philanthropy."
   ]
  },
  {
   "cell_type": "code",
   "execution_count": 1,
   "metadata": {},
   "outputs": [
    {
     "data": {
      "text/html": [
       "<style>\n",
       "    @import url(\"https://cdn.jsdelivr.net/npm/firacode@1.205.0/distr/fira_code.css\");\n",
       "\n",
       "    pre code, \n",
       "    div.output_area pre, \n",
       "    .CodeMirror * {\n",
       "      font-family: 'Fira Code' !important; \n",
       "      font-variant-ligatures: initial !important;\n",
       "    }\n",
       "\n",
       "    .cm-string {\n",
       "        font-variant-ligatures: none;\n",
       "    }\n",
       "</style>\n"
      ],
      "text/plain": [
       "<IPython.core.display.HTML object>"
      ]
     },
     "metadata": {},
     "output_type": "display_data"
    }
   ],
   "source": [
    "    %reload_ext XXX.mumble"
   ]
  },
  {
   "cell_type": "code",
   "execution_count": 2,
   "metadata": {},
   "outputs": [],
   "source": [
    "    \n",
    "    ---\n",
    "    ˣ:\n",
    "        img: https://user-images.githubusercontent.com/4236275/35933146-bfb7ec94-0c07-11e8-98d5-8972dc4b4e39.png\n",
    "        jupyter: http://jupyter.org/\n",
    "        lab:\n",
    "        hub:\n",
    "        scipy:\n",
    "        glue:\n",
    "        imat:\n",
    "        matin:\n",
    "        nbformat: https://github.com/jupyter/nbformat\n",
    "        kernels: https://github.com/jupyter/jupyter/wiki/Jupyter-kernels"
   ]
  },
  {
   "cell_type": "code",
   "execution_count": 3,
   "metadata": {
    "slideshow": {
     "slide_type": "-"
    }
   },
   "outputs": [
    {
     "data": {
      "text/markdown": [
       "![](https://user-images.githubusercontent.com/4236275/35933146-bfb7ec94-0c07-11e8-98d5-8972dc4b4e39.png)\n",
       "\n",
       "February 23, 12pm-2pm"
      ],
      "text/plain": [
       "<IPython.core.display.Markdown object>"
      ]
     },
     "metadata": {},
     "output_type": "display_data"
    }
   ],
   "source": [
    "![]({{ˣ.img}})\n",
    "\n",
    "February 23, 12pm-2pm"
   ]
  },
  {
   "cell_type": "code",
   "execution_count": 4,
   "metadata": {},
   "outputs": [
    {
     "data": {
      "text/html": [
       "<style>\n",
       "        iframe {\n",
       "            width: 100%;\n",
       "            min-height: 80vh;\n",
       "            max-height: 1000px;\n",
       "        }\n",
       "    </style>"
      ],
      "text/plain": [
       "<IPython.core.display.HTML object>"
      ]
     },
     "metadata": {},
     "output_type": "display_data"
    },
    {
     "data": {
      "text/html": [
       "<style>\n",
       "    body.rise-hack-active div.reveal .code_cell .input,\n",
       "    body.rise-hack-active div.reveal .output_stderr {\n",
       "        display: none;\n",
       "    }\n",
       "    button.rise-hack:hover {\n",
       "        opacity: 0.7;\n",
       "    }\n",
       "    button.rise-hack {\n",
       "        font-weight: bold;\n",
       "    }\n",
       "    body.rise-hack-active button.rise-hack {\n",
       "        text-decoration: line-through;\n",
       "    }\n",
       "    body.rise-hack-active .reveal .rendered_html table {\n",
       "        font-size: 16px;\n",
       "    }\n",
       "    body.rise-hack-active .reveal .prompt {\n",
       "        display: none;\n",
       "    }\n",
       "    </style>"
      ],
      "text/plain": [
       "<IPython.core.display.HTML object>"
      ]
     },
     "metadata": {},
     "output_type": "display_data"
    },
    {
     "data": {
      "application/javascript": [
       ";(function(){\n",
       "        function init() {   \n",
       "            $(\"button.rise-hack\").remove();\n",
       "            $(\"body\").addClass(\"rise-hack-active\");\n",
       "            var btn = $(\"<button/>\", {\"class\": \"rise-hack\"}).text(\"</>\");\n",
       "            btn.bind(\"click\", function(){\n",
       "                $(\"body\").toggleClass(\"rise-hack-active\");\n",
       "                Reveal.layout();\n",
       "            });\n",
       "            $(\".controls\").append(btn);\n",
       "        }\n",
       "\n",
       "        function subscribe(){\n",
       "            if(!window.Reveal){\n",
       "                return setTimeout(subscribe, 1000);\n",
       "            }\n",
       "            Reveal.addEventListener('ready', init);\n",
       "            init();\n",
       "        }\n",
       "        subscribe();   \n",
       "    }).call(this);"
      ],
      "text/plain": [
       "<IPython.core.display.Javascript object>"
      ]
     },
     "metadata": {},
     "output_type": "display_data"
    }
   ],
   "source": [
    "    \n",
    "    %reload_ext XXX.steez"
   ]
  },
  {
   "cell_type": "code",
   "execution_count": 5,
   "metadata": {
    "slideshow": {
     "slide_type": "subslide"
    }
   },
   "outputs": [
    {
     "data": {
      "text/markdown": [
       "This talk will review the history of Project Jupyter as scientific software born from the Scientific Python \n",
       "(SciPy) community.  Since it's inception, the community has extended Jupyter to work with over 50 different \n",
       "languages and provided new options for interactive development, research and presentation, including JupyterLab, \n",
       "the next generation of the Notebook.  In the broader open source community we find Jupyter tools for grading, batch \n",
       "processing, app development, documentation, tests, and even source code."
      ],
      "text/plain": [
       "<IPython.core.display.Markdown object>"
      ]
     },
     "metadata": {},
     "output_type": "display_data"
    }
   ],
   "source": [
    "This talk will review the history of Project Jupyter as scientific software born from the Scientific Python \n",
    "(SciPy) community.  Since it's inception, the community has extended Jupyter to work with over 50 different \n",
    "languages and provided new options for interactive development, research and presentation, including JupyterLab, \n",
    "the next generation of the Notebook.  In the broader open source community we find Jupyter tools for grading, batch \n",
    "processing, app development, documentation, tests, and even source code."
   ]
  },
  {
   "cell_type": "code",
   "execution_count": 6,
   "metadata": {},
   "outputs": [
    {
     "data": {
      "text/html": [
       "\n",
       "        <iframe\n",
       "            width=\"800\"\n",
       "            height=\"600\"\n",
       "            src=\"http://jupyter.org/\n",
       "\"\n",
       "            frameborder=\"0\"\n",
       "            allowfullscreen\n",
       "        ></iframe>\n",
       "        "
      ],
      "text/plain": [
       "<IPython.lib.display.IFrame at 0x1132084e0>"
      ]
     },
     "metadata": {},
     "output_type": "display_data"
    }
   ],
   "source": [
    "    \n",
    "    {{ˣ.jupyter}}"
   ]
  },
  {
   "cell_type": "code",
   "execution_count": 7,
   "metadata": {
    "slideshow": {
     "slide_type": "subslide"
    }
   },
   "outputs": [
    {
     "data": {
      "text/markdown": [
       "Within organizations, Jupyter notebooks are commonly used to exchange ideas and build knowledge bases across \n",
       "diverse disciplines.  The talk will highlight recent case studies in Jupyter transforming classroom education, \n",
       "massive collaboration in physics, and the entire multimedia experience of learning."
      ],
      "text/plain": [
       "<IPython.core.display.Markdown object>"
      ]
     },
     "metadata": {},
     "output_type": "display_data"
    }
   ],
   "source": [
    "Within organizations, Jupyter notebooks are commonly used to exchange ideas and build knowledge bases across \n",
    "diverse disciplines.  The talk will highlight recent case studies in Jupyter transforming classroom education, \n",
    "massive collaboration in physics, and the entire multimedia experience of learning."
   ]
  },
  {
   "cell_type": "code",
   "execution_count": 8,
   "metadata": {
    "slideshow": {
     "slide_type": "slide"
    }
   },
   "outputs": [
    {
     "data": {
      "text/markdown": [
       "> ##  Jupyter is scientific software.\n",
       "> ##  Jupyter is part of the scientific Python community [ˣ](ˣ.glue).\n",
       "> ##  Jupyter creates [data](ˣ.nbformat).\n",
       "> ##  Jupyter is language agnostic.\n",
       "> ##  Jupyter is a lot of Python and Javascript"
      ],
      "text/plain": [
       "<IPython.core.display.Markdown object>"
      ]
     },
     "metadata": {},
     "output_type": "display_data"
    }
   ],
   "source": [
    "> ##  Jupyter is scientific software.\n",
    "> ##  Jupyter is part of the scientific Python community [ˣ](ˣ.glue).\n",
    "> ##  Jupyter creates [data](ˣ.nbformat).\n",
    "> ##  Jupyter is language agnostic.\n",
    "> ##  Jupyter is a lot of Python and Javascript"
   ]
  },
  {
   "cell_type": "code",
   "execution_count": 9,
   "metadata": {
    "slideshow": {
     "slide_type": "subslide"
    }
   },
   "outputs": [
    {
     "data": {
      "text/markdown": [
       "> ##  Jupyter has several interactive editting experiences.\n",
       "> ##  Jupyter can be used for publishing.\n",
       "> ##  Jupyter can empower teachers.\n",
       "> ##  Jupyter is massive research collaborations.\n",
       "> ##  Jupyter creates readable and reusable code documents"
      ],
      "text/plain": [
       "<IPython.core.display.Markdown object>"
      ]
     },
     "metadata": {},
     "output_type": "display_data"
    }
   ],
   "source": [
    "> ##  Jupyter has several interactive editting experiences.\n",
    "> ##  Jupyter can be used for publishing.\n",
    "> ##  Jupyter can empower teachers.\n",
    "> ##  Jupyter is massive research collaborations.\n",
    "> ##  Jupyter creates readable and reusable code documents"
   ]
  }
 ],
 "metadata": {
  "celltoolbar": "Slideshow",
  "kernelspec": {
   "display_name": "p6",
   "language": "python",
   "name": "other-env"
  },
  "language_info": {
   "codemirror_mode": {
    "name": "ipython",
    "version": 3
   },
   "file_extension": ".py",
   "mimetype": "text/x-python",
   "name": "python",
   "nbconvert_exporter": "python",
   "pygments_lexer": "ipython3",
   "version": "3.6.3"
  }
 },
 "nbformat": 4,
 "nbformat_minor": 2
}
