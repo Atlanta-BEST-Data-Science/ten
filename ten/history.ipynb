{
 "cells": [
  {
   "cell_type": "markdown",
   "metadata": {},
   "source": [
    "⓵ [History and Community](history.ipynb)"
   ]
  },
  {
   "cell_type": "code",
   "execution_count": 1,
   "metadata": {},
   "outputs": [
    {
     "data": {
      "text/html": [
       "<style>\n",
       ".jp-RenderedHTMLCommon pre code {\n",
       "    text-decoration: line-through wavy;\n",
       "}\n",
       ".jp-RenderedHTMLCommon pre code:hover {\n",
       "    text-decoration: none;\n",
       "\n",
       "}\n",
       ".jp-Placeholder-content .jp-MoreHorizIcon {\n",
       "    background-size: 32px;\n",
       "}\n",
       "\n",
       "@import url(\"https://cdn.jsdelivr.net/npm/firacode@1.205.0/distr/fira_code.css\")\n",
       "\n",
       ".CodeMirror * {\n",
       "  font-family: 'Fira Code' !important; \n",
       "  font-variant-ligatures: initial !important;\n",
       "}\n",
       "\n",
       ".cm-string {\n",
       "    font-variant-ligatures: none;\n",
       "}\n",
       "</style><style>\n",
       ".jp-mod-presentationMode .jp-SideBar,\n",
       ".jp-mod-presentationMode #jp-top-panel {\n",
       "    opacity: 0.0;\n",
       "    transition: all 0.2s;\n",
       "}\n",
       ".jp-mod-presentationMode .jp-SideBar:hover,\n",
       ".jp-mod-presentationMode #jp-top-panel:hover {\n",
       "    opacity: 0.9;\n",
       "    transition: all 0.2s;\n",
       "}\n",
       "\n",
       "</style><style>\n",
       ".jp-mod-presentationMode.jp-ApplicationShell,\n",
       ".jp-mod-presentationMode .p-TabBar-content{\n",
       "    background-color: var(--jp-layout-color0);\n",
       "}\n",
       "</style><style>\n",
       ".jp-mod-presentationMode .p-DockPanel-widget,\n",
       ".jp-mod-presentationMode #jp-left-stack{\n",
       "    border-color: transparent;\n",
       "}\n",
       ".jp-mod-presentationMode .jp-Toolbar-item,\n",
       ".jp-mod-presentationMode .jp-Toolbar {\n",
       "    opacity: 0.1;\n",
       "    transition: all 0.2s;\n",
       "}\n",
       ".jp-mod-presentationMode .jp-Toolbar-item:hover,\n",
       ".jp-mod-presentationMode .jp-Toolbar:hover {\n",
       "    opacity: 0.9;\n",
       "    transition: all 0.2s;\n",
       "}\n",
       "\n",
       "</style><style>\n",
       ".jp-mod-presentationMode .jp-OutputPrompt,\n",
       ".jp-mod-presentationMode .jp-InputPrompt {\n",
       "    max-width: 2rem !important;\n",
       "    transition: all 0.2s;\n",
       "}\n",
       ".jp-mod-presentationMode .jp-Cell.jp-mod-selected .jp-OutputPrompt,\n",
       ".jp-mod-presentationMode .jp-Cell.jp-mod-selected .jp-InputPrompt,\n",
       ".jp-mod-presentationMode .jp-Cell:hover .jp-OutputPrompt,\n",
       ".jp-mod-presentationMode .jp-Cell:hover .jp-InputPrompt {\n",
       "    max-width: 10rem !important;\n",
       "    transition: all 0.2s;\n",
       "}\n",
       "\n",
       ".jp-mod-presentationMode .jp-Cell {\n",
       "    margin-bottom: 5rem;\n",
       "}\n",
       "\n",
       ".jp-mod-presentationMode hr {\n",
       "    opacity: 0.1;\n",
       "}\n",
       "</style>"
      ],
      "text/plain": [
       "<IPython.core.display.HTML object>"
      ]
     },
     "execution_count": 1,
     "metadata": {},
     "output_type": "execute_result"
    }
   ],
   "source": [
    "    \n",
    "    from poser import *\n",
    "    from importlib import reload\n",
    "    if __name__ == '__main__':\n",
    "        %reload_ext rites.all\n",
    "    try: \n",
    "        from .index import bullets, topics\n",
    "        from .utils.style import style\n",
    "    except: \n",
    "        from ten.index import bullets, topics\n",
    "        from ten.utils.style import style\n",
    "        \n",
    "    Ⅎill = \"\"\"---\\n\"\"\"*20\n",
    "    style"
   ]
  },
  {
   "cell_type": "code",
   "execution_count": 2,
   "metadata": {},
   "outputs": [],
   "source": [
    "\n",
    "{{Ⅎill}}\n",
    "\n",
    "    try: \n",
    "        from .particles import refs as xx, kernels, computing, python, docfast, community, forge, jupyter, people\n",
    "    except: \n",
    "        from ten.particles import refs as xx, kernels, computing, python, docfast, community, forge, jupyter, people"
   ]
  },
  {
   "cell_type": "code",
   "execution_count": 3,
   "metadata": {},
   "outputs": [
    {
     "data": {
      "text/markdown": [
       "---\n",
       "---\n",
       "---\n",
       "---\n",
       "---\n",
       "---\n",
       "---\n",
       "---\n",
       "---\n",
       "---\n",
       "---\n",
       "---\n",
       "---\n",
       "---\n",
       "---\n",
       "---\n",
       "---\n",
       "---\n",
       "---\n",
       "---\n",
       "\n",
       "# The Modern Scientist ...\n",
       "\n",
       "... interacts with scientific discovery on computers, they seek measurements _in silico_, not on paper.  They rely on community vetted resources as tools for discovery, and their science is not computer science.  They will write code for people and machines."
      ],
      "text/plain": [
       "<IPython.core.display.Markdown object>"
      ]
     },
     "metadata": {},
     "output_type": "display_data"
    }
   ],
   "source": [
    "{{Ⅎill}}\n",
    "# The Modern Scientist ...\n",
    "\n",
    "... interacts with scientific discovery on computers, they seek measurements _in silico_, not on paper.  They rely on community vetted resources as tools for discovery, and their science is not computer science.  They will write code for people and machines."
   ]
  },
  {
   "cell_type": "code",
   "execution_count": 4,
   "metadata": {},
   "outputs": [
    {
     "data": {
      "text/markdown": [
       "---\n",
       "---\n",
       "---\n",
       "---\n",
       "---\n",
       "---\n",
       "---\n",
       "---\n",
       "---\n",
       "---\n",
       "---\n",
       "---\n",
       "---\n",
       "---\n",
       "---\n",
       "---\n",
       "---\n",
       "---\n",
       "---\n",
       "---\n",
       "\n",
       "\n",
       "#  Jupyter is scientific software    \n",
       "\n",
       "    people.fperez\n",
       "    "
      ],
      "text/plain": [
       "<IPython.core.display.Markdown object>"
      ]
     },
     "metadata": {},
     "output_type": "display_data"
    },
    {
     "data": {
      "text/markdown": [
       "\n",
       "\n",
       "![Fernando Perez](https://avatars1.githubusercontent.com/u/57394?v=4)\n",
       "\n",
       "> Fernando Perez | [Github](https://github.com/fperez) | [Twitter](https://twitter.com/fperez) | \n",
       "\n"
      ],
      "text/plain": [
       "Person(github='fperez', info={'login': 'fperez', 'id': 57394, 'avatar_url': 'https://avatars1.githubusercontent.com/u/57394?v=4', 'gravatar_id': '', 'url': 'https://api.github.com/users/fperez', 'html_url': 'https://github.com/fperez', 'followers_url': 'https://api.github.com/users/fperez/followers', 'following_url': 'https://api.github.com/users/fperez/following{/other_user}', 'gists_url': 'https://api.github.com/users/fperez/gists{/gist_id}', 'starred_url': 'https://api.github.com/users/fperez/starred{/owner}{/repo}', 'subscriptions_url': 'https://api.github.com/users/fperez/subscriptions', 'organizations_url': 'https://api.github.com/users/fperez/orgs', 'repos_url': 'https://api.github.com/users/fperez/repos', 'events_url': 'https://api.github.com/users/fperez/events{/privacy}', 'received_events_url': 'https://api.github.com/users/fperez/received_events', 'type': 'User', 'site_admin': False, 'name': 'Fernando Perez', 'company': 'University of California, Berkeley.', 'blog': 'http://fperez.org', 'location': 'Berkeley, CA', 'email': None, 'hireable': None, 'bio': None, 'public_repos': 110, 'public_gists': 83, 'followers': 811, 'following': 0, 'created_at': '2009-02-24T08:06:12Z', 'updated_at': '2018-03-21T05:45:06Z'}, name='Fernando Perez', twitter='fperez', linkedin=None, slideshare=None, img=None)"
      ]
     },
     "execution_count": 4,
     "metadata": {},
     "output_type": "execute_result"
    }
   ],
   "source": [
    "{{Ⅎill}}\n",
    "\n",
    "# {{topics[1]}}\n",
    "\n",
    "    people.fperez\n",
    "    "
   ]
  },
  {
   "cell_type": "code",
   "execution_count": 5,
   "metadata": {},
   "outputs": [
    {
     "data": {
      "text/markdown": [
       "### [Fernando Perez](None) - [The IPython notebook: a historical retrospective 👍](http://blog.fperez.org/2012/01/ipython-notebook-historical.html)    \n",
       "\n",
       "> ... As any self-respecting graduate student with a dissertation deadline looming would do, I threw myself full-time into building the first 'real' IPython by merging my code with both of theirs (eventually I did graduate, by the way).\n",
       "    "
      ],
      "text/plain": [
       "<IPython.core.display.Markdown object>"
      ]
     },
     "metadata": {},
     "output_type": "display_data"
    }
   ],
   "source": [
    "### [Fernando Perez]({{computing.people['perez']}}) - [The IPython notebook: a historical retrospective 👍]({{xx.ipython['history']}})    \n",
    "\n",
    "> ... As any self-respecting graduate student with a dissertation deadline looming would do, I threw myself full-time into building the first 'real' IPython by merging my code with both of theirs (eventually I did graduate, by the way).\n",
    "    "
   ]
  },
  {
   "cell_type": "code",
   "execution_count": 6,
   "metadata": {},
   "outputs": [
    {
     "data": {
      "text/markdown": [
       "    digraph {rankdir=\"UD\"; \n",
       "             subgraph clusternb{label=\"modern notebooks\";maple mathematica  sage jupyter}; }"
      ],
      "text/plain": [
       "<IPython.core.display.Markdown object>"
      ]
     },
     "metadata": {},
     "output_type": "display_data"
    },
    {
     "data": {
      "image/svg+xml": [
       "<?xml version=\"1.0\" encoding=\"UTF-8\" standalone=\"no\"?>\n",
       "<!DOCTYPE svg PUBLIC \"-//W3C//DTD SVG 1.1//EN\"\n",
       " \"http://www.w3.org/Graphics/SVG/1.1/DTD/svg11.dtd\">\n",
       "<!-- Generated by graphviz version 2.40.1 (20161225.0304)\n",
       " -->\n",
       "<!-- Title: %3 Pages: 1 -->\n",
       "<svg width=\"418pt\" height=\"101pt\"\n",
       " viewBox=\"0.00 0.00 418.00 100.80\" xmlns=\"http://www.w3.org/2000/svg\" xmlns:xlink=\"http://www.w3.org/1999/xlink\">\n",
       "<g id=\"graph0\" class=\"graph\" transform=\"scale(1 1) rotate(0) translate(4 96.8)\">\n",
       "<title>%3</title>\n",
       "<polygon fill=\"#ffffff\" stroke=\"transparent\" points=\"-4,4 -4,-96.8 414,-96.8 414,4 -4,4\"/>\n",
       "<g id=\"clust1\" class=\"cluster\">\n",
       "<title>clusternb</title>\n",
       "<polygon fill=\"none\" stroke=\"#000000\" points=\"8,-8 8,-84.8 402,-84.8 402,-8 8,-8\"/>\n",
       "<text text-anchor=\"middle\" x=\"205\" y=\"-68.2\" font-family=\"Times,serif\" font-size=\"14.00\" fill=\"#000000\">modern notebooks</text>\n",
       "</g>\n",
       "<!-- maple -->\n",
       "<g id=\"node1\" class=\"node\">\n",
       "<title>maple</title>\n",
       "<ellipse fill=\"none\" stroke=\"#000000\" cx=\"359\" cy=\"-34\" rx=\"34.769\" ry=\"18\"/>\n",
       "<text text-anchor=\"middle\" x=\"359\" y=\"-29.8\" font-family=\"Times,serif\" font-size=\"14.00\" fill=\"#000000\">maple</text>\n",
       "</g>\n",
       "<!-- mathematica -->\n",
       "<g id=\"node2\" class=\"node\">\n",
       "<title>mathematica</title>\n",
       "<ellipse fill=\"none\" stroke=\"#000000\" cx=\"246\" cy=\"-34\" rx=\"60.2479\" ry=\"18\"/>\n",
       "<text text-anchor=\"middle\" x=\"246\" y=\"-29.8\" font-family=\"Times,serif\" font-size=\"14.00\" fill=\"#000000\">mathematica</text>\n",
       "</g>\n",
       "<!-- sage -->\n",
       "<g id=\"node3\" class=\"node\">\n",
       "<title>sage</title>\n",
       "<ellipse fill=\"none\" stroke=\"#000000\" cx=\"139\" cy=\"-34\" rx=\"28.3893\" ry=\"18\"/>\n",
       "<text text-anchor=\"middle\" x=\"139\" y=\"-29.8\" font-family=\"Times,serif\" font-size=\"14.00\" fill=\"#000000\">sage</text>\n",
       "</g>\n",
       "<!-- jupyter -->\n",
       "<g id=\"node4\" class=\"node\">\n",
       "<title>jupyter</title>\n",
       "<ellipse fill=\"none\" stroke=\"#000000\" cx=\"54\" cy=\"-34\" rx=\"38.2818\" ry=\"18\"/>\n",
       "<text text-anchor=\"middle\" x=\"54\" y=\"-29.8\" font-family=\"Times,serif\" font-size=\"14.00\" fill=\"#000000\">jupyter</text>\n",
       "</g>\n",
       "</g>\n",
       "</svg>\n"
      ],
      "text/plain": [
       "<graphviz.files.Source at 0x11402a7f0>"
      ]
     },
     "metadata": {},
     "output_type": "display_data"
    }
   ],
   "source": [
    "    digraph {rankdir=\"UD\"; \n",
    "             subgraph clusternb{label=\"modern notebooks\";maple mathematica  sage jupyter}; }"
   ]
  },
  {
   "cell_type": "code",
   "execution_count": 7,
   "metadata": {},
   "outputs": [
    {
     "data": {
      "text/markdown": [
       "---\n",
       "---\n",
       "---\n",
       "---\n",
       "---\n",
       "---\n",
       "---\n",
       "---\n",
       "---\n",
       "---\n",
       "---\n",
       "---\n",
       "---\n",
       "---\n",
       "---\n",
       "---\n",
       "---\n",
       "---\n",
       "---\n",
       "---\n",
       "\n",
       "# Oh 🍁\n",
       "\n",
       "### [Application of microstructure sensitive design to structural components produced from hexagonal polycrystalline metals](https://www.sciencedirect.com/science/article/pii/S0927025607003369 \"2007\")\n",
       "\n",
       "[![](https://ars.els-cdn.com/content/image/1-s2.0-S0927025607003369-gr4.jpg)](https://www.sciencedirect.com/science/article/pii/S0927025607003369)"
      ],
      "text/plain": [
       "<IPython.core.display.Markdown object>"
      ]
     },
     "metadata": {},
     "output_type": "display_data"
    }
   ],
   "source": [
    "{{Ⅎill}}\n",
    "# Oh 🍁\n",
    "\n",
    "### [Application of microstructure sensitive design to structural components produced from hexagonal polycrystalline metals]({{docfast.msd}} \"2007\")\n",
    "\n",
    "[![]({{docfast.closure}})]({{docfast.msd}})"
   ]
  },
  {
   "cell_type": "code",
   "execution_count": 8,
   "metadata": {},
   "outputs": [
    {
     "data": {
      "text/markdown": [
       "---\n",
       "---\n",
       "---\n",
       "---\n",
       "---\n",
       "---\n",
       "---\n",
       "---\n",
       "---\n",
       "---\n",
       "---\n",
       "---\n",
       "---\n",
       "---\n",
       "---\n",
       "---\n",
       "---\n",
       "---\n",
       "---\n",
       "---\n",
       "\n",
       "\n",
       "# Open Source Software practices have made computation accessible to everyone."
      ],
      "text/plain": [
       "<IPython.core.display.Markdown object>"
      ]
     },
     "metadata": {},
     "output_type": "display_data"
    }
   ],
   "source": [
    "{{Ⅎill}}\n",
    "\n",
    "# Open Source Software practices have made computation accessible to everyone."
   ]
  },
  {
   "cell_type": "code",
   "execution_count": 9,
   "metadata": {},
   "outputs": [
    {
     "data": {
      "text/markdown": [
       "---\n",
       "---\n",
       "---\n",
       "---\n",
       "---\n",
       "---\n",
       "---\n",
       "---\n",
       "---\n",
       "---\n",
       "---\n",
       "---\n",
       "---\n",
       "---\n",
       "---\n",
       "---\n",
       "---\n",
       "---\n",
       "---\n",
       "---"
      ],
      "text/plain": [
       "<IPython.core.display.Markdown object>"
      ]
     },
     "metadata": {},
     "output_type": "display_data"
    }
   ],
   "source": [
    "{{Ⅎill}}"
   ]
  },
  {
   "cell_type": "code",
   "execution_count": 10,
   "metadata": {},
   "outputs": [
    {
     "data": {
      "image/svg+xml": [
       "<?xml version=\"1.0\" encoding=\"UTF-8\" standalone=\"no\"?>\n",
       "<!DOCTYPE svg PUBLIC \"-//W3C//DTD SVG 1.1//EN\"\n",
       " \"http://www.w3.org/Graphics/SVG/1.1/DTD/svg11.dtd\">\n",
       "<!-- Generated by graphviz version 2.40.1 (20161225.0304)\n",
       " -->\n",
       "<!-- Title: %3 Pages: 1 -->\n",
       "<svg width=\"550pt\" height=\"236pt\"\n",
       " viewBox=\"0.00 0.00 550.35 236.00\" xmlns=\"http://www.w3.org/2000/svg\" xmlns:xlink=\"http://www.w3.org/1999/xlink\">\n",
       "<g id=\"graph0\" class=\"graph\" transform=\"scale(1 1) rotate(0) translate(4 232)\">\n",
       "<title>%3</title>\n",
       "<polygon fill=\"#ffffff\" stroke=\"transparent\" points=\"-4,4 -4,-232 546.3467,-232 546.3467,4 -4,4\"/>\n",
       "<g id=\"clust2\" class=\"cluster\">\n",
       "<title>clusterlang</title>\n",
       "<polygon fill=\"none\" stroke=\"#000000\" points=\"164.7477,-35 164.7477,-220 304.4727,-220 304.4727,-35 164.7477,-35\"/>\n",
       "<text text-anchor=\"middle\" x=\"234.6102\" y=\"-203.4\" font-family=\"Times,serif\" font-size=\"14.00\" fill=\"#000000\">interpretted languages</text>\n",
       "</g>\n",
       "<g id=\"clust3\" class=\"cluster\">\n",
       "<title>clusternb</title>\n",
       "<polygon fill=\"none\" stroke=\"#000000\" points=\"8,-8 8,-193 144.7477,-193 144.7477,-8 8,-8\"/>\n",
       "<text text-anchor=\"middle\" x=\"76.3738\" y=\"-176.4\" font-family=\"Times,serif\" font-size=\"14.00\" fill=\"#000000\">modern notebooks</text>\n",
       "</g>\n",
       "<g id=\"clust1\" class=\"cluster\">\n",
       "<title>clusterservices</title>\n",
       "<polygon fill=\"none\" stroke=\"#000000\" points=\"324.4727,-43 324.4727,-120 534.3467,-120 534.3467,-43 324.4727,-43\"/>\n",
       "<text text-anchor=\"middle\" x=\"429.4097\" y=\"-103.4\" font-family=\"Times,serif\" font-size=\"14.00\" fill=\"#000000\">services</text>\n",
       "</g>\n",
       "<!-- ipython -->\n",
       "<g id=\"node1\" class=\"node\">\n",
       "<title>ipython</title>\n",
       "<ellipse fill=\"none\" stroke=\"#000000\" cx=\"373.0189\" cy=\"-69\" rx=\"40.5925\" ry=\"18\"/>\n",
       "<text text-anchor=\"middle\" x=\"373.0189\" y=\"-64.8\" font-family=\"Times,serif\" font-size=\"14.00\" fill=\"#000000\">ipython</text>\n",
       "</g>\n",
       "<!-- jupyter -->\n",
       "<g id=\"node2\" class=\"node\">\n",
       "<title>jupyter</title>\n",
       "<ellipse fill=\"none\" stroke=\"#000000\" cx=\"487.9559\" cy=\"-69\" rx=\"38.2818\" ry=\"18\"/>\n",
       "<text text-anchor=\"middle\" x=\"487.9559\" y=\"-64.8\" font-family=\"Times,serif\" font-size=\"14.00\" fill=\"#000000\">jupyter</text>\n",
       "</g>\n",
       "<!-- ipython&#45;&gt;jupyter -->\n",
       "<g id=\"edge1\" class=\"edge\">\n",
       "<title>ipython&#45;&gt;jupyter</title>\n",
       "<path fill=\"none\" stroke=\"#000000\" d=\"M413.865,-69C422.1221,-69 430.88,-69 439.3727,-69\"/>\n",
       "<polygon fill=\"#000000\" stroke=\"#000000\" points=\"439.5488,-72.5001 449.5487,-69 439.5487,-65.5001 439.5488,-72.5001\"/>\n",
       "</g>\n",
       "<!-- julia -->\n",
       "<g id=\"node3\" class=\"node\">\n",
       "<title>julia</title>\n",
       "<ellipse fill=\"none\" stroke=\"#000000\" cx=\"234.6102\" cy=\"-169\" rx=\"28.4069\" ry=\"18\"/>\n",
       "<text text-anchor=\"middle\" x=\"234.6102\" y=\"-164.8\" font-family=\"Times,serif\" font-size=\"14.00\" fill=\"#000000\">julia</text>\n",
       "</g>\n",
       "<!-- julia&#45;&gt;jupyter -->\n",
       "<g id=\"edge4\" class=\"edge\">\n",
       "<title>julia&#45;&gt;jupyter</title>\n",
       "<path fill=\"none\" stroke=\"#000000\" d=\"M261.5095,-163.4727C297.2588,-155.5853 361.9217,-139.4167 413.5651,-116 429.3154,-108.8583 445.6826,-98.8423 459.0412,-89.8906\"/>\n",
       "<polygon fill=\"#000000\" stroke=\"#000000\" points=\"461.0747,-92.7401 467.3486,-84.2026 457.12,-86.9642 461.0747,-92.7401\"/>\n",
       "</g>\n",
       "<!-- r -->\n",
       "<g id=\"node4\" class=\"node\">\n",
       "<title>r</title>\n",
       "<ellipse fill=\"none\" stroke=\"#000000\" cx=\"234.6102\" cy=\"-115\" rx=\"27\" ry=\"18\"/>\n",
       "<text text-anchor=\"middle\" x=\"234.6102\" y=\"-110.8\" font-family=\"Times,serif\" font-size=\"14.00\" fill=\"#000000\">r</text>\n",
       "</g>\n",
       "<!-- r&#45;&gt;jupyter -->\n",
       "<g id=\"edge5\" class=\"edge\">\n",
       "<title>r&#45;&gt;jupyter</title>\n",
       "<path fill=\"none\" stroke=\"#000000\" d=\"M261.6264,-114.166C296.9592,-112.6144 360.5963,-108.2331 413.5651,-96 425.6971,-93.1981 438.5622,-88.9964 450.1208,-84.737\"/>\n",
       "<polygon fill=\"#000000\" stroke=\"#000000\" points=\"451.3775,-88.0038 459.4781,-81.1751 448.8871,-81.4617 451.3775,-88.0038\"/>\n",
       "</g>\n",
       "<!-- python -->\n",
       "<g id=\"node5\" class=\"node\">\n",
       "<title>python</title>\n",
       "<ellipse fill=\"none\" stroke=\"#000000\" cx=\"234.6102\" cy=\"-61\" rx=\"37.7256\" ry=\"18\"/>\n",
       "<text text-anchor=\"middle\" x=\"234.6102\" y=\"-56.8\" font-family=\"Times,serif\" font-size=\"14.00\" fill=\"#000000\">python</text>\n",
       "</g>\n",
       "<!-- python&#45;&gt;ipython -->\n",
       "<g id=\"edge6\" class=\"edge\">\n",
       "<title>python&#45;&gt;ipython</title>\n",
       "<path fill=\"none\" stroke=\"#000000\" d=\"M272.431,-63.186C287.8086,-64.0749 305.8091,-65.1153 322.2988,-66.0684\"/>\n",
       "<polygon fill=\"#000000\" stroke=\"#000000\" points=\"322.1484,-69.5654 332.3337,-66.6484 322.5523,-62.5771 322.1484,-69.5654\"/>\n",
       "</g>\n",
       "<!-- maple -->\n",
       "<g id=\"node6\" class=\"node\">\n",
       "<title>maple</title>\n",
       "<ellipse fill=\"none\" stroke=\"#000000\" cx=\"76.3738\" cy=\"-142\" rx=\"34.769\" ry=\"18\"/>\n",
       "<text text-anchor=\"middle\" x=\"76.3738\" y=\"-137.8\" font-family=\"Times,serif\" font-size=\"14.00\" fill=\"#000000\">maple</text>\n",
       "</g>\n",
       "<!-- mathematica -->\n",
       "<g id=\"node7\" class=\"node\">\n",
       "<title>mathematica</title>\n",
       "<ellipse fill=\"none\" stroke=\"#000000\" cx=\"76.3738\" cy=\"-88\" rx=\"60.2479\" ry=\"18\"/>\n",
       "<text text-anchor=\"middle\" x=\"76.3738\" y=\"-83.8\" font-family=\"Times,serif\" font-size=\"14.00\" fill=\"#000000\">mathematica</text>\n",
       "</g>\n",
       "<!-- mathematica&#45;&gt;python -->\n",
       "<g id=\"edge2\" class=\"edge\">\n",
       "<title>mathematica&#45;&gt;python</title>\n",
       "<path fill=\"none\" stroke=\"#000000\" d=\"M129.0643,-79.0094C148.3319,-75.7217 169.962,-72.031 188.601,-68.8506\"/>\n",
       "<polygon fill=\"#000000\" stroke=\"#000000\" points=\"189.3455,-72.2742 198.6143,-67.142 188.168,-65.374 189.3455,-72.2742\"/>\n",
       "</g>\n",
       "<!-- sage -->\n",
       "<g id=\"node8\" class=\"node\">\n",
       "<title>sage</title>\n",
       "<ellipse fill=\"none\" stroke=\"#000000\" cx=\"76.3738\" cy=\"-34\" rx=\"28.3893\" ry=\"18\"/>\n",
       "<text text-anchor=\"middle\" x=\"76.3738\" y=\"-29.8\" font-family=\"Times,serif\" font-size=\"14.00\" fill=\"#000000\">sage</text>\n",
       "</g>\n",
       "<!-- sage&#45;&gt;python -->\n",
       "<g id=\"edge3\" class=\"edge\">\n",
       "<title>sage&#45;&gt;python</title>\n",
       "<path fill=\"none\" stroke=\"#000000\" d=\"M103.9365,-38.703C127.2557,-42.682 161.1584,-48.4669 188.5873,-53.1471\"/>\n",
       "<polygon fill=\"#000000\" stroke=\"#000000\" points=\"188.3009,-56.6487 198.7472,-54.8807 189.4784,-49.7484 188.3009,-56.6487\"/>\n",
       "</g>\n",
       "</g>\n",
       "</svg>\n"
      ],
      "text/plain": [
       "<graphviz.files.Source at 0x1137563c8>"
      ]
     },
     "metadata": {},
     "output_type": "display_data"
    }
   ],
   "source": [
    "    \n",
    "    digraph {rankdir=\"LR\"; \n",
    "             subgraph clusterservices{label=\"services\";ipython ->jupyter }; subgraph clusterlang{label=\"interpretted languages\";julia r python}; subgraph clusternb{label=\"modern notebooks\";maple mathematica  -> python; sage ->python}; julia->jupyter; r-> jupyter; python -> ipython}"
   ]
  },
  {
   "cell_type": "code",
   "execution_count": 11,
   "metadata": {},
   "outputs": [
    {
     "data": {
      "text/markdown": [
       "> ...By that point [Brian Granger]() and [Min Ragan-Kelley]() had come on board and we had built the Twisted-based parallel tools. Using this, Min got a notebook prototype working using an SQL/SQLAlchemy backend.  We had the opportunity to work on many of these ideas during a workshop on Interactive Parallel Computation that William and I co-organized (along with others).  Like Sage, this prototype used a browser for the client but it tried to retain the 'IPython experience', something the Sage notebook didn't provide."
      ],
      "text/plain": [
       "<IPython.core.display.Markdown object>"
      ]
     },
     "metadata": {},
     "output_type": "display_data"
    }
   ],
   "source": [
    "> ...By that point [Brian Granger]() and [Min Ragan-Kelley]() had come on board and we had built the Twisted-based parallel tools. Using this, Min got a notebook prototype working using an SQL/SQLAlchemy backend.  We had the opportunity to work on many of these ideas during a workshop on Interactive Parallel Computation that William and I co-organized (along with others).  Like Sage, this prototype used a browser for the client but it tried to retain the 'IPython experience', something the Sage notebook didn't provide."
   ]
  },
  {
   "cell_type": "code",
   "execution_count": 12,
   "metadata": {},
   "outputs": [
    {
     "data": {
      "text/markdown": [
       "## Jupyter is ...\n",
       "\n",
       "* Interactive\n",
       "* Parallelizable\n",
       "\n",
       "<code><pre>  * Literate</pre></code>"
      ],
      "text/plain": [
       "<IPython.core.display.Markdown object>"
      ]
     },
     "metadata": {},
     "output_type": "display_data"
    }
   ],
   "source": [
    "## Jupyter is ...\n",
    "\n",
    "* Interactive\n",
    "* Parallelizable\n",
    "\n",
    "<code><pre>  * Literate</pre></code>"
   ]
  },
  {
   "cell_type": "code",
   "execution_count": 13,
   "metadata": {},
   "outputs": [
    {
     "data": {
      "text/markdown": [
       "---\n",
       "---\n",
       "---\n",
       "---\n",
       "---\n",
       "---\n",
       "---\n",
       "---\n",
       "---\n",
       "---\n",
       "---\n",
       "---\n",
       "---\n",
       "---\n",
       "---\n",
       "---\n",
       "---\n",
       "---\n",
       "---\n",
       "---\n",
       "\n",
       "\n",
       "#  Jupyter is language agnostic\n",
       "\n",
       "    graph {rankdir=\"LR\"; data--science--computing--data}"
      ],
      "text/plain": [
       "<IPython.core.display.Markdown object>"
      ]
     },
     "metadata": {},
     "output_type": "display_data"
    },
    {
     "data": {
      "image/svg+xml": [
       "<?xml version=\"1.0\" encoding=\"UTF-8\" standalone=\"no\"?>\n",
       "<!DOCTYPE svg PUBLIC \"-//W3C//DTD SVG 1.1//EN\"\n",
       " \"http://www.w3.org/Graphics/SVG/1.1/DTD/svg11.dtd\">\n",
       "<!-- Generated by graphviz version 2.40.1 (20161225.0304)\n",
       " -->\n",
       "<!-- Title: %3 Pages: 1 -->\n",
       "<svg width=\"318pt\" height=\"67pt\"\n",
       " viewBox=\"0.00 0.00 317.84 67.00\" xmlns=\"http://www.w3.org/2000/svg\" xmlns:xlink=\"http://www.w3.org/1999/xlink\">\n",
       "<g id=\"graph0\" class=\"graph\" transform=\"scale(1 1) rotate(0) translate(4 63)\">\n",
       "<title>%3</title>\n",
       "<polygon fill=\"#ffffff\" stroke=\"transparent\" points=\"-4,4 -4,-63 313.8365,-63 313.8365,4 -4,4\"/>\n",
       "<!-- data -->\n",
       "<g id=\"node1\" class=\"node\">\n",
       "<title>data</title>\n",
       "<ellipse fill=\"none\" stroke=\"#000000\" cx=\"27.1221\" cy=\"-18\" rx=\"27.2447\" ry=\"18\"/>\n",
       "<text text-anchor=\"middle\" x=\"27.1221\" y=\"-13.8\" font-family=\"Times,serif\" font-size=\"14.00\" fill=\"#000000\">data</text>\n",
       "</g>\n",
       "<!-- science -->\n",
       "<g id=\"node2\" class=\"node\">\n",
       "<title>science</title>\n",
       "<ellipse fill=\"none\" stroke=\"#000000\" cx=\"129.6953\" cy=\"-41\" rx=\"39.4023\" ry=\"18\"/>\n",
       "<text text-anchor=\"middle\" x=\"129.6953\" y=\"-36.8\" font-family=\"Times,serif\" font-size=\"14.00\" fill=\"#000000\">science</text>\n",
       "</g>\n",
       "<!-- data&#45;&#45;science -->\n",
       "<g id=\"edge1\" class=\"edge\">\n",
       "<title>data&#45;&#45;science</title>\n",
       "<path fill=\"none\" stroke=\"#000000\" d=\"M53.0056,-23.8039C65.4688,-26.5985 80.6097,-29.9935 94.135,-33.0263\"/>\n",
       "</g>\n",
       "<!-- computing -->\n",
       "<g id=\"node3\" class=\"node\">\n",
       "<title>computing</title>\n",
       "<ellipse fill=\"none\" stroke=\"#000000\" cx=\"257.4914\" cy=\"-18\" rx=\"52.1906\" ry=\"18\"/>\n",
       "<text text-anchor=\"middle\" x=\"257.4914\" y=\"-13.8\" font-family=\"Times,serif\" font-size=\"14.00\" fill=\"#000000\">computing</text>\n",
       "</g>\n",
       "<!-- science&#45;&#45;computing -->\n",
       "<g id=\"edge2\" class=\"edge\">\n",
       "<title>science&#45;&#45;computing</title>\n",
       "<path fill=\"none\" stroke=\"#000000\" d=\"M166.6592,-34.3474C180.518,-31.8532 196.4458,-28.9866 211.0547,-26.3574\"/>\n",
       "</g>\n",
       "<!-- computing&#45;&#45;data -->\n",
       "<g id=\"edge3\" class=\"edge\">\n",
       "<title>computing&#45;&#45;data</title>\n",
       "<path fill=\"none\" stroke=\"#000000\" d=\"M205.6512,-15.2602C193.6671,-14.7359 180.9655,-14.2674 169.1464,-14 134.0877,-13.2067 125.2943,-12.8906 90.2442,-14 78.391,-14.3752 65.3045,-15.1457 54.135,-15.9113\"/>\n",
       "</g>\n",
       "</g>\n",
       "</svg>\n"
      ],
      "text/plain": [
       "<graphviz.files.Source at 0x11377d898>"
      ]
     },
     "metadata": {},
     "output_type": "display_data"
    }
   ],
   "source": [
    "{{Ⅎill}}\n",
    "\n",
    "# {{topics[2]}}\n",
    "\n",
    "    graph {rankdir=\"LR\"; data--science--computing--data}\n",
    "\n"
   ]
  },
  {
   "cell_type": "code",
   "execution_count": 14,
   "metadata": {},
   "outputs": [
    {
     "data": {
      "text/markdown": [
       "#### [\"Literate computing\" and computational reproducibility: IPython in the age of data-driven journalism](http://blog.fperez.org/2013/04/literate-computing-and-computational.html)\n",
       "> Our job with Jupyter~~IPython~~ is to think deeply about questions regarding the intersection of _**computing, data and science**_, but it's clear to me at this point that we can contribute in contexts beyond pure scientific research. I hope we'll be able to provide folks who have a _**direct intersection with the public**_, such as journalists, with tools that help a more informed and productive debate.\n",
       "\n",
       "> - Fernando Perez"
      ],
      "text/plain": [
       "<IPython.core.display.Markdown object>"
      ]
     },
     "metadata": {},
     "output_type": "display_data"
    }
   ],
   "source": [
    "#### [\"Literate computing\" and computational reproducibility: IPython in the age of data-driven journalism]({{computing.literate['ipython']}})\n",
    "> Our job with Jupyter~~IPython~~ is to think deeply about questions regarding the intersection of _**computing, data and science**_, but it's clear to me at this point that we can contribute in contexts beyond pure scientific research. I hope we'll be able to provide folks who have a _**direct intersection with the public**_, such as journalists, with tools that help a more informed and productive debate.\n",
    "\n",
    "> - Fernando Perez"
   ]
  },
  {
   "cell_type": "code",
   "execution_count": 15,
   "metadata": {},
   "outputs": [
    {
     "data": {
      "text/markdown": [
       "![](https://upload.wikimedia.org/wikipedia/commons/thumb/f/f7/Programming_paradigms.svg/1379px-Programming_paradigms.svg.png)"
      ],
      "text/plain": [
       "<IPython.core.display.Markdown object>"
      ]
     },
     "metadata": {},
     "output_type": "display_data"
    }
   ],
   "source": [
    "![]({{computing.paradigms['img']}})"
   ]
  },
  {
   "cell_type": "code",
   "execution_count": 16,
   "metadata": {},
   "outputs": [
    {
     "data": {
      "text/markdown": [
       "---\n",
       "---\n",
       "---\n",
       "---\n",
       "---\n",
       "---\n",
       "---\n",
       "---\n",
       "---\n",
       "---\n",
       "---\n",
       "---\n",
       "---\n",
       "---\n",
       "---\n",
       "---\n",
       "---\n",
       "---\n",
       "---\n",
       "---\n",
       "\n",
       "\n",
       "## [Python is a glue language](https://docs.scipy.org/doc/numpy/user/c-info.python-as-glue.html)\n",
       "\n",
       "#### C\n",
       "\n",
       "    import cython\n",
       "    import ctypes\n",
       "\n",
       "#### Fortran\n",
       "    \n",
       "    from numpy import f2py\n",
       "    \n",
       "#### Java\n",
       "    \n",
       "    import pyspark\n",
       "    \n",
       "#### Async programming\n",
       "\n",
       "    import dask  \n",
       "    import tornado\n",
       "    \n",
       "#### Functional Programming\n",
       "\n",
       "    import toolz\n",
       "    import poser\n",
       "    \n",
       "    \n",
       "#### Visualization\n",
       "    \n",
       "    import altair\n",
       "    import bokeh\n",
       "    import seaborn\n",
       "    import matplotlib\n",
       "    import holoviews\n",
       "    \n",
       "#### Machine Learning\n",
       "\n",
       "    import sklearn\n",
       "    import tpot"
      ],
      "text/plain": [
       "<IPython.core.display.Markdown object>"
      ]
     },
     "metadata": {},
     "output_type": "display_data"
    }
   ],
   "source": [
    "{{Ⅎill}}\n",
    "\n",
    "## [Python is a glue language]({{python.glue}})\n",
    "\n",
    "#### C\n",
    "\n",
    "    import cython\n",
    "    import ctypes\n",
    "\n",
    "#### Fortran\n",
    "    \n",
    "    from numpy import f2py\n",
    "    \n",
    "#### Java\n",
    "    \n",
    "    import pyspark\n",
    "    \n",
    "#### Async programming\n",
    "\n",
    "    import dask  \n",
    "    import tornado\n",
    "    \n",
    "#### Functional Programming\n",
    "\n",
    "    import toolz\n",
    "    import poser\n",
    "    \n",
    "    \n",
    "#### Visualization\n",
    "    \n",
    "    import altair\n",
    "    import bokeh\n",
    "    import seaborn\n",
    "    import matplotlib\n",
    "    import holoviews\n",
    "    \n",
    "#### Machine Learning\n",
    "\n",
    "    import sklearn\n",
    "    import tpot\n"
   ]
  },
  {
   "cell_type": "code",
   "execution_count": 17,
   "metadata": {},
   "outputs": [
    {
     "data": {
      "text/markdown": [
       "# APIs as creole [`sklearn`](http://scikit-learn.org/stable/)\n",
       "\n",
       "    from sklearn                                   .base import TransformerMixin, ClassifierMixin, RegressorMixin\n",
       "    print(a.map(a.attrgetter('__doc__'))[\"\\n\".join]((TransformerMixin, ClassifierMixin, RegressorMixin)))\n",
       "    "
      ],
      "text/plain": [
       "<IPython.core.display.Markdown object>"
      ]
     },
     "metadata": {},
     "output_type": "display_data"
    },
    {
     "name": "stdout",
     "output_type": "stream",
     "text": [
      "Mixin class for all transformers in scikit-learn.\n",
      "Mixin class for all classifiers in scikit-learn.\n",
      "Mixin class for all regression estimators in scikit-learn.\n"
     ]
    }
   ],
   "source": [
    "# APIs as creole [`sklearn`](http://scikit-learn.org/stable/)\n",
    "\n",
    "    from sklearn                   \\\n",
    "    \\\n",
    "    \\\n",
    "    \\\n",
    "    .base import TransformerMixin, ClassifierMixin, RegressorMixin\n",
    "    print(a.map(a.attrgetter('__doc__'))[\"\\n\".join]((TransformerMixin, ClassifierMixin, RegressorMixin)))\n",
    "    "
   ]
  },
  {
   "cell_type": "code",
   "execution_count": 18,
   "metadata": {},
   "outputs": [
    {
     "data": {
      "text/markdown": [
       "    print(TransformerMixin.fit_transform.__doc__)"
      ],
      "text/plain": [
       "<IPython.core.display.Markdown object>"
      ]
     },
     "metadata": {},
     "output_type": "display_data"
    },
    {
     "name": "stdout",
     "output_type": "stream",
     "text": [
      "Fit to data, then transform it.\n",
      "\n",
      "        Fits transformer to X and y with optional parameters fit_params\n",
      "        and returns a transformed version of X.\n",
      "\n",
      "        Parameters\n",
      "        ----------\n",
      "        X : numpy array of shape [n_samples, n_features]\n",
      "            Training set.\n",
      "\n",
      "        y : numpy array of shape [n_samples]\n",
      "            Target values.\n",
      "\n",
      "        Returns\n",
      "        -------\n",
      "        X_new : numpy array of shape [n_samples, n_features_new]\n",
      "            Transformed array.\n",
      "\n",
      "        \n"
     ]
    }
   ],
   "source": [
    "    print(TransformerMixin.fit_transform.__doc__)"
   ]
  },
  {
   "cell_type": "code",
   "execution_count": 19,
   "metadata": {},
   "outputs": [
    {
     "data": {
      "text/markdown": [
       "    http://githut.info/"
      ],
      "text/plain": [
       "<IPython.core.display.Markdown object>"
      ]
     },
     "metadata": {},
     "output_type": "display_data"
    },
    {
     "data": {
      "text/html": [
       "\n",
       "        <iframe\n",
       "            width=\"800\"\n",
       "            height=\"600\"\n",
       "            src=\"http://githut.info/\"\n",
       "            frameborder=\"0\"\n",
       "            allowfullscreen\n",
       "        ></iframe>\n",
       "        "
      ],
      "text/plain": [
       "<IPython.lib.display.IFrame at 0x1c1fba2908>"
      ]
     },
     "metadata": {},
     "output_type": "display_data"
    }
   ],
   "source": [
    "    http://githut.info/"
   ]
  },
  {
   "cell_type": "code",
   "execution_count": 20,
   "metadata": {},
   "outputs": [
    {
     "data": {
      "text/markdown": [
       "    https://stackoverflow.blog/2017/09/06/incredible-growth-python/"
      ],
      "text/plain": [
       "<IPython.core.display.Markdown object>"
      ]
     },
     "metadata": {},
     "output_type": "display_data"
    },
    {
     "data": {
      "text/html": [
       "\n",
       "        <iframe\n",
       "            width=\"800\"\n",
       "            height=\"600\"\n",
       "            src=\"https://stackoverflow.blog/2017/09/06/incredible-growth-python/\"\n",
       "            frameborder=\"0\"\n",
       "            allowfullscreen\n",
       "        ></iframe>\n",
       "        "
      ],
      "text/plain": [
       "<IPython.lib.display.IFrame at 0x1c1fba2cc0>"
      ]
     },
     "metadata": {},
     "output_type": "display_data"
    }
   ],
   "source": [
    "    {{python.growth}}"
   ]
  },
  {
   "cell_type": "code",
   "execution_count": 21,
   "metadata": {},
   "outputs": [
    {
     "data": {
      "text/markdown": [
       "# How flexible is python?\n",
       "\n",
       "    def pairwise_python(X):\n",
       "        M = X.shape[0]\n",
       "        N = X.shape[1]\n",
       "        D = np.empty((M, M))\n",
       "        for i in range(M):\n",
       "            for j in range(M):\n",
       "                d = 0.0\n",
       "                for k in range(N):\n",
       "                    tmp = X[i, k] - X[j, k]\n",
       "                    d += tmp * tmp\n",
       "                D[i, j] = np.sqrt(d)\n",
       "        return D"
      ],
      "text/plain": [
       "<IPython.core.display.Markdown object>"
      ]
     },
     "metadata": {},
     "output_type": "display_data"
    }
   ],
   "source": [
    "# How flexible is python?\n",
    "\n",
    "    def pairwise_python(X):\n",
    "        M = X.shape[0]\n",
    "        N = X.shape[1]\n",
    "        D = np.empty((M, M))\n",
    "        for i in range(M):\n",
    "            for j in range(M):\n",
    "                d = 0.0\n",
    "                for k in range(N):\n",
    "                    tmp = X[i, k] - X[j, k]\n",
    "                    d += tmp * tmp\n",
    "                D[i, j] = np.sqrt(d)\n",
    "        return D"
   ]
  },
  {
   "cell_type": "code",
   "execution_count": 22,
   "metadata": {},
   "outputs": [
    {
     "data": {
      "text/markdown": [
       "---\n",
       "\n",
       "### Compile Javascript\n",
       "\n",
       "    from flexx.pyscript import py2js\n",
       "    if __name__ == '__main__':        \n",
       "        \n",
       "        \n",
       "        js = py2js(pairwise_python)\n",
       "    "
      ],
      "text/plain": [
       "<IPython.core.display.Markdown object>"
      ]
     },
     "metadata": {},
     "output_type": "display_data"
    }
   ],
   "source": [
    "---\n",
    "\n",
    "### Compile Javascript\n",
    "\n",
    "    from flexx.pyscript import py2js\n",
    "    if __name__ == '__main__':        \n",
    "        \n",
    "        \n",
    "        js = py2js(pairwise_python)\n",
    "    "
   ]
  },
  {
   "cell_type": "code",
   "execution_count": 23,
   "metadata": {},
   "outputs": [
    {
     "data": {
      "text/markdown": [
       "### Compile Assembly Code\n",
       "\n",
       "[Just in time compilation]() with [numba]().\n",
       "\n",
       "    from numba import jit\n",
       "    bytecode = jit(pairwise_python)\n",
       "    \n",
       "---\n",
       "\n",
       "> [A comparison of fortran, ctypes, cython, and numba by Jake VanderPlas.](http://jakevdp.github.io/blog/2013/06/15/numba-vs-cython-take-2/)"
      ],
      "text/plain": [
       "<IPython.core.display.Markdown object>"
      ]
     },
     "metadata": {},
     "output_type": "display_data"
    }
   ],
   "source": [
    "### Compile Assembly Code\n",
    "\n",
    "[Just in time compilation]() with [numba]().\n",
    "\n",
    "    from numba import jit\n",
    "    bytecode = jit(pairwise_python)\n",
    "    \n",
    "---\n",
    "\n",
    "> [A comparison of fortran, ctypes, cython, and numba by Jake VanderPlas.]({{python.compare}})"
   ]
  },
  {
   "cell_type": "code",
   "execution_count": 24,
   "metadata": {},
   "outputs": [
    {
     "data": {
      "text/markdown": [
       "---\n",
       "\n",
       "## If Python isn't enough there are 103 Jupyter __kernel__ registered specifications.\n",
       "    \n",
       "    counted = a.pandas.read_html().first()(jupyter.count).T\n",
       "\n",
       "<table border=\"1\" class=\"dataframe\">\n",
       "  <thead>\n",
       "    <tr style=\"text-align: right;\">\n",
       "      <th></th>\n",
       "      <th>Name</th>\n",
       "      <th>Jupyter/IPython Version</th>\n",
       "      <th>Language(s) Version</th>\n",
       "      <th>3rd party dependencies</th>\n",
       "      <th>Example Notebooks</th>\n",
       "      <th>Notes</th>\n",
       "    </tr>\n",
       "  </thead>\n",
       "  <tbody>\n",
       "    <tr>\n",
       "      <th>0</th>\n",
       "      <td>Coarray-Fortran</td>\n",
       "      <td>Jupyter 4.0</td>\n",
       "      <td>Fortran 2008/2015</td>\n",
       "      <td>GFortran &gt;= 7.1, OpenCoarrays, MPICH &gt;= 3.2</td>\n",
       "      <td>Demo, Binder demo</td>\n",
       "      <td>Docker image</td>\n",
       "    </tr>\n",
       "    <tr>\n",
       "      <th>1</th>\n",
       "      <td>sparkmagic</td>\n",
       "      <td>Jupyter &gt;=4.0</td>\n",
       "      <td>Pyspark (Python 2 &amp; 3), Spark (Scala), SparkR (R)</td>\n",
       "      <td>Livy</td>\n",
       "      <td>Notebooks, Docker Images</td>\n",
       "      <td>This kernels are implemented via the magics ma...</td>\n",
       "    </tr>\n",
       "    <tr>\n",
       "      <th>2</th>\n",
       "      <td>sas_kernel</td>\n",
       "      <td>Jupyter 4.0</td>\n",
       "      <td>python &gt;= 3.3</td>\n",
       "      <td>SAS 9.4 or higher</td>\n",
       "      <td>NaN</td>\n",
       "      <td>NaN</td>\n",
       "    </tr>\n",
       "    <tr>\n",
       "      <th>3</th>\n",
       "      <td>IPyKernel</td>\n",
       "      <td>Jupyter 4.0</td>\n",
       "      <td>python 2.7, &gt;= 3.3</td>\n",
       "      <td>pyzmq</td>\n",
       "      <td>NaN</td>\n",
       "      <td>NaN</td>\n",
       "    </tr>\n",
       "    <tr>\n",
       "      <th>4</th>\n",
       "      <td>IJulia</td>\n",
       "      <td>NaN</td>\n",
       "      <td>julia &gt;= 0.3</td>\n",
       "      <td>NaN</td>\n",
       "      <td>NaN</td>\n",
       "      <td>NaN</td>\n",
       "    </tr>\n",
       "    <tr>\n",
       "      <th>5</th>\n",
       "      <td>IHaskell</td>\n",
       "      <td>NaN</td>\n",
       "      <td>ghc &gt;= 7.6</td>\n",
       "      <td>NaN</td>\n",
       "      <td>NaN</td>\n",
       "      <td>NaN</td>\n",
       "    </tr>\n",
       "    <tr>\n",
       "      <th>6</th>\n",
       "      <td>IRuby</td>\n",
       "      <td>NaN</td>\n",
       "      <td>ruby &gt;= 2.1</td>\n",
       "      <td>NaN</td>\n",
       "      <td>NaN</td>\n",
       "      <td>NaN</td>\n",
       "    </tr>\n",
       "    <tr>\n",
       "      <th>7</th>\n",
       "      <td>IJavascript</td>\n",
       "      <td>NaN</td>\n",
       "      <td>nodejs &gt;= 0.10</td>\n",
       "      <td>NaN</td>\n",
       "      <td>NaN</td>\n",
       "      <td>NaN</td>\n",
       "    </tr>\n",
       "    <tr>\n",
       "      <th>8</th>\n",
       "      <td>jpCoffeescript</td>\n",
       "      <td>NaN</td>\n",
       "      <td>coffeescript &gt;= 1.7</td>\n",
       "      <td>NaN</td>\n",
       "      <td>NaN</td>\n",
       "      <td>NaN</td>\n",
       "    </tr>\n",
       "    <tr>\n",
       "      <th>9</th>\n",
       "      <td>ICSharp</td>\n",
       "      <td>Jupyter 4.0</td>\n",
       "      <td>C# 4.0+</td>\n",
       "      <td>scriptcs</td>\n",
       "      <td>NaN</td>\n",
       "      <td>NaN</td>\n",
       "    </tr>\n",
       "    <tr>\n",
       "      <th>10</th>\n",
       "      <td>IRKernel</td>\n",
       "      <td>IPython 3.0</td>\n",
       "      <td>R 3.2</td>\n",
       "      <td>rzmq</td>\n",
       "      <td>NaN</td>\n",
       "      <td>NaN</td>\n",
       "    </tr>\n",
       "    <tr>\n",
       "      <th>11</th>\n",
       "      <td>SageMath</td>\n",
       "      <td>Jupyter 4</td>\n",
       "      <td>Any</td>\n",
       "      <td>many</td>\n",
       "      <td>NaN</td>\n",
       "      <td>NaN</td>\n",
       "    </tr>\n",
       "    <tr>\n",
       "      <th>12</th>\n",
       "      <td>pari_jupyter</td>\n",
       "      <td>Jupyter 4</td>\n",
       "      <td>PARI/GP &gt;= 2.9</td>\n",
       "      <td>NaN</td>\n",
       "      <td>NaN</td>\n",
       "      <td>NaN</td>\n",
       "    </tr>\n",
       "    <tr>\n",
       "      <th>13</th>\n",
       "      <td>IFSharp</td>\n",
       "      <td>IPython 2.0</td>\n",
       "      <td>F#</td>\n",
       "      <td>NaN</td>\n",
       "      <td>Features</td>\n",
       "      <td>NaN</td>\n",
       "    </tr>\n",
       "    <tr>\n",
       "      <th>14</th>\n",
       "      <td>lgo</td>\n",
       "      <td>Jupyter &gt;= 4, JupyterLab</td>\n",
       "      <td>Go &gt;= 1.8</td>\n",
       "      <td>ZeroMQ (4.x)</td>\n",
       "      <td>Example</td>\n",
       "      <td>Docker image</td>\n",
       "    </tr>\n",
       "    <tr>\n",
       "      <th>15</th>\n",
       "      <td>gopherlab</td>\n",
       "      <td>Jupyter 4.1, JupyterLab</td>\n",
       "      <td>Go &gt;= 1.6</td>\n",
       "      <td>ZeroMQ (4.x)</td>\n",
       "      <td>examples</td>\n",
       "      <td>Deprecated, use gophernotes</td>\n",
       "    </tr>\n",
       "    <tr>\n",
       "      <th>16</th>\n",
       "      <td>Gophernotes</td>\n",
       "      <td>Jupyter 4, JupyterLab, nteract</td>\n",
       "      <td>Go &gt;= 1.9</td>\n",
       "      <td>ZeroMQ 4.x.x</td>\n",
       "      <td>examples</td>\n",
       "      <td>docker image</td>\n",
       "    </tr>\n",
       "    <tr>\n",
       "      <th>17</th>\n",
       "      <td>IGo</td>\n",
       "      <td>NaN</td>\n",
       "      <td>Go &gt;= 1.4</td>\n",
       "      <td>NaN</td>\n",
       "      <td>NaN</td>\n",
       "      <td>NaN</td>\n",
       "    </tr>\n",
       "    <tr>\n",
       "      <th>18</th>\n",
       "      <td>IScala</td>\n",
       "      <td>NaN</td>\n",
       "      <td>Scala</td>\n",
       "      <td>NaN</td>\n",
       "      <td>NaN</td>\n",
       "      <td>NaN</td>\n",
       "    </tr>\n",
       "    <tr>\n",
       "      <th>19</th>\n",
       "      <td>Jupyter-scala</td>\n",
       "      <td>IPython&gt;=3.0</td>\n",
       "      <td>Scala&gt;=2.10</td>\n",
       "      <td>NaN</td>\n",
       "      <td>example</td>\n",
       "      <td>NaN</td>\n",
       "    </tr>\n",
       "    <tr>\n",
       "      <th>20</th>\n",
       "      <td>IErlang</td>\n",
       "      <td>IPython 2.3</td>\n",
       "      <td>Erlang</td>\n",
       "      <td>rebar</td>\n",
       "      <td>NaN</td>\n",
       "      <td>NaN</td>\n",
       "    </tr>\n",
       "    <tr>\n",
       "      <th>21</th>\n",
       "      <td>ITorch</td>\n",
       "      <td>IPython &gt;= 2.2 and &lt;= 5.x</td>\n",
       "      <td>Torch 7 (LuaJIT)</td>\n",
       "      <td>NaN</td>\n",
       "      <td>NaN</td>\n",
       "      <td>NaN</td>\n",
       "    </tr>\n",
       "    <tr>\n",
       "      <th>22</th>\n",
       "      <td>IElixir</td>\n",
       "      <td>Jupyter &lt; 6.0</td>\n",
       "      <td>Elixir &lt; 1.5</td>\n",
       "      <td>Erlang OTP &lt;= 19.3, Rebar</td>\n",
       "      <td>example</td>\n",
       "      <td>IElixir Notebook in Docker</td>\n",
       "    </tr>\n",
       "    <tr>\n",
       "      <th>23</th>\n",
       "      <td>ierl</td>\n",
       "      <td>Jupyter &gt;= 4.0</td>\n",
       "      <td>Erlang 19 or 20, Elixir 1.4 or 1.5, LFE 1.2</td>\n",
       "      <td>Erlang, (optional) Elixir</td>\n",
       "      <td>NaN</td>\n",
       "      <td>NaN</td>\n",
       "    </tr>\n",
       "    <tr>\n",
       "      <th>24</th>\n",
       "      <td>IAldor</td>\n",
       "      <td>IPython &gt;= 1</td>\n",
       "      <td>Aldor</td>\n",
       "      <td>NaN</td>\n",
       "      <td>NaN</td>\n",
       "      <td>NaN</td>\n",
       "    </tr>\n",
       "    <tr>\n",
       "      <th>25</th>\n",
       "      <td>IOCaml</td>\n",
       "      <td>IPython &gt;= 1.1</td>\n",
       "      <td>OCaml &gt;= 4.01</td>\n",
       "      <td>opam</td>\n",
       "      <td>NaN</td>\n",
       "      <td>NaN</td>\n",
       "    </tr>\n",
       "    <tr>\n",
       "      <th>26</th>\n",
       "      <td>OCaml-Jupyter</td>\n",
       "      <td>Jupyter &gt;= 4.0</td>\n",
       "      <td>OCaml &gt;= 4.02</td>\n",
       "      <td>opam</td>\n",
       "      <td>Example</td>\n",
       "      <td>Docker image</td>\n",
       "    </tr>\n",
       "    <tr>\n",
       "      <th>27</th>\n",
       "      <td>IForth</td>\n",
       "      <td>IPython &gt;= 3</td>\n",
       "      <td>Forth</td>\n",
       "      <td>NaN</td>\n",
       "      <td>NaN</td>\n",
       "      <td>NaN</td>\n",
       "    </tr>\n",
       "    <tr>\n",
       "      <th>28</th>\n",
       "      <td>peforth</td>\n",
       "      <td>IPython 6/Jupyter 5</td>\n",
       "      <td>Forth</td>\n",
       "      <td>NaN</td>\n",
       "      <td>Example</td>\n",
       "      <td>python debugger in FORTH syntax</td>\n",
       "    </tr>\n",
       "    <tr>\n",
       "      <th>29</th>\n",
       "      <td>IPerl</td>\n",
       "      <td>NaN</td>\n",
       "      <td>Perl 5</td>\n",
       "      <td>NaN</td>\n",
       "      <td>NaN</td>\n",
       "      <td>NaN</td>\n",
       "    </tr>\n",
       "    <tr>\n",
       "      <th>30</th>\n",
       "      <td>Perl6</td>\n",
       "      <td>Jupyter &gt;= 4</td>\n",
       "      <td>Perl 6.c</td>\n",
       "      <td>zeromq 4</td>\n",
       "      <td>NaN</td>\n",
       "      <td>NaN</td>\n",
       "    </tr>\n",
       "    <tr>\n",
       "      <th>31</th>\n",
       "      <td>IPerl6</td>\n",
       "      <td>NaN</td>\n",
       "      <td>Perl 6</td>\n",
       "      <td>NaN</td>\n",
       "      <td>NaN</td>\n",
       "      <td>NaN</td>\n",
       "    </tr>\n",
       "    <tr>\n",
       "      <th>32</th>\n",
       "      <td>Jupyter-Perl6</td>\n",
       "      <td>Jupyter</td>\n",
       "      <td>Perl 6.C</td>\n",
       "      <td>Rakudo Perl 6</td>\n",
       "      <td>NaN</td>\n",
       "      <td>NaN</td>\n",
       "    </tr>\n",
       "    <tr>\n",
       "      <th>33</th>\n",
       "      <td>IPHP</td>\n",
       "      <td>IPython &gt;= 2</td>\n",
       "      <td>PHP &gt;= 5.4</td>\n",
       "      <td>composer</td>\n",
       "      <td>NaN</td>\n",
       "      <td>DEPRECATED, use Jupyter-PHP</td>\n",
       "    </tr>\n",
       "    <tr>\n",
       "      <th>34</th>\n",
       "      <td>Jupyter-PHP</td>\n",
       "      <td>Jupyter 4.0</td>\n",
       "      <td>PHP &gt;= 7.0.0</td>\n",
       "      <td>composer, php-zmq</td>\n",
       "      <td>NaN</td>\n",
       "      <td>NaN</td>\n",
       "    </tr>\n",
       "    <tr>\n",
       "      <th>35</th>\n",
       "      <td>IOctave</td>\n",
       "      <td>Jupyter</td>\n",
       "      <td>Octave</td>\n",
       "      <td>NaN</td>\n",
       "      <td>Example</td>\n",
       "      <td>MetaKernel</td>\n",
       "    </tr>\n",
       "    <tr>\n",
       "      <th>36</th>\n",
       "      <td>IScilab</td>\n",
       "      <td>Jupyter</td>\n",
       "      <td>Scilab</td>\n",
       "      <td>NaN</td>\n",
       "      <td>Example</td>\n",
       "      <td>MetaKernel</td>\n",
       "    </tr>\n",
       "    <tr>\n",
       "      <th>37</th>\n",
       "      <td>MATLAB Kernel</td>\n",
       "      <td>Jupyter</td>\n",
       "      <td>Matlab</td>\n",
       "      <td>pymatbridge</td>\n",
       "      <td>Example</td>\n",
       "      <td>MetaKernel</td>\n",
       "    </tr>\n",
       "    <tr>\n",
       "      <th>38</th>\n",
       "      <td>Bash</td>\n",
       "      <td>IPython &gt;= 3</td>\n",
       "      <td>bash</td>\n",
       "      <td>NaN</td>\n",
       "      <td>NaN</td>\n",
       "      <td>Wrapper</td>\n",
       "    </tr>\n",
       "    <tr>\n",
       "      <th>39</th>\n",
       "      <td>PowerShell</td>\n",
       "      <td>IPython &gt;= 3</td>\n",
       "      <td>Windows</td>\n",
       "      <td>NaN</td>\n",
       "      <td>NaN</td>\n",
       "      <td>Wrapper, Based on Bash Kernel</td>\n",
       "    </tr>\n",
       "    <tr>\n",
       "      <th>40</th>\n",
       "      <td>CloJupyter</td>\n",
       "      <td>Jupyter</td>\n",
       "      <td>Clojure &gt;= 1.7</td>\n",
       "      <td>NaN</td>\n",
       "      <td>NaN</td>\n",
       "      <td>NaN</td>\n",
       "    </tr>\n",
       "    <tr>\n",
       "      <th>41</th>\n",
       "      <td>CLJ-Jupyter</td>\n",
       "      <td>Jupyter</td>\n",
       "      <td>Clojure</td>\n",
       "      <td>NaN</td>\n",
       "      <td>NaN</td>\n",
       "      <td>Abandoned as of 2017-02-12</td>\n",
       "    </tr>\n",
       "    <tr>\n",
       "      <th>42</th>\n",
       "      <td>jupyter-kernel-jsr223</td>\n",
       "      <td>Jupyter&gt;=4.0</td>\n",
       "      <td>Clojure 1.8</td>\n",
       "      <td>clojure-jrs223, Java&gt;=7</td>\n",
       "      <td>NaN</td>\n",
       "      <td>Java based JSR223 compliant</td>\n",
       "    </tr>\n",
       "    <tr>\n",
       "      <th>43</th>\n",
       "      <td>Hy Kernel</td>\n",
       "      <td>Jupyter</td>\n",
       "      <td>Hy</td>\n",
       "      <td>NaN</td>\n",
       "      <td>Tutorial</td>\n",
       "      <td>treats Hy as Python pre-processor</td>\n",
       "    </tr>\n",
       "    <tr>\n",
       "      <th>44</th>\n",
       "      <td>Calysto Hy</td>\n",
       "      <td>Jupyter</td>\n",
       "      <td>Hy</td>\n",
       "      <td>NaN</td>\n",
       "      <td>Tutorial</td>\n",
       "      <td>based on MetaKernel (magics, shell, parallel, ...</td>\n",
       "    </tr>\n",
       "    <tr>\n",
       "      <th>45</th>\n",
       "      <td>Redis Kernel</td>\n",
       "      <td>IPython &gt;= 3</td>\n",
       "      <td>redis</td>\n",
       "      <td>NaN</td>\n",
       "      <td>NaN</td>\n",
       "      <td>Wrapper</td>\n",
       "    </tr>\n",
       "    <tr>\n",
       "      <th>46</th>\n",
       "      <td>jove</td>\n",
       "      <td>NaN</td>\n",
       "      <td>io.js</td>\n",
       "      <td>NaN</td>\n",
       "      <td>NaN</td>\n",
       "      <td>NaN</td>\n",
       "    </tr>\n",
       "    <tr>\n",
       "      <th>47</th>\n",
       "      <td>jp-babel</td>\n",
       "      <td>Jupyter</td>\n",
       "      <td>Babel</td>\n",
       "      <td>NaN</td>\n",
       "      <td>NaN</td>\n",
       "      <td>NaN</td>\n",
       "    </tr>\n",
       "    <tr>\n",
       "      <th>48</th>\n",
       "      <td>ICalico</td>\n",
       "      <td>IPython &gt;= 2</td>\n",
       "      <td>multiple</td>\n",
       "      <td>NaN</td>\n",
       "      <td>Index</td>\n",
       "      <td>NaN</td>\n",
       "    </tr>\n",
       "    <tr>\n",
       "      <th>49</th>\n",
       "      <td>IMathics</td>\n",
       "      <td>NaN</td>\n",
       "      <td>Mathics</td>\n",
       "      <td>NaN</td>\n",
       "      <td>NaN</td>\n",
       "      <td>NaN</td>\n",
       "    </tr>\n",
       "    <tr>\n",
       "      <th>50</th>\n",
       "      <td>IWolfram</td>\n",
       "      <td>NaN</td>\n",
       "      <td>Wolfram Mathematica</td>\n",
       "      <td>Wolfram Mathematica(R), Metakernel</td>\n",
       "      <td>NaN</td>\n",
       "      <td>MetaKernel</td>\n",
       "    </tr>\n",
       "    <tr>\n",
       "      <th>51</th>\n",
       "      <td>Lua Kernel</td>\n",
       "      <td>NaN</td>\n",
       "      <td>Lua</td>\n",
       "      <td>NaN</td>\n",
       "      <td>NaN</td>\n",
       "      <td>NaN</td>\n",
       "    </tr>\n",
       "    <tr>\n",
       "      <th>52</th>\n",
       "      <td>IPurescript</td>\n",
       "      <td>NaN</td>\n",
       "      <td>Purescript</td>\n",
       "      <td>NaN</td>\n",
       "      <td>NaN</td>\n",
       "      <td>NaN</td>\n",
       "    </tr>\n",
       "    <tr>\n",
       "      <th>53</th>\n",
       "      <td>IPyLua</td>\n",
       "      <td>NaN</td>\n",
       "      <td>Lua</td>\n",
       "      <td>NaN</td>\n",
       "      <td>NaN</td>\n",
       "      <td>Fork of Lua Kernel</td>\n",
       "    </tr>\n",
       "    <tr>\n",
       "      <th>54</th>\n",
       "      <td>Calysto Scheme</td>\n",
       "      <td>NaN</td>\n",
       "      <td>Scheme</td>\n",
       "      <td>NaN</td>\n",
       "      <td>Reference Guide</td>\n",
       "      <td>MetaKernel</td>\n",
       "    </tr>\n",
       "    <tr>\n",
       "      <th>55</th>\n",
       "      <td>Calysto Processing</td>\n",
       "      <td>NaN</td>\n",
       "      <td>Processing.js &gt;= 2</td>\n",
       "      <td>NaN</td>\n",
       "      <td>NaN</td>\n",
       "      <td>MetaKernel</td>\n",
       "    </tr>\n",
       "    <tr>\n",
       "      <th>56</th>\n",
       "      <td>idl_kernel</td>\n",
       "      <td>NaN</td>\n",
       "      <td>IDL</td>\n",
       "      <td>NaN</td>\n",
       "      <td>NaN</td>\n",
       "      <td>IDL seem to have a built-in kernel starting wi...</td>\n",
       "    </tr>\n",
       "    <tr>\n",
       "      <th>57</th>\n",
       "      <td>Mochi Kernel</td>\n",
       "      <td>NaN</td>\n",
       "      <td>Mochi</td>\n",
       "      <td>NaN</td>\n",
       "      <td>NaN</td>\n",
       "      <td>NaN</td>\n",
       "    </tr>\n",
       "    <tr>\n",
       "      <th>58</th>\n",
       "      <td>Lua (used in Splash)</td>\n",
       "      <td>NaN</td>\n",
       "      <td>Lua</td>\n",
       "      <td>NaN</td>\n",
       "      <td>NaN</td>\n",
       "      <td>NaN</td>\n",
       "    </tr>\n",
       "    <tr>\n",
       "      <th>59</th>\n",
       "      <td>Apache Toree (formerly Spark Kernel)</td>\n",
       "      <td>Jupyter</td>\n",
       "      <td>Scala, Python, R</td>\n",
       "      <td>Spark &gt;= 1.5</td>\n",
       "      <td>Example</td>\n",
       "      <td>NaN</td>\n",
       "    </tr>\n",
       "    <tr>\n",
       "      <th>60</th>\n",
       "      <td>Skulpt Python Kernel</td>\n",
       "      <td>NaN</td>\n",
       "      <td>Skulpt Python</td>\n",
       "      <td>NaN</td>\n",
       "      <td>Examples</td>\n",
       "      <td>MetaKernel</td>\n",
       "    </tr>\n",
       "    <tr>\n",
       "      <th>61</th>\n",
       "      <td>MetaKernel Bash</td>\n",
       "      <td>NaN</td>\n",
       "      <td>bash</td>\n",
       "      <td>NaN</td>\n",
       "      <td>NaN</td>\n",
       "      <td>MetaKernel</td>\n",
       "    </tr>\n",
       "    <tr>\n",
       "      <th>62</th>\n",
       "      <td>MetaKernel Python</td>\n",
       "      <td>NaN</td>\n",
       "      <td>python</td>\n",
       "      <td>NaN</td>\n",
       "      <td>NaN</td>\n",
       "      <td>MetaKernel</td>\n",
       "    </tr>\n",
       "    <tr>\n",
       "      <th>63</th>\n",
       "      <td>IVisual</td>\n",
       "      <td>NaN</td>\n",
       "      <td>VPython</td>\n",
       "      <td>NaN</td>\n",
       "      <td>Ball-in-Box</td>\n",
       "      <td>NaN</td>\n",
       "    </tr>\n",
       "    <tr>\n",
       "      <th>64</th>\n",
       "      <td>IBrainfuck</td>\n",
       "      <td>NaN</td>\n",
       "      <td>Brainfuck</td>\n",
       "      <td>NaN</td>\n",
       "      <td>Demo</td>\n",
       "      <td>Wrapper</td>\n",
       "    </tr>\n",
       "    <tr>\n",
       "      <th>65</th>\n",
       "      <td>KDB+/Q Kernel (IKdbQ)</td>\n",
       "      <td>IPython &gt;= 3.1</td>\n",
       "      <td>Q</td>\n",
       "      <td>qzmq, qcrypt</td>\n",
       "      <td>NaN</td>\n",
       "      <td>NaN</td>\n",
       "    </tr>\n",
       "    <tr>\n",
       "      <th>66</th>\n",
       "      <td>KDB+/Q Kernel (KdbQ Kernel)</td>\n",
       "      <td>Jupyter</td>\n",
       "      <td>Q</td>\n",
       "      <td>NaN</td>\n",
       "      <td>NaN</td>\n",
       "      <td>NaN</td>\n",
       "    </tr>\n",
       "    <tr>\n",
       "      <th>67</th>\n",
       "      <td>ICryptol</td>\n",
       "      <td>NaN</td>\n",
       "      <td>Cryptol</td>\n",
       "      <td>CVC4</td>\n",
       "      <td>NaN</td>\n",
       "      <td>NaN</td>\n",
       "    </tr>\n",
       "    <tr>\n",
       "      <th>68</th>\n",
       "      <td>cling</td>\n",
       "      <td>Jupyter 4</td>\n",
       "      <td>C++</td>\n",
       "      <td>NaN</td>\n",
       "      <td>Example</td>\n",
       "      <td>NaN</td>\n",
       "    </tr>\n",
       "    <tr>\n",
       "      <th>69</th>\n",
       "      <td>Xonsh</td>\n",
       "      <td>NaN</td>\n",
       "      <td>Xonsh</td>\n",
       "      <td>NaN</td>\n",
       "      <td>Example</td>\n",
       "      <td>MetaKernel</td>\n",
       "    </tr>\n",
       "    <tr>\n",
       "      <th>70</th>\n",
       "      <td>Prolog</td>\n",
       "      <td>NaN</td>\n",
       "      <td>Prolog</td>\n",
       "      <td>NaN</td>\n",
       "      <td>NaN</td>\n",
       "      <td>MetaKernel</td>\n",
       "    </tr>\n",
       "    <tr>\n",
       "      <th>71</th>\n",
       "      <td>cl-jupyter</td>\n",
       "      <td>Jupyter</td>\n",
       "      <td>Common Lisp</td>\n",
       "      <td>Quicklisp</td>\n",
       "      <td>About</td>\n",
       "      <td>NaN</td>\n",
       "    </tr>\n",
       "    <tr>\n",
       "      <th>72</th>\n",
       "      <td>Maxima-Jupyter</td>\n",
       "      <td>Jupyter</td>\n",
       "      <td>Maxima</td>\n",
       "      <td>Quicklisp</td>\n",
       "      <td>NaN</td>\n",
       "      <td>NaN</td>\n",
       "    </tr>\n",
       "    <tr>\n",
       "      <th>73</th>\n",
       "      <td>Calysto LC3</td>\n",
       "      <td>NaN</td>\n",
       "      <td>NaN</td>\n",
       "      <td>NaN</td>\n",
       "      <td>NaN</td>\n",
       "      <td>Assembly Language for the Little Computer 3</td>\n",
       "    </tr>\n",
       "    <tr>\n",
       "      <th>74</th>\n",
       "      <td>Yacas</td>\n",
       "      <td>NaN</td>\n",
       "      <td>YACAS</td>\n",
       "      <td>NaN</td>\n",
       "      <td>NaN</td>\n",
       "      <td>NaN</td>\n",
       "    </tr>\n",
       "    <tr>\n",
       "      <th>75</th>\n",
       "      <td>IJython</td>\n",
       "      <td>NaN</td>\n",
       "      <td>Jython 2.7</td>\n",
       "      <td>NaN</td>\n",
       "      <td>NaN</td>\n",
       "      <td>NaN</td>\n",
       "    </tr>\n",
       "    <tr>\n",
       "      <th>76</th>\n",
       "      <td>ROOT</td>\n",
       "      <td>Jupyter</td>\n",
       "      <td>C++/python</td>\n",
       "      <td>ROOT &gt;= 6.05</td>\n",
       "      <td>NaN</td>\n",
       "      <td>NaN</td>\n",
       "    </tr>\n",
       "    <tr>\n",
       "      <th>77</th>\n",
       "      <td>Gnuplot Kernel</td>\n",
       "      <td>NaN</td>\n",
       "      <td>Gnuplot</td>\n",
       "      <td>NaN</td>\n",
       "      <td>Example</td>\n",
       "      <td>MetaKernel</td>\n",
       "    </tr>\n",
       "    <tr>\n",
       "      <th>78</th>\n",
       "      <td>Tcl</td>\n",
       "      <td>Jupyter</td>\n",
       "      <td>Tcl 8.5</td>\n",
       "      <td>NaN</td>\n",
       "      <td>NaN</td>\n",
       "      <td>Based on Bash Kernel</td>\n",
       "    </tr>\n",
       "    <tr>\n",
       "      <th>79</th>\n",
       "      <td>J</td>\n",
       "      <td>Jupyter</td>\n",
       "      <td>J 805</td>\n",
       "      <td>NaN</td>\n",
       "      <td>Examples</td>\n",
       "      <td>NaN</td>\n",
       "    </tr>\n",
       "    <tr>\n",
       "      <th>80</th>\n",
       "      <td>Jython</td>\n",
       "      <td>Jupyter&gt;=4.0</td>\n",
       "      <td>Jython&gt;=2.7.0</td>\n",
       "      <td>Java&gt;=7</td>\n",
       "      <td>NaN</td>\n",
       "      <td>Java based JSR223 compliant</td>\n",
       "    </tr>\n",
       "    <tr>\n",
       "      <th>81</th>\n",
       "      <td>C</td>\n",
       "      <td>Jupyter</td>\n",
       "      <td>C</td>\n",
       "      <td>gcc</td>\n",
       "      <td>NaN</td>\n",
       "      <td>NaN</td>\n",
       "    </tr>\n",
       "    <tr>\n",
       "      <th>82</th>\n",
       "      <td>TaQL</td>\n",
       "      <td>Jupyter</td>\n",
       "      <td>TaQL</td>\n",
       "      <td>python-casacore</td>\n",
       "      <td>TaQL tutorial</td>\n",
       "      <td>NaN</td>\n",
       "    </tr>\n",
       "    <tr>\n",
       "      <th>83</th>\n",
       "      <td>Coconut</td>\n",
       "      <td>Jupyter</td>\n",
       "      <td>Coconut</td>\n",
       "      <td>NaN</td>\n",
       "      <td>NaN</td>\n",
       "      <td>NaN</td>\n",
       "    </tr>\n",
       "    <tr>\n",
       "      <th>84</th>\n",
       "      <td>SPARQL</td>\n",
       "      <td>Jupyter 4</td>\n",
       "      <td>Python 2.7 or &gt;=3.4</td>\n",
       "      <td>rdflib, SPARQLWrapper</td>\n",
       "      <td>Examples</td>\n",
       "      <td>Optional GraphViz dependency</td>\n",
       "    </tr>\n",
       "    <tr>\n",
       "      <th>85</th>\n",
       "      <td>AIML chatbot</td>\n",
       "      <td>Jupyter 4</td>\n",
       "      <td>Python 2.7</td>\n",
       "      <td>pyAIML</td>\n",
       "      <td>Examples</td>\n",
       "      <td>NaN</td>\n",
       "    </tr>\n",
       "    <tr>\n",
       "      <th>86</th>\n",
       "      <td>IArm</td>\n",
       "      <td>Jupyter 4</td>\n",
       "      <td>ARMv6 THUMB</td>\n",
       "      <td>NaN</td>\n",
       "      <td>Examples</td>\n",
       "      <td>Based off of the ARM Cortex M0+ CPU</td>\n",
       "    </tr>\n",
       "    <tr>\n",
       "      <th>87</th>\n",
       "      <td>SoS</td>\n",
       "      <td>Jupyter 4</td>\n",
       "      <td>Python &gt;=3.4</td>\n",
       "      <td>NaN</td>\n",
       "      <td>Examples</td>\n",
       "      <td>Workflow system, Multi-Kernel support</td>\n",
       "    </tr>\n",
       "    <tr>\n",
       "      <th>88</th>\n",
       "      <td>jupyter-nodejs</td>\n",
       "      <td>Jupyter, iPython 3.x</td>\n",
       "      <td>NodeJS, Babel, Clojurescript</td>\n",
       "      <td>NaN</td>\n",
       "      <td>Examples</td>\n",
       "      <td>NaN</td>\n",
       "    </tr>\n",
       "    <tr>\n",
       "      <th>89</th>\n",
       "      <td>Pike</td>\n",
       "      <td>IPython &gt;= 3</td>\n",
       "      <td>Pike &gt;= 7.8</td>\n",
       "      <td>NaN</td>\n",
       "      <td>NaN</td>\n",
       "      <td>Wrapper, Based on Bash Kernel</td>\n",
       "    </tr>\n",
       "    <tr>\n",
       "      <th>90</th>\n",
       "      <td>ITypeScript</td>\n",
       "      <td>NaN</td>\n",
       "      <td>Typescript &gt;= 2.0</td>\n",
       "      <td>Node.js &gt;= 0.10.0</td>\n",
       "      <td>NaN</td>\n",
       "      <td>NaN</td>\n",
       "    </tr>\n",
       "    <tr>\n",
       "      <th>91</th>\n",
       "      <td>imatlab</td>\n",
       "      <td>ipykernel &gt;= 4.1</td>\n",
       "      <td>MATLAB &gt;= 2016b</td>\n",
       "      <td>NaN</td>\n",
       "      <td>NaN</td>\n",
       "      <td>NaN</td>\n",
       "    </tr>\n",
       "    <tr>\n",
       "      <th>92</th>\n",
       "      <td>jupyter-kotlin</td>\n",
       "      <td>Jupyter</td>\n",
       "      <td>Kotlin 1.1-M04 EAP</td>\n",
       "      <td>Java &gt;= 8</td>\n",
       "      <td>NaN</td>\n",
       "      <td>NaN</td>\n",
       "    </tr>\n",
       "    <tr>\n",
       "      <th>93</th>\n",
       "      <td>jupyter_kernel_singular</td>\n",
       "      <td>Jupyter</td>\n",
       "      <td>Singular 4.1.0</td>\n",
       "      <td>NaN</td>\n",
       "      <td>Demo</td>\n",
       "      <td>Optional PySingular for better performance, su...</td>\n",
       "    </tr>\n",
       "    <tr>\n",
       "      <th>94</th>\n",
       "      <td>spylon-kernel</td>\n",
       "      <td>ipykernel &gt;=4.5</td>\n",
       "      <td>python &gt;= 3.5, scala &gt;= 2.11</td>\n",
       "      <td>Apache Spark &gt;=2.0</td>\n",
       "      <td>Example</td>\n",
       "      <td>MetaKernel</td>\n",
       "    </tr>\n",
       "    <tr>\n",
       "      <th>95</th>\n",
       "      <td>mit-scheme-kernel</td>\n",
       "      <td>Jupyter 4.0</td>\n",
       "      <td>MIT Scheme 9.2</td>\n",
       "      <td>NaN</td>\n",
       "      <td>NaN</td>\n",
       "      <td>NaN</td>\n",
       "    </tr>\n",
       "    <tr>\n",
       "      <th>96</th>\n",
       "      <td>elm-kernel</td>\n",
       "      <td>Jupyter</td>\n",
       "      <td>NaN</td>\n",
       "      <td>NaN</td>\n",
       "      <td>Examples</td>\n",
       "      <td>NaN</td>\n",
       "    </tr>\n",
       "    <tr>\n",
       "      <th>97</th>\n",
       "      <td>SciJava Jupyter Kernel</td>\n",
       "      <td>Jupyter 4.3.0</td>\n",
       "      <td>Java + 9 scripting languages</td>\n",
       "      <td>Java</td>\n",
       "      <td>Examples</td>\n",
       "      <td>NaN</td>\n",
       "    </tr>\n",
       "    <tr>\n",
       "      <th>98</th>\n",
       "      <td>Isbt</td>\n",
       "      <td>Jupyter 4.3.0</td>\n",
       "      <td>sbt &gt;= 1.0.0</td>\n",
       "      <td>sbt</td>\n",
       "      <td>example</td>\n",
       "      <td>NaN</td>\n",
       "    </tr>\n",
       "    <tr>\n",
       "      <th>99</th>\n",
       "      <td>BeakerX</td>\n",
       "      <td>NaN</td>\n",
       "      <td>NaN</td>\n",
       "      <td>Groovy, Java, Scala, Clojure, Kotlin, SQL</td>\n",
       "      <td>example</td>\n",
       "      <td>docker image</td>\n",
       "    </tr>\n",
       "    <tr>\n",
       "      <th>100</th>\n",
       "      <td>MicroPython</td>\n",
       "      <td>Jupyter</td>\n",
       "      <td>ESP8266/ESP32</td>\n",
       "      <td>USB or Webrepl</td>\n",
       "      <td>developer notebooks</td>\n",
       "      <td>relies on the micro-controller's paste-mode</td>\n",
       "    </tr>\n",
       "    <tr>\n",
       "      <th>101</th>\n",
       "      <td>IJava</td>\n",
       "      <td>Jupyter</td>\n",
       "      <td>Java 9</td>\n",
       "      <td>Java JDK &gt;= 9</td>\n",
       "      <td>Binder online demo</td>\n",
       "      <td>Based on the new JShell tool</td>\n",
       "    </tr>\n",
       "    <tr>\n",
       "      <th>102</th>\n",
       "      <td>Guile</td>\n",
       "      <td>Jupyter 5.2</td>\n",
       "      <td>Guile 2.0</td>\n",
       "      <td>guile-json, openssl</td>\n",
       "      <td>NaN</td>\n",
       "      <td>NaN</td>\n",
       "    </tr>\n",
       "  </tbody>\n",
       "</table>"
      ],
      "text/plain": [
       "<IPython.core.display.Markdown object>"
      ]
     },
     "metadata": {},
     "output_type": "display_data"
    }
   ],
   "source": [
    "---\n",
    "\n",
    "## If Python isn't enough there are {{kernels.df.shape[0]}} Jupyter __kernel__ registered specifications.\n",
    "    \n",
    "    counted = a.pandas.read_html().first()(jupyter.count).T\n",
    "\n",
    "{{kernels.df.to_html()}}"
   ]
  },
  {
   "cell_type": "code",
   "execution_count": 25,
   "metadata": {},
   "outputs": [
    {
     "data": {
      "text/markdown": [
       "    https://deathbeds.github.io/jyve/lab/\n",
       "\n",
       "# 🔬__experimental browser kernel__🔬"
      ],
      "text/plain": [
       "<IPython.core.display.Markdown object>"
      ]
     },
     "metadata": {},
     "output_type": "display_data"
    },
    {
     "data": {
      "text/html": [
       "\n",
       "        <iframe\n",
       "            width=\"800\"\n",
       "            height=\"600\"\n",
       "            src=\"https://deathbeds.github.io/jyve/lab/\"\n",
       "            frameborder=\"0\"\n",
       "            allowfullscreen\n",
       "        ></iframe>\n",
       "        "
      ],
      "text/plain": [
       "<IPython.lib.display.IFrame at 0x1c1fdf4eb8>"
      ]
     },
     "metadata": {},
     "output_type": "display_data"
    }
   ],
   "source": [
    "    https://deathbeds.github.io/jyve/lab/\n",
    "\n",
    "# 🔬__experimental browser kernel__🔬"
   ]
  },
  {
   "cell_type": "code",
   "execution_count": 26,
   "metadata": {},
   "outputs": [
    {
     "data": {
      "text/markdown": [
       "---\n",
       "---\n",
       "---\n",
       "---\n",
       "---\n",
       "---\n",
       "---\n",
       "---\n",
       "---\n",
       "---\n",
       "---\n",
       "---\n",
       "---\n",
       "---\n",
       "---\n",
       "---\n",
       "---\n",
       "---\n",
       "---\n",
       "---\n",
       "\n",
       "\n",
       "    http://nbviewer.jupyter.org/github/parente/nbestimate/blob/master/estimate.ipynb\n",
       "    \n",
       "#  Jupyter is an ecosystem\n",
       "\n",
       "## As of 2018-03-16 there are 1924277 notebooks on github\n",
       "\n",
       "---\n",
       "    \n",
       "> `nbestimate` by [@parente]()\n",
       "\n",
       "\n",
       "<table border=\"1\" class=\"dataframe\">\n",
       "  <thead>\n",
       "    <tr style=\"text-align: right;\">\n",
       "      <th></th>\n",
       "      <th></th>\n",
       "      <th>0</th>\n",
       "      <th>1</th>\n",
       "      <th>2</th>\n",
       "    </tr>\n",
       "  </thead>\n",
       "  <tbody>\n",
       "    <tr>\n",
       "      <th>Unnamed: 0_level_0</th>\n",
       "      <th>date</th>\n",
       "      <td>2018-03-01</td>\n",
       "      <td>2018-03-09</td>\n",
       "      <td>2018-03-16</td>\n",
       "    </tr>\n",
       "    <tr>\n",
       "      <th>hits</th>\n",
       "      <th>Unnamed: 1_level_1</th>\n",
       "      <td>1857032</td>\n",
       "      <td>1894011</td>\n",
       "      <td>1924277</td>\n",
       "    </tr>\n",
       "  </tbody>\n",
       "</table>\n",
       "\n",
       "---"
      ],
      "text/plain": [
       "<IPython.core.display.Markdown object>"
      ]
     },
     "metadata": {},
     "output_type": "display_data"
    },
    {
     "data": {
      "text/html": [
       "\n",
       "        <iframe\n",
       "            width=\"800\"\n",
       "            height=\"600\"\n",
       "            src=\"http://nbviewer.jupyter.org/github/parente/nbestimate/blob/master/estimate.ipynb\"\n",
       "            frameborder=\"0\"\n",
       "            allowfullscreen\n",
       "        ></iframe>\n",
       "        "
      ],
      "text/plain": [
       "<IPython.lib.display.IFrame at 0x1c1fdf4908>"
      ]
     },
     "metadata": {},
     "output_type": "display_data"
    }
   ],
   "source": [
    "{{Ⅎill}}\n",
    "\n",
    "    {{jupyter.count}}\n",
    "    \n",
    "# {{topics[3]}}\n",
    "\n",
    "## As of {{counted[2][0]}} there are {{counted[2][1]}} notebooks on github\n",
    "\n",
    "---\n",
    "    \n",
    "> `nbestimate` by [@parente]()\n",
    "\n",
    "\n",
    "{{counted.to_html()}}\n",
    "\n",
    "---"
   ]
  },
  {
   "cell_type": "code",
   "execution_count": 27,
   "metadata": {},
   "outputs": [
    {
     "data": {
      "text/markdown": [
       "# [The Big Split<sup>TM</sup>](https://blog.jupyter.org/the-big-split-9d7b88a031a7) of 2015\n",
       "\n",
       "    digraph {rankdir=\"LR\";\"Ipython v3\" -> {\"IPython v4\" \"Jupyter v4\"}}"
      ],
      "text/plain": [
       "<IPython.core.display.Markdown object>"
      ]
     },
     "metadata": {},
     "output_type": "display_data"
    },
    {
     "data": {
      "image/svg+xml": [
       "<?xml version=\"1.0\" encoding=\"UTF-8\" standalone=\"no\"?>\n",
       "<!DOCTYPE svg PUBLIC \"-//W3C//DTD SVG 1.1//EN\"\n",
       " \"http://www.w3.org/Graphics/SVG/1.1/DTD/svg11.dtd\">\n",
       "<!-- Generated by graphviz version 2.40.1 (20161225.0304)\n",
       " -->\n",
       "<!-- Title: %3 Pages: 1 -->\n",
       "<svg width=\"258pt\" height=\"98pt\"\n",
       " viewBox=\"0.00 0.00 257.67 98.00\" xmlns=\"http://www.w3.org/2000/svg\" xmlns:xlink=\"http://www.w3.org/1999/xlink\">\n",
       "<g id=\"graph0\" class=\"graph\" transform=\"scale(1 1) rotate(0) translate(4 94)\">\n",
       "<title>%3</title>\n",
       "<polygon fill=\"#ffffff\" stroke=\"transparent\" points=\"-4,4 -4,-94 253.6737,-94 253.6737,4 -4,4\"/>\n",
       "<!-- Ipython v3 -->\n",
       "<g id=\"node1\" class=\"node\">\n",
       "<title>Ipython v3</title>\n",
       "<ellipse fill=\"none\" stroke=\"#000000\" cx=\"53.1485\" cy=\"-45\" rx=\"53.2974\" ry=\"18\"/>\n",
       "<text text-anchor=\"middle\" x=\"53.1485\" y=\"-40.8\" font-family=\"Times,serif\" font-size=\"14.00\" fill=\"#000000\">Ipython v3</text>\n",
       "</g>\n",
       "<!-- IPython v4 -->\n",
       "<g id=\"node2\" class=\"node\">\n",
       "<title>IPython v4</title>\n",
       "<ellipse fill=\"none\" stroke=\"#000000\" cx=\"195.9854\" cy=\"-72\" rx=\"53.8773\" ry=\"18\"/>\n",
       "<text text-anchor=\"middle\" x=\"195.9854\" y=\"-67.8\" font-family=\"Times,serif\" font-size=\"14.00\" fill=\"#000000\">IPython v4</text>\n",
       "</g>\n",
       "<!-- Ipython v3&#45;&gt;IPython v4 -->\n",
       "<g id=\"edge1\" class=\"edge\">\n",
       "<title>Ipython v3&#45;&gt;IPython v4</title>\n",
       "<path fill=\"none\" stroke=\"#000000\" d=\"M99.9186,-53.8408C112.3734,-56.1951 125.968,-58.7648 138.9076,-61.2108\"/>\n",
       "<polygon fill=\"#000000\" stroke=\"#000000\" points=\"138.6341,-64.721 149.1102,-63.1393 139.9343,-57.8428 138.6341,-64.721\"/>\n",
       "</g>\n",
       "<!-- Jupyter v4 -->\n",
       "<g id=\"node3\" class=\"node\">\n",
       "<title>Jupyter v4</title>\n",
       "<ellipse fill=\"none\" stroke=\"#000000\" cx=\"195.9854\" cy=\"-18\" rx=\"51.5678\" ry=\"18\"/>\n",
       "<text text-anchor=\"middle\" x=\"195.9854\" y=\"-13.8\" font-family=\"Times,serif\" font-size=\"14.00\" fill=\"#000000\">Jupyter v4</text>\n",
       "</g>\n",
       "<!-- Ipython v3&#45;&gt;Jupyter v4 -->\n",
       "<g id=\"edge2\" class=\"edge\">\n",
       "<title>Ipython v3&#45;&gt;Jupyter v4</title>\n",
       "<path fill=\"none\" stroke=\"#000000\" d=\"M99.9186,-36.1592C112.8857,-33.7081 127.0883,-31.0234 140.5009,-28.488\"/>\n",
       "<polygon fill=\"#000000\" stroke=\"#000000\" points=\"141.3942,-31.8813 150.5701,-26.5847 140.094,-25.0031 141.3942,-31.8813\"/>\n",
       "</g>\n",
       "</g>\n",
       "</svg>\n"
      ],
      "text/plain": [
       "<graphviz.files.Source at 0x1c1fdfb5c0>"
      ]
     },
     "metadata": {},
     "output_type": "display_data"
    }
   ],
   "source": [
    "# [The Big Split<sup>TM</sup>](https://blog.jupyter.org/the-big-split-9d7b88a031a7) of 2015\n",
    "\n",
    "    digraph {rankdir=\"LR\";\"Ipython v3\" -> {\"IPython v4\" \"Jupyter v4\"}}"
   ]
  },
  {
   "cell_type": "code",
   "execution_count": 28,
   "metadata": {},
   "outputs": [
    {
     "data": {
      "text/markdown": [
       "    the.display()(people.nbconvert, people.nbformat, people.jupyterlab)"
      ],
      "text/plain": [
       "<IPython.core.display.Markdown object>"
      ]
     },
     "metadata": {},
     "output_type": "display_data"
    },
    {
     "data": {
      "text/markdown": [
       "# [jupyter/nbconvert](Project.info['html_url'])\n",
       "\n",
       "[![Binder](https://mybinder.org/badge.svg)](https://mybinder.org/v2/gh/jupyter/nbconvert/master) | 360 ⭐️ | 197 🍴\n"
      ],
      "text/plain": [
       "Project(github='jupyter/nbconvert', info={'id': 33653617, 'name': 'nbconvert', 'full_name': 'jupyter/nbconvert', 'owner': {'login': 'jupyter', 'id': 7388996, 'avatar_url': 'https://avatars1.githubusercontent.com/u/7388996?v=4', 'gravatar_id': '', 'url': 'https://api.github.com/users/jupyter', 'html_url': 'https://github.com/jupyter', 'followers_url': 'https://api.github.com/users/jupyter/followers', 'following_url': 'https://api.github.com/users/jupyter/following{/other_user}', 'gists_url': 'https://api.github.com/users/jupyter/gists{/gist_id}', 'starred_url': 'https://api.github.com/users/jupyter/starred{/owner}{/repo}', 'subscriptions_url': 'https://api.github.com/users/jupyter/subscriptions', 'organizations_url': 'https://api.github.com/users/jupyter/orgs', 'repos_url': 'https://api.github.com/users/jupyter/repos', 'events_url': 'https://api.github.com/users/jupyter/events{/privacy}', 'received_events_url': 'https://api.github.com/users/jupyter/received_events', 'type': 'Organization', 'site_admin': False}, 'private': False, 'html_url': 'https://github.com/jupyter/nbconvert', 'description': 'Jupyter Notebook Conversion', 'fork': False, 'url': 'https://api.github.com/repos/jupyter/nbconvert', 'forks_url': 'https://api.github.com/repos/jupyter/nbconvert/forks', 'keys_url': 'https://api.github.com/repos/jupyter/nbconvert/keys{/key_id}', 'collaborators_url': 'https://api.github.com/repos/jupyter/nbconvert/collaborators{/collaborator}', 'teams_url': 'https://api.github.com/repos/jupyter/nbconvert/teams', 'hooks_url': 'https://api.github.com/repos/jupyter/nbconvert/hooks', 'issue_events_url': 'https://api.github.com/repos/jupyter/nbconvert/issues/events{/number}', 'events_url': 'https://api.github.com/repos/jupyter/nbconvert/events', 'assignees_url': 'https://api.github.com/repos/jupyter/nbconvert/assignees{/user}', 'branches_url': 'https://api.github.com/repos/jupyter/nbconvert/branches{/branch}', 'tags_url': 'https://api.github.com/repos/jupyter/nbconvert/tags', 'blobs_url': 'https://api.github.com/repos/jupyter/nbconvert/git/blobs{/sha}', 'git_tags_url': 'https://api.github.com/repos/jupyter/nbconvert/git/tags{/sha}', 'git_refs_url': 'https://api.github.com/repos/jupyter/nbconvert/git/refs{/sha}', 'trees_url': 'https://api.github.com/repos/jupyter/nbconvert/git/trees{/sha}', 'statuses_url': 'https://api.github.com/repos/jupyter/nbconvert/statuses/{sha}', 'languages_url': 'https://api.github.com/repos/jupyter/nbconvert/languages', 'stargazers_url': 'https://api.github.com/repos/jupyter/nbconvert/stargazers', 'contributors_url': 'https://api.github.com/repos/jupyter/nbconvert/contributors', 'subscribers_url': 'https://api.github.com/repos/jupyter/nbconvert/subscribers', 'subscription_url': 'https://api.github.com/repos/jupyter/nbconvert/subscription', 'commits_url': 'https://api.github.com/repos/jupyter/nbconvert/commits{/sha}', 'git_commits_url': 'https://api.github.com/repos/jupyter/nbconvert/git/commits{/sha}', 'comments_url': 'https://api.github.com/repos/jupyter/nbconvert/comments{/number}', 'issue_comment_url': 'https://api.github.com/repos/jupyter/nbconvert/issues/comments{/number}', 'contents_url': 'https://api.github.com/repos/jupyter/nbconvert/contents/{+path}', 'compare_url': 'https://api.github.com/repos/jupyter/nbconvert/compare/{base}...{head}', 'merges_url': 'https://api.github.com/repos/jupyter/nbconvert/merges', 'archive_url': 'https://api.github.com/repos/jupyter/nbconvert/{archive_format}{/ref}', 'downloads_url': 'https://api.github.com/repos/jupyter/nbconvert/downloads', 'issues_url': 'https://api.github.com/repos/jupyter/nbconvert/issues{/number}', 'pulls_url': 'https://api.github.com/repos/jupyter/nbconvert/pulls{/number}', 'milestones_url': 'https://api.github.com/repos/jupyter/nbconvert/milestones{/number}', 'notifications_url': 'https://api.github.com/repos/jupyter/nbconvert/notifications{?since,all,participating}', 'labels_url': 'https://api.github.com/repos/jupyter/nbconvert/labels{/name}', 'releases_url': 'https://api.github.com/repos/jupyter/nbconvert/releases{/id}', 'deployments_url': 'https://api.github.com/repos/jupyter/nbconvert/deployments', 'created_at': '2015-04-09T06:58:23Z', 'updated_at': '2018-03-20T12:59:22Z', 'pushed_at': '2018-03-21T17:24:28Z', 'git_url': 'git://github.com/jupyter/nbconvert.git', 'ssh_url': 'git@github.com:jupyter/nbconvert.git', 'clone_url': 'https://github.com/jupyter/nbconvert.git', 'svn_url': 'https://github.com/jupyter/nbconvert', 'homepage': 'https://nbconvert.readthedocs.io/', 'size': 2659, 'stargazers_count': 360, 'watchers_count': 360, 'language': 'Jupyter Notebook', 'has_issues': True, 'has_projects': True, 'has_downloads': True, 'has_wiki': True, 'has_pages': False, 'forks_count': 197, 'mirror_url': None, 'archived': False, 'open_issues_count': 188, 'license': {'key': 'other', 'name': 'Other', 'spdx_id': None, 'url': None}, 'forks': 197, 'open_issues': 188, 'watchers': 360, 'default_branch': 'master', 'organization': {'login': 'jupyter', 'id': 7388996, 'avatar_url': 'https://avatars1.githubusercontent.com/u/7388996?v=4', 'gravatar_id': '', 'url': 'https://api.github.com/users/jupyter', 'html_url': 'https://github.com/jupyter', 'followers_url': 'https://api.github.com/users/jupyter/followers', 'following_url': 'https://api.github.com/users/jupyter/following{/other_user}', 'gists_url': 'https://api.github.com/users/jupyter/gists{/gist_id}', 'starred_url': 'https://api.github.com/users/jupyter/starred{/owner}{/repo}', 'subscriptions_url': 'https://api.github.com/users/jupyter/subscriptions', 'organizations_url': 'https://api.github.com/users/jupyter/orgs', 'repos_url': 'https://api.github.com/users/jupyter/repos', 'events_url': 'https://api.github.com/users/jupyter/events{/privacy}', 'received_events_url': 'https://api.github.com/users/jupyter/received_events', 'type': 'Organization', 'site_admin': False}, 'network_count': 197, 'subscribers_count': 35}, binder=True, docs=None, package='nbconvert', module=<module 'nbconvert' from '/Users/tonyfast/anaconda/envs/p6/lib/python3.6/site-packages/nbconvert/__init__.py'>)"
      ]
     },
     "metadata": {},
     "output_type": "display_data"
    },
    {
     "data": {
      "text/markdown": [
       "# [jupyter/nbformat](Project.info['html_url'])\n",
       "\n",
       "[![Binder](https://mybinder.org/badge.svg)](https://mybinder.org/v2/gh/jupyter/nbformat/master) | 47 ⭐️ | 57 🍴\n"
      ],
      "text/plain": [
       "Project(github='jupyter/nbformat', info={'id': 33640907, 'name': 'nbformat', 'full_name': 'jupyter/nbformat', 'owner': {'login': 'jupyter', 'id': 7388996, 'avatar_url': 'https://avatars1.githubusercontent.com/u/7388996?v=4', 'gravatar_id': '', 'url': 'https://api.github.com/users/jupyter', 'html_url': 'https://github.com/jupyter', 'followers_url': 'https://api.github.com/users/jupyter/followers', 'following_url': 'https://api.github.com/users/jupyter/following{/other_user}', 'gists_url': 'https://api.github.com/users/jupyter/gists{/gist_id}', 'starred_url': 'https://api.github.com/users/jupyter/starred{/owner}{/repo}', 'subscriptions_url': 'https://api.github.com/users/jupyter/subscriptions', 'organizations_url': 'https://api.github.com/users/jupyter/orgs', 'repos_url': 'https://api.github.com/users/jupyter/repos', 'events_url': 'https://api.github.com/users/jupyter/events{/privacy}', 'received_events_url': 'https://api.github.com/users/jupyter/received_events', 'type': 'Organization', 'site_admin': False}, 'private': False, 'html_url': 'https://github.com/jupyter/nbformat', 'description': 'Reference implementation of the Jupyter Notebook format', 'fork': False, 'url': 'https://api.github.com/repos/jupyter/nbformat', 'forks_url': 'https://api.github.com/repos/jupyter/nbformat/forks', 'keys_url': 'https://api.github.com/repos/jupyter/nbformat/keys{/key_id}', 'collaborators_url': 'https://api.github.com/repos/jupyter/nbformat/collaborators{/collaborator}', 'teams_url': 'https://api.github.com/repos/jupyter/nbformat/teams', 'hooks_url': 'https://api.github.com/repos/jupyter/nbformat/hooks', 'issue_events_url': 'https://api.github.com/repos/jupyter/nbformat/issues/events{/number}', 'events_url': 'https://api.github.com/repos/jupyter/nbformat/events', 'assignees_url': 'https://api.github.com/repos/jupyter/nbformat/assignees{/user}', 'branches_url': 'https://api.github.com/repos/jupyter/nbformat/branches{/branch}', 'tags_url': 'https://api.github.com/repos/jupyter/nbformat/tags', 'blobs_url': 'https://api.github.com/repos/jupyter/nbformat/git/blobs{/sha}', 'git_tags_url': 'https://api.github.com/repos/jupyter/nbformat/git/tags{/sha}', 'git_refs_url': 'https://api.github.com/repos/jupyter/nbformat/git/refs{/sha}', 'trees_url': 'https://api.github.com/repos/jupyter/nbformat/git/trees{/sha}', 'statuses_url': 'https://api.github.com/repos/jupyter/nbformat/statuses/{sha}', 'languages_url': 'https://api.github.com/repos/jupyter/nbformat/languages', 'stargazers_url': 'https://api.github.com/repos/jupyter/nbformat/stargazers', 'contributors_url': 'https://api.github.com/repos/jupyter/nbformat/contributors', 'subscribers_url': 'https://api.github.com/repos/jupyter/nbformat/subscribers', 'subscription_url': 'https://api.github.com/repos/jupyter/nbformat/subscription', 'commits_url': 'https://api.github.com/repos/jupyter/nbformat/commits{/sha}', 'git_commits_url': 'https://api.github.com/repos/jupyter/nbformat/git/commits{/sha}', 'comments_url': 'https://api.github.com/repos/jupyter/nbformat/comments{/number}', 'issue_comment_url': 'https://api.github.com/repos/jupyter/nbformat/issues/comments{/number}', 'contents_url': 'https://api.github.com/repos/jupyter/nbformat/contents/{+path}', 'compare_url': 'https://api.github.com/repos/jupyter/nbformat/compare/{base}...{head}', 'merges_url': 'https://api.github.com/repos/jupyter/nbformat/merges', 'archive_url': 'https://api.github.com/repos/jupyter/nbformat/{archive_format}{/ref}', 'downloads_url': 'https://api.github.com/repos/jupyter/nbformat/downloads', 'issues_url': 'https://api.github.com/repos/jupyter/nbformat/issues{/number}', 'pulls_url': 'https://api.github.com/repos/jupyter/nbformat/pulls{/number}', 'milestones_url': 'https://api.github.com/repos/jupyter/nbformat/milestones{/number}', 'notifications_url': 'https://api.github.com/repos/jupyter/nbformat/notifications{?since,all,participating}', 'labels_url': 'https://api.github.com/repos/jupyter/nbformat/labels{/name}', 'releases_url': 'https://api.github.com/repos/jupyter/nbformat/releases{/id}', 'deployments_url': 'https://api.github.com/repos/jupyter/nbformat/deployments', 'created_at': '2015-04-09T01:07:29Z', 'updated_at': '2018-03-06T14:08:53Z', 'pushed_at': '2017-11-09T06:52:06Z', 'git_url': 'git://github.com/jupyter/nbformat.git', 'ssh_url': 'git@github.com:jupyter/nbformat.git', 'clone_url': 'https://github.com/jupyter/nbformat.git', 'svn_url': 'https://github.com/jupyter/nbformat', 'homepage': 'http://nbformat.readthedocs.io/', 'size': 461, 'stargazers_count': 47, 'watchers_count': 47, 'language': 'Python', 'has_issues': True, 'has_projects': True, 'has_downloads': True, 'has_wiki': True, 'has_pages': False, 'forks_count': 57, 'mirror_url': None, 'archived': False, 'open_issues_count': 26, 'license': {'key': 'other', 'name': 'Other', 'spdx_id': None, 'url': None}, 'forks': 57, 'open_issues': 26, 'watchers': 47, 'default_branch': 'master', 'organization': {'login': 'jupyter', 'id': 7388996, 'avatar_url': 'https://avatars1.githubusercontent.com/u/7388996?v=4', 'gravatar_id': '', 'url': 'https://api.github.com/users/jupyter', 'html_url': 'https://github.com/jupyter', 'followers_url': 'https://api.github.com/users/jupyter/followers', 'following_url': 'https://api.github.com/users/jupyter/following{/other_user}', 'gists_url': 'https://api.github.com/users/jupyter/gists{/gist_id}', 'starred_url': 'https://api.github.com/users/jupyter/starred{/owner}{/repo}', 'subscriptions_url': 'https://api.github.com/users/jupyter/subscriptions', 'organizations_url': 'https://api.github.com/users/jupyter/orgs', 'repos_url': 'https://api.github.com/users/jupyter/repos', 'events_url': 'https://api.github.com/users/jupyter/events{/privacy}', 'received_events_url': 'https://api.github.com/users/jupyter/received_events', 'type': 'Organization', 'site_admin': False}, 'network_count': 57, 'subscribers_count': 20}, binder=True, docs=None, package='nbformat', module=<module 'nbformat' from '/Users/tonyfast/anaconda/envs/p6/lib/python3.6/site-packages/nbformat/__init__.py'>)"
      ]
     },
     "metadata": {},
     "output_type": "display_data"
    },
    {
     "data": {
      "text/markdown": [
       "# [jupyterlab/jupyterlab](Project.info['html_url'])\n",
       "\n",
       "[![Binder](https://mybinder.org/badge.svg)](https://mybinder.org/v2/gh/jupyterlab/jupyterlab/master) | 4875 ⭐️ | 549 🍴\n"
      ],
      "text/plain": [
       "Project(github='jupyterlab/jupyterlab', info={'id': 60374819, 'name': 'jupyterlab', 'full_name': 'jupyterlab/jupyterlab', 'owner': {'login': 'jupyterlab', 'id': 22800682, 'avatar_url': 'https://avatars1.githubusercontent.com/u/22800682?v=4', 'gravatar_id': '', 'url': 'https://api.github.com/users/jupyterlab', 'html_url': 'https://github.com/jupyterlab', 'followers_url': 'https://api.github.com/users/jupyterlab/followers', 'following_url': 'https://api.github.com/users/jupyterlab/following{/other_user}', 'gists_url': 'https://api.github.com/users/jupyterlab/gists{/gist_id}', 'starred_url': 'https://api.github.com/users/jupyterlab/starred{/owner}{/repo}', 'subscriptions_url': 'https://api.github.com/users/jupyterlab/subscriptions', 'organizations_url': 'https://api.github.com/users/jupyterlab/orgs', 'repos_url': 'https://api.github.com/users/jupyterlab/repos', 'events_url': 'https://api.github.com/users/jupyterlab/events{/privacy}', 'received_events_url': 'https://api.github.com/users/jupyterlab/received_events', 'type': 'Organization', 'site_admin': False}, 'private': False, 'html_url': 'https://github.com/jupyterlab/jupyterlab', 'description': 'JupyterLab computational environment.', 'fork': False, 'url': 'https://api.github.com/repos/jupyterlab/jupyterlab', 'forks_url': 'https://api.github.com/repos/jupyterlab/jupyterlab/forks', 'keys_url': 'https://api.github.com/repos/jupyterlab/jupyterlab/keys{/key_id}', 'collaborators_url': 'https://api.github.com/repos/jupyterlab/jupyterlab/collaborators{/collaborator}', 'teams_url': 'https://api.github.com/repos/jupyterlab/jupyterlab/teams', 'hooks_url': 'https://api.github.com/repos/jupyterlab/jupyterlab/hooks', 'issue_events_url': 'https://api.github.com/repos/jupyterlab/jupyterlab/issues/events{/number}', 'events_url': 'https://api.github.com/repos/jupyterlab/jupyterlab/events', 'assignees_url': 'https://api.github.com/repos/jupyterlab/jupyterlab/assignees{/user}', 'branches_url': 'https://api.github.com/repos/jupyterlab/jupyterlab/branches{/branch}', 'tags_url': 'https://api.github.com/repos/jupyterlab/jupyterlab/tags', 'blobs_url': 'https://api.github.com/repos/jupyterlab/jupyterlab/git/blobs{/sha}', 'git_tags_url': 'https://api.github.com/repos/jupyterlab/jupyterlab/git/tags{/sha}', 'git_refs_url': 'https://api.github.com/repos/jupyterlab/jupyterlab/git/refs{/sha}', 'trees_url': 'https://api.github.com/repos/jupyterlab/jupyterlab/git/trees{/sha}', 'statuses_url': 'https://api.github.com/repos/jupyterlab/jupyterlab/statuses/{sha}', 'languages_url': 'https://api.github.com/repos/jupyterlab/jupyterlab/languages', 'stargazers_url': 'https://api.github.com/repos/jupyterlab/jupyterlab/stargazers', 'contributors_url': 'https://api.github.com/repos/jupyterlab/jupyterlab/contributors', 'subscribers_url': 'https://api.github.com/repos/jupyterlab/jupyterlab/subscribers', 'subscription_url': 'https://api.github.com/repos/jupyterlab/jupyterlab/subscription', 'commits_url': 'https://api.github.com/repos/jupyterlab/jupyterlab/commits{/sha}', 'git_commits_url': 'https://api.github.com/repos/jupyterlab/jupyterlab/git/commits{/sha}', 'comments_url': 'https://api.github.com/repos/jupyterlab/jupyterlab/comments{/number}', 'issue_comment_url': 'https://api.github.com/repos/jupyterlab/jupyterlab/issues/comments{/number}', 'contents_url': 'https://api.github.com/repos/jupyterlab/jupyterlab/contents/{+path}', 'compare_url': 'https://api.github.com/repos/jupyterlab/jupyterlab/compare/{base}...{head}', 'merges_url': 'https://api.github.com/repos/jupyterlab/jupyterlab/merges', 'archive_url': 'https://api.github.com/repos/jupyterlab/jupyterlab/{archive_format}{/ref}', 'downloads_url': 'https://api.github.com/repos/jupyterlab/jupyterlab/downloads', 'issues_url': 'https://api.github.com/repos/jupyterlab/jupyterlab/issues{/number}', 'pulls_url': 'https://api.github.com/repos/jupyterlab/jupyterlab/pulls{/number}', 'milestones_url': 'https://api.github.com/repos/jupyterlab/jupyterlab/milestones{/number}', 'notifications_url': 'https://api.github.com/repos/jupyterlab/jupyterlab/notifications{?since,all,participating}', 'labels_url': 'https://api.github.com/repos/jupyterlab/jupyterlab/labels{/name}', 'releases_url': 'https://api.github.com/repos/jupyterlab/jupyterlab/releases{/id}', 'deployments_url': 'https://api.github.com/repos/jupyterlab/jupyterlab/deployments', 'created_at': '2016-06-03T20:09:17Z', 'updated_at': '2018-03-21T18:04:35Z', 'pushed_at': '2018-03-21T17:53:34Z', 'git_url': 'git://github.com/jupyterlab/jupyterlab.git', 'ssh_url': 'git@github.com:jupyterlab/jupyterlab.git', 'clone_url': 'https://github.com/jupyterlab/jupyterlab.git', 'svn_url': 'https://github.com/jupyterlab/jupyterlab', 'homepage': '', 'size': 56333, 'stargazers_count': 4875, 'watchers_count': 4875, 'language': 'JavaScript', 'has_issues': True, 'has_projects': True, 'has_downloads': True, 'has_wiki': True, 'has_pages': True, 'forks_count': 549, 'mirror_url': None, 'archived': False, 'open_issues_count': 647, 'license': {'key': 'other', 'name': 'Other', 'spdx_id': None, 'url': None}, 'forks': 549, 'open_issues': 647, 'watchers': 4875, 'default_branch': 'master', 'organization': {'login': 'jupyterlab', 'id': 22800682, 'avatar_url': 'https://avatars1.githubusercontent.com/u/22800682?v=4', 'gravatar_id': '', 'url': 'https://api.github.com/users/jupyterlab', 'html_url': 'https://github.com/jupyterlab', 'followers_url': 'https://api.github.com/users/jupyterlab/followers', 'following_url': 'https://api.github.com/users/jupyterlab/following{/other_user}', 'gists_url': 'https://api.github.com/users/jupyterlab/gists{/gist_id}', 'starred_url': 'https://api.github.com/users/jupyterlab/starred{/owner}{/repo}', 'subscriptions_url': 'https://api.github.com/users/jupyterlab/subscriptions', 'organizations_url': 'https://api.github.com/users/jupyterlab/orgs', 'repos_url': 'https://api.github.com/users/jupyterlab/repos', 'events_url': 'https://api.github.com/users/jupyterlab/events{/privacy}', 'received_events_url': 'https://api.github.com/users/jupyterlab/received_events', 'type': 'Organization', 'site_admin': False}, 'network_count': 549, 'subscribers_count': 276}, binder=True, docs=None, package=None, module=None)"
      ]
     },
     "metadata": {},
     "output_type": "display_data"
    }
   ],
   "source": [
    "    the.display()(people.nbconvert, people.nbformat, people.jupyterlab)"
   ]
  },
  {
   "cell_type": "code",
   "execution_count": 29,
   "metadata": {},
   "outputs": [
    {
     "data": {
      "text/markdown": [
       "---\n",
       "---\n",
       "---\n",
       "---\n",
       "---\n",
       "---\n",
       "---\n",
       "---\n",
       "---\n",
       "---\n",
       "---\n",
       "---\n",
       "---\n",
       "---\n",
       "---\n",
       "---\n",
       "---\n",
       "---\n",
       "---\n",
       "---\n",
       "\n",
       "\n",
       "# New Users: [Install Anaconda](https://www.anaconda.com/download/) to get started with Jupyter and scientific python."
      ],
      "text/plain": [
       "<IPython.core.display.Markdown object>"
      ]
     },
     "metadata": {},
     "output_type": "display_data"
    }
   ],
   "source": [
    "{{Ⅎill}}\n",
    "\n",
    "# New Users: [Install Anaconda](https://www.anaconda.com/download/) to get started with Jupyter and scientific python."
   ]
  },
  {
   "cell_type": "code",
   "execution_count": 30,
   "metadata": {},
   "outputs": [
    {
     "data": {
      "text/markdown": [
       "    https://www.scipy.org/about.html\n",
       "\n",
       "# Numpy, Scipy, and Anaconda\n",
       "\n",
       "### [Fernando Perez](None) - [The IPython notebook: a historical retrospective 👍](http://blog.fperez.org/2012/01/ipython-notebook-historical.html)    \n",
       "\n",
       "> ...I then wrote a python startup file to provide these features and some other niceties such as loading [<big>Numeric</big>](https://en.wikipedia.org/wiki/NumPy \"compute\") and [Gnuplot](# \"visualization\"), giving me a 'mini-mathematica' in Python (femto- might be a better description, in fairness).  Thus was my 'ipython-0.0.1' born, a mere 259 lines to be loaded as $PYTHONSTARTUP. \n",
       "    "
      ],
      "text/plain": [
       "<IPython.core.display.Markdown object>"
      ]
     },
     "metadata": {},
     "output_type": "display_data"
    },
    {
     "data": {
      "text/html": [
       "\n",
       "        <iframe\n",
       "            width=\"800\"\n",
       "            height=\"600\"\n",
       "            src=\"https://www.scipy.org/about.html\"\n",
       "            frameborder=\"0\"\n",
       "            allowfullscreen\n",
       "        ></iframe>\n",
       "        "
      ],
      "text/plain": [
       "<IPython.lib.display.IFrame at 0x1c1fe0fc18>"
      ]
     },
     "metadata": {},
     "output_type": "display_data"
    }
   ],
   "source": [
    "    https://www.scipy.org/about.html\n",
    "\n",
    "# Numpy, Scipy, and Anaconda\n",
    "\n",
    "### [Fernando Perez]({{computing.people['perez']}}) - [The IPython notebook: a historical retrospective 👍]({{xx.ipython['history']}})    \n",
    "\n",
    "> ...I then wrote a python startup file to provide these features and some other niceties such as loading [<big>Numeric</big>]({{computing.oliphant['numpy']}} \"compute\") and [Gnuplot](# \"visualization\"), giving me a 'mini-mathematica' in Python (femto- might be a better description, in fairness).  Thus was my 'ipython-0.0.1' born, a mere 259 lines to be loaded as $PYTHONSTARTUP. \n",
    "    \n"
   ]
  },
  {
   "cell_type": "code",
   "execution_count": 31,
   "metadata": {},
   "outputs": [
    {
     "data": {
      "text/markdown": [
       "# conda-forge\n",
       "\n",
       "[conda-forge](http://conda-forge.org/) is community delivering daily, up-to-date cross platform package releases on mac, windows, and linux.\n",
       "\n",
       "    # !conda install -yc conda-forge nodejs\n",
       "    \n",
       "<table border=\"1\" class=\"dataframe\">\n",
       "  <thead>\n",
       "    <tr style=\"text-align: right;\">\n",
       "      <th></th>\n",
       "      <th>linux</th>\n",
       "      <th>osx</th>\n",
       "      <th>win</th>\n",
       "    </tr>\n",
       "  </thead>\n",
       "  <tbody>\n",
       "    <tr>\n",
       "      <th>packages</th>\n",
       "      <td>3880</td>\n",
       "      <td>3827</td>\n",
       "      <td>3242</td>\n",
       "    </tr>\n",
       "  </tbody>\n",
       "</table>    \n",
       "\n",
       "> in general, [Python packaging has improved](https://glyph.twistedmatrix.com/2016/08/python-packaging.html)"
      ],
      "text/plain": [
       "<IPython.core.display.Markdown object>"
      ]
     },
     "metadata": {},
     "output_type": "display_data"
    }
   ],
   "source": [
    "# conda-forge\n",
    "\n",
    "[conda-forge]({{python.forge}}) is community delivering daily, up-to-date cross platform package releases on mac, windows, and linux.\n",
    "\n",
    "    # !conda install -yc conda-forge nodejs\n",
    "    \n",
    "{{forge.platforms.to_html()}}    \n",
    "\n",
    "> in general, [Python packaging has improved]({{python.packaging}})"
   ]
  },
  {
   "cell_type": "code",
   "execution_count": 32,
   "metadata": {},
   "outputs": [
    {
     "data": {
      "text/markdown": [
       "---\n",
       "---\n",
       "---\n",
       "---\n",
       "---\n",
       "---\n",
       "---\n",
       "---\n",
       "---\n",
       "---\n",
       "---\n",
       "---\n",
       "---\n",
       "---\n",
       "---\n",
       "---\n",
       "---\n",
       "---\n",
       "---\n",
       "---\n",
       "\n",
       "\n",
       "#  Jupyter is a community\n",
       "    \n",
       "    http://jupyter.org/community"
      ],
      "text/plain": [
       "<IPython.core.display.Markdown object>"
      ]
     },
     "metadata": {},
     "output_type": "display_data"
    },
    {
     "data": {
      "text/html": [
       "\n",
       "        <iframe\n",
       "            width=\"800\"\n",
       "            height=\"600\"\n",
       "            src=\"http://jupyter.org/community\"\n",
       "            frameborder=\"0\"\n",
       "            allowfullscreen\n",
       "        ></iframe>\n",
       "        "
      ],
      "text/plain": [
       "<IPython.lib.display.IFrame at 0x1c1fdf4a58>"
      ]
     },
     "metadata": {},
     "output_type": "display_data"
    }
   ],
   "source": [
    "{{Ⅎill}}\n",
    "\n",
    "# {{topics[4]}}\n",
    "    \n",
    "    http://jupyter.org/community"
   ]
  },
  {
   "cell_type": "code",
   "execution_count": 33,
   "metadata": {},
   "outputs": [
    {
     "data": {
      "text/markdown": [
       "    http://jupyter.org/about#steering-council"
      ],
      "text/plain": [
       "<IPython.core.display.Markdown object>"
      ]
     },
     "metadata": {},
     "output_type": "display_data"
    },
    {
     "data": {
      "text/html": [
       "\n",
       "        <iframe\n",
       "            width=\"800\"\n",
       "            height=\"600\"\n",
       "            src=\"http://jupyter.org/about#steering-council\"\n",
       "            frameborder=\"0\"\n",
       "            allowfullscreen\n",
       "        ></iframe>\n",
       "        "
      ],
      "text/plain": [
       "<IPython.lib.display.IFrame at 0x1c1fdf4b70>"
      ]
     },
     "metadata": {},
     "output_type": "display_data"
    }
   ],
   "source": [
    "    http://jupyter.org/about#steering-council"
   ]
  },
  {
   "cell_type": "code",
   "execution_count": 34,
   "metadata": {},
   "outputs": [
    {
     "data": {
      "text/markdown": [
       "[![](https://cdn-images-1.medium.com/max/1200/1*eBDo76BnRMrk-OHLzlSd6g.jpeg)](https://conferences.oreilly.com/jupyter/jup-ny)"
      ],
      "text/plain": [
       "<IPython.core.display.Markdown object>"
      ]
     },
     "metadata": {},
     "output_type": "display_data"
    }
   ],
   "source": [
    "[![](https://cdn-images-1.medium.com/max/1200/1*eBDo76BnRMrk-OHLzlSd6g.jpeg)]({{community.jupytercon}})"
   ]
  },
  {
   "cell_type": "code",
   "execution_count": 35,
   "metadata": {},
   "outputs": [
    {
     "data": {
      "text/markdown": [
       "    http://numfocus.org/\n",
       "\n",
       "## Open Code == Better Science"
      ],
      "text/plain": [
       "<IPython.core.display.Markdown object>"
      ]
     },
     "metadata": {},
     "output_type": "display_data"
    },
    {
     "data": {
      "text/html": [
       "\n",
       "        <iframe\n",
       "            width=\"800\"\n",
       "            height=\"600\"\n",
       "            src=\"http://numfocus.org/\"\n",
       "            frameborder=\"0\"\n",
       "            allowfullscreen\n",
       "        ></iframe>\n",
       "        "
      ],
      "text/plain": [
       "<IPython.lib.display.IFrame at 0x1c1fdf4ba8>"
      ]
     },
     "metadata": {},
     "output_type": "display_data"
    }
   ],
   "source": [
    "    {{community.numfocus}}\n",
    "\n",
    "## Open Code == Better Science"
   ]
  },
  {
   "cell_type": "code",
   "execution_count": 36,
   "metadata": {},
   "outputs": [
    {
     "data": {
      "text/markdown": [
       "    https://www.meetup.com/pro/PyData\n",
       "    \n",
       "## A Global Scientific Computing Community"
      ],
      "text/plain": [
       "<IPython.core.display.Markdown object>"
      ]
     },
     "metadata": {},
     "output_type": "display_data"
    },
    {
     "data": {
      "text/html": [
       "\n",
       "        <iframe\n",
       "            width=\"800\"\n",
       "            height=\"600\"\n",
       "            src=\"https://www.meetup.com/pro/PyData\"\n",
       "            frameborder=\"0\"\n",
       "            allowfullscreen\n",
       "        ></iframe>\n",
       "        "
      ],
      "text/plain": [
       "<IPython.lib.display.IFrame at 0x1c1fdf44a8>"
      ]
     },
     "metadata": {},
     "output_type": "display_data"
    }
   ],
   "source": [
    "    {{community.pydata}}\n",
    "    \n",
    "## A Global Scientific Computing Community"
   ]
  },
  {
   "cell_type": "code",
   "execution_count": 37,
   "metadata": {},
   "outputs": [
    {
     "data": {
      "text/markdown": [
       "    https://www.meetup.com/PyData-Atlanta/"
      ],
      "text/plain": [
       "<IPython.core.display.Markdown object>"
      ]
     },
     "metadata": {},
     "output_type": "display_data"
    },
    {
     "data": {
      "text/html": [
       "\n",
       "        <iframe\n",
       "            width=\"800\"\n",
       "            height=\"600\"\n",
       "            src=\"https://www.meetup.com/PyData-Atlanta/\"\n",
       "            frameborder=\"0\"\n",
       "            allowfullscreen\n",
       "        ></iframe>\n",
       "        "
      ],
      "text/plain": [
       "<IPython.lib.display.IFrame at 0x1c1fe0f8d0>"
      ]
     },
     "metadata": {},
     "output_type": "display_data"
    }
   ],
   "source": [
    "    {{community.atl}}"
   ]
  },
  {
   "cell_type": "code",
   "execution_count": 38,
   "metadata": {},
   "outputs": [
    {
     "data": {
      "text/markdown": [
       "# [SciPy 2018](https://scipy2018.scipy.org)\n",
       "\n",
       "#### ...is having it's first Materials Science symposia."
      ],
      "text/plain": [
       "<IPython.core.display.Markdown object>"
      ]
     },
     "metadata": {},
     "output_type": "display_data"
    }
   ],
   "source": [
    "# [SciPy 2018]({{community.scipy}})\n",
    "\n",
    "#### ...is having it's first Materials Science symposia."
   ]
  },
  {
   "cell_type": "code",
   "execution_count": 39,
   "metadata": {},
   "outputs": [
    {
     "data": {
      "text/markdown": [
       "    https://www.meetup.com/Atlanta-Jupyter-User-Group/"
      ],
      "text/plain": [
       "<IPython.core.display.Markdown object>"
      ]
     },
     "metadata": {},
     "output_type": "display_data"
    },
    {
     "data": {
      "text/html": [
       "\n",
       "        <iframe\n",
       "            width=\"800\"\n",
       "            height=\"600\"\n",
       "            src=\"https://www.meetup.com/Atlanta-Jupyter-User-Group/\"\n",
       "            frameborder=\"0\"\n",
       "            allowfullscreen\n",
       "        ></iframe>\n",
       "        "
      ],
      "text/plain": [
       "<IPython.lib.display.IFrame at 0x1c1fe0f6d8>"
      ]
     },
     "metadata": {},
     "output_type": "display_data"
    }
   ],
   "source": [
    "    {{community.jug}}"
   ]
  },
  {
   "cell_type": "code",
   "execution_count": 40,
   "metadata": {},
   "outputs": [
    {
     "data": {
      "text/markdown": [
       "## 🤛[Introduction and Motivation.](intro.ipynb)\n",
       "## 🤜[Technical Value.](technical.ipynb)"
      ],
      "text/plain": [
       "<IPython.core.display.Markdown object>"
      ]
     },
     "metadata": {},
     "output_type": "display_data"
    }
   ],
   "source": [
    "## 🤛[Introduction and Motivation.](intro.ipynb)\n",
    "## 🤜[Technical Value.](technical.ipynb)"
   ]
  }
 ],
 "metadata": {
  "celltoolbar": "Slideshow",
  "kernelspec": {
   "display_name": "p6",
   "language": "python",
   "name": "other-env"
  },
  "language_info": {
   "codemirror_mode": {
    "name": "ipython",
    "version": 3
   },
   "file_extension": ".py",
   "mimetype": "text/x-python",
   "name": "python",
   "nbconvert_exporter": "python",
   "pygments_lexer": "ipython3",
   "version": "3.6.3"
  }
 },
 "nbformat": 4,
 "nbformat_minor": 2
}
