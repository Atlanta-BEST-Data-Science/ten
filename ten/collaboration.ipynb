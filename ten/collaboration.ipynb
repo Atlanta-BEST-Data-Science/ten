{
 "cells": [
  {
   "cell_type": "markdown",
   "metadata": {},
   "source": [
    "⓷ `collaboration.ipynb`"
   ]
  },
  {
   "cell_type": "code",
   "execution_count": 1,
   "metadata": {},
   "outputs": [
    {
     "data": {
      "text/html": [
       "<style>\n",
       ".jp-RenderedHTMLCommon pre code {\n",
       "    text-decoration: line-through wavy;\n",
       "}\n",
       ".jp-RenderedHTMLCommon pre code:hover {\n",
       "    text-decoration: none;\n",
       "\n",
       "}\n",
       ".jp-Placeholder-content .jp-MoreHorizIcon {\n",
       "    background-size: 32px;\n",
       "}\n",
       "\n",
       "@import url(\"https://cdn.jsdelivr.net/npm/firacode@1.205.0/distr/fira_code.css\")\n",
       "\n",
       ".CodeMirror * {\n",
       "  font-family: 'Fira Code' !important; \n",
       "  font-variant-ligatures: initial !important;\n",
       "}\n",
       "\n",
       ".cm-string {\n",
       "    font-variant-ligatures: none;\n",
       "}\n",
       "</style><style>\n",
       ".jp-mod-presentationMode .jp-SideBar,\n",
       ".jp-mod-presentationMode #jp-top-panel {\n",
       "    opacity: 0.0;\n",
       "    transition: all 0.2s;\n",
       "}\n",
       ".jp-mod-presentationMode .jp-SideBar:hover,\n",
       ".jp-mod-presentationMode #jp-top-panel:hover {\n",
       "    opacity: 0.9;\n",
       "    transition: all 0.2s;\n",
       "}\n",
       "\n",
       "</style><style>\n",
       ".jp-mod-presentationMode.jp-ApplicationShell,\n",
       ".jp-mod-presentationMode .p-TabBar-content{\n",
       "    background-color: var(--jp-layout-color0);\n",
       "}\n",
       "</style><style>\n",
       ".jp-mod-presentationMode .p-DockPanel-widget,\n",
       ".jp-mod-presentationMode #jp-left-stack{\n",
       "    border-color: transparent;\n",
       "}\n",
       ".jp-mod-presentationMode .jp-Toolbar-item,\n",
       ".jp-mod-presentationMode .jp-Toolbar {\n",
       "    opacity: 0.1;\n",
       "    transition: all 0.2s;\n",
       "}\n",
       ".jp-mod-presentationMode .jp-Toolbar-item:hover,\n",
       ".jp-mod-presentationMode .jp-Toolbar:hover {\n",
       "    opacity: 0.9;\n",
       "    transition: all 0.2s;\n",
       "}\n",
       "\n",
       "</style><style>\n",
       ".jp-mod-presentationMode .jp-OutputPrompt,\n",
       ".jp-mod-presentationMode .jp-InputPrompt {\n",
       "    max-width: 2rem !important;\n",
       "    transition: all 0.2s;\n",
       "}\n",
       ".jp-mod-presentationMode .jp-Cell.jp-mod-selected .jp-OutputPrompt,\n",
       ".jp-mod-presentationMode .jp-Cell.jp-mod-selected .jp-InputPrompt,\n",
       ".jp-mod-presentationMode .jp-Cell:hover .jp-OutputPrompt,\n",
       ".jp-mod-presentationMode .jp-Cell:hover .jp-InputPrompt {\n",
       "    max-width: 10rem !important;\n",
       "    transition: all 0.2s;\n",
       "}\n",
       "\n",
       ".jp-mod-presentationMode .jp-Cell {\n",
       "    margin-bottom: 5rem;\n",
       "}\n",
       "\n",
       ".jp-mod-presentationMode hr {\n",
       "    opacity: 0.1;\n",
       "}\n",
       "</style>"
      ],
      "text/plain": [
       "<IPython.core.display.HTML object>"
      ]
     },
     "execution_count": 1,
     "metadata": {},
     "output_type": "execute_result"
    }
   ],
   "source": [
    "    \n",
    "    o = __name__ == '__main__'\n",
    "    from poser import *\n",
    "    from importlib import reload\n",
    "    if o:\n",
    "        %reload_ext rites.all\n",
    "    try: \n",
    "        from .utils.style import style\n",
    "        from .intro import bullets, topics\n",
    "    except: \n",
    "        from ten.utils.style import style\n",
    "        from ten.intro import bullets, topics\n",
    "    Ⅎill = \"\"\"---\\n\"\"\"*20\n",
    "\n",
    "    style"
   ]
  },
  {
   "cell_type": "code",
   "execution_count": 38,
   "metadata": {},
   "outputs": [],
   "source": [
    "\n",
    "    try: \n",
    "        from .particles import refs as xx, teaching, publishing, recent, journalism, computing, python, people\n",
    "    except: \n",
    "        from ten.particles import refs as xx, teaching, publishing, recent, journalism, computing, python, people"
   ]
  },
  {
   "cell_type": "code",
   "execution_count": 39,
   "metadata": {},
   "outputs": [
    {
     "data": {
      "text/markdown": [
       "---\n",
       "---\n",
       "---\n",
       "---\n",
       "---\n",
       "---\n",
       "---\n",
       "---\n",
       "---\n",
       "---\n",
       "---\n",
       "---\n",
       "---\n",
       "---\n",
       "---\n",
       "---\n",
       "---\n",
       "---\n",
       "---\n",
       "---\n",
       "\n",
       "\n",
       "# The Modern Scientist\n",
       "\n",
       "...will collaborate frequently because modern engineering problems require complex systems as they are too challenging for individuals.  The scientist will combine lanugage, statements, and expressions.\n",
       "\n",
       "![](https://upload.wikimedia.org/wikipedia/commons/4/48/Data_driven_journalism_process.jpg)"
      ],
      "text/plain": [
       "<IPython.core.display.Markdown object>"
      ]
     },
     "metadata": {},
     "output_type": "display_data"
    }
   ],
   "source": [
    "{{Ⅎill}}\n",
    "\n",
    "# The Modern Scientist\n",
    "\n",
    "...will collaborate frequently because modern engineering problems require complex systems as they are too challenging for individuals.  The scientist will combine lanugage, statements, and expressions.\n",
    "\n",
    "![]({{journalism.process}})"
   ]
  },
  {
   "cell_type": "code",
   "execution_count": 4,
   "metadata": {},
   "outputs": [
    {
     "data": {
      "text/markdown": [
       "0. Jupyter is for sharing data\n",
       "0. Jupyter is for collaboration\n",
       "0. Jupyter is reusable"
      ],
      "text/plain": [
       "<IPython.core.display.Markdown object>"
      ]
     },
     "metadata": {},
     "output_type": "display_data"
    }
   ],
   "source": [
    "{{bullets(8, 11).replace('*', '0.')}}\n",
    "\n"
   ]
  },
  {
   "cell_type": "code",
   "execution_count": 5,
   "metadata": {},
   "outputs": [
    {
     "data": {
      "text/markdown": [
       "---\n",
       "---\n",
       "---\n",
       "---\n",
       "---\n",
       "---\n",
       "---\n",
       "---\n",
       "---\n",
       "---\n",
       "---\n",
       "---\n",
       "---\n",
       "---\n",
       "---\n",
       "---\n",
       "---\n",
       "---\n",
       "---\n",
       "---\n",
       "\n",
       "\n",
       "#  Jupyter is for sharing data\n",
       "    \n",
       "    digraph{rankdir=\"LR\"; subgraph clusterd{label=\"Big Data\"; Volume->Velocity->Variety->Veracity->Value}}"
      ],
      "text/plain": [
       "<IPython.core.display.Markdown object>"
      ]
     },
     "metadata": {},
     "output_type": "display_data"
    },
    {
     "data": {
      "image/svg+xml": [
       "<?xml version=\"1.0\" encoding=\"UTF-8\" standalone=\"no\"?>\n",
       "<!DOCTYPE svg PUBLIC \"-//W3C//DTD SVG 1.1//EN\"\n",
       " \"http://www.w3.org/Graphics/SVG/1.1/DTD/svg11.dtd\">\n",
       "<!-- Generated by graphviz version 2.38.0 (20140413.2041)\n",
       " -->\n",
       "<!-- Title: %3 Pages: 1 -->\n",
       "<svg width=\"549pt\" height=\"98pt\"\n",
       " viewBox=\"0.00 0.00 548.98 98.00\" xmlns=\"http://www.w3.org/2000/svg\" xmlns:xlink=\"http://www.w3.org/1999/xlink\">\n",
       "<g id=\"graph0\" class=\"graph\" transform=\"scale(1 1) rotate(0) translate(4 94)\">\n",
       "<title>%3</title>\n",
       "<polygon fill=\"white\" stroke=\"none\" points=\"-4,4 -4,-94 544.982,-94 544.982,4 -4,4\"/>\n",
       "<g id=\"clust1\" class=\"cluster\"><title>clusterd</title>\n",
       "<polygon fill=\"none\" stroke=\"black\" points=\"8,-8 8,-82 532.982,-82 532.982,-8 8,-8\"/>\n",
       "<text text-anchor=\"middle\" x=\"270.491\" y=\"-66.8\" font-family=\"Times,serif\" font-size=\"14.00\">Big Data</text>\n",
       "</g>\n",
       "<!-- Volume -->\n",
       "<g id=\"node1\" class=\"node\"><title>Volume</title>\n",
       "<ellipse fill=\"none\" stroke=\"black\" cx=\"53.4577\" cy=\"-34\" rx=\"37.4154\" ry=\"18\"/>\n",
       "<text text-anchor=\"middle\" x=\"53.4577\" y=\"-29.8\" font-family=\"Times,serif\" font-size=\"14.00\">Volume</text>\n",
       "</g>\n",
       "<!-- Velocity -->\n",
       "<g id=\"node2\" class=\"node\"><title>Velocity</title>\n",
       "<ellipse fill=\"none\" stroke=\"black\" cx=\"166.493\" cy=\"-34\" rx=\"39.6558\" ry=\"18\"/>\n",
       "<text text-anchor=\"middle\" x=\"166.493\" y=\"-29.8\" font-family=\"Times,serif\" font-size=\"14.00\">Velocity</text>\n",
       "</g>\n",
       "<!-- Volume&#45;&gt;Velocity -->\n",
       "<g id=\"edge1\" class=\"edge\"><title>Volume&#45;&gt;Velocity</title>\n",
       "<path fill=\"none\" stroke=\"black\" d=\"M91.1226,-34C99.2061,-34 107.895,-34 116.381,-34\"/>\n",
       "<polygon fill=\"black\" stroke=\"black\" points=\"116.578,-37.5001 126.578,-34 116.578,-30.5001 116.578,-37.5001\"/>\n",
       "</g>\n",
       "<!-- Variety -->\n",
       "<g id=\"node3\" class=\"node\"><title>Variety</title>\n",
       "<ellipse fill=\"none\" stroke=\"black\" cx=\"277.715\" cy=\"-34\" rx=\"35.7887\" ry=\"18\"/>\n",
       "<text text-anchor=\"middle\" x=\"277.715\" y=\"-29.8\" font-family=\"Times,serif\" font-size=\"14.00\">Variety</text>\n",
       "</g>\n",
       "<!-- Velocity&#45;&gt;Variety -->\n",
       "<g id=\"edge2\" class=\"edge\"><title>Velocity&#45;&gt;Variety</title>\n",
       "<path fill=\"none\" stroke=\"black\" d=\"M206.308,-34C214.591,-34 223.403,-34 231.89,-34\"/>\n",
       "<polygon fill=\"black\" stroke=\"black\" points=\"232.023,-37.5001 242.023,-34 232.023,-30.5001 232.023,-37.5001\"/>\n",
       "</g>\n",
       "<!-- Veracity -->\n",
       "<g id=\"node4\" class=\"node\"><title>Veracity</title>\n",
       "<ellipse fill=\"none\" stroke=\"black\" cx=\"388.928\" cy=\"-34\" rx=\"39.6385\" ry=\"18\"/>\n",
       "<text text-anchor=\"middle\" x=\"388.928\" y=\"-29.8\" font-family=\"Times,serif\" font-size=\"14.00\">Veracity</text>\n",
       "</g>\n",
       "<!-- Variety&#45;&gt;Veracity -->\n",
       "<g id=\"edge3\" class=\"edge\"><title>Variety&#45;&gt;Veracity</title>\n",
       "<path fill=\"none\" stroke=\"black\" d=\"M313.571,-34C321.737,-34 330.584,-34 339.231,-34\"/>\n",
       "<polygon fill=\"black\" stroke=\"black\" points=\"339.238,-37.5001 349.238,-34 339.238,-30.5001 339.238,-37.5001\"/>\n",
       "</g>\n",
       "<!-- Value -->\n",
       "<g id=\"node5\" class=\"node\"><title>Value</title>\n",
       "<ellipse fill=\"none\" stroke=\"black\" cx=\"494.74\" cy=\"-34\" rx=\"30.4862\" ry=\"18\"/>\n",
       "<text text-anchor=\"middle\" x=\"494.74\" y=\"-29.8\" font-family=\"Times,serif\" font-size=\"14.00\">Value</text>\n",
       "</g>\n",
       "<!-- Veracity&#45;&gt;Value -->\n",
       "<g id=\"edge4\" class=\"edge\"><title>Veracity&#45;&gt;Value</title>\n",
       "<path fill=\"none\" stroke=\"black\" d=\"M428.584,-34C437.026,-34 445.97,-34 454.437,-34\"/>\n",
       "<polygon fill=\"black\" stroke=\"black\" points=\"454.464,-37.5001 464.464,-34 454.464,-30.5001 454.464,-37.5001\"/>\n",
       "</g>\n",
       "</g>\n",
       "</svg>\n"
      ],
      "text/plain": [
       "<graphviz.files.Source at 0x1131a3eb8>"
      ]
     },
     "metadata": {},
     "output_type": "display_data"
    }
   ],
   "source": [
    "{{Ⅎill}}\n",
    "\n",
    "# {{topics[8]}}\n",
    "    \n",
    "    digraph{rankdir=\"LR\"; subgraph clusterd{label=\"Big Data\"; Volume->Velocity->Variety->Veracity->Value}}"
   ]
  },
  {
   "cell_type": "code",
   "execution_count": 6,
   "metadata": {},
   "outputs": [
    {
     "data": {
      "text/markdown": [
       "    digraph{rankdir=\"LR\";subgraph clusters{label=\"Big Science\"; Resources->Speed->Constraints->Truth->Energy}}"
      ],
      "text/plain": [
       "<IPython.core.display.Markdown object>"
      ]
     },
     "metadata": {},
     "output_type": "display_data"
    },
    {
     "data": {
      "image/svg+xml": [
       "<?xml version=\"1.0\" encoding=\"UTF-8\" standalone=\"no\"?>\n",
       "<!DOCTYPE svg PUBLIC \"-//W3C//DTD SVG 1.1//EN\"\n",
       " \"http://www.w3.org/Graphics/SVG/1.1/DTD/svg11.dtd\">\n",
       "<!-- Generated by graphviz version 2.38.0 (20140413.2041)\n",
       " -->\n",
       "<!-- Title: %3 Pages: 1 -->\n",
       "<svg width=\"571pt\" height=\"98pt\"\n",
       " viewBox=\"0.00 0.00 571.00 98.00\" xmlns=\"http://www.w3.org/2000/svg\" xmlns:xlink=\"http://www.w3.org/1999/xlink\">\n",
       "<g id=\"graph0\" class=\"graph\" transform=\"scale(1 1) rotate(0) translate(4 94)\">\n",
       "<title>%3</title>\n",
       "<polygon fill=\"white\" stroke=\"none\" points=\"-4,4 -4,-94 567.004,-94 567.004,4 -4,4\"/>\n",
       "<g id=\"clust1\" class=\"cluster\"><title>clusters</title>\n",
       "<polygon fill=\"none\" stroke=\"black\" points=\"8,-8 8,-82 555.004,-82 555.004,-8 8,-8\"/>\n",
       "<text text-anchor=\"middle\" x=\"281.502\" y=\"-66.8\" font-family=\"Times,serif\" font-size=\"14.00\">Big Science</text>\n",
       "</g>\n",
       "<!-- Resources -->\n",
       "<g id=\"node1\" class=\"node\"><title>Resources</title>\n",
       "<ellipse fill=\"none\" stroke=\"black\" cx=\"62.4523\" cy=\"-34\" rx=\"46.4046\" ry=\"18\"/>\n",
       "<text text-anchor=\"middle\" x=\"62.4523\" y=\"-29.8\" font-family=\"Times,serif\" font-size=\"14.00\">Resources</text>\n",
       "</g>\n",
       "<!-- Speed -->\n",
       "<g id=\"node2\" class=\"node\"><title>Speed</title>\n",
       "<ellipse fill=\"none\" stroke=\"black\" cx=\"176.623\" cy=\"-34\" rx=\"31.9393\" ry=\"18\"/>\n",
       "<text text-anchor=\"middle\" x=\"176.623\" y=\"-29.8\" font-family=\"Times,serif\" font-size=\"14.00\">Speed</text>\n",
       "</g>\n",
       "<!-- Resources&#45;&gt;Speed -->\n",
       "<g id=\"edge1\" class=\"edge\"><title>Resources&#45;&gt;Speed</title>\n",
       "<path fill=\"none\" stroke=\"black\" d=\"M109.077,-34C117.521,-34 126.293,-34 134.591,-34\"/>\n",
       "<polygon fill=\"black\" stroke=\"black\" points=\"134.787,-37.5001 144.787,-34 134.787,-30.5001 134.787,-37.5001\"/>\n",
       "</g>\n",
       "<!-- Constraints -->\n",
       "<g id=\"node3\" class=\"node\"><title>Constraints</title>\n",
       "<ellipse fill=\"none\" stroke=\"black\" cx=\"294.737\" cy=\"-34\" rx=\"50.2896\" ry=\"18\"/>\n",
       "<text text-anchor=\"middle\" x=\"294.737\" y=\"-29.8\" font-family=\"Times,serif\" font-size=\"14.00\">Constraints</text>\n",
       "</g>\n",
       "<!-- Speed&#45;&gt;Constraints -->\n",
       "<g id=\"edge2\" class=\"edge\"><title>Speed&#45;&gt;Constraints</title>\n",
       "<path fill=\"none\" stroke=\"black\" d=\"M208.435,-34C216.258,-34 224.934,-34 233.672,-34\"/>\n",
       "<polygon fill=\"black\" stroke=\"black\" points=\"233.909,-37.5001 243.909,-34 233.909,-30.5001 233.909,-37.5001\"/>\n",
       "</g>\n",
       "<!-- Truth -->\n",
       "<g id=\"node4\" class=\"node\"><title>Truth</title>\n",
       "<ellipse fill=\"none\" stroke=\"black\" cx=\"410.579\" cy=\"-34\" rx=\"29.3953\" ry=\"18\"/>\n",
       "<text text-anchor=\"middle\" x=\"410.579\" y=\"-29.8\" font-family=\"Times,serif\" font-size=\"14.00\">Truth</text>\n",
       "</g>\n",
       "<!-- Constraints&#45;&gt;Truth -->\n",
       "<g id=\"edge3\" class=\"edge\"><title>Constraints&#45;&gt;Truth</title>\n",
       "<path fill=\"none\" stroke=\"black\" d=\"M345.339,-34C353.933,-34 362.754,-34 371,-34\"/>\n",
       "<polygon fill=\"black\" stroke=\"black\" points=\"371.077,-37.5001 381.077,-34 371.077,-30.5001 371.077,-37.5001\"/>\n",
       "</g>\n",
       "<!-- Energy -->\n",
       "<g id=\"node5\" class=\"node\"><title>Energy</title>\n",
       "<ellipse fill=\"none\" stroke=\"black\" cx=\"511.515\" cy=\"-34\" rx=\"35.4772\" ry=\"18\"/>\n",
       "<text text-anchor=\"middle\" x=\"511.515\" y=\"-29.8\" font-family=\"Times,serif\" font-size=\"14.00\">Energy</text>\n",
       "</g>\n",
       "<!-- Truth&#45;&gt;Energy -->\n",
       "<g id=\"edge4\" class=\"edge\"><title>Truth&#45;&gt;Energy</title>\n",
       "<path fill=\"none\" stroke=\"black\" d=\"M440.196,-34C448.235,-34 457.174,-34 465.909,-34\"/>\n",
       "<polygon fill=\"black\" stroke=\"black\" points=\"466.004,-37.5001 476.004,-34 466.003,-30.5001 466.004,-37.5001\"/>\n",
       "</g>\n",
       "</g>\n",
       "</svg>\n"
      ],
      "text/plain": [
       "<graphviz.files.Source at 0x1131ac518>"
      ]
     },
     "metadata": {},
     "output_type": "display_data"
    }
   ],
   "source": [
    "    digraph{rankdir=\"LR\";subgraph clusters{label=\"Big Science\"; Resources->Speed->Constraints->Truth->Energy}}"
   ]
  },
  {
   "cell_type": "code",
   "execution_count": 7,
   "metadata": {},
   "outputs": [
    {
     "data": {
      "text/markdown": [
       "---\n",
       "---\n",
       "---\n",
       "---\n",
       "---\n",
       "---\n",
       "---\n",
       "---\n",
       "---\n",
       "---\n",
       "---\n",
       "---\n",
       "---\n",
       "---\n",
       "---\n",
       "---\n",
       "---\n",
       "---\n",
       "---\n",
       "---\n",
       "\n",
       "\n",
       "\n",
       "## Jupyter for Publishing\n",
       "\n",
       "* JOSS"
      ],
      "text/plain": [
       "<IPython.core.display.Markdown object>"
      ]
     },
     "metadata": {},
     "output_type": "display_data"
    }
   ],
   "source": [
    "{{Ⅎill}}\n",
    "\n",
    "\n",
    "## Jupyter for Publishing\n",
    "\n",
    "* JOSS\n"
   ]
  },
  {
   "cell_type": "code",
   "execution_count": 8,
   "metadata": {},
   "outputs": [
    {
     "data": {
      "text/markdown": [
       "---\n",
       "---\n",
       "---\n",
       "---\n",
       "---\n",
       "---\n",
       "---\n",
       "---\n",
       "---\n",
       "---\n",
       "---\n",
       "---\n",
       "---\n",
       "---\n",
       "---\n",
       "---\n",
       "---\n",
       "---\n",
       "---\n",
       "---\n",
       "\n",
       "    \n",
       "## Jupyter for Teaching"
      ],
      "text/plain": [
       "<IPython.core.display.Markdown object>"
      ]
     },
     "metadata": {},
     "output_type": "display_data"
    }
   ],
   "source": [
    "{{Ⅎill}}\n",
    "    \n",
    "## Jupyter for Teaching"
   ]
  },
  {
   "cell_type": "code",
   "execution_count": 9,
   "metadata": {},
   "outputs": [
    {
     "data": {
      "text/markdown": [
       "# At Georgia Tech\n",
       "\n",
       "* https://github.com/jacobeisenstein/gt-nlp-class\n",
       "* https://github.com/rvuduc"
      ],
      "text/plain": [
       "<IPython.core.display.Markdown object>"
      ]
     },
     "metadata": {},
     "output_type": "display_data"
    }
   ],
   "source": [
    "# At Georgia Tech\n",
    "\n",
    "* https://github.com/jacobeisenstein/gt-nlp-class\n",
    "* https://github.com/rvuduc"
   ]
  },
  {
   "cell_type": "code",
   "execution_count": 10,
   "metadata": {},
   "outputs": [
    {
     "data": {
      "text/html": [
       "\n",
       "        <iframe\n",
       "            width=\"800\"\n",
       "            height=\"600\"\n",
       "            src=\"http://lorenabarba.com/\"\n",
       "            frameborder=\"0\"\n",
       "            allowfullscreen\n",
       "        ></iframe>\n",
       "        "
      ],
      "text/plain": [
       "<IPython.lib.display.IFrame at 0x10ed27320>"
      ]
     },
     "metadata": {},
     "output_type": "display_data"
    }
   ],
   "source": [
    "    \n",
    "    http://lorenabarba.com/"
   ]
  },
  {
   "cell_type": "code",
   "execution_count": 11,
   "metadata": {},
   "outputs": [
    {
     "data": {
      "text/markdown": [
       "# [nbgrader](teaching.nbgrader['embed'])\n",
       "\n",
       "    https://nbgrader.readthedocs.io/en/stable/user_guide/highlights.html"
      ],
      "text/plain": [
       "<IPython.core.display.Markdown object>"
      ]
     },
     "metadata": {},
     "output_type": "display_data"
    },
    {
     "data": {
      "text/html": [
       "\n",
       "        <iframe\n",
       "            width=\"800\"\n",
       "            height=\"600\"\n",
       "            src=\"https://nbgrader.readthedocs.io/en/stable/user_guide/highlights.html\"\n",
       "            frameborder=\"0\"\n",
       "            allowfullscreen\n",
       "        ></iframe>\n",
       "        "
      ],
      "text/plain": [
       "<IPython.lib.display.IFrame at 0x1131a3748>"
      ]
     },
     "metadata": {},
     "output_type": "display_data"
    }
   ],
   "source": [
    "# [nbgrader](teaching.nbgrader['embed'])\n",
    "\n",
    "    {{teaching.nbgrader['embed']}}"
   ]
  },
  {
   "cell_type": "code",
   "execution_count": 12,
   "metadata": {},
   "outputs": [
    {
     "data": {
      "text/markdown": [
       "    http://data8.org/\n",
       "    \n",
       "# [The (B)erkley (I)nstitute for (D)ata (S)cience](teaching.bids['info'] \"BIDS\")"
      ],
      "text/plain": [
       "<IPython.core.display.Markdown object>"
      ]
     },
     "metadata": {},
     "output_type": "display_data"
    },
    {
     "data": {
      "text/html": [
       "\n",
       "        <iframe\n",
       "            width=\"800\"\n",
       "            height=\"600\"\n",
       "            src=\"http://data8.org/\"\n",
       "            frameborder=\"0\"\n",
       "            allowfullscreen\n",
       "        ></iframe>\n",
       "        "
      ],
      "text/plain": [
       "<IPython.lib.display.IFrame at 0x1131a3400>"
      ]
     },
     "metadata": {},
     "output_type": "display_data"
    }
   ],
   "source": [
    "    {{teaching.bids['class']}}\n",
    "    \n",
    "# [The (B)erkley (I)nstitute for (D)ata (S)cience](teaching.bids['info'] \"BIDS\")"
   ]
  },
  {
   "cell_type": "code",
   "execution_count": 13,
   "metadata": {},
   "outputs": [
    {
     "data": {
      "text/markdown": [
       "> ## [5000+ total users, 600+ active at 8PM PST on @BerkeleyDataSci JupyterHub :) I wonder if this is the largest single JupyterHub running? @ProjectJupyter](https://twitter.com/yuvipanda/status/956381252428288000)"
      ],
      "text/plain": [
       "<IPython.core.display.Markdown object>"
      ]
     },
     "metadata": {},
     "output_type": "display_data"
    }
   ],
   "source": [
    "> ## [5000+ total users, 600+ active at 8PM PST on @BerkeleyDataSci JupyterHub :) I wonder if this is the largest single JupyterHub running? @ProjectJupyter]({{teaching.bids['users']}})"
   ]
  },
  {
   "cell_type": "code",
   "execution_count": 14,
   "metadata": {},
   "outputs": [
    {
     "data": {
      "text/markdown": [
       "---\n",
       "---\n",
       "---\n",
       "---\n",
       "---\n",
       "---\n",
       "---\n",
       "---\n",
       "---\n",
       "---\n",
       "---\n",
       "---\n",
       "---\n",
       "---\n",
       "---\n",
       "---\n",
       "---\n",
       "---\n",
       "---\n",
       "---\n",
       "\n",
       "\n",
       "## Jupyter for profit\n",
       "\n",
       "* [General Assembly](https://generalassemb.ly/)\n",
       "    * https://github.com/justmarkham/DAT8\n",
       "    * https://github.com/generalassembly-studio/data-science-101-cwe-materials\n",
       "* [Code Academy](https://www.codecademy.com/)\n",
       "* [Data Camp](https://www.datacamp.com/)\n",
       "    * [Podcast](https://www.datacamp.com/community/podcast)"
      ],
      "text/plain": [
       "<IPython.core.display.Markdown object>"
      ]
     },
     "metadata": {},
     "output_type": "display_data"
    }
   ],
   "source": [
    "{{Ⅎill}}\n",
    "\n",
    "## Jupyter for profit\n",
    "\n",
    "* [General Assembly](https://generalassemb.ly/)\n",
    "    * https://github.com/justmarkham/DAT8\n",
    "    * https://github.com/generalassembly-studio/data-science-101-cwe-materials\n",
    "* [Code Academy](https://www.codecademy.com/)\n",
    "* [Data Camp](https://www.datacamp.com/)\n",
    "    * [Podcast](https://www.datacamp.com/community/podcast)"
   ]
  },
  {
   "cell_type": "code",
   "execution_count": 15,
   "metadata": {},
   "outputs": [
    {
     "data": {
      "text/markdown": [
       "---\n",
       "---\n",
       "---\n",
       "---\n",
       "---\n",
       "---\n",
       "---\n",
       "---\n",
       "---\n",
       "---\n",
       "---\n",
       "---\n",
       "---\n",
       "---\n",
       "---\n",
       "---\n",
       "---\n",
       "---\n",
       "---\n",
       "---\n",
       "\n",
       "\n",
       "\n",
       "## Jupyter for Books"
      ],
      "text/plain": [
       "<IPython.core.display.Markdown object>"
      ]
     },
     "metadata": {},
     "output_type": "display_data"
    }
   ],
   "source": [
    "{{Ⅎill}}\n",
    "\n",
    "\n",
    "## Jupyter for Books"
   ]
  },
  {
   "cell_type": "code",
   "execution_count": 16,
   "metadata": {},
   "outputs": [
    {
     "data": {
      "text/markdown": [
       "# Rabst"
      ],
      "text/plain": [
       "<IPython.core.display.Markdown object>"
      ]
     },
     "metadata": {},
     "output_type": "display_data"
    }
   ],
   "source": [
    "# Rabst"
   ]
  },
  {
   "cell_type": "code",
   "execution_count": 17,
   "metadata": {},
   "outputs": [
    {
     "data": {
      "text/markdown": [
       "# [Python Machine Learning (2nd edition)](https://github.com/rasbt/python-machine-learning-book-2nd-edition)\n",
       "\n",
       "[![](https://github.com/rasbt/python-machine-learning-book-2nd-edition/raw/master/images/cover_1.jpg)](https://github.com/rasbt/python-machine-learning-book-2nd-edition)"
      ],
      "text/plain": [
       "<IPython.core.display.Markdown object>"
      ]
     },
     "metadata": {},
     "output_type": "display_data"
    }
   ],
   "source": [
    "# [Python Machine Learning (2nd edition)](https://github.com/rasbt/python-machine-learning-book-2nd-edition)\n",
    "\n",
    "[![](https://github.com/rasbt/python-machine-learning-book-2nd-edition/raw/master/images/cover_1.jpg)](https://github.com/rasbt/python-machine-learning-book-2nd-edition)"
   ]
  },
  {
   "cell_type": "code",
   "execution_count": 18,
   "metadata": {},
   "outputs": [
    {
     "data": {
      "text/markdown": [
       "# [Introduction to Artificial Neural Networks and Deep Learning: A Practical Guide with Applications in Python](https://github.com/rasbt/deep-learning-book)\n",
       "\n",
       "[![](https://github.com/rasbt/deep-learning-book/raw/master/images/ann-and-deeplearning-cover.jpg)](https://github.com/rasbt/deep-learning-book)"
      ],
      "text/plain": [
       "<IPython.core.display.Markdown object>"
      ]
     },
     "metadata": {},
     "output_type": "display_data"
    }
   ],
   "source": [
    "# [Introduction to Artificial Neural Networks and Deep Learning: A Practical Guide with Applications in Python](https://github.com/rasbt/deep-learning-book)\n",
    "\n",
    "[![](https://github.com/rasbt/deep-learning-book/raw/master/images/ann-and-deeplearning-cover.jpg)](https://github.com/rasbt/deep-learning-book)"
   ]
  },
  {
   "cell_type": "code",
   "execution_count": 19,
   "metadata": {},
   "outputs": [
    {
     "data": {
      "text/markdown": [
       "# Jake VanderPlas"
      ],
      "text/plain": [
       "<IPython.core.display.Markdown object>"
      ]
     },
     "metadata": {},
     "output_type": "display_data"
    }
   ],
   "source": [
    "# Jake VanderPlas"
   ]
  },
  {
   "cell_type": "code",
   "execution_count": 20,
   "metadata": {},
   "outputs": [
    {
     "data": {
      "text/markdown": [
       "## [Python Data Science Handbook](https://github.com/jakevdp/PythonDataScienceHandbook)\n",
       "\n",
       "> - [Jake VanderPlas](http://jakevdp.github.io/)\n",
       "\n",
       "[![Binder](https://mybinder.org/badge.svg)](https://mybinder.org/v2/gh/jakevdp/PythonDataScienceHandbook/master?filepath=notebooks%2FIndex.ipynb)\n",
       "\n",
       "[![](https://github.com/jakevdp/PythonDataScienceHandbook/blob/master/notebooks/figures/PDSH-cover.png?raw=true)](https://github.com/jakevdp/PythonDataScienceHandbook)"
      ],
      "text/plain": [
       "<IPython.core.display.Markdown object>"
      ]
     },
     "metadata": {},
     "output_type": "display_data"
    }
   ],
   "source": [
    "## [Python Data Science Handbook]({{publishing.jakevdp['Python Data Science Handbook']}})\n",
    "\n",
    "> - [Jake VanderPlas](http://jakevdp.github.io/)\n",
    "\n",
    "[![Binder](https://mybinder.org/badge.svg)](https://mybinder.org/v2/gh/jakevdp/PythonDataScienceHandbook/master?filepath=notebooks%2FIndex.ipynb)\n",
    "\n",
    "[![](https://github.com/jakevdp/PythonDataScienceHandbook/blob/master/notebooks/figures/PDSH-cover.png?raw=true)]({{publishing.jakevdp['Python Data Science Handbook']}})"
   ]
  },
  {
   "cell_type": "code",
   "execution_count": 21,
   "metadata": {},
   "outputs": [
    {
     "data": {
      "text/markdown": [
       "# Immersive on demand notebooks with [O'Reilly Oriole](https://www.safaribooksonline.com/oriole/)"
      ],
      "text/plain": [
       "<IPython.core.display.Markdown object>"
      ]
     },
     "metadata": {},
     "output_type": "display_data"
    }
   ],
   "source": [
    "# Immersive on demand notebooks with [O'Reilly Oriole](https://www.safaribooksonline.com/oriole/)"
   ]
  },
  {
   "cell_type": "code",
   "execution_count": 22,
   "metadata": {},
   "outputs": [
    {
     "data": {
      "text/markdown": [
       "---\n",
       "---\n",
       "---\n",
       "---\n",
       "---\n",
       "---\n",
       "---\n",
       "---\n",
       "---\n",
       "---\n",
       "---\n",
       "---\n",
       "---\n",
       "---\n",
       "---\n",
       "---\n",
       "---\n",
       "---\n",
       "---\n",
       "---\n",
       "\n",
       "\n",
       "#  Jupyter is for collaboration"
      ],
      "text/plain": [
       "<IPython.core.display.Markdown object>"
      ]
     },
     "metadata": {},
     "output_type": "display_data"
    }
   ],
   "source": [
    "{{Ⅎill}}\n",
    "\n",
    "# {{topics[9]}}"
   ]
  },
  {
   "cell_type": "code",
   "execution_count": 23,
   "metadata": {},
   "outputs": [],
   "source": [
    "    {{ligo_tutorial}}\n",
    "    \n",
    "    \n",
    "##  LIGO Open Science Center\n",
    "\n",
    "![](http://gifmuse.io/gifs/29.gif)\n",
    "\n",
    "    "
   ]
  },
  {
   "cell_type": "code",
   "execution_count": 24,
   "metadata": {},
   "outputs": [
    {
     "data": {
      "text/markdown": [
       "    https://mybinder.org"
      ],
      "text/plain": [
       "<IPython.core.display.Markdown object>"
      ]
     },
     "metadata": {},
     "output_type": "display_data"
    },
    {
     "data": {
      "text/html": [
       "\n",
       "        <iframe\n",
       "            width=\"800\"\n",
       "            height=\"600\"\n",
       "            src=\"https://mybinder.org\"\n",
       "            frameborder=\"0\"\n",
       "            allowfullscreen\n",
       "        ></iframe>\n",
       "        "
      ],
      "text/plain": [
       "<IPython.lib.display.IFrame at 0x1110d8940>"
      ]
     },
     "metadata": {},
     "output_type": "display_data"
    }
   ],
   "source": [
    "    https://mybinder.org"
   ]
  },
  {
   "cell_type": "code",
   "execution_count": 25,
   "metadata": {},
   "outputs": [
    {
     "data": {
      "text/markdown": [
       "    http://jupyterhub.readthedocs.io/en/latest/"
      ],
      "text/plain": [
       "<IPython.core.display.Markdown object>"
      ]
     },
     "metadata": {},
     "output_type": "display_data"
    },
    {
     "data": {
      "text/html": [
       "\n",
       "        <iframe\n",
       "            width=\"800\"\n",
       "            height=\"600\"\n",
       "            src=\"http://jupyterhub.readthedocs.io/en/latest/\"\n",
       "            frameborder=\"0\"\n",
       "            allowfullscreen\n",
       "        ></iframe>\n",
       "        "
      ],
      "text/plain": [
       "<IPython.lib.display.IFrame at 0x1110d87b8>"
      ]
     },
     "metadata": {},
     "output_type": "display_data"
    }
   ],
   "source": [
    "    http://jupyterhub.readthedocs.io/en/latest/"
   ]
  },
  {
   "cell_type": "code",
   "execution_count": 26,
   "metadata": {},
   "outputs": [
    {
     "data": {
      "text/markdown": [
       "    http://zero-to-jupyterhub.readthedocs.io/"
      ],
      "text/plain": [
       "<IPython.core.display.Markdown object>"
      ]
     },
     "metadata": {},
     "output_type": "display_data"
    },
    {
     "data": {
      "text/html": [
       "\n",
       "        <iframe\n",
       "            width=\"800\"\n",
       "            height=\"600\"\n",
       "            src=\"http://zero-to-jupyterhub.readthedocs.io/\"\n",
       "            frameborder=\"0\"\n",
       "            allowfullscreen\n",
       "        ></iframe>\n",
       "        "
      ],
      "text/plain": [
       "<IPython.lib.display.IFrame at 0x1110d8320>"
      ]
     },
     "metadata": {},
     "output_type": "display_data"
    }
   ],
   "source": [
    "    http://zero-to-jupyterhub.readthedocs.io/"
   ]
  },
  {
   "cell_type": "code",
   "execution_count": 27,
   "metadata": {},
   "outputs": [
    {
     "data": {
      "text/markdown": [
       "    https://brigade.codeforamerica.org/projects?q=Jupyter%20Notebook"
      ],
      "text/plain": [
       "<IPython.core.display.Markdown object>"
      ]
     },
     "metadata": {},
     "output_type": "display_data"
    },
    {
     "data": {
      "text/html": [
       "\n",
       "        <iframe\n",
       "            width=\"800\"\n",
       "            height=\"600\"\n",
       "            src=\"https://brigade.codeforamerica.org/projects?q=Jupyter%20Notebook\"\n",
       "            frameborder=\"0\"\n",
       "            allowfullscreen\n",
       "        ></iframe>\n",
       "        "
      ],
      "text/plain": [
       "<IPython.lib.display.IFrame at 0x10e5dda20>"
      ]
     },
     "metadata": {},
     "output_type": "display_data"
    }
   ],
   "source": [
    "    https://brigade.codeforamerica.org/projects?q=Jupyter%20Notebook"
   ]
  },
  {
   "cell_type": "code",
   "execution_count": 28,
   "metadata": {},
   "outputs": [
    {
     "data": {
      "text/markdown": [
       "    https://www.chanzuckerberg.com/science/projects-hca"
      ],
      "text/plain": [
       "<IPython.core.display.Markdown object>"
      ]
     },
     "metadata": {},
     "output_type": "display_data"
    },
    {
     "data": {
      "text/html": [
       "\n",
       "        <iframe\n",
       "            width=\"800\"\n",
       "            height=\"600\"\n",
       "            src=\"https://www.chanzuckerberg.com/science/projects-hca\"\n",
       "            frameborder=\"0\"\n",
       "            allowfullscreen\n",
       "        ></iframe>\n",
       "        "
      ],
      "text/plain": [
       "<IPython.lib.display.IFrame at 0x10b1ef208>"
      ]
     },
     "metadata": {},
     "output_type": "display_data"
    }
   ],
   "source": [
    "    https://www.chanzuckerberg.com/science/projects-hca"
   ]
  },
  {
   "cell_type": "code",
   "execution_count": 29,
   "metadata": {},
   "outputs": [
    {
     "data": {
      "text/markdown": [
       "    https://www.chanzuckerberg.com/wp-content/uploads/2017/03/RFA-Computational-Tools.pdf"
      ],
      "text/plain": [
       "<IPython.core.display.Markdown object>"
      ]
     },
     "metadata": {},
     "output_type": "display_data"
    },
    {
     "data": {
      "text/html": [
       "\n",
       "        <iframe\n",
       "            width=\"800\"\n",
       "            height=\"600\"\n",
       "            src=\"https://www.chanzuckerberg.com/wp-content/uploads/2017/03/RFA-Computational-Tools.pdf\"\n",
       "            frameborder=\"0\"\n",
       "            allowfullscreen\n",
       "        ></iframe>\n",
       "        "
      ],
      "text/plain": [
       "<IPython.lib.display.IFrame at 0x10e5b4710>"
      ]
     },
     "metadata": {},
     "output_type": "display_data"
    }
   ],
   "source": [
    "    https://www.chanzuckerberg.com/wp-content/uploads/2017/03/RFA-Computational-Tools.pdf"
   ]
  },
  {
   "cell_type": "code",
   "execution_count": 30,
   "metadata": {},
   "outputs": [
    {
     "data": {
      "text/markdown": [
       "---\n",
       "---\n",
       "---\n",
       "---\n",
       "---\n",
       "---\n",
       "---\n",
       "---\n",
       "---\n",
       "---\n",
       "---\n",
       "---\n",
       "---\n",
       "---\n",
       "---\n",
       "---\n",
       "---\n",
       "---\n",
       "---\n",
       "---\n",
       "\n",
       "\n",
       "#  Jupyter is reusable\n",
       "\n",
       "    digraph {rankdir=\"LR\"; readable -> reusable -> reproducible -> readable}\n",
       "    \n",
       "Jupyter provides valuable components for the many facets of literate computing.  Modern scientists must focus on narrative over tools.  Below are some style guides to consider while consuming, creating, and sharing literate documents."
      ],
      "text/plain": [
       "<IPython.core.display.Markdown object>"
      ]
     },
     "metadata": {},
     "output_type": "display_data"
    },
    {
     "data": {
      "image/svg+xml": [
       "<?xml version=\"1.0\" encoding=\"UTF-8\" standalone=\"no\"?>\n",
       "<!DOCTYPE svg PUBLIC \"-//W3C//DTD SVG 1.1//EN\"\n",
       " \"http://www.w3.org/Graphics/SVG/1.1/DTD/svg11.dtd\">\n",
       "<!-- Generated by graphviz version 2.38.0 (20140413.2041)\n",
       " -->\n",
       "<!-- Title: %3 Pages: 1 -->\n",
       "<svg width=\"349pt\" height=\"67pt\"\n",
       " viewBox=\"0.00 0.00 348.83 67.00\" xmlns=\"http://www.w3.org/2000/svg\" xmlns:xlink=\"http://www.w3.org/1999/xlink\">\n",
       "<g id=\"graph0\" class=\"graph\" transform=\"scale(1 1) rotate(0) translate(4 63)\">\n",
       "<title>%3</title>\n",
       "<polygon fill=\"white\" stroke=\"none\" points=\"-4,4 -4,-63 344.834,-63 344.834,4 -4,4\"/>\n",
       "<!-- readable -->\n",
       "<g id=\"node1\" class=\"node\"><title>readable</title>\n",
       "<ellipse fill=\"none\" stroke=\"black\" cx=\"40.0528\" cy=\"-18\" rx=\"40.1057\" ry=\"18\"/>\n",
       "<text text-anchor=\"middle\" x=\"40.0528\" y=\"-13.8\" font-family=\"Times,serif\" font-size=\"14.00\">readable</text>\n",
       "</g>\n",
       "<!-- reusable -->\n",
       "<g id=\"node2\" class=\"node\"><title>reusable</title>\n",
       "<ellipse fill=\"none\" stroke=\"black\" cx=\"155.675\" cy=\"-41\" rx=\"39.6385\" ry=\"18\"/>\n",
       "<text text-anchor=\"middle\" x=\"155.675\" y=\"-36.8\" font-family=\"Times,serif\" font-size=\"14.00\">reusable</text>\n",
       "</g>\n",
       "<!-- readable&#45;&gt;reusable -->\n",
       "<g id=\"edge1\" class=\"edge\"><title>readable&#45;&gt;reusable</title>\n",
       "<path fill=\"none\" stroke=\"black\" d=\"M77.0036,-25.2773C87.2516,-27.3518 98.5512,-29.6391 109.284,-31.8117\"/>\n",
       "<polygon fill=\"black\" stroke=\"black\" points=\"108.851,-35.2951 119.347,-33.8487 110.24,-28.4342 108.851,-35.2951\"/>\n",
       "</g>\n",
       "<!-- reproducible -->\n",
       "<g id=\"node3\" class=\"node\"><title>reproducible</title>\n",
       "<ellipse fill=\"none\" stroke=\"black\" cx=\"286.039\" cy=\"-18\" rx=\"54.5904\" ry=\"18\"/>\n",
       "<text text-anchor=\"middle\" x=\"286.039\" y=\"-13.8\" font-family=\"Times,serif\" font-size=\"14.00\">reproducible</text>\n",
       "</g>\n",
       "<!-- reusable&#45;&gt;reproducible -->\n",
       "<g id=\"edge2\" class=\"edge\"><title>reusable&#45;&gt;reproducible</title>\n",
       "<path fill=\"none\" stroke=\"black\" d=\"M192.773,-34.532C203.664,-32.5805 215.9,-30.3882 227.812,-28.2538\"/>\n",
       "<polygon fill=\"black\" stroke=\"black\" points=\"228.479,-31.6901 237.705,-26.4812 227.245,-24.7998 228.479,-31.6901\"/>\n",
       "</g>\n",
       "<!-- reproducible&#45;&gt;readable -->\n",
       "<g id=\"edge3\" class=\"edge\"><title>reproducible&#45;&gt;readable</title>\n",
       "<path fill=\"none\" stroke=\"black\" d=\"M231.873,-15.2398C219.832,-14.7237 207.101,-14.264 195.244,-14 160.08,-13.2172 151.266,-13.0637 116.106,-14 107.668,-14.2247 98.7022,-14.5912 90.0142,-15.0136\"/>\n",
       "<polygon fill=\"black\" stroke=\"black\" points=\"89.7976,-11.52 79.9909,-15.5299 90.1578,-18.5107 89.7976,-11.52\"/>\n",
       "</g>\n",
       "</g>\n",
       "</svg>\n"
      ],
      "text/plain": [
       "<graphviz.files.Source at 0x10ebd4a58>"
      ]
     },
     "metadata": {},
     "output_type": "display_data"
    }
   ],
   "source": [
    "{{Ⅎill}}\n",
    "\n",
    "# {{topics[10]}}\n",
    "\n",
    "    digraph {rankdir=\"LR\"; readable -> reusable -> reproducible -> readable}\n",
    "    \n",
    "Jupyter provides valuable components for the many facets of literate computing.  Modern scientists must focus on narrative over tools.  Below are some style guides to consider while consuming, creating, and sharing literate documents.\n"
   ]
  },
  {
   "cell_type": "code",
   "execution_count": 31,
   "metadata": {},
   "outputs": [
    {
     "data": {
      "text/markdown": [
       "---\n",
       "---\n",
       "---\n",
       "---\n",
       "---\n",
       "---\n",
       "---\n",
       "---\n",
       "---\n",
       "---\n",
       "---\n",
       "---\n",
       "---\n",
       "---\n",
       "---\n",
       "---\n",
       "---\n",
       "---\n",
       "---\n",
       "---\n",
       "\n",
       "\n",
       "    with __import__('IPython').utils.capture.capture_output() as out:\n",
       "       \n",
       "    \n",
       "        reload(__import__('this'))\n",
       "        \n",
       "        \n",
       "    out.show()\n",
       "---"
      ],
      "text/plain": [
       "<IPython.core.display.Markdown object>"
      ]
     },
     "metadata": {},
     "output_type": "display_data"
    },
    {
     "name": "stdout",
     "output_type": "stream",
     "text": [
      "The Zen of Python, by Tim Peters\n",
      "\n",
      "Beautiful is better than ugly.\n",
      "Explicit is better than implicit.\n",
      "Simple is better than complex.\n",
      "Complex is better than complicated.\n",
      "Flat is better than nested.\n",
      "Sparse is better than dense.\n",
      "Readability counts.\n",
      "Special cases aren't special enough to break the rules.\n",
      "Although practicality beats purity.\n",
      "Errors should never pass silently.\n",
      "Unless explicitly silenced.\n",
      "In the face of ambiguity, refuse the temptation to guess.\n",
      "There should be one-- and preferably only one --obvious way to do it.\n",
      "Although that way may not be obvious at first unless you're Dutch.\n",
      "Now is better than never.\n",
      "Although never is often better than *right* now.\n",
      "If the implementation is hard to explain, it's a bad idea.\n",
      "If the implementation is easy to explain, it may be a good idea.\n",
      "Namespaces are one honking great idea -- let's do more of those!\n",
      "The Zen of Python, by Tim Peters\n",
      "\n",
      "Beautiful is better than ugly.\n",
      "Explicit is better than implicit.\n",
      "Simple is better than complex.\n",
      "Complex is better than complicated.\n",
      "Flat is better than nested.\n",
      "Sparse is better than dense.\n",
      "Readability counts.\n",
      "Special cases aren't special enough to break the rules.\n",
      "Although practicality beats purity.\n",
      "Errors should never pass silently.\n",
      "Unless explicitly silenced.\n",
      "In the face of ambiguity, refuse the temptation to guess.\n",
      "There should be one-- and preferably only one --obvious way to do it.\n",
      "Although that way may not be obvious at first unless you're Dutch.\n",
      "Now is better than never.\n",
      "Although never is often better than *right* now.\n",
      "If the implementation is hard to explain, it's a bad idea.\n",
      "If the implementation is easy to explain, it may be a good idea.\n",
      "Namespaces are one honking great idea -- let's do more of those!\n"
     ]
    }
   ],
   "source": [
    "{{Ⅎill}}\n",
    "\n",
    "    with __import__('IPython').utils.capture.capture_output() as out:\n",
    "       \n",
    "    \n",
    "        reload(__import__('this'))\n",
    "        \n",
    "        \n",
    "    out.show()\n",
    "---"
   ]
  },
  {
   "cell_type": "code",
   "execution_count": 32,
   "metadata": {},
   "outputs": [
    {
     "data": {
      "text/markdown": [
       "# [Best of the Best Python Practices](https://gist.github.com/sloria/7001839)\n",
       "# [Mailchimp Styleguide](http://styleguide.mailchimp.com/)\n",
       "# [Because “imagine everyone's naked” is terrible advice](https://speaking.io/)"
      ],
      "text/plain": [
       "<IPython.core.display.Markdown object>"
      ]
     },
     "metadata": {},
     "output_type": "display_data"
    }
   ],
   "source": [
    "# [Best of the Best Python Practices](https://gist.github.com/sloria/7001839)\n",
    "# [Mailchimp Styleguide](http://styleguide.mailchimp.com/)\n",
    "# [Because “imagine everyone's naked” is terrible advice](https://speaking.io/)"
   ]
  },
  {
   "cell_type": "code",
   "execution_count": 40,
   "metadata": {},
   "outputs": [
    {
     "data": {
      "text/markdown": [
       "    http://nbviewer.jupyter.org/github/jupyterday-atlanta-2016/oriole_jupyterday_atl/blob/master/oriole_talk.ipynb"
      ],
      "text/plain": [
       "<IPython.core.display.Markdown object>"
      ]
     },
     "metadata": {},
     "output_type": "display_data"
    },
    {
     "data": {
      "text/html": [
       "\n",
       "        <iframe\n",
       "            width=\"800\"\n",
       "            height=\"600\"\n",
       "            src=\"http://nbviewer.jupyter.org/github/jupyterday-atlanta-2016/oriole_jupyterday_atl/blob/master/oriole_talk.ipynb\"\n",
       "            frameborder=\"0\"\n",
       "            allowfullscreen\n",
       "        ></iframe>\n",
       "        "
      ],
      "text/plain": [
       "<IPython.lib.display.IFrame at 0x1131a34e0>"
      ]
     },
     "metadata": {},
     "output_type": "display_data"
    }
   ],
   "source": [
    "    http://nbviewer.jupyter.org/github/jupyterday-atlanta-2016/oriole_jupyterday_atl/blob/master/oriole_talk.ipynb"
   ]
  },
  {
   "cell_type": "code",
   "execution_count": 34,
   "metadata": {},
   "outputs": [
    {
     "data": {
      "text/markdown": [
       "# Art of README\n",
       "\n",
       "*This article can also be read in [Chinese](README-zh.md), \n",
       "[Brazilian Portuguese](README-pt-BR.md) and [Spanish](README-es-ES.md).*\n",
       "\n",
       "## Etymology\n",
       "\n",
       "Where does the term \"README\" come from?\n",
       "\n",
       "The nomenclature dates back to *at least* the 1970s [and the\n",
       "PDP-10](http://pdp-10.trailing-edge.com/decuslib10-04/01/43,50322/read.me.html),\n",
       "though it may even harken back to the days of informative paper notes placed atop\n",
       "stacks of punchcards, \"READ ME!\" scrawled on them, describing their use.\n",
       "\n",
       "A reader<sup>[1](#footnote-1)</sup> suggested that the title README may be a playful nudge toward Lewis\n",
       "Carroll's *Alice's Adventures in Wonderland*, which features a potion and a cake\n",
       "labelled *\"DRINK ME\"* and *\"EAT ME\"*, respectively.\n",
       "\n",
       "The pattern of README appearing in all-caps is a consistent facet throughout\n",
       "history. In addition to the visual strikingness of using all-caps, UNIX systems\n",
       "would sort capitals before lower case letters, conveniently putting the README\n",
       "before the rest of the directory's content<sup>[2](#footnote-2)</sup>.\n",
       "\n",
       "The intent is clear: *\"This is important information for the user to read before\n",
       "proceeding.\"* Let's explore together what constitutes \"important information\" in\n",
       "this modern age.\n",
       "\n",
       "\n",
       "## For creators, for consumers\n",
       "\n",
       "This is an article about READMEs. About what they do, why they are an absolute\n",
       "necessity, and how to craft them well.\n",
       "\n",
       "This is written for module creators, for as a builder of modules, your job is to\n",
       "create something that will last. This is an inherent motivation, even if the\n",
       "author has no intent of sharing their work. Once 6 months pass, a module without\n",
       "documentation begins to look new and unfamiliar.\n",
       "\n",
       "This is also written for module consumers, for every module author is also a\n",
       "module consumer. Node has a very healthy degree of interdependency: no one lives\n",
       "at the bottom of the dependency tree.\n",
       "\n",
       "Despite being focused on Node, the author contends that its lessons apply\n",
       "equally well to other programming ecosystems, as well.\n",
       "\n",
       "\n",
       "## Many modules: some good, some bad\n",
       "\n",
       "The Node ecosystem is powered by its modules. [npm](https://npmjs.org) is the\n",
       "magic that makes it all *go*. In the course of a week, Node developers evaluate\n",
       "dozens of modules for inclusion in their projects. This is a great deal of power\n",
       "being churned out on a daily basis, ripe for the plucking, just as fast as one\n",
       "can write `npm install`.\n",
       "\n",
       "Like any ecosystem that is extremely accessible, the quality bar varies. npm\n",
       "does its best to nicely pack away all of these modules and ship them far and\n",
       "wide. However, the tools found are widely varied: some are shining and new,\n",
       "others broken and rusty, and still others are somewhere in between. There are\n",
       "even some that we don't know what they do!\n",
       "\n",
       "For modules, this can take the form of inaccurate or unhelpful names (any\n",
       "guesses what the `fudge` module does?), no documentation, no tests, no source\n",
       "code comments, or incomprehensible function names.\n",
       "\n",
       "Many don't have an active maintainer. If a module has no human available to\n",
       "answer questions and explain what a module does, combined with no remnants of\n",
       "documentation left behind, a module becomes a bizarre alien artifact, unusable\n",
       "and incomprehensible by the archaeologist-hackers of tomorrow.\n",
       "\n",
       "For those modules that do have documentation, where do they fall on the quality\n",
       "spectrum? Maybe it's just a one-liner description: `\"sorts numbers by their hex\n",
       "value\"`. Maybe it's a snippet of example code. These are both improvements upon\n",
       "nothing, but they tend to result in the worst-case scenario for a modern day\n",
       "module spelunker: digging into the source code to try and understand how it\n",
       "actually works. Writing excellent documentation is all about keeping the users\n",
       "*out* of the source code by providing instructions sufficient to enjoy the\n",
       "wonderful abstractions that your module brings.\n",
       "\n",
       "Node has a \"wide\" ecosystem: it's largely made up of a very long list of\n",
       "independent do-one-thing-well modules flying no flags but their own. There are\n",
       "[exceptions](https://github.com/lodash/lodash), but despite these minor fiefdoms,\n",
       "it is the single-purpose commoners who, given their larger numbers, truly rule the\n",
       "Node kingdom.\n",
       "\n",
       "This situation has a natural consequence: it can be hard to find *quality* modules\n",
       "that do exactly what you want.\n",
       "\n",
       "**This is okay**. Truly. A low bar to entry and a discoverability problem is\n",
       "infinitely better than a culture problem, where only the privileged few may\n",
       "participate.\n",
       "\n",
       "Plus, discoverability -- as it turns out -- is easier to address.\n",
       "\n",
       "\n",
       "## All roads lead to README.md\n",
       "\n",
       "The Node community has responded to the challenge of discoverability in\n",
       "different ways.\n",
       "\n",
       "Some experienced Node developers band together to create [curated\n",
       "lists](https://github.com/sindresorhus/awesome-nodejs) of quality modules.\n",
       "Developers leverage their many years examining hundreds of different modules to\n",
       "share with newcomers the *crème de la crème*: the best modules in each category.\n",
       "This might also take the form of RSS feeds and mailing lists of new modules deemed\n",
       "to be useful by trusted community members.\n",
       "\n",
       "How about the social graph? This idea spurred the creation of\n",
       "[node-modules.com](http://node-modules.com/), a npm search replacement that\n",
       "leverages your GitHub social graph to find modules your friends like or have\n",
       "made.\n",
       "\n",
       "Of course there is also npm's built-in [search](https://npmjs.org)\n",
       "functionality: a safe default, and the usual port of entry for new developers.\n",
       "\n",
       "No matter your approach, regardless whether a module spelunker enters the module\n",
       "underground at [npmjs.org](https://npmjs.org),\n",
       "[github.com](https://github.com), or somewhere else, this would-be user will\n",
       "eventually end up staring your README square in the face. Since your users\n",
       "will inevitably find themselves here, what can be done to make their first\n",
       "impressions maximally effective?\n",
       "\n",
       "\n",
       "## Professional module spelunking\n",
       "\n",
       "### The README: Your one-stop shop\n",
       "\n",
       "A README is a module consumer's first -- and maybe only -- look into your\n",
       "creation. The consumer wants a module to fulfill their need, so you must explain\n",
       "exactly what need your module fills, and how effectively it does so.\n",
       "\n",
       "Your job is to\n",
       "\n",
       "1. tell them what it is (with context)\n",
       "2. show them what it looks like in action\n",
       "3. show them how they use it\n",
       "4. tell them any other relevant details\n",
       "\n",
       "This is *your* job. It's up to the module creator to prove that their work is a\n",
       "shining gem in the sea of slipshod modules. Since so many developers' eyes will\n",
       "find their way to your README before anything else, quality here is your\n",
       "public-facing measure of your work.\n",
       "\n",
       "\n",
       "### Brevity\n",
       "\n",
       "The lack of a README is a powerful red flag, but even a lengthy README is not\n",
       "indicative of there being high quality. The ideal README is as short as it can\n",
       "be without being any shorter. Detailed documentation is good -- make separate\n",
       "pages for it! -- but keep your README succinct.\n",
       "\n",
       "\n",
       "### Learn from the past\n",
       "\n",
       "It is said that those who do not study their history are doomed to make its\n",
       "mistakes again. Developers have been writing documentation for quite some number\n",
       "of years. It would be wasteful to not look back a little bit and see what people\n",
       "did right before Node.\n",
       "\n",
       "Perl, for all of the flak it receives, is in some ways the spiritual grandparent\n",
       "of Node. Both are high-level scripting languages, adopt many UNIX idioms, fuel\n",
       "much of the internet, and both feature a wide module ecosystem.\n",
       "\n",
       "It so turns out that the [monks](http://perlmonks.org) of the Perl community\n",
       "indeed have a great deal of experience in writing [quality\n",
       "READMEs](http://search.cpan.org/~kane/Archive-Tar/lib/Archive/Tar.pm). CPAN is a\n",
       "wonderful resource that is worth reading through to learn more about a community\n",
       "that wrote consistently high-calibre documentation.\n",
       "\n",
       "\n",
       "### No README? No abstraction\n",
       "\n",
       "No README means developers will need to delve into your code in order to\n",
       "understand it.\n",
       "\n",
       "The Perl monks have wisdom to share on the matter:\n",
       "\n",
       "> Your documentation is complete when someone can use your module without ever\n",
       "> having to look at its code. This is very important. This makes it possible for\n",
       "> you to separate your module's documented interface from its internal\n",
       "> implementation (guts). This is good because it means that you are free to\n",
       "> change the module's internals as long as the interface remains the same.\n",
       ">\n",
       "> Remember: the documentation, not the code, defines what a module does.\n",
       "-- [Ken Williams](http://mathforum.org/ken/perl_modules.html#document)\n",
       "\n",
       "\n",
       "### Key elements\n",
       "\n",
       "Once a README is located, the brave module spelunker must scan it to discern if\n",
       "it matches the developer's needs. This becomes essentially a series of pattern\n",
       "matching problems for their brain to solve, where each step takes them deeper\n",
       "into the module and its details.\n",
       "\n",
       "Let's say, for example, my search for a 2D collision detection module leads me\n",
       "to [`collide-2d-aabb-aabb`](https://github.com/noffle/collide-2d-aabb-aabb). I\n",
       "begin to examine it from top to bottom:\n",
       "\n",
       "1. *Name* -- self-explanatory names are best. `collide-2d-aabb-aabb` sounds\n",
       "   promising, though it assumes I know what an \"aabb\" is. If the name sounds too\n",
       "   vague or unrelated, it may be a signal to move on.\n",
       "\n",
       "2. *One-liner* -- having a one-liner that describes the module is useful for\n",
       "   getting an idea of what the module does in slightly greater detail.\n",
       "   `collide-2d-aabb-aabb` says it\n",
       "\n",
       "   > Determines whether a moving axis-aligned bounding box (AABB) collides with\n",
       "   > other AABBs.\n",
       "\n",
       "   Awesome: it defines what an AABB is, and what the module does. Now to gauge how\n",
       "   well it'd fit into my code:\n",
       "\n",
       "3. *Usage* -- rather than starting to delve into the API docs, it'd be great to\n",
       "   see what the module looks like in action. I can quickly determine whether the\n",
       "   example JS fits the desired style and problem. People have lots of opinions\n",
       "   on things like promises/callbacks and ES6. If it does fit the bill, then I\n",
       "   can proceed to greater detail.\n",
       "\n",
       "4. *API* -- the name, description, and usage of this module all sound appealing\n",
       "   to me. I'm very likely to use this module at this point. I just need to scan\n",
       "   the API to make sure it does exactly what I need and that it will integrate\n",
       "   easily into my codebase. The API section ought to detail the module's objects\n",
       "   and functions, their signatures, return types, callbacks, and events in\n",
       "   detail. Types should be included where they aren't obvious. Caveats should be\n",
       "   made clear.\n",
       "\n",
       "5. *Installation* -- if I've read this far down, then I'm sold on trying out the\n",
       "   module. If there are nonstandard installation notes, here's where they'd go,\n",
       "   but even if it's just a regular `npm install`, I'd like to see that mentioned,\n",
       "   too. New users start using Node all the time, so having a link to npmjs.org\n",
       "   and an install command provides them the resources to figure out how Node\n",
       "   modules work.\n",
       "\n",
       "6. *License* -- most modules put this at the very bottom, but this might\n",
       "   actually be better to have higher up; you're likely to exclude a module VERY\n",
       "   quickly if it has a license incompatible with your work. I generally stick to\n",
       "   the MIT/BSD/X11/ISC flavours. If you have a non-permissive license, stick it\n",
       "   at the very top of the module to prevent any confusion.\n",
       "\n",
       "\n",
       "## Cognitive funneling\n",
       "\n",
       "The ordering of the above was not chosen at random.\n",
       "\n",
       "Module consumers use many modules, and need to look at many modules.\n",
       "\n",
       "Once you've looked at hundreds of modules, you begin to notice that the mind\n",
       "benefits from predictable patterns.\n",
       "\n",
       "You also start to build out your own personal heuristic for what information you\n",
       "want, and what red flags disqualify modules quickly.\n",
       "\n",
       "Thus, it follows that in a README it is desirable to have:\n",
       "\n",
       "1. a predictable format\n",
       "2. certain key elements present\n",
       "\n",
       "You don't need to use *this* format, but try to be consistent to save your users\n",
       "precious cognitive cycles.\n",
       "\n",
       "The ordering presented here is lovingly referred to as \"cognitive funneling,\"\n",
       "and can be imagined as a funnel held upright, where the widest end contains the\n",
       "broadest more pertinent details, and moving deeper down into the funnel presents\n",
       "more specific details that are pertinent for only a reader who is interested\n",
       "enough in your work to have reached that deeply in the document. Finally, the\n",
       "bottom can be reserved for details only for those intrigued by the deeper\n",
       "context of the work (background, credits, biblio, etc.).\n",
       "\n",
       "Once again, the Perl monks have wisdom to share on the subject:\n",
       "\n",
       "> The level of detail in Perl module documentation generally goes from\n",
       "> less detailed to more detailed.  Your SYNOPSIS section should\n",
       "> contain a minimal example of use (perhaps as little as one line of\n",
       "> code; skip the unusual use cases or anything not needed by most\n",
       "> users); the DESCRIPTION should describe your module in broad terms,\n",
       "> generally in just a few paragraphs; more detail of the module's\n",
       "> routines or methods, lengthy code examples, or other in-depth\n",
       "> material should be given in subsequent sections.\n",
       ">\n",
       "> Ideally, someone who's slightly familiar with your module should be\n",
       "> able to refresh their memory without hitting \"page down\".  As your\n",
       "> reader continues through the document, they should receive a\n",
       "> progressively greater amount of knowledge.\n",
       "> -- from `perlmodstyle`\n",
       "\n",
       "\n",
       "## Care about people's time\n",
       "\n",
       "Awesome; the ordering of these key elements should be decided by how quickly\n",
       "they let someone 'short circuit' and bail on your module.\n",
       "\n",
       "This sounds bleak, doesn't it? But think about it: your job, when you're doing\n",
       "it with optimal altruism in mind, isn't to \"sell\" people on your work. It's to\n",
       "let them evaluate what your creation does as objectively as possible, and decide\n",
       "whether it meets their needs or not -- not to, say, maximize your downloads or\n",
       "userbase.\n",
       "\n",
       "This mindset doesn't appeal to everyone; it requires checking your ego at the\n",
       "door and letting the work speak for itself as much as possible. Your only job is\n",
       "to describe its promise as succinctly as you can, so module spelunkers can\n",
       "either use your work when it's a fit, or move on to something else that does.\n",
       "\n",
       "\n",
       "## Call to arms!\n",
       "\n",
       "Go forth, brave module spelunker, and make your work discoverable and usable\n",
       "through excellent documentation!\n",
       "\n",
       "\n",
       "## Bonus: other good practices\n",
       "\n",
       "Outside of the key points of the article, there are other practices you can\n",
       "follow (or not follow) to raise your README's quality bar even further and\n",
       "maximize its usefulness to others:\n",
       "\n",
       "1. Consider including a **Background** section if your module depends on\n",
       "   important but not widely known abstractions or other ecosystems. The function\n",
       "   of [`bisecting-between`](https://github.com/noffle/bisecting-between) is not\n",
       "   immediately obvious from its name, so it has a detailed *Background* section\n",
       "   to define and link to the big concepts and abstractions one needs to\n",
       "   understand to use and grok it. This is also a great place to explain the\n",
       "   module's motivation if similar modules already exist on npm.\n",
       "\n",
       "2. Aggressively linkify! If you talk about other modules, ideas, or people, make\n",
       "   that reference text a link so that visitors can more easily grok your module\n",
       "   and the ideas it builds on. Few modules exist in a vacuum: all work comes\n",
       "   from other work, so it pays to help users follow your module's history and\n",
       "   inspiration.\n",
       "\n",
       "3. Include information on types of arguments and return parameters if it's not\n",
       "   obvious. Prefer convention wherever possible (`cb` probably means callback\n",
       "   function, `num` probably means a `Number`, etc.).\n",
       "\n",
       "4. Include the example code in **Usage** as a file in your repo -- maybe as\n",
       "   `example.js`. It's great to have README code that users can actually run if\n",
       "   they clone the repository.\n",
       "\n",
       "5. Be judicious in your use of badges. They're easy to\n",
       "   [abuse](https://github.com/angular/angular). They can also be a breeding\n",
       "   ground for bikeshedding and endless debate. They add visual noise to your\n",
       "   README and generally only function if the user is reading your Markdown in a\n",
       "   browser online, since the images are often hosted elsewhere on the\n",
       "   internet. For each badge, consider: \"what real value is this badge providing\n",
       "   to the typical viewer of this README?\" Do you have a CI badge to show build/test\n",
       "   status? This signal would better reach important parties by emailing\n",
       "   maintainers or automatically creating an issue. Always consider the\n",
       "   audience of the data in your README and ask yourself if there's a flow for\n",
       "   that data that can better reach its intended audience.\n",
       "\n",
       "6. API formatting is highly bikesheddable. Use whatever format you think is\n",
       "   clearest, but make sure your format expresses important subtleties:\n",
       "\n",
       "   a. which parameters are optional, and their defaults\n",
       "\n",
       "   b. type information, where it is not obvious from convention\n",
       "\n",
       "   c. for `opts` object parameters, all keys and values that are accepted\n",
       "\n",
       "   d. don't shy away from providing a tiny example of an API function's use if\n",
       "      it is not obvious or fully covered in the **Usage** section.\n",
       "      However, this can also be a strong signal that the function is too complex\n",
       "      and needs to be refactored, broken into smaller functions, or removed\n",
       "      altogether\n",
       "\n",
       "   e. aggressively linkify specialized terminology! In markdown you can keep\n",
       "      [footnotes](https://daringfireball.net/projects/markdown/syntax#link) at\n",
       "      the bottom of your document, so referring to them several times throughout\n",
       "      becomes cheap. Some of my personal preferences on API formatting can be\n",
       "      found\n",
       "      [here](https://github.com/noffle/common-readme/blob/master/api_formatting.md)\n",
       "\n",
       "7. If your module is a small collection of stateless functions, having a\n",
       "   **Usage** section as a [Node REPL\n",
       "   session](https://github.com/noffle/bisecting-between#example) of function\n",
       "   calls and results might communicate usage more clearly than a source code\n",
       "   file to run.\n",
       "\n",
       "8. If your module provides a CLI (command line interface) instead of (or in\n",
       "    addition to) a programmatic API, show usage examples as command invocations\n",
       "    and their output. If you create or modify a file, `cat` it to demonstrate\n",
       "    the change before and after.\n",
       "\n",
       "9. Don't forget to use `package.json`\n",
       "    [keywords](https://docs.npmjs.com/files/package.json#keywords) to direct\n",
       "    module spelunkers to your doorstep.\n",
       "\n",
       "10. The more you change your API, the more work you need to exert updating\n",
       "    documentation -- the implication here is that you should keep your APIs\n",
       "    small and concretely defined early on. Requirements change over time, but\n",
       "    instead of front-loading assumptions into the APIs of your modules, load\n",
       "    them up one level of abstraction: the module set itself. If the requirements\n",
       "    *do* change and 'do-one-concrete-thing' no longer makes sense, then simply\n",
       "    write a new module that does the thing you need. The 'do-one-concrete-thing'\n",
       "    module remains a valid and valuable model for the npm ecosystem, and your\n",
       "    course correction cost you nothing but a simple substitution of one module for\n",
       "    another.\n",
       "\n",
       "11. Finally, please remember that your version control repository and its\n",
       "    embedded README will outlive your [repository host](https://github.com) and\n",
       "    any of the things you hyperlink to -- especially images -- so *inline* anything\n",
       "    that is essential to future users grokking your work.\n",
       "\n",
       "\n",
       "## Bonus: *common-readme*\n",
       "\n",
       "Not coincidentally, this is also the format used by\n",
       "[**common-readme**](https://github.com/noffle/common-readme), a set of README\n",
       "guidelines and handy command-line generator. If you like what's written here,\n",
       "you may save some time writing READMEs with `common-readme`. You'll find\n",
       "real module examples with this format, too.\n",
       "\n",
       "You may also enjoy\n",
       "[standard-readme](https://github.com/richardlitt/standard-readme), which is a\n",
       "more structured, lintable take on a common README format.\n",
       "\n",
       "\n",
       "## Bonus: Exemplars\n",
       "\n",
       "Theory is well and good, but what do excellent READMEs look like? Here are some\n",
       "that I think embody the principles of this article well:\n",
       "\n",
       "- https://github.com/noffle/ice-box\n",
       "- https://github.com/substack/quote-stream\n",
       "- https://github.com/feross/bittorrent-dht\n",
       "- https://github.com/mikolalysenko/box-intersect\n",
       "- https://github.com/freeman-lab/pixel-grid\n",
       "- https://github.com/mafintosh/torrent-stream\n",
       "- https://github.com/pull-stream/pull-stream\n",
       "- https://github.com/substack/tape\n",
       "- https://github.com/yoshuawuyts/vmd\n",
       "- https://github.com/defstream/nl3\n",
       "\n",
       "\n",
       "## Bonus: The README Checklist\n",
       "\n",
       "A helpful checklist to gauge how your README is coming along:\n",
       "\n",
       "- [ ] One-liner explaining the purpose of the module\n",
       "- [ ] Necessary background context & links\n",
       "- [ ] Potentially unfamiliar terms link to informative sources\n",
       "- [ ] Clear, *runnable* example of usage\n",
       "- [ ] Installation instructions\n",
       "- [ ] Extensive API documentation\n",
       "- [ ] Performs [cognitive funneling](https://github.com/noffle/art-of-readme#cognitive-funneling)\n",
       "- [ ] Caveats and limitations mentioned up-front\n",
       "- [ ] Doesn't rely on images to relay critical information\n",
       "- [ ] License\n",
       "\n",
       "\n",
       "## The author\n",
       "\n",
       "I'm [noffle](http://blog.eight45.net/about/). I'm known to\n",
       "[blog](http://blog.eight45.net), [tweet](https://twitter.com/noffle), and\n",
       "[hack](https://github.com/noffle).\n",
       "\n",
       "This little project began back in May in Berlin at squatconf, where I was\n",
       "digging into how Perl monks write their documentation and also lamenting the\n",
       "state of READMEs in the Node ecosystem. It spurred me to create\n",
       "[common-readme](https://github.com/noffle/common-readme). The \"README Tips\"\n",
       "section overflowed with tips though, which I decided could be usefully collected\n",
       "into an article about writing READMEs. Thus, Art of README was born!\n",
       "\n",
       "You can reach me at `noffle@eight45.net` or on Freenode IRC in `#eight45`.\n",
       "\n",
       "\n",
       "## Further Reading\n",
       "\n",
       "- [README-Driven Development](http://tom.preston-werner.com/2010/08/23/readme-driven-development.html)\n",
       "- [Documentation First](http://joeyh.name/blog/entry/documentation_first/)\n",
       "\n",
       "\n",
       "## Footnotes\n",
       "\n",
       "1. <a name=\"footnote-1\"></a>Thanks,\n",
       "   [Sixes666](https://www.reddit.com/r/node/comments/55eto9/nodejs_the_art_of_readme/d8akpz6)!\n",
       "\n",
       "1. <a name=\"footnote-2\"></a>See [The Jargon File](http://catb.org/~esr/jargon/html/R/README-file.html).\n",
       "   However, most systems today will not sort capitals before all lowercase\n",
       "   characters, reducing this convention's usefulness to just the visual\n",
       "   strikingness of all-caps.\n",
       "\n",
       "\n",
       "## Credits\n",
       "\n",
       "A heartfelt thank you to [@mafintosh](https://github.com/mafintosh) and\n",
       "[@feross](https://github.com/feross) for the encouragement I needed to get this\n",
       "idea off the ground and start writing!\n",
       "\n",
       "Thank you to the following awesome readers for noticing errors and sending me\n",
       "PRs :heart: :\n",
       "\n",
       "- [@ungoldman](https://github.com/ungoldman)\n",
       "- [@boidolr](https://github.com/boidolr)\n",
       "- [@imjoehaines](https://github.com/imjoehaines)\n",
       "- [@radarhere](https://github.com/radarhere)\n",
       "- [@joshmanders](https://github.com/joshmanders)\n",
       "- [@ddbeck](https://github.com/ddbeck)\n",
       "- [@RichardLitt](https://github.com/RichardLitt)\n",
       "- [@StevenMaude](https://github.com/StevenMaude)\n",
       "- [@KrishMunot](https://github.com/KrishMunot)\n",
       "- [@chesterhow](https://github.com/chesterhow)\n",
       "- [@sjsyrek](https://github.com/sjsyrek)\n",
       "- [@thenickcox](https://github.com/thenickcox)\n",
       "\n",
       "Thank you to [@qihaiyan](https://github.com/qihaiyan) for translating Art of\n",
       "README to Chinese! The following users also made contributions:\n",
       "\n",
       "- [@BrettDong](https://github.com/brettdong) for revising punctuation in Chinese version.\n",
       "- [@Alex-fun](https://github.com/Alex-fun)\n",
       "- [@HmyBmny](https://github.com/HmyBmny)\n",
       "- [@vra](https://github.com/vra)\n",
       "\n",
       "Thank you to [@lennonjesus](https://github.com/lennonjesus) for translating Art\n",
       "of README to Brazilian Portuguese! The following users also made contributions:\n",
       "\n",
       "- [@rectius](https://github.com/rectius)\n",
       "\n",
       "Thank you to [@jabiinfante](https://github.com/jabiinfante) for translating Art\n",
       "of README to Spanish!\n",
       "\n",
       "Finally, thanks for all of the feedback! Please share your comments [as an\n",
       "issue](https://github.com/noffle/art-of-readme/issues)!\n",
       "\n",
       "\n",
       "## Pull requests welcome!\n",
       "\n",
       "Spotted an error? Something doesn't make sense? Send me a [pull\n",
       "request](https://github.com/noffle/art-of-readme/pulls)! Please avoid making\n",
       "stylistic changes though -- they are unlikely to be accepted. Thanks!\n",
       "\n",
       "## License\n",
       "\n",
       "[Creative Commons Attribution License](http://creativecommons.org/licenses/by/2.0/)\n"
      ],
      "text/plain": [
       "<IPython.core.display.Markdown object>"
      ]
     },
     "metadata": {},
     "output_type": "display_data"
    }
   ],
   "source": [
    "https://raw.githubusercontent.com/noffle/art-of-readme/master/README.md"
   ]
  },
  {
   "cell_type": "code",
   "execution_count": 35,
   "metadata": {},
   "outputs": [
    {
     "data": {
      "text/markdown": [
       "---\n",
       "---\n",
       "---\n",
       "---\n",
       "---\n",
       "---\n",
       "---\n",
       "---\n",
       "---\n",
       "---\n",
       "---\n",
       "---\n",
       "---\n",
       "---\n",
       "---\n",
       "---\n",
       "---\n",
       "---\n",
       "---\n",
       "---\n",
       "\n",
       "\n",
       "---\n",
       "\n",
       "> 🔌 The notebooks for `ten` use an experimental library [`rites`](https://github.com/deathbeds/rites/tree/master/rites); which provides markdown, templating, and macros to notebook cells.\n",
       "\n",
       "    import ten"
      ],
      "text/plain": [
       "<IPython.core.display.Markdown object>"
      ]
     },
     "metadata": {},
     "output_type": "display_data"
    }
   ],
   "source": [
    "{{Ⅎill}}\n",
    "\n",
    "---\n",
    "\n",
    "> 🔌 The notebooks for `ten` use an experimental library [`rites`](https://github.com/deathbeds/rites/tree/master/rites); which provides markdown, templating, and macros to notebook cells.\n",
    "\n",
    "    import ten"
   ]
  },
  {
   "cell_type": "code",
   "execution_count": 36,
   "metadata": {},
   "outputs": [
    {
     "data": {
      "text/markdown": [
       "# Modern scientists must learn to draw real data with computers.\n",
       "> ... stating the problem definition without drawing something is mere lip-service.\n",
       "> - Prof. George Polya - How to Solve It"
      ],
      "text/plain": [
       "<IPython.core.display.Markdown object>"
      ]
     },
     "metadata": {},
     "output_type": "display_data"
    }
   ],
   "source": [
    "# Modern scientists must learn to draw real data with computers.\n",
    "> ... stating the problem definition without drawing something is mere lip-service.\n",
    "> - Prof. George Polya - How to Solve It\n",
    "\n"
   ]
  },
  {
   "cell_type": "code",
   "execution_count": 37,
   "metadata": {},
   "outputs": [
    {
     "data": {
      "text/markdown": [
       "* Jupyter is scientific software    \n",
       "* Jupyter is language agnostic\n",
       "* Jupyter is an ecosystem\n",
       "* Jupyter is a community\n",
       "* Jupyter is data \n",
       "* Jupyter is literate computing\n",
       "* Jupyter is for documents\n",
       "* Jupyter is for sharing data\n",
       "* Jupyter is for collaboration\n",
       "* Jupyter is reusable\n",
       "\n",
       "# Thank you ✌️\n",
       "\n",
       "# For more on Jupyter\n",
       "\n",
       "## Jupyter Day Atlanta \n",
       "## Atlanta Jupyter User Group"
      ],
      "text/plain": [
       "<IPython.core.display.Markdown object>"
      ]
     },
     "metadata": {},
     "output_type": "display_data"
    }
   ],
   "source": [
    "{{bullets(1,11)}}\n",
    "\n",
    "# Thank you ✌️\n",
    "\n",
    "# For more on Jupyter\n",
    "\n",
    "## Jupyter Day Atlanta \n",
    "## Atlanta Jupyter User Group"
   ]
  }
 ],
 "metadata": {
  "kernelspec": {
   "display_name": "p6",
   "language": "python",
   "name": "other-env"
  },
  "language_info": {
   "codemirror_mode": {
    "name": "ipython",
    "version": 3
   },
   "file_extension": ".py",
   "mimetype": "text/x-python",
   "name": "python",
   "nbconvert_exporter": "python",
   "pygments_lexer": "ipython3",
   "version": "3.6.3"
  }
 },
 "nbformat": 4,
 "nbformat_minor": 2
}
