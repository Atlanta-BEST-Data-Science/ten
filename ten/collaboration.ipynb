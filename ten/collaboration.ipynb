{
 "cells": [
  {
   "cell_type": "markdown",
   "metadata": {},
   "source": [
    "⓷ `collaboration.ipynb`"
   ]
  },
  {
   "cell_type": "code",
   "execution_count": 1,
   "metadata": {},
   "outputs": [
    {
     "data": {
      "text/html": [
       "<style>\n",
       ".jp-RenderedHTMLCommon pre code {\n",
       "    text-decoration: line-through wavy;\n",
       "}\n",
       ".jp-RenderedHTMLCommon pre code:hover {\n",
       "    text-decoration: none;\n",
       "\n",
       "}\n",
       ".jp-Placeholder-content .jp-MoreHorizIcon {\n",
       "    background-size: 32px;\n",
       "}\n",
       "\n",
       "@import url(\"https://cdn.jsdelivr.net/npm/firacode@1.205.0/distr/fira_code.css\")\n",
       "\n",
       ".CodeMirror * {\n",
       "  font-family: 'Fira Code' !important; \n",
       "  font-variant-ligatures: initial !important;\n",
       "}\n",
       "\n",
       ".cm-string {\n",
       "    font-variant-ligatures: none;\n",
       "}\n",
       "</style><style>\n",
       ".jp-mod-presentationMode .jp-SideBar,\n",
       ".jp-mod-presentationMode #jp-top-panel {\n",
       "    opacity: 0.0;\n",
       "    transition: all 0.2s;\n",
       "}\n",
       ".jp-mod-presentationMode .jp-SideBar:hover,\n",
       ".jp-mod-presentationMode #jp-top-panel:hover {\n",
       "    opacity: 0.9;\n",
       "    transition: all 0.2s;\n",
       "}\n",
       "\n",
       "</style><style>\n",
       ".jp-mod-presentationMode.jp-ApplicationShell,\n",
       ".jp-mod-presentationMode .p-TabBar-content{\n",
       "    background-color: var(--jp-layout-color0);\n",
       "}\n",
       "</style><style>\n",
       ".jp-mod-presentationMode .p-DockPanel-widget,\n",
       ".jp-mod-presentationMode #jp-left-stack{\n",
       "    border-color: transparent;\n",
       "}\n",
       ".jp-mod-presentationMode .jp-Toolbar-item,\n",
       ".jp-mod-presentationMode .jp-Toolbar {\n",
       "    opacity: 0.1;\n",
       "    transition: all 0.2s;\n",
       "}\n",
       ".jp-mod-presentationMode .jp-Toolbar-item:hover,\n",
       ".jp-mod-presentationMode .jp-Toolbar:hover {\n",
       "    opacity: 0.9;\n",
       "    transition: all 0.2s;\n",
       "}\n",
       "\n",
       "</style><style>\n",
       ".jp-mod-presentationMode .jp-OutputPrompt,\n",
       ".jp-mod-presentationMode .jp-InputPrompt {\n",
       "    max-width: 2rem !important;\n",
       "    transition: all 0.2s;\n",
       "}\n",
       ".jp-mod-presentationMode .jp-Cell.jp-mod-selected .jp-OutputPrompt,\n",
       ".jp-mod-presentationMode .jp-Cell.jp-mod-selected .jp-InputPrompt,\n",
       ".jp-mod-presentationMode .jp-Cell:hover .jp-OutputPrompt,\n",
       ".jp-mod-presentationMode .jp-Cell:hover .jp-InputPrompt {\n",
       "    max-width: 10rem !important;\n",
       "    transition: all 0.2s;\n",
       "}\n",
       "\n",
       ".jp-mod-presentationMode .jp-Cell {\n",
       "    margin-bottom: 5rem;\n",
       "}\n",
       "\n",
       ".jp-mod-presentationMode hr {\n",
       "    opacity: 0.1;\n",
       "}\n",
       "</style>"
      ],
      "text/plain": [
       "<IPython.core.display.HTML object>"
      ]
     },
     "execution_count": 1,
     "metadata": {},
     "output_type": "execute_result"
    }
   ],
   "source": [
    "    \n",
    "    o = __name__ == '__main__'\n",
    "    from poser import *\n",
    "    from importlib import reload\n",
    "    if o:\n",
    "        %reload_ext rites.all\n",
    "    try: \n",
    "        from .utils.style import style\n",
    "        from .intro import bullets, topics\n",
    "    except: \n",
    "        from ten.utils.style import style\n",
    "        from ten.intro import bullets, topics\n",
    "    Ⅎill = \"\"\"---\\n\"\"\"*20\n",
    "\n",
    "    style"
   ]
  },
  {
   "cell_type": "code",
   "execution_count": 2,
   "metadata": {},
   "outputs": [],
   "source": [
    "\n",
    "    try: \n",
    "        from .particles import refs as xx, teaching, publishing, recent, journalism, computing, python, people\n",
    "    except: \n",
    "        from ten.particles import refs as xx, teaching, publishing, recent, journalism, computing, python, people"
   ]
  },
  {
   "cell_type": "code",
   "execution_count": 3,
   "metadata": {},
   "outputs": [
    {
     "data": {
      "text/markdown": [
       "---\n",
       "---\n",
       "---\n",
       "---\n",
       "---\n",
       "---\n",
       "---\n",
       "---\n",
       "---\n",
       "---\n",
       "---\n",
       "---\n",
       "---\n",
       "---\n",
       "---\n",
       "---\n",
       "---\n",
       "---\n",
       "---\n",
       "---\n",
       "\n",
       "\n",
       "# The Modern Scientist\n",
       "\n",
       "...will collaborate frequently because modern engineering problems are too challenging for individuals.  They will be required to share their more frequently with less preparation.\n",
       "\n",
       "![](https://upload.wikimedia.org/wikipedia/commons/4/48/Data_driven_journalism_process.jpg)"
      ],
      "text/plain": [
       "<IPython.core.display.Markdown object>"
      ]
     },
     "metadata": {},
     "output_type": "display_data"
    }
   ],
   "source": [
    "{{Ⅎill}}\n",
    "\n",
    "# The Modern Scientist\n",
    "\n",
    "...will collaborate frequently because modern engineering problems are too challenging for individuals.  They will be required to share their more frequently with less preparation.\n",
    "\n",
    "![]({{journalism.process}})"
   ]
  },
  {
   "cell_type": "code",
   "execution_count": 4,
   "metadata": {},
   "outputs": [
    {
     "data": {
      "text/markdown": [
       "# Jupyter for sharing and collaboration\n",
       "\n",
       "0. Jupyter is for sharing data\n",
       "0. Jupyter is for collaboration\n",
       "0. Jupyter is reusable"
      ],
      "text/plain": [
       "<IPython.core.display.Markdown object>"
      ]
     },
     "metadata": {},
     "output_type": "display_data"
    }
   ],
   "source": [
    "# Jupyter for sharing and collaboration\n",
    "\n",
    "{{bullets(8, 11).replace('*', '0.')}}\n",
    "\n"
   ]
  },
  {
   "cell_type": "code",
   "execution_count": 5,
   "metadata": {},
   "outputs": [
    {
     "data": {
      "text/markdown": [
       "---\n",
       "---\n",
       "---\n",
       "---\n",
       "---\n",
       "---\n",
       "---\n",
       "---\n",
       "---\n",
       "---\n",
       "---\n",
       "---\n",
       "---\n",
       "---\n",
       "---\n",
       "---\n",
       "---\n",
       "---\n",
       "---\n",
       "---\n",
       "\n",
       "\n",
       "#  Jupyter is for sharing data\n",
       "    \n",
       "    digraph{rankdir=\"LR\"; subgraph clusterd{label=\"Big Data\"; Volume->Velocity->Variety->Veracity->Value}}"
      ],
      "text/plain": [
       "<IPython.core.display.Markdown object>"
      ]
     },
     "metadata": {},
     "output_type": "display_data"
    },
    {
     "data": {
      "image/svg+xml": [
       "<?xml version=\"1.0\" encoding=\"UTF-8\" standalone=\"no\"?>\n",
       "<!DOCTYPE svg PUBLIC \"-//W3C//DTD SVG 1.1//EN\"\n",
       " \"http://www.w3.org/Graphics/SVG/1.1/DTD/svg11.dtd\">\n",
       "<!-- Generated by graphviz version 2.38.0 (20140413.2041)\n",
       " -->\n",
       "<!-- Title: %3 Pages: 1 -->\n",
       "<svg width=\"549pt\" height=\"98pt\"\n",
       " viewBox=\"0.00 0.00 548.98 98.00\" xmlns=\"http://www.w3.org/2000/svg\" xmlns:xlink=\"http://www.w3.org/1999/xlink\">\n",
       "<g id=\"graph0\" class=\"graph\" transform=\"scale(1 1) rotate(0) translate(4 94)\">\n",
       "<title>%3</title>\n",
       "<polygon fill=\"white\" stroke=\"none\" points=\"-4,4 -4,-94 544.982,-94 544.982,4 -4,4\"/>\n",
       "<g id=\"clust1\" class=\"cluster\"><title>clusterd</title>\n",
       "<polygon fill=\"none\" stroke=\"black\" points=\"8,-8 8,-82 532.982,-82 532.982,-8 8,-8\"/>\n",
       "<text text-anchor=\"middle\" x=\"270.491\" y=\"-66.8\" font-family=\"Times,serif\" font-size=\"14.00\">Big Data</text>\n",
       "</g>\n",
       "<!-- Volume -->\n",
       "<g id=\"node1\" class=\"node\"><title>Volume</title>\n",
       "<ellipse fill=\"none\" stroke=\"black\" cx=\"53.4577\" cy=\"-34\" rx=\"37.4154\" ry=\"18\"/>\n",
       "<text text-anchor=\"middle\" x=\"53.4577\" y=\"-29.8\" font-family=\"Times,serif\" font-size=\"14.00\">Volume</text>\n",
       "</g>\n",
       "<!-- Velocity -->\n",
       "<g id=\"node2\" class=\"node\"><title>Velocity</title>\n",
       "<ellipse fill=\"none\" stroke=\"black\" cx=\"166.493\" cy=\"-34\" rx=\"39.6558\" ry=\"18\"/>\n",
       "<text text-anchor=\"middle\" x=\"166.493\" y=\"-29.8\" font-family=\"Times,serif\" font-size=\"14.00\">Velocity</text>\n",
       "</g>\n",
       "<!-- Volume&#45;&gt;Velocity -->\n",
       "<g id=\"edge1\" class=\"edge\"><title>Volume&#45;&gt;Velocity</title>\n",
       "<path fill=\"none\" stroke=\"black\" d=\"M91.1226,-34C99.2061,-34 107.895,-34 116.381,-34\"/>\n",
       "<polygon fill=\"black\" stroke=\"black\" points=\"116.578,-37.5001 126.578,-34 116.578,-30.5001 116.578,-37.5001\"/>\n",
       "</g>\n",
       "<!-- Variety -->\n",
       "<g id=\"node3\" class=\"node\"><title>Variety</title>\n",
       "<ellipse fill=\"none\" stroke=\"black\" cx=\"277.715\" cy=\"-34\" rx=\"35.7887\" ry=\"18\"/>\n",
       "<text text-anchor=\"middle\" x=\"277.715\" y=\"-29.8\" font-family=\"Times,serif\" font-size=\"14.00\">Variety</text>\n",
       "</g>\n",
       "<!-- Velocity&#45;&gt;Variety -->\n",
       "<g id=\"edge2\" class=\"edge\"><title>Velocity&#45;&gt;Variety</title>\n",
       "<path fill=\"none\" stroke=\"black\" d=\"M206.308,-34C214.591,-34 223.403,-34 231.89,-34\"/>\n",
       "<polygon fill=\"black\" stroke=\"black\" points=\"232.023,-37.5001 242.023,-34 232.023,-30.5001 232.023,-37.5001\"/>\n",
       "</g>\n",
       "<!-- Veracity -->\n",
       "<g id=\"node4\" class=\"node\"><title>Veracity</title>\n",
       "<ellipse fill=\"none\" stroke=\"black\" cx=\"388.928\" cy=\"-34\" rx=\"39.6385\" ry=\"18\"/>\n",
       "<text text-anchor=\"middle\" x=\"388.928\" y=\"-29.8\" font-family=\"Times,serif\" font-size=\"14.00\">Veracity</text>\n",
       "</g>\n",
       "<!-- Variety&#45;&gt;Veracity -->\n",
       "<g id=\"edge3\" class=\"edge\"><title>Variety&#45;&gt;Veracity</title>\n",
       "<path fill=\"none\" stroke=\"black\" d=\"M313.571,-34C321.737,-34 330.584,-34 339.231,-34\"/>\n",
       "<polygon fill=\"black\" stroke=\"black\" points=\"339.238,-37.5001 349.238,-34 339.238,-30.5001 339.238,-37.5001\"/>\n",
       "</g>\n",
       "<!-- Value -->\n",
       "<g id=\"node5\" class=\"node\"><title>Value</title>\n",
       "<ellipse fill=\"none\" stroke=\"black\" cx=\"494.74\" cy=\"-34\" rx=\"30.4862\" ry=\"18\"/>\n",
       "<text text-anchor=\"middle\" x=\"494.74\" y=\"-29.8\" font-family=\"Times,serif\" font-size=\"14.00\">Value</text>\n",
       "</g>\n",
       "<!-- Veracity&#45;&gt;Value -->\n",
       "<g id=\"edge4\" class=\"edge\"><title>Veracity&#45;&gt;Value</title>\n",
       "<path fill=\"none\" stroke=\"black\" d=\"M428.584,-34C437.026,-34 445.97,-34 454.437,-34\"/>\n",
       "<polygon fill=\"black\" stroke=\"black\" points=\"454.464,-37.5001 464.464,-34 454.464,-30.5001 454.464,-37.5001\"/>\n",
       "</g>\n",
       "</g>\n",
       "</svg>\n"
      ],
      "text/plain": [
       "<graphviz.files.Source at 0x115a219e8>"
      ]
     },
     "metadata": {},
     "output_type": "display_data"
    }
   ],
   "source": [
    "{{Ⅎill}}\n",
    "\n",
    "# {{topics[8]}}\n",
    "    \n",
    "    digraph{rankdir=\"LR\"; subgraph clusterd{label=\"Big Data\"; Volume->Velocity->Variety->Veracity->Value}}"
   ]
  },
  {
   "cell_type": "code",
   "execution_count": 6,
   "metadata": {},
   "outputs": [
    {
     "data": {
      "text/markdown": [
       "    digraph{rankdir=\"LR\";subgraph clusters{label=\"Big Science\"; Resources->Speed->Constraints->Truth->Energy}}"
      ],
      "text/plain": [
       "<IPython.core.display.Markdown object>"
      ]
     },
     "metadata": {},
     "output_type": "display_data"
    },
    {
     "data": {
      "image/svg+xml": [
       "<?xml version=\"1.0\" encoding=\"UTF-8\" standalone=\"no\"?>\n",
       "<!DOCTYPE svg PUBLIC \"-//W3C//DTD SVG 1.1//EN\"\n",
       " \"http://www.w3.org/Graphics/SVG/1.1/DTD/svg11.dtd\">\n",
       "<!-- Generated by graphviz version 2.38.0 (20140413.2041)\n",
       " -->\n",
       "<!-- Title: %3 Pages: 1 -->\n",
       "<svg width=\"571pt\" height=\"98pt\"\n",
       " viewBox=\"0.00 0.00 571.00 98.00\" xmlns=\"http://www.w3.org/2000/svg\" xmlns:xlink=\"http://www.w3.org/1999/xlink\">\n",
       "<g id=\"graph0\" class=\"graph\" transform=\"scale(1 1) rotate(0) translate(4 94)\">\n",
       "<title>%3</title>\n",
       "<polygon fill=\"white\" stroke=\"none\" points=\"-4,4 -4,-94 567.004,-94 567.004,4 -4,4\"/>\n",
       "<g id=\"clust1\" class=\"cluster\"><title>clusters</title>\n",
       "<polygon fill=\"none\" stroke=\"black\" points=\"8,-8 8,-82 555.004,-82 555.004,-8 8,-8\"/>\n",
       "<text text-anchor=\"middle\" x=\"281.502\" y=\"-66.8\" font-family=\"Times,serif\" font-size=\"14.00\">Big Science</text>\n",
       "</g>\n",
       "<!-- Resources -->\n",
       "<g id=\"node1\" class=\"node\"><title>Resources</title>\n",
       "<ellipse fill=\"none\" stroke=\"black\" cx=\"62.4523\" cy=\"-34\" rx=\"46.4046\" ry=\"18\"/>\n",
       "<text text-anchor=\"middle\" x=\"62.4523\" y=\"-29.8\" font-family=\"Times,serif\" font-size=\"14.00\">Resources</text>\n",
       "</g>\n",
       "<!-- Speed -->\n",
       "<g id=\"node2\" class=\"node\"><title>Speed</title>\n",
       "<ellipse fill=\"none\" stroke=\"black\" cx=\"176.623\" cy=\"-34\" rx=\"31.9393\" ry=\"18\"/>\n",
       "<text text-anchor=\"middle\" x=\"176.623\" y=\"-29.8\" font-family=\"Times,serif\" font-size=\"14.00\">Speed</text>\n",
       "</g>\n",
       "<!-- Resources&#45;&gt;Speed -->\n",
       "<g id=\"edge1\" class=\"edge\"><title>Resources&#45;&gt;Speed</title>\n",
       "<path fill=\"none\" stroke=\"black\" d=\"M109.077,-34C117.521,-34 126.293,-34 134.591,-34\"/>\n",
       "<polygon fill=\"black\" stroke=\"black\" points=\"134.787,-37.5001 144.787,-34 134.787,-30.5001 134.787,-37.5001\"/>\n",
       "</g>\n",
       "<!-- Constraints -->\n",
       "<g id=\"node3\" class=\"node\"><title>Constraints</title>\n",
       "<ellipse fill=\"none\" stroke=\"black\" cx=\"294.737\" cy=\"-34\" rx=\"50.2896\" ry=\"18\"/>\n",
       "<text text-anchor=\"middle\" x=\"294.737\" y=\"-29.8\" font-family=\"Times,serif\" font-size=\"14.00\">Constraints</text>\n",
       "</g>\n",
       "<!-- Speed&#45;&gt;Constraints -->\n",
       "<g id=\"edge2\" class=\"edge\"><title>Speed&#45;&gt;Constraints</title>\n",
       "<path fill=\"none\" stroke=\"black\" d=\"M208.435,-34C216.258,-34 224.934,-34 233.672,-34\"/>\n",
       "<polygon fill=\"black\" stroke=\"black\" points=\"233.909,-37.5001 243.909,-34 233.909,-30.5001 233.909,-37.5001\"/>\n",
       "</g>\n",
       "<!-- Truth -->\n",
       "<g id=\"node4\" class=\"node\"><title>Truth</title>\n",
       "<ellipse fill=\"none\" stroke=\"black\" cx=\"410.579\" cy=\"-34\" rx=\"29.3953\" ry=\"18\"/>\n",
       "<text text-anchor=\"middle\" x=\"410.579\" y=\"-29.8\" font-family=\"Times,serif\" font-size=\"14.00\">Truth</text>\n",
       "</g>\n",
       "<!-- Constraints&#45;&gt;Truth -->\n",
       "<g id=\"edge3\" class=\"edge\"><title>Constraints&#45;&gt;Truth</title>\n",
       "<path fill=\"none\" stroke=\"black\" d=\"M345.339,-34C353.933,-34 362.754,-34 371,-34\"/>\n",
       "<polygon fill=\"black\" stroke=\"black\" points=\"371.077,-37.5001 381.077,-34 371.077,-30.5001 371.077,-37.5001\"/>\n",
       "</g>\n",
       "<!-- Energy -->\n",
       "<g id=\"node5\" class=\"node\"><title>Energy</title>\n",
       "<ellipse fill=\"none\" stroke=\"black\" cx=\"511.515\" cy=\"-34\" rx=\"35.4772\" ry=\"18\"/>\n",
       "<text text-anchor=\"middle\" x=\"511.515\" y=\"-29.8\" font-family=\"Times,serif\" font-size=\"14.00\">Energy</text>\n",
       "</g>\n",
       "<!-- Truth&#45;&gt;Energy -->\n",
       "<g id=\"edge4\" class=\"edge\"><title>Truth&#45;&gt;Energy</title>\n",
       "<path fill=\"none\" stroke=\"black\" d=\"M440.196,-34C448.235,-34 457.174,-34 465.909,-34\"/>\n",
       "<polygon fill=\"black\" stroke=\"black\" points=\"466.004,-37.5001 476.004,-34 466.003,-30.5001 466.004,-37.5001\"/>\n",
       "</g>\n",
       "</g>\n",
       "</svg>\n"
      ],
      "text/plain": [
       "<graphviz.files.Source at 0x112f2ac50>"
      ]
     },
     "metadata": {},
     "output_type": "display_data"
    }
   ],
   "source": [
    "    digraph{rankdir=\"LR\";subgraph clusters{label=\"Big Science\"; Resources->Speed->Constraints->Truth->Energy}}"
   ]
  },
  {
   "cell_type": "code",
   "execution_count": 7,
   "metadata": {},
   "outputs": [
    {
     "data": {
      "text/markdown": [
       "---\n",
       "---\n",
       "---\n",
       "---\n",
       "---\n",
       "---\n",
       "---\n",
       "---\n",
       "---\n",
       "---\n",
       "---\n",
       "---\n",
       "---\n",
       "---\n",
       "---\n",
       "---\n",
       "---\n",
       "---\n",
       "---\n",
       "---\n",
       "\n",
       "\n",
       "\n",
       "## Jupyter for Publishing\n",
       "\n",
       "* [JOSS](https://joss.theoj.org)\n",
       "* [Zenodo](http://about.zenodo.org/)\n",
       "* [Figshare](https://figshare.com/)\n",
       "* [data.world](https://data.world/)"
      ],
      "text/plain": [
       "<IPython.core.display.Markdown object>"
      ]
     },
     "metadata": {},
     "output_type": "display_data"
    }
   ],
   "source": [
    "{{Ⅎill}}\n",
    "\n",
    "\n",
    "## Jupyter for Publishing\n",
    "\n",
    "* [JOSS](https://joss.theoj.org)\n",
    "* [Zenodo](http://about.zenodo.org/)\n",
    "* [Figshare](https://figshare.com/)\n",
    "* [data.world](https://data.world/)"
   ]
  },
  {
   "cell_type": "code",
   "execution_count": 8,
   "metadata": {},
   "outputs": [
    {
     "data": {
      "text/markdown": [
       "---\n",
       "---\n",
       "---\n",
       "---\n",
       "---\n",
       "---\n",
       "---\n",
       "---\n",
       "---\n",
       "---\n",
       "---\n",
       "---\n",
       "---\n",
       "---\n",
       "---\n",
       "---\n",
       "---\n",
       "---\n",
       "---\n",
       "---\n",
       "\n",
       "    \n",
       "## Jupyter for Teaching"
      ],
      "text/plain": [
       "<IPython.core.display.Markdown object>"
      ]
     },
     "metadata": {},
     "output_type": "display_data"
    }
   ],
   "source": [
    "{{Ⅎill}}\n",
    "    \n",
    "## Jupyter for Teaching"
   ]
  },
  {
   "cell_type": "code",
   "execution_count": 9,
   "metadata": {},
   "outputs": [
    {
     "data": {
      "text/markdown": [
       "# At Georgia Tech\n",
       "\n",
       "* https://github.com/jacobeisenstein/gt-nlp-class\n",
       "* https://github.com/rvuduc"
      ],
      "text/plain": [
       "<IPython.core.display.Markdown object>"
      ]
     },
     "metadata": {},
     "output_type": "display_data"
    }
   ],
   "source": [
    "# At Georgia Tech\n",
    "\n",
    "* https://github.com/jacobeisenstein/gt-nlp-class\n",
    "* https://github.com/rvuduc"
   ]
  },
  {
   "cell_type": "code",
   "execution_count": 10,
   "metadata": {},
   "outputs": [
    {
     "data": {
      "text/markdown": [
       "    http://lorenabarba.com/tag/open-edx/"
      ],
      "text/plain": [
       "<IPython.core.display.Markdown object>"
      ]
     },
     "metadata": {},
     "output_type": "display_data"
    },
    {
     "data": {
      "text/html": [
       "\n",
       "        <iframe\n",
       "            width=\"800\"\n",
       "            height=\"600\"\n",
       "            src=\"http://lorenabarba.com/tag/open-edx/\"\n",
       "            frameborder=\"0\"\n",
       "            allowfullscreen\n",
       "        ></iframe>\n",
       "        "
      ],
      "text/plain": [
       "<IPython.lib.display.IFrame at 0x115a21b00>"
      ]
     },
     "metadata": {},
     "output_type": "display_data"
    }
   ],
   "source": [
    "    http://lorenabarba.com/tag/open-edx/"
   ]
  },
  {
   "cell_type": "code",
   "execution_count": 11,
   "metadata": {},
   "outputs": [
    {
     "data": {
      "text/markdown": [
       "# [nbgrader](teaching.nbgrader['embed'])\n",
       "\n",
       "    https://nbgrader.readthedocs.io/en/stable/user_guide/highlights.html"
      ],
      "text/plain": [
       "<IPython.core.display.Markdown object>"
      ]
     },
     "metadata": {},
     "output_type": "display_data"
    },
    {
     "data": {
      "text/html": [
       "\n",
       "        <iframe\n",
       "            width=\"800\"\n",
       "            height=\"600\"\n",
       "            src=\"https://nbgrader.readthedocs.io/en/stable/user_guide/highlights.html\"\n",
       "            frameborder=\"0\"\n",
       "            allowfullscreen\n",
       "        ></iframe>\n",
       "        "
      ],
      "text/plain": [
       "<IPython.lib.display.IFrame at 0x1136f58d0>"
      ]
     },
     "metadata": {},
     "output_type": "display_data"
    }
   ],
   "source": [
    "# [nbgrader](teaching.nbgrader['embed'])\n",
    "\n",
    "    {{teaching.nbgrader['embed']}}"
   ]
  },
  {
   "cell_type": "code",
   "execution_count": 12,
   "metadata": {},
   "outputs": [
    {
     "data": {
      "text/markdown": [
       "    http://data8.org/\n",
       "    \n",
       "# [The (B)erkley (I)nstitute for (D)ata (S)cience](teaching.bids['info'] \"BIDS\")"
      ],
      "text/plain": [
       "<IPython.core.display.Markdown object>"
      ]
     },
     "metadata": {},
     "output_type": "display_data"
    },
    {
     "data": {
      "text/html": [
       "\n",
       "        <iframe\n",
       "            width=\"800\"\n",
       "            height=\"600\"\n",
       "            src=\"http://data8.org/\"\n",
       "            frameborder=\"0\"\n",
       "            allowfullscreen\n",
       "        ></iframe>\n",
       "        "
      ],
      "text/plain": [
       "<IPython.lib.display.IFrame at 0x1136fa128>"
      ]
     },
     "metadata": {},
     "output_type": "display_data"
    }
   ],
   "source": [
    "    {{teaching.bids['class']}}\n",
    "    \n",
    "# [The (B)erkley (I)nstitute for (D)ata (S)cience](teaching.bids['info'] \"BIDS\")"
   ]
  },
  {
   "cell_type": "code",
   "execution_count": 13,
   "metadata": {},
   "outputs": [
    {
     "data": {
      "text/markdown": [
       "<blockquote class=\"twitter-tweet\" data-lang=\"en\"><p lang=\"en\" dir=\"ltr\">5000+ total users, 600+ active at 8PM PST on <a href=\"https://twitter.com/BerkeleyDataSci?ref_src=twsrc%5Etfw\">@BerkeleyDataSci</a> JupyterHub :) I wonder if this is the largest single JupyterHub running? <a href=\"https://twitter.com/ProjectJupyter?ref_src=twsrc%5Etfw\">@ProjectJupyter</a> <a href=\"https://t.co/haH3aFPJ87\">pic.twitter.com/haH3aFPJ87</a></p>&mdash; Yuvi Panda (@yuvipanda) <a href=\"https://twitter.com/yuvipanda/status/956381252428288000?ref_src=twsrc%5Etfw\">January 25, 2018</a></blockquote>\n",
       "<script async src=\"https://platform.twitter.com/widgets.js\" charset=\"utf-8\"></script>"
      ],
      "text/plain": [
       "<IPython.core.display.Markdown object>"
      ]
     },
     "metadata": {},
     "output_type": "display_data"
    }
   ],
   "source": [
    "<blockquote class=\"twitter-tweet\" data-lang=\"en\"><p lang=\"en\" dir=\"ltr\">5000+ total users, 600+ active at 8PM PST on <a href=\"https://twitter.com/BerkeleyDataSci?ref_src=twsrc%5Etfw\">@BerkeleyDataSci</a> JupyterHub :) I wonder if this is the largest single JupyterHub running? <a href=\"https://twitter.com/ProjectJupyter?ref_src=twsrc%5Etfw\">@ProjectJupyter</a> <a href=\"https://t.co/haH3aFPJ87\">pic.twitter.com/haH3aFPJ87</a></p>&mdash; Yuvi Panda (@yuvipanda) <a href=\"https://twitter.com/yuvipanda/status/956381252428288000?ref_src=twsrc%5Etfw\">January 25, 2018</a></blockquote>\n",
    "<script async src=\"https://platform.twitter.com/widgets.js\" charset=\"utf-8\"></script>\n"
   ]
  },
  {
   "cell_type": "code",
   "execution_count": 14,
   "metadata": {},
   "outputs": [
    {
     "data": {
      "text/markdown": [
       "---\n",
       "---\n",
       "---\n",
       "---\n",
       "---\n",
       "---\n",
       "---\n",
       "---\n",
       "---\n",
       "---\n",
       "---\n",
       "---\n",
       "---\n",
       "---\n",
       "---\n",
       "---\n",
       "---\n",
       "---\n",
       "---\n",
       "---\n",
       "\n",
       "\n",
       "## Jupyter for profit\n",
       "\n",
       "* [General Assembly](https://generalassemb.ly/)\n",
       "    * https://github.com/justmarkham/DAT8\n",
       "    * https://github.com/generalassembly-studio/data-science-101-cwe-materials\n",
       "* [Code Academy](https://www.codecademy.com/)\n",
       "* [Data Camp](https://www.datacamp.com/)\n",
       "    * [Podcast](https://www.datacamp.com/community/podcast)"
      ],
      "text/plain": [
       "<IPython.core.display.Markdown object>"
      ]
     },
     "metadata": {},
     "output_type": "display_data"
    }
   ],
   "source": [
    "{{Ⅎill}}\n",
    "\n",
    "## Jupyter for profit\n",
    "\n",
    "* [General Assembly](https://generalassemb.ly/)\n",
    "    * https://github.com/justmarkham/DAT8\n",
    "    * https://github.com/generalassembly-studio/data-science-101-cwe-materials\n",
    "* [Code Academy](https://www.codecademy.com/)\n",
    "* [Data Camp](https://www.datacamp.com/)\n",
    "    * [Podcast](https://www.datacamp.com/community/podcast)"
   ]
  },
  {
   "cell_type": "code",
   "execution_count": 15,
   "metadata": {},
   "outputs": [
    {
     "data": {
      "text/markdown": [
       "---\n",
       "---\n",
       "---\n",
       "---\n",
       "---\n",
       "---\n",
       "---\n",
       "---\n",
       "---\n",
       "---\n",
       "---\n",
       "---\n",
       "---\n",
       "---\n",
       "---\n",
       "---\n",
       "---\n",
       "---\n",
       "---\n",
       "---\n",
       "\n",
       "\n",
       "\n",
       "## Jupyter for Books"
      ],
      "text/plain": [
       "<IPython.core.display.Markdown object>"
      ]
     },
     "metadata": {},
     "output_type": "display_data"
    }
   ],
   "source": [
    "{{Ⅎill}}\n",
    "\n",
    "\n",
    "## Jupyter for Books"
   ]
  },
  {
   "cell_type": "code",
   "execution_count": 37,
   "metadata": {},
   "outputs": [
    {
     "data": {
      "text/markdown": [
       "# [Sebastian Raschka](https://github.com/rasbt)"
      ],
      "text/plain": [
       "<IPython.core.display.Markdown object>"
      ]
     },
     "metadata": {},
     "output_type": "display_data"
    }
   ],
   "source": [
    "# {{people.rasbt}}"
   ]
  },
  {
   "cell_type": "code",
   "execution_count": 17,
   "metadata": {},
   "outputs": [
    {
     "data": {
      "text/markdown": [
       "# [Python Machine Learning (2nd edition)](https://github.com/rasbt/python-machine-learning-book-2nd-edition)\n",
       "\n",
       "[![](https://github.com/rasbt/python-machine-learning-book-2nd-edition/raw/master/images/cover_1.jpg)](https://github.com/rasbt/python-machine-learning-book-2nd-edition)"
      ],
      "text/plain": [
       "<IPython.core.display.Markdown object>"
      ]
     },
     "metadata": {},
     "output_type": "display_data"
    }
   ],
   "source": [
    "# [Python Machine Learning (2nd edition)](https://github.com/rasbt/python-machine-learning-book-2nd-edition)\n",
    "\n",
    "[![](https://github.com/rasbt/python-machine-learning-book-2nd-edition/raw/master/images/cover_1.jpg)](https://github.com/rasbt/python-machine-learning-book-2nd-edition)"
   ]
  },
  {
   "cell_type": "code",
   "execution_count": 18,
   "metadata": {},
   "outputs": [
    {
     "data": {
      "text/markdown": [
       "# [Introduction to Artificial Neural Networks and Deep Learning: A Practical Guide with Applications in Python](https://github.com/rasbt/deep-learning-book)\n",
       "\n",
       "[![](https://github.com/rasbt/deep-learning-book/raw/master/images/ann-and-deeplearning-cover.jpg)](https://github.com/rasbt/deep-learning-book)"
      ],
      "text/plain": [
       "<IPython.core.display.Markdown object>"
      ]
     },
     "metadata": {},
     "output_type": "display_data"
    }
   ],
   "source": [
    "# [Introduction to Artificial Neural Networks and Deep Learning: A Practical Guide with Applications in Python](https://github.com/rasbt/deep-learning-book)\n",
    "\n",
    "[![](https://github.com/rasbt/deep-learning-book/raw/master/images/ann-and-deeplearning-cover.jpg)](https://github.com/rasbt/deep-learning-book)"
   ]
  },
  {
   "cell_type": "code",
   "execution_count": 36,
   "metadata": {},
   "outputs": [
    {
     "data": {
      "text/markdown": [
       "# [Jake VanderPlas](https://github.com/jakevdp)"
      ],
      "text/plain": [
       "<IPython.core.display.Markdown object>"
      ]
     },
     "metadata": {},
     "output_type": "display_data"
    }
   ],
   "source": [
    "# {{people.jakevdp}}"
   ]
  },
  {
   "cell_type": "code",
   "execution_count": 20,
   "metadata": {},
   "outputs": [
    {
     "data": {
      "text/markdown": [
       "## [Python Data Science Handbook](https://github.com/jakevdp/PythonDataScienceHandbook)\n",
       "\n",
       "> - [Jake VanderPlas](http://jakevdp.github.io/)\n",
       "\n",
       "[![Binder](https://mybinder.org/badge.svg)](https://mybinder.org/v2/gh/jakevdp/PythonDataScienceHandbook/master?filepath=notebooks%2FIndex.ipynb)\n",
       "\n",
       "[![](https://github.com/jakevdp/PythonDataScienceHandbook/blob/master/notebooks/figures/PDSH-cover.png?raw=true)](https://github.com/jakevdp/PythonDataScienceHandbook)"
      ],
      "text/plain": [
       "<IPython.core.display.Markdown object>"
      ]
     },
     "metadata": {},
     "output_type": "display_data"
    }
   ],
   "source": [
    "## [Python Data Science Handbook]({{publishing.jakevdp['Python Data Science Handbook']}})\n",
    "\n",
    "> - [Jake VanderPlas](http://jakevdp.github.io/)\n",
    "\n",
    "[![Binder](https://mybinder.org/badge.svg)](https://mybinder.org/v2/gh/jakevdp/PythonDataScienceHandbook/master?filepath=notebooks%2FIndex.ipynb)\n",
    "\n",
    "[![](https://github.com/jakevdp/PythonDataScienceHandbook/blob/master/notebooks/figures/PDSH-cover.png?raw=true)]({{publishing.jakevdp['Python Data Science Handbook']}})"
   ]
  },
  {
   "cell_type": "code",
   "execution_count": 21,
   "metadata": {},
   "outputs": [
    {
     "data": {
      "text/markdown": [
       "# Immersive on demand notebooks with [O'Reilly Oriole](https://www.safaribooksonline.com/oriole/)"
      ],
      "text/plain": [
       "<IPython.core.display.Markdown object>"
      ]
     },
     "metadata": {},
     "output_type": "display_data"
    }
   ],
   "source": [
    "# Immersive on demand notebooks with [O'Reilly Oriole](https://www.safaribooksonline.com/oriole/)"
   ]
  },
  {
   "cell_type": "code",
   "execution_count": 22,
   "metadata": {},
   "outputs": [
    {
     "data": {
      "text/markdown": [
       "---\n",
       "---\n",
       "---\n",
       "---\n",
       "---\n",
       "---\n",
       "---\n",
       "---\n",
       "---\n",
       "---\n",
       "---\n",
       "---\n",
       "---\n",
       "---\n",
       "---\n",
       "---\n",
       "---\n",
       "---\n",
       "---\n",
       "---\n",
       "\n",
       "\n",
       "#  Jupyter is for collaboration"
      ],
      "text/plain": [
       "<IPython.core.display.Markdown object>"
      ]
     },
     "metadata": {},
     "output_type": "display_data"
    }
   ],
   "source": [
    "{{Ⅎill}}\n",
    "\n",
    "# {{topics[9]}}"
   ]
  },
  {
   "cell_type": "code",
   "execution_count": 23,
   "metadata": {},
   "outputs": [],
   "source": [
    "    {{ligo_tutorial}}\n",
    "    \n",
    "    \n",
    "##  LIGO Open Science Center\n",
    "\n",
    "![](http://gifmuse.io/gifs/29.gif)\n",
    "\n",
    "    "
   ]
  },
  {
   "cell_type": "code",
   "execution_count": 24,
   "metadata": {},
   "outputs": [
    {
     "data": {
      "text/markdown": [
       "    https://mybinder.org"
      ],
      "text/plain": [
       "<IPython.core.display.Markdown object>"
      ]
     },
     "metadata": {},
     "output_type": "display_data"
    },
    {
     "data": {
      "text/html": [
       "\n",
       "        <iframe\n",
       "            width=\"800\"\n",
       "            height=\"600\"\n",
       "            src=\"https://mybinder.org\"\n",
       "            frameborder=\"0\"\n",
       "            allowfullscreen\n",
       "        ></iframe>\n",
       "        "
      ],
      "text/plain": [
       "<IPython.lib.display.IFrame at 0x1136fa710>"
      ]
     },
     "metadata": {},
     "output_type": "display_data"
    }
   ],
   "source": [
    "    https://mybinder.org"
   ]
  },
  {
   "cell_type": "code",
   "execution_count": 25,
   "metadata": {},
   "outputs": [
    {
     "data": {
      "text/markdown": [
       "    http://jupyterhub.readthedocs.io/en/latest/"
      ],
      "text/plain": [
       "<IPython.core.display.Markdown object>"
      ]
     },
     "metadata": {},
     "output_type": "display_data"
    },
    {
     "data": {
      "text/html": [
       "\n",
       "        <iframe\n",
       "            width=\"800\"\n",
       "            height=\"600\"\n",
       "            src=\"http://jupyterhub.readthedocs.io/en/latest/\"\n",
       "            frameborder=\"0\"\n",
       "            allowfullscreen\n",
       "        ></iframe>\n",
       "        "
      ],
      "text/plain": [
       "<IPython.lib.display.IFrame at 0x112ad0048>"
      ]
     },
     "metadata": {},
     "output_type": "display_data"
    }
   ],
   "source": [
    "    http://jupyterhub.readthedocs.io/en/latest/"
   ]
  },
  {
   "cell_type": "code",
   "execution_count": 26,
   "metadata": {},
   "outputs": [
    {
     "data": {
      "text/markdown": [
       "    http://zero-to-jupyterhub.readthedocs.io/"
      ],
      "text/plain": [
       "<IPython.core.display.Markdown object>"
      ]
     },
     "metadata": {},
     "output_type": "display_data"
    },
    {
     "data": {
      "text/html": [
       "\n",
       "        <iframe\n",
       "            width=\"800\"\n",
       "            height=\"600\"\n",
       "            src=\"http://zero-to-jupyterhub.readthedocs.io/\"\n",
       "            frameborder=\"0\"\n",
       "            allowfullscreen\n",
       "        ></iframe>\n",
       "        "
      ],
      "text/plain": [
       "<IPython.lib.display.IFrame at 0x112e63048>"
      ]
     },
     "metadata": {},
     "output_type": "display_data"
    }
   ],
   "source": [
    "    http://zero-to-jupyterhub.readthedocs.io/"
   ]
  },
  {
   "cell_type": "code",
   "execution_count": 27,
   "metadata": {},
   "outputs": [
    {
     "data": {
      "text/markdown": [
       "[![](https://image.slidesharecdn.com/xheoqqbxtmamye2b89mg-signature-731889c72db69bc48f85977bf7789e6df9364d72c925f394d7a8c3bf8ee66c88-poli-160813102507/95/jupyterhub-a-thing-explainer-overview-7-638.jpg?cb=1471084843)](https://www.slideshare.net/willingc/jupyterhub-a-thing-explainer-overview)"
      ],
      "text/plain": [
       "<IPython.core.display.Markdown object>"
      ]
     },
     "metadata": {},
     "output_type": "display_data"
    }
   ],
   "source": [
    "[![](https://image.slidesharecdn.com/xheoqqbxtmamye2b89mg-signature-731889c72db69bc48f85977bf7789e6df9364d72c925f394d7a8c3bf8ee66c88-poli-160813102507/95/jupyterhub-a-thing-explainer-overview-7-638.jpg?cb=1471084843)](https://www.slideshare.net/willingc/jupyterhub-a-thing-explainer-overview)"
   ]
  },
  {
   "cell_type": "code",
   "execution_count": 28,
   "metadata": {},
   "outputs": [
    {
     "data": {
      "text/markdown": [
       "    https://www.chanzuckerberg.com/wp-content/uploads/2017/03/RFA-Computational-Tools.pdf"
      ],
      "text/plain": [
       "<IPython.core.display.Markdown object>"
      ]
     },
     "metadata": {},
     "output_type": "display_data"
    },
    {
     "data": {
      "text/html": [
       "\n",
       "        <iframe\n",
       "            width=\"800\"\n",
       "            height=\"600\"\n",
       "            src=\"https://www.chanzuckerberg.com/wp-content/uploads/2017/03/RFA-Computational-Tools.pdf\"\n",
       "            frameborder=\"0\"\n",
       "            allowfullscreen\n",
       "        ></iframe>\n",
       "        "
      ],
      "text/plain": [
       "<IPython.lib.display.IFrame at 0x1116a2da0>"
      ]
     },
     "metadata": {},
     "output_type": "display_data"
    }
   ],
   "source": [
    "    https://www.chanzuckerberg.com/wp-content/uploads/2017/03/RFA-Computational-Tools.pdf"
   ]
  },
  {
   "cell_type": "code",
   "execution_count": 29,
   "metadata": {},
   "outputs": [
    {
     "data": {
      "text/markdown": [
       "---\n",
       "---\n",
       "---\n",
       "---\n",
       "---\n",
       "---\n",
       "---\n",
       "---\n",
       "---\n",
       "---\n",
       "---\n",
       "---\n",
       "---\n",
       "---\n",
       "---\n",
       "---\n",
       "---\n",
       "---\n",
       "---\n",
       "---\n",
       "\n",
       "\n",
       "#  Jupyter is reusable\n",
       "\n",
       "    digraph {rankdir=\"LR\"; readable -> reusable -> reproducible -> readable}\n",
       "    \n",
       "Jupyter provides valuable components for the many facets of literate computing.  Modern scientists must focus on narrative over tools.  Below are some style guides to consider while consuming, creating, and sharing literate documents."
      ],
      "text/plain": [
       "<IPython.core.display.Markdown object>"
      ]
     },
     "metadata": {},
     "output_type": "display_data"
    },
    {
     "data": {
      "image/svg+xml": [
       "<?xml version=\"1.0\" encoding=\"UTF-8\" standalone=\"no\"?>\n",
       "<!DOCTYPE svg PUBLIC \"-//W3C//DTD SVG 1.1//EN\"\n",
       " \"http://www.w3.org/Graphics/SVG/1.1/DTD/svg11.dtd\">\n",
       "<!-- Generated by graphviz version 2.38.0 (20140413.2041)\n",
       " -->\n",
       "<!-- Title: %3 Pages: 1 -->\n",
       "<svg width=\"349pt\" height=\"67pt\"\n",
       " viewBox=\"0.00 0.00 348.83 67.00\" xmlns=\"http://www.w3.org/2000/svg\" xmlns:xlink=\"http://www.w3.org/1999/xlink\">\n",
       "<g id=\"graph0\" class=\"graph\" transform=\"scale(1 1) rotate(0) translate(4 63)\">\n",
       "<title>%3</title>\n",
       "<polygon fill=\"white\" stroke=\"none\" points=\"-4,4 -4,-63 344.834,-63 344.834,4 -4,4\"/>\n",
       "<!-- readable -->\n",
       "<g id=\"node1\" class=\"node\"><title>readable</title>\n",
       "<ellipse fill=\"none\" stroke=\"black\" cx=\"40.0528\" cy=\"-18\" rx=\"40.1057\" ry=\"18\"/>\n",
       "<text text-anchor=\"middle\" x=\"40.0528\" y=\"-13.8\" font-family=\"Times,serif\" font-size=\"14.00\">readable</text>\n",
       "</g>\n",
       "<!-- reusable -->\n",
       "<g id=\"node2\" class=\"node\"><title>reusable</title>\n",
       "<ellipse fill=\"none\" stroke=\"black\" cx=\"155.675\" cy=\"-41\" rx=\"39.6385\" ry=\"18\"/>\n",
       "<text text-anchor=\"middle\" x=\"155.675\" y=\"-36.8\" font-family=\"Times,serif\" font-size=\"14.00\">reusable</text>\n",
       "</g>\n",
       "<!-- readable&#45;&gt;reusable -->\n",
       "<g id=\"edge1\" class=\"edge\"><title>readable&#45;&gt;reusable</title>\n",
       "<path fill=\"none\" stroke=\"black\" d=\"M77.0036,-25.2773C87.2516,-27.3518 98.5512,-29.6391 109.284,-31.8117\"/>\n",
       "<polygon fill=\"black\" stroke=\"black\" points=\"108.851,-35.2951 119.347,-33.8487 110.24,-28.4342 108.851,-35.2951\"/>\n",
       "</g>\n",
       "<!-- reproducible -->\n",
       "<g id=\"node3\" class=\"node\"><title>reproducible</title>\n",
       "<ellipse fill=\"none\" stroke=\"black\" cx=\"286.039\" cy=\"-18\" rx=\"54.5904\" ry=\"18\"/>\n",
       "<text text-anchor=\"middle\" x=\"286.039\" y=\"-13.8\" font-family=\"Times,serif\" font-size=\"14.00\">reproducible</text>\n",
       "</g>\n",
       "<!-- reusable&#45;&gt;reproducible -->\n",
       "<g id=\"edge2\" class=\"edge\"><title>reusable&#45;&gt;reproducible</title>\n",
       "<path fill=\"none\" stroke=\"black\" d=\"M192.773,-34.532C203.664,-32.5805 215.9,-30.3882 227.812,-28.2538\"/>\n",
       "<polygon fill=\"black\" stroke=\"black\" points=\"228.479,-31.6901 237.705,-26.4812 227.245,-24.7998 228.479,-31.6901\"/>\n",
       "</g>\n",
       "<!-- reproducible&#45;&gt;readable -->\n",
       "<g id=\"edge3\" class=\"edge\"><title>reproducible&#45;&gt;readable</title>\n",
       "<path fill=\"none\" stroke=\"black\" d=\"M231.873,-15.2398C219.832,-14.7237 207.101,-14.264 195.244,-14 160.08,-13.2172 151.266,-13.0637 116.106,-14 107.668,-14.2247 98.7022,-14.5912 90.0142,-15.0136\"/>\n",
       "<polygon fill=\"black\" stroke=\"black\" points=\"89.7976,-11.52 79.9909,-15.5299 90.1578,-18.5107 89.7976,-11.52\"/>\n",
       "</g>\n",
       "</g>\n",
       "</svg>\n"
      ],
      "text/plain": [
       "<graphviz.files.Source at 0x115a21d68>"
      ]
     },
     "metadata": {},
     "output_type": "display_data"
    }
   ],
   "source": [
    "{{Ⅎill}}\n",
    "\n",
    "# {{topics[10]}}\n",
    "\n",
    "    digraph {rankdir=\"LR\"; readable -> reusable -> reproducible -> readable}\n",
    "    \n",
    "Jupyter provides valuable components for the many facets of literate computing.  Modern scientists must focus on narrative over tools.  Below are some style guides to consider while consuming, creating, and sharing literate documents.\n"
   ]
  },
  {
   "cell_type": "code",
   "execution_count": 30,
   "metadata": {},
   "outputs": [
    {
     "data": {
      "text/markdown": [
       "---\n",
       "---\n",
       "---\n",
       "---\n",
       "---\n",
       "---\n",
       "---\n",
       "---\n",
       "---\n",
       "---\n",
       "---\n",
       "---\n",
       "---\n",
       "---\n",
       "---\n",
       "---\n",
       "---\n",
       "---\n",
       "---\n",
       "---\n",
       "\n",
       "\n",
       "    with __import__('IPython').utils.capture.capture_output() as out:\n",
       "       \n",
       "    \n",
       "        reload(__import__('this'))\n",
       "        \n",
       "        \n",
       "    out.show()\n",
       "---"
      ],
      "text/plain": [
       "<IPython.core.display.Markdown object>"
      ]
     },
     "metadata": {},
     "output_type": "display_data"
    },
    {
     "name": "stdout",
     "output_type": "stream",
     "text": [
      "The Zen of Python, by Tim Peters\n",
      "\n",
      "Beautiful is better than ugly.\n",
      "Explicit is better than implicit.\n",
      "Simple is better than complex.\n",
      "Complex is better than complicated.\n",
      "Flat is better than nested.\n",
      "Sparse is better than dense.\n",
      "Readability counts.\n",
      "Special cases aren't special enough to break the rules.\n",
      "Although practicality beats purity.\n",
      "Errors should never pass silently.\n",
      "Unless explicitly silenced.\n",
      "In the face of ambiguity, refuse the temptation to guess.\n",
      "There should be one-- and preferably only one --obvious way to do it.\n",
      "Although that way may not be obvious at first unless you're Dutch.\n",
      "Now is better than never.\n",
      "Although never is often better than *right* now.\n",
      "If the implementation is hard to explain, it's a bad idea.\n",
      "If the implementation is easy to explain, it may be a good idea.\n",
      "Namespaces are one honking great idea -- let's do more of those!\n",
      "The Zen of Python, by Tim Peters\n",
      "\n",
      "Beautiful is better than ugly.\n",
      "Explicit is better than implicit.\n",
      "Simple is better than complex.\n",
      "Complex is better than complicated.\n",
      "Flat is better than nested.\n",
      "Sparse is better than dense.\n",
      "Readability counts.\n",
      "Special cases aren't special enough to break the rules.\n",
      "Although practicality beats purity.\n",
      "Errors should never pass silently.\n",
      "Unless explicitly silenced.\n",
      "In the face of ambiguity, refuse the temptation to guess.\n",
      "There should be one-- and preferably only one --obvious way to do it.\n",
      "Although that way may not be obvious at first unless you're Dutch.\n",
      "Now is better than never.\n",
      "Although never is often better than *right* now.\n",
      "If the implementation is hard to explain, it's a bad idea.\n",
      "If the implementation is easy to explain, it may be a good idea.\n",
      "Namespaces are one honking great idea -- let's do more of those!\n"
     ]
    }
   ],
   "source": [
    "{{Ⅎill}}\n",
    "\n",
    "    with __import__('IPython').utils.capture.capture_output() as out:\n",
    "       \n",
    "    \n",
    "        reload(__import__('this'))\n",
    "        \n",
    "        \n",
    "    out.show()\n",
    "---"
   ]
  },
  {
   "cell_type": "code",
   "execution_count": 31,
   "metadata": {},
   "outputs": [
    {
     "data": {
      "text/markdown": [
       "# [Best of the Best Python Practices](https://gist.github.com/sloria/7001839)\n",
       "# [Mailchimp Styleguide](http://styleguide.mailchimp.com/)\n",
       "# [Because “imagine everyone's naked” is terrible advice](https://speaking.io/)\n",
       "# [Can you describe your research in a README](https://github.com/noffle/art-of-readme)?"
      ],
      "text/plain": [
       "<IPython.core.display.Markdown object>"
      ]
     },
     "metadata": {},
     "output_type": "display_data"
    }
   ],
   "source": [
    "# [Best of the Best Python Practices](https://gist.github.com/sloria/7001839)\n",
    "# [Mailchimp Styleguide](http://styleguide.mailchimp.com/)\n",
    "# [Because “imagine everyone's naked” is terrible advice](https://speaking.io/)\n",
    "# [Can you describe your research in a README](https://github.com/noffle/art-of-readme)?"
   ]
  },
  {
   "cell_type": "code",
   "execution_count": 32,
   "metadata": {},
   "outputs": [
    {
     "data": {
      "text/markdown": [
       "    http://nbviewer.jupyter.org/github/jupyterday-atlanta-2016/oriole_jupyterday_atl/blob/master/oriole_talk.ipynb"
      ],
      "text/plain": [
       "<IPython.core.display.Markdown object>"
      ]
     },
     "metadata": {},
     "output_type": "display_data"
    },
    {
     "data": {
      "text/html": [
       "\n",
       "        <iframe\n",
       "            width=\"800\"\n",
       "            height=\"600\"\n",
       "            src=\"http://nbviewer.jupyter.org/github/jupyterday-atlanta-2016/oriole_jupyterday_atl/blob/master/oriole_talk.ipynb\"\n",
       "            frameborder=\"0\"\n",
       "            allowfullscreen\n",
       "        ></iframe>\n",
       "        "
      ],
      "text/plain": [
       "<IPython.lib.display.IFrame at 0x1136fab70>"
      ]
     },
     "metadata": {},
     "output_type": "display_data"
    }
   ],
   "source": [
    "    http://nbviewer.jupyter.org/github/jupyterday-atlanta-2016/oriole_jupyterday_atl/blob/master/oriole_talk.ipynb"
   ]
  },
  {
   "cell_type": "code",
   "execution_count": 33,
   "metadata": {},
   "outputs": [
    {
     "data": {
      "text/markdown": [
       "---\n",
       "---\n",
       "---\n",
       "---\n",
       "---\n",
       "---\n",
       "---\n",
       "---\n",
       "---\n",
       "---\n",
       "---\n",
       "---\n",
       "---\n",
       "---\n",
       "---\n",
       "---\n",
       "---\n",
       "---\n",
       "---\n",
       "---\n",
       "\n",
       "\n",
       "---\n",
       "\n",
       "> 🔌 The notebooks for `ten` use an experimental library [`rites`](https://github.com/deathbeds/rites/tree/master/rites); which provides markdown, templating, and macros to notebook cells.\n",
       "\n",
       "    import ten"
      ],
      "text/plain": [
       "<IPython.core.display.Markdown object>"
      ]
     },
     "metadata": {},
     "output_type": "display_data"
    }
   ],
   "source": [
    "{{Ⅎill}}\n",
    "\n",
    "---\n",
    "\n",
    "> 🔌 The notebooks for `ten` use an experimental library [`rites`](https://github.com/deathbeds/rites/tree/master/rites); which provides markdown, templating, and macros to notebook cells.\n",
    "\n",
    "    import ten"
   ]
  },
  {
   "cell_type": "code",
   "execution_count": 34,
   "metadata": {},
   "outputs": [
    {
     "data": {
      "text/markdown": [
       "# Modern scientists must learn to draw real data with computers.\n",
       "> ... stating the problem definition without drawing something is mere lip-service.\n",
       "> - Prof. George Polya - How to Solve It"
      ],
      "text/plain": [
       "<IPython.core.display.Markdown object>"
      ]
     },
     "metadata": {},
     "output_type": "display_data"
    }
   ],
   "source": [
    "# Modern scientists must learn to draw real data with computers.\n",
    "> ... stating the problem definition without drawing something is mere lip-service.\n",
    "> - Prof. George Polya - How to Solve It\n",
    "\n"
   ]
  },
  {
   "cell_type": "code",
   "execution_count": 35,
   "metadata": {},
   "outputs": [
    {
     "data": {
      "text/markdown": [
       "* Jupyter is scientific software    \n",
       "* Jupyter is language agnostic\n",
       "* Jupyter is an ecosystem\n",
       "* Jupyter is a community\n",
       "* Jupyter is data \n",
       "* Jupyter is literate computing\n",
       "* Jupyter is for documents\n",
       "* Jupyter is for sharing data\n",
       "* Jupyter is for collaboration\n",
       "* Jupyter is reusable\n",
       "\n",
       "# Thank you ✌️\n",
       "\n",
       "# For more Jupyter\n",
       "\n",
       "## [Jupyter Day Atlanta](jupyter-day-atlanta.eventbrite.com)\n",
       "## [Atlanta Jupyter User Group](https://www.meetup.com/Atlanta-Jupyter-User-Group/)\n",
       "## [JupyterCon](https://conferences.oreilly.com/jupyter/jup-ny)"
      ],
      "text/plain": [
       "<IPython.core.display.Markdown object>"
      ]
     },
     "metadata": {},
     "output_type": "display_data"
    }
   ],
   "source": [
    "{{bullets(1,11)}}\n",
    "\n",
    "# Thank you ✌️\n",
    "\n",
    "# For more Jupyter\n",
    "\n",
    "## [Jupyter Day Atlanta](jupyter-day-atlanta.eventbrite.com)\n",
    "## [Atlanta Jupyter User Group](https://www.meetup.com/Atlanta-Jupyter-User-Group/)\n",
    "## [JupyterCon](https://conferences.oreilly.com/jupyter/jup-ny)"
   ]
  },
  {
   "cell_type": "code",
   "execution_count": null,
   "metadata": {},
   "outputs": [],
   "source": []
  }
 ],
 "metadata": {
  "kernelspec": {
   "display_name": "p6",
   "language": "python",
   "name": "other-env"
  },
  "language_info": {
   "codemirror_mode": {
    "name": "ipython",
    "version": 3
   },
   "file_extension": ".py",
   "mimetype": "text/x-python",
   "name": "python",
   "nbconvert_exporter": "python",
   "pygments_lexer": "ipython3",
   "version": "3.6.3"
  },
  "toc": {
   "colors": {
    "hover_highlight": "#DAA520",
    "running_highlight": "#FF0000",
    "selected_highlight": "#FFD700"
   },
   "moveMenuLeft": true,
   "nav_menu": {
    "height": "12px",
    "width": "252px"
   },
   "navigate_menu": true,
   "number_sections": true,
   "sideBar": true,
   "threshold": 4,
   "toc_cell": false,
   "toc_section_display": "block",
   "toc_window_display": false,
   "widenNotebook": false
  },
  "varInspector": {
   "cols": {
    "lenName": 16,
    "lenType": 16,
    "lenVar": 40
   },
   "kernels_config": {
    "python": {
     "delete_cmd_postfix": "",
     "delete_cmd_prefix": "del ",
     "library": "var_list.py",
     "varRefreshCmd": "print(var_dic_list())"
    },
    "r": {
     "delete_cmd_postfix": ") ",
     "delete_cmd_prefix": "rm(",
     "library": "var_list.r",
     "varRefreshCmd": "cat(var_dic_list()) "
    }
   },
   "types_to_exclude": [
    "module",
    "function",
    "builtin_function_or_method",
    "instance",
    "_Feature"
   ],
   "window_display": false
  }
 },
 "nbformat": 4,
 "nbformat_minor": 2
}
