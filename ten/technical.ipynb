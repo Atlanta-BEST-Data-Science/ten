{
 "cells": [
  {
   "cell_type": "markdown",
   "metadata": {},
   "source": [
    "⓶ `technical.ipynb`"
   ]
  },
  {
   "cell_type": "code",
   "execution_count": 1,
   "metadata": {},
   "outputs": [
    {
     "data": {
      "text/html": [
       "<style>\n",
       ".jp-RenderedHTMLCommon pre code {\n",
       "    text-decoration: line-through wavy;\n",
       "}\n",
       ".jp-RenderedHTMLCommon pre code:hover {\n",
       "    text-decoration: none;\n",
       "\n",
       "}\n",
       ".jp-Placeholder-content .jp-MoreHorizIcon {\n",
       "    background-size: 32px;\n",
       "}\n",
       "\n",
       "@import url(\"https://cdn.jsdelivr.net/npm/firacode@1.205.0/distr/fira_code.css\")\n",
       "\n",
       ".CodeMirror * {\n",
       "  font-family: 'Fira Code' !important; \n",
       "  font-variant-ligatures: initial !important;\n",
       "}\n",
       "\n",
       ".cm-string {\n",
       "    font-variant-ligatures: none;\n",
       "}\n",
       "</style><style>\n",
       ".jp-mod-presentationMode .jp-SideBar,\n",
       ".jp-mod-presentationMode #jp-top-panel {\n",
       "    opacity: 0.0;\n",
       "    transition: all 0.2s;\n",
       "}\n",
       ".jp-mod-presentationMode .jp-SideBar:hover,\n",
       ".jp-mod-presentationMode #jp-top-panel:hover {\n",
       "    opacity: 0.9;\n",
       "    transition: all 0.2s;\n",
       "}\n",
       "\n",
       "</style><style>\n",
       ".jp-mod-presentationMode.jp-ApplicationShell,\n",
       ".jp-mod-presentationMode .p-TabBar-content{\n",
       "    background-color: var(--jp-layout-color0);\n",
       "}\n",
       "</style><style>\n",
       ".jp-mod-presentationMode .p-DockPanel-widget,\n",
       ".jp-mod-presentationMode #jp-left-stack{\n",
       "    border-color: transparent;\n",
       "}\n",
       ".jp-mod-presentationMode .jp-Toolbar-item,\n",
       ".jp-mod-presentationMode .jp-Toolbar {\n",
       "    opacity: 0.1;\n",
       "    transition: all 0.2s;\n",
       "}\n",
       ".jp-mod-presentationMode .jp-Toolbar-item:hover,\n",
       ".jp-mod-presentationMode .jp-Toolbar:hover {\n",
       "    opacity: 0.9;\n",
       "    transition: all 0.2s;\n",
       "}\n",
       "\n",
       "</style><style>\n",
       ".jp-mod-presentationMode .jp-OutputPrompt,\n",
       ".jp-mod-presentationMode .jp-InputPrompt {\n",
       "    max-width: 2rem !important;\n",
       "    transition: all 0.2s;\n",
       "}\n",
       ".jp-mod-presentationMode .jp-Cell.jp-mod-selected .jp-OutputPrompt,\n",
       ".jp-mod-presentationMode .jp-Cell.jp-mod-selected .jp-InputPrompt,\n",
       ".jp-mod-presentationMode .jp-Cell:hover .jp-OutputPrompt,\n",
       ".jp-mod-presentationMode .jp-Cell:hover .jp-InputPrompt {\n",
       "    max-width: 10rem !important;\n",
       "    transition: all 0.2s;\n",
       "}\n",
       "\n",
       ".jp-mod-presentationMode .jp-Cell {\n",
       "    margin-bottom: 5rem;\n",
       "}\n",
       "\n",
       ".jp-mod-presentationMode hr {\n",
       "    opacity: 0.1;\n",
       "}\n",
       "</style>"
      ],
      "text/plain": [
       "<IPython.core.display.HTML object>"
      ]
     },
     "execution_count": 1,
     "metadata": {},
     "output_type": "execute_result"
    }
   ],
   "source": [
    "    \n",
    "    o = __name__ == '__main__'\n",
    "    from poser import *\n",
    "    if o:\n",
    "        %reload_ext rites.all\n",
    "    try: \n",
    "        from .utils.style import style\n",
    "        from .particles import jupyter, github\n",
    "        from .intro import bullets, topics\n",
    "    except: \n",
    "        from ten.utils.style import style\n",
    "        from ten.particles import jupyter, github\n",
    "        from ten.intro import bullets, topics\n",
    "    __file__ = globals().get('__file__', 'technical.ipynb')\n",
    "    Ⅎill = \"\"\"---\\n\"\"\"*20\n",
    "\n",
    "    style"
   ]
  },
  {
   "cell_type": "code",
   "execution_count": 2,
   "metadata": {},
   "outputs": [],
   "source": [
    "\n",
    "    try: \n",
    "        from .particles import refs as xx, teaching, publishing, recent, journalism, computing\n",
    "    except: \n",
    "        from ten.particles import refs as xx, teaching, publishing, recent, journalism, computing"
   ]
  },
  {
   "cell_type": "code",
   "execution_count": 88,
   "metadata": {},
   "outputs": [
    {
     "data": {
      "text/markdown": [
       "    digraph{rankdir=\"LR\"; subgraph cluster{label=\"Research Assets\"; code->data->machines->code}}\n",
       "\n",
       "# The Modern Scientist\n",
       "\n",
       "... uses computers as research equipment to generate data and reports.  They manage a lot information with varying degrees of expertise.  They focus on narrative over tooling."
      ],
      "text/plain": [
       "<IPython.core.display.Markdown object>"
      ]
     },
     "metadata": {},
     "output_type": "display_data"
    },
    {
     "data": {
      "image/svg+xml": [
       "<?xml version=\"1.0\" encoding=\"UTF-8\" standalone=\"no\"?>\n",
       "<!DOCTYPE svg PUBLIC \"-//W3C//DTD SVG 1.1//EN\"\n",
       " \"http://www.w3.org/Graphics/SVG/1.1/DTD/svg11.dtd\">\n",
       "<!-- Generated by graphviz version 2.38.0 (20140413.2041)\n",
       " -->\n",
       "<!-- Title: %3 Pages: 1 -->\n",
       "<svg width=\"307pt\" height=\"118pt\"\n",
       " viewBox=\"0.00 0.00 307.01 118.00\" xmlns=\"http://www.w3.org/2000/svg\" xmlns:xlink=\"http://www.w3.org/1999/xlink\">\n",
       "<g id=\"graph0\" class=\"graph\" transform=\"scale(1 1) rotate(0) translate(4 114)\">\n",
       "<title>%3</title>\n",
       "<polygon fill=\"white\" stroke=\"none\" points=\"-4,4 -4,-114 303.006,-114 303.006,4 -4,4\"/>\n",
       "<g id=\"clust1\" class=\"cluster\"><title>cluster</title>\n",
       "<polygon fill=\"none\" stroke=\"black\" points=\"8,-8 8,-102 291.006,-102 291.006,-8 8,-8\"/>\n",
       "<text text-anchor=\"middle\" x=\"149.503\" y=\"-86.8\" font-family=\"Times,serif\" font-size=\"14.00\">Research Assets</text>\n",
       "</g>\n",
       "<!-- code -->\n",
       "<g id=\"node1\" class=\"node\"><title>code</title>\n",
       "<ellipse fill=\"none\" stroke=\"black\" cx=\"43\" cy=\"-44\" rx=\"27\" ry=\"18\"/>\n",
       "<text text-anchor=\"middle\" x=\"43\" y=\"-39.8\" font-family=\"Times,serif\" font-size=\"14.00\">code</text>\n",
       "</g>\n",
       "<!-- data -->\n",
       "<g id=\"node2\" class=\"node\"><title>data</title>\n",
       "<ellipse fill=\"none\" stroke=\"black\" cx=\"133\" cy=\"-34\" rx=\"27\" ry=\"18\"/>\n",
       "<text text-anchor=\"middle\" x=\"133\" y=\"-29.8\" font-family=\"Times,serif\" font-size=\"14.00\">data</text>\n",
       "</g>\n",
       "<!-- code&#45;&gt;data -->\n",
       "<g id=\"edge1\" class=\"edge\"><title>code&#45;&gt;data</title>\n",
       "<path fill=\"none\" stroke=\"black\" d=\"M69.9269,-41.0538C78.1623,-40.1179 87.4201,-39.0659 96.2226,-38.0656\"/>\n",
       "<polygon fill=\"black\" stroke=\"black\" points=\"96.7175,-41.532 106.258,-36.9252 95.9271,-34.5768 96.7175,-41.532\"/>\n",
       "</g>\n",
       "<!-- machines -->\n",
       "<g id=\"node3\" class=\"node\"><title>machines</title>\n",
       "<ellipse fill=\"none\" stroke=\"black\" cx=\"239.503\" cy=\"-44\" rx=\"43.506\" ry=\"18\"/>\n",
       "<text text-anchor=\"middle\" x=\"239.503\" y=\"-39.8\" font-family=\"Times,serif\" font-size=\"14.00\">machines</text>\n",
       "</g>\n",
       "<!-- data&#45;&gt;machines -->\n",
       "<g id=\"edge2\" class=\"edge\"><title>data&#45;&gt;machines</title>\n",
       "<path fill=\"none\" stroke=\"black\" d=\"M159.832,-36.4719C167.999,-37.2534 177.335,-38.1468 186.654,-39.0385\"/>\n",
       "<polygon fill=\"black\" stroke=\"black\" points=\"186.415,-42.5316 196.703,-40.0001 187.082,-35.5634 186.415,-42.5316\"/>\n",
       "</g>\n",
       "<!-- machines&#45;&gt;code -->\n",
       "<g id=\"edge3\" class=\"edge\"><title>machines&#45;&gt;code</title>\n",
       "<path fill=\"none\" stroke=\"black\" d=\"M202.418,-53.501C189.178,-56.5387 174.004,-59.501 160,-61 136.136,-63.5543 129.785,-64.2018 106,-61 96.4146,-59.7097 86.2144,-57.345 76.9139,-54.7812\"/>\n",
       "<polygon fill=\"black\" stroke=\"black\" points=\"77.8267,-51.4016 67.2467,-51.9624 75.8672,-58.1218 77.8267,-51.4016\"/>\n",
       "</g>\n",
       "</g>\n",
       "</svg>\n"
      ],
      "text/plain": [
       "<graphviz.files.Source at 0x10ea9b908>"
      ]
     },
     "metadata": {},
     "output_type": "display_data"
    }
   ],
   "source": [
    "    digraph{rankdir=\"LR\"; subgraph cluster{label=\"Research Assets\"; code->data->machines->code}}\n",
    "\n",
    "# The Modern Scientist\n",
    "\n",
    "... uses computers as research equipment to generate data and reports.  They manage a lot information with varying degrees of expertise.  They focus on narrative over tooling."
   ]
  },
  {
   "cell_type": "code",
   "execution_count": 39,
   "metadata": {},
   "outputs": [
    {
     "data": {
      "text/markdown": [
       "# Jupyter's Technical Value\n",
       "\n",
       "0. Jupyter is data \n",
       "0. Jupyter is literate computing\n",
       "0. Jupyter is for documents"
      ],
      "text/plain": [
       "<IPython.core.display.Markdown object>"
      ]
     },
     "metadata": {},
     "output_type": "display_data"
    }
   ],
   "source": [
    "# Jupyter's Technical Value\n",
    "\n",
    "{{bullets(5, 8).replace('*', '0.')}}"
   ]
  },
  {
   "cell_type": "code",
   "execution_count": 89,
   "metadata": {},
   "outputs": [
    {
     "data": {
      "text/markdown": [
       "---\n",
       "---\n",
       "---\n",
       "---\n",
       "---\n",
       "---\n",
       "---\n",
       "---\n",
       "---\n",
       "---\n",
       "---\n",
       "---\n",
       "---\n",
       "---\n",
       "---\n",
       "---\n",
       "---\n",
       "---\n",
       "---\n",
       "---\n",
       "\n",
       "\n",
       "#  Jupyter is data \n",
       "\n",
       "    digraph{rankdir=\"LR\"; subgraph clusterd{label=\"Big Data\"; Volume->Velocity->Variety->Veracity->Value}}"
      ],
      "text/plain": [
       "<IPython.core.display.Markdown object>"
      ]
     },
     "metadata": {},
     "output_type": "display_data"
    },
    {
     "data": {
      "image/svg+xml": [
       "<?xml version=\"1.0\" encoding=\"UTF-8\" standalone=\"no\"?>\n",
       "<!DOCTYPE svg PUBLIC \"-//W3C//DTD SVG 1.1//EN\"\n",
       " \"http://www.w3.org/Graphics/SVG/1.1/DTD/svg11.dtd\">\n",
       "<!-- Generated by graphviz version 2.38.0 (20140413.2041)\n",
       " -->\n",
       "<!-- Title: %3 Pages: 1 -->\n",
       "<svg width=\"549pt\" height=\"98pt\"\n",
       " viewBox=\"0.00 0.00 548.98 98.00\" xmlns=\"http://www.w3.org/2000/svg\" xmlns:xlink=\"http://www.w3.org/1999/xlink\">\n",
       "<g id=\"graph0\" class=\"graph\" transform=\"scale(1 1) rotate(0) translate(4 94)\">\n",
       "<title>%3</title>\n",
       "<polygon fill=\"white\" stroke=\"none\" points=\"-4,4 -4,-94 544.982,-94 544.982,4 -4,4\"/>\n",
       "<g id=\"clust1\" class=\"cluster\"><title>clusterd</title>\n",
       "<polygon fill=\"none\" stroke=\"black\" points=\"8,-8 8,-82 532.982,-82 532.982,-8 8,-8\"/>\n",
       "<text text-anchor=\"middle\" x=\"270.491\" y=\"-66.8\" font-family=\"Times,serif\" font-size=\"14.00\">Big Data</text>\n",
       "</g>\n",
       "<!-- Volume -->\n",
       "<g id=\"node1\" class=\"node\"><title>Volume</title>\n",
       "<ellipse fill=\"none\" stroke=\"black\" cx=\"53.4577\" cy=\"-34\" rx=\"37.4154\" ry=\"18\"/>\n",
       "<text text-anchor=\"middle\" x=\"53.4577\" y=\"-29.8\" font-family=\"Times,serif\" font-size=\"14.00\">Volume</text>\n",
       "</g>\n",
       "<!-- Velocity -->\n",
       "<g id=\"node2\" class=\"node\"><title>Velocity</title>\n",
       "<ellipse fill=\"none\" stroke=\"black\" cx=\"166.493\" cy=\"-34\" rx=\"39.6558\" ry=\"18\"/>\n",
       "<text text-anchor=\"middle\" x=\"166.493\" y=\"-29.8\" font-family=\"Times,serif\" font-size=\"14.00\">Velocity</text>\n",
       "</g>\n",
       "<!-- Volume&#45;&gt;Velocity -->\n",
       "<g id=\"edge1\" class=\"edge\"><title>Volume&#45;&gt;Velocity</title>\n",
       "<path fill=\"none\" stroke=\"black\" d=\"M91.1226,-34C99.2061,-34 107.895,-34 116.381,-34\"/>\n",
       "<polygon fill=\"black\" stroke=\"black\" points=\"116.578,-37.5001 126.578,-34 116.578,-30.5001 116.578,-37.5001\"/>\n",
       "</g>\n",
       "<!-- Variety -->\n",
       "<g id=\"node3\" class=\"node\"><title>Variety</title>\n",
       "<ellipse fill=\"none\" stroke=\"black\" cx=\"277.715\" cy=\"-34\" rx=\"35.7887\" ry=\"18\"/>\n",
       "<text text-anchor=\"middle\" x=\"277.715\" y=\"-29.8\" font-family=\"Times,serif\" font-size=\"14.00\">Variety</text>\n",
       "</g>\n",
       "<!-- Velocity&#45;&gt;Variety -->\n",
       "<g id=\"edge2\" class=\"edge\"><title>Velocity&#45;&gt;Variety</title>\n",
       "<path fill=\"none\" stroke=\"black\" d=\"M206.308,-34C214.591,-34 223.403,-34 231.89,-34\"/>\n",
       "<polygon fill=\"black\" stroke=\"black\" points=\"232.023,-37.5001 242.023,-34 232.023,-30.5001 232.023,-37.5001\"/>\n",
       "</g>\n",
       "<!-- Veracity -->\n",
       "<g id=\"node4\" class=\"node\"><title>Veracity</title>\n",
       "<ellipse fill=\"none\" stroke=\"black\" cx=\"388.928\" cy=\"-34\" rx=\"39.6385\" ry=\"18\"/>\n",
       "<text text-anchor=\"middle\" x=\"388.928\" y=\"-29.8\" font-family=\"Times,serif\" font-size=\"14.00\">Veracity</text>\n",
       "</g>\n",
       "<!-- Variety&#45;&gt;Veracity -->\n",
       "<g id=\"edge3\" class=\"edge\"><title>Variety&#45;&gt;Veracity</title>\n",
       "<path fill=\"none\" stroke=\"black\" d=\"M313.571,-34C321.737,-34 330.584,-34 339.231,-34\"/>\n",
       "<polygon fill=\"black\" stroke=\"black\" points=\"339.238,-37.5001 349.238,-34 339.238,-30.5001 339.238,-37.5001\"/>\n",
       "</g>\n",
       "<!-- Value -->\n",
       "<g id=\"node5\" class=\"node\"><title>Value</title>\n",
       "<ellipse fill=\"none\" stroke=\"black\" cx=\"494.74\" cy=\"-34\" rx=\"30.4862\" ry=\"18\"/>\n",
       "<text text-anchor=\"middle\" x=\"494.74\" y=\"-29.8\" font-family=\"Times,serif\" font-size=\"14.00\">Value</text>\n",
       "</g>\n",
       "<!-- Veracity&#45;&gt;Value -->\n",
       "<g id=\"edge4\" class=\"edge\"><title>Veracity&#45;&gt;Value</title>\n",
       "<path fill=\"none\" stroke=\"black\" d=\"M428.584,-34C437.026,-34 445.97,-34 454.437,-34\"/>\n",
       "<polygon fill=\"black\" stroke=\"black\" points=\"454.464,-37.5001 464.464,-34 454.464,-30.5001 454.464,-37.5001\"/>\n",
       "</g>\n",
       "</g>\n",
       "</svg>\n"
      ],
      "text/plain": [
       "<graphviz.files.Source at 0x10ed67978>"
      ]
     },
     "metadata": {},
     "output_type": "display_data"
    }
   ],
   "source": [
    "{{Ⅎill}}\n",
    "\n",
    "# {{topics[5]}}\n",
    "\n",
    "    digraph{rankdir=\"LR\"; subgraph clusterd{label=\"Big Data\"; Volume->Velocity->Variety->Veracity->Value}}"
   ]
  },
  {
   "cell_type": "code",
   "execution_count": 90,
   "metadata": {},
   "outputs": [
    {
     "data": {
      "text/markdown": [
       "### Everyone has more data than they know what to do with."
      ],
      "text/plain": [
       "<IPython.core.display.Markdown object>"
      ]
     },
     "metadata": {},
     "output_type": "display_data"
    }
   ],
   "source": [
    "### Everyone has more data than they know what to do with."
   ]
  },
  {
   "cell_type": "code",
   "execution_count": 91,
   "metadata": {},
   "outputs": [
    {
     "data": {
      "text/markdown": [
       "# Jupyter *en*code*s* process as data.\n",
       "\n",
       "Code🆙Data🆙"
      ],
      "text/plain": [
       "<IPython.core.display.Markdown object>"
      ]
     },
     "metadata": {},
     "output_type": "display_data"
    }
   ],
   "source": [
    "# Jupyter *en*code*s* process as data.\n",
    "\n",
    "Code🆙Data🆙"
   ]
  },
  {
   "cell_type": "code",
   "execution_count": 92,
   "metadata": {},
   "outputs": [
    {
     "data": {
      "text/markdown": [
       "## Jupyter notebooks are `json`.  \n",
       "\n",
       "\n",
       "    with open('technical.ipynb') as file: \n",
       "        nb = __import__('json').load(file)\n",
       "\n",
       "#### `nbformat` provides validates our data for past, present, and future formats\n",
       "\n",
       "    from nbformat import v1, v2, v3, v4, ValidationError \n",
       "    with open('technical.ipynb') as file: \n",
       "        nb = __import__('nbformat').read(file, as_version=4)\n",
       "\n",
       "\n",
       "It assures our code is formatted correctly.\n",
       "    \n",
       "    try: \n",
       "        v4.new_notebook(cells=dict())    \n",
       "    except ValidationError as Exception: print(Exception)\n",
       "---"
      ],
      "text/plain": [
       "<IPython.core.display.Markdown object>"
      ]
     },
     "metadata": {},
     "output_type": "display_data"
    },
    {
     "name": "stdout",
     "output_type": "stream",
     "text": [
      "{} is not of type 'array'\n",
      "\n",
      "Failed validating 'type' in notebook['properties']['cells']:\n",
      "\n",
      "On instance['cells']:\n",
      "{}\n"
     ]
    }
   ],
   "source": [
    "## Jupyter notebooks are `json`.  \n",
    "\n",
    "\n",
    "    with open('{{__file__}}') as file: \n",
    "        nb = __import__('json').load(file)\n",
    "\n",
    "#### `nbformat` provides validates our data for past, present, and future formats\n",
    "\n",
    "    from nbformat import v1, v2, v3, v4, ValidationError \n",
    "    with open('{{__file__}}') as file: \n",
    "        nb = __import__('nbformat').read(file, as_version=4)\n",
    "\n",
    "\n",
    "It assures our code is formatted correctly.\n",
    "    \n",
    "    try: \n",
    "        v4.new_notebook(cells=dict())    \n",
    "    except ValidationError as Exception: print(Exception)\n",
    "---"
   ]
  },
  {
   "cell_type": "code",
   "execution_count": 94,
   "metadata": {},
   "outputs": [
    {
     "data": {
      "text/markdown": [
       "## Turning this presentation into [tidy data](https://www.google.com/search?q=tidy+data&oq=tidy+data&aqs=chrome..69i57j0l5.1976j0j7&sourceid=chrome&ie=UTF-8)\n",
       "    \n",
       "    thisPresentation = (\n",
       "        the.Path().Path.rglob('*.ipynb')\n",
       "        .filter(the.str().contains('checkpoint').not_())\n",
       "        .map(λ[the.identity(), the.Path.read_text().json.loads().get('cells').pandas.DataFrame()])\n",
       "        .dict().pandas.concat()\n",
       "    )('.')\n",
       "    thisPresentation"
      ],
      "text/plain": [
       "<IPython.core.display.Markdown object>"
      ]
     },
     "metadata": {},
     "output_type": "display_data"
    },
    {
     "data": {
      "text/html": [
       "<div>\n",
       "<style>\n",
       "    .dataframe thead tr:only-child th {\n",
       "        text-align: right;\n",
       "    }\n",
       "\n",
       "    .dataframe thead th {\n",
       "        text-align: left;\n",
       "    }\n",
       "\n",
       "    .dataframe tbody tr th {\n",
       "        vertical-align: top;\n",
       "    }\n",
       "</style>\n",
       "<table border=\"1\" class=\"dataframe\">\n",
       "  <thead>\n",
       "    <tr style=\"text-align: right;\">\n",
       "      <th></th>\n",
       "      <th></th>\n",
       "      <th>cell_type</th>\n",
       "      <th>execution_count</th>\n",
       "      <th>metadata</th>\n",
       "      <th>outputs</th>\n",
       "      <th>source</th>\n",
       "    </tr>\n",
       "  </thead>\n",
       "  <tbody>\n",
       "    <tr>\n",
       "      <th rowspan=\"30\" valign=\"top\">collaboration.ipynb</th>\n",
       "      <th>0</th>\n",
       "      <td>markdown</td>\n",
       "      <td>NaN</td>\n",
       "      <td>{}</td>\n",
       "      <td>NaN</td>\n",
       "      <td>[⓷ `collaboration.ipynb`]</td>\n",
       "    </tr>\n",
       "    <tr>\n",
       "      <th>1</th>\n",
       "      <td>code</td>\n",
       "      <td>1.0</td>\n",
       "      <td>{}</td>\n",
       "      <td>[{'data': {'text/html': ['&lt;style&gt;\\n', '.jp-Ren...</td>\n",
       "      <td>[    \\n,     o = __name__ == '__main__'\\n,    ...</td>\n",
       "    </tr>\n",
       "    <tr>\n",
       "      <th>2</th>\n",
       "      <td>code</td>\n",
       "      <td>38.0</td>\n",
       "      <td>{}</td>\n",
       "      <td>[]</td>\n",
       "      <td>[\\n,     try: \\n,         from .particles impo...</td>\n",
       "    </tr>\n",
       "    <tr>\n",
       "      <th>3</th>\n",
       "      <td>code</td>\n",
       "      <td>43.0</td>\n",
       "      <td>{}</td>\n",
       "      <td>[{'data': {'text/markdown': ['---\\n', '---\\n',...</td>\n",
       "      <td>[{{Ⅎill}}\\n, \\n, # The Modern Scientist\\n, \\n,...</td>\n",
       "    </tr>\n",
       "    <tr>\n",
       "      <th>4</th>\n",
       "      <td>code</td>\n",
       "      <td>44.0</td>\n",
       "      <td>{}</td>\n",
       "      <td>[{'data': {'text/markdown': ['# Jupyter for sh...</td>\n",
       "      <td>[# Jupyter for sharing and collaboration\\n, \\n...</td>\n",
       "    </tr>\n",
       "    <tr>\n",
       "      <th>5</th>\n",
       "      <td>code</td>\n",
       "      <td>45.0</td>\n",
       "      <td>{}</td>\n",
       "      <td>[{'data': {'text/markdown': ['---\\n', '---\\n',...</td>\n",
       "      <td>[{{Ⅎill}}\\n, \\n, # {{topics[8]}}\\n,     \\n,   ...</td>\n",
       "    </tr>\n",
       "    <tr>\n",
       "      <th>6</th>\n",
       "      <td>code</td>\n",
       "      <td>46.0</td>\n",
       "      <td>{}</td>\n",
       "      <td>[{'data': {'text/markdown': ['    digraph{rank...</td>\n",
       "      <td>[    digraph{rankdir=\"LR\";subgraph clusters{la...</td>\n",
       "    </tr>\n",
       "    <tr>\n",
       "      <th>7</th>\n",
       "      <td>code</td>\n",
       "      <td>48.0</td>\n",
       "      <td>{}</td>\n",
       "      <td>[{'data': {'text/markdown': ['---\\n', '---\\n',...</td>\n",
       "      <td>[{{Ⅎill}}\\n, \\n, \\n, ## Jupyter for Publishing...</td>\n",
       "    </tr>\n",
       "    <tr>\n",
       "      <th>8</th>\n",
       "      <td>code</td>\n",
       "      <td>49.0</td>\n",
       "      <td>{}</td>\n",
       "      <td>[{'data': {'text/markdown': ['---\\n', '---\\n',...</td>\n",
       "      <td>[{{Ⅎill}}\\n,     \\n, ## Jupyter for Teaching]</td>\n",
       "    </tr>\n",
       "    <tr>\n",
       "      <th>9</th>\n",
       "      <td>code</td>\n",
       "      <td>9.0</td>\n",
       "      <td>{}</td>\n",
       "      <td>[{'data': {'text/markdown': ['# At Georgia Tec...</td>\n",
       "      <td>[# At Georgia Tech\\n, \\n, * https://github.com...</td>\n",
       "    </tr>\n",
       "    <tr>\n",
       "      <th>10</th>\n",
       "      <td>code</td>\n",
       "      <td>10.0</td>\n",
       "      <td>{}</td>\n",
       "      <td>[{'data': {'text/html': ['\\n', '        &lt;ifram...</td>\n",
       "      <td>[    \\n,     http://lorenabarba.com/]</td>\n",
       "    </tr>\n",
       "    <tr>\n",
       "      <th>11</th>\n",
       "      <td>code</td>\n",
       "      <td>11.0</td>\n",
       "      <td>{}</td>\n",
       "      <td>[{'data': {'text/markdown': [\"# [nbgrader](tea...</td>\n",
       "      <td>[# [nbgrader](teaching.nbgrader['embed'])\\n, \\...</td>\n",
       "    </tr>\n",
       "    <tr>\n",
       "      <th>12</th>\n",
       "      <td>code</td>\n",
       "      <td>12.0</td>\n",
       "      <td>{}</td>\n",
       "      <td>[{'data': {'text/markdown': ['    http://data8...</td>\n",
       "      <td>[    {{teaching.bids['class']}}\\n,     \\n, # [...</td>\n",
       "    </tr>\n",
       "    <tr>\n",
       "      <th>13</th>\n",
       "      <td>code</td>\n",
       "      <td>13.0</td>\n",
       "      <td>{}</td>\n",
       "      <td>[{'data': {'text/markdown': ['&gt; ## [5000+ tota...</td>\n",
       "      <td>[&gt; ## [5000+ total users, 600+ active at 8PM P...</td>\n",
       "    </tr>\n",
       "    <tr>\n",
       "      <th>14</th>\n",
       "      <td>code</td>\n",
       "      <td>14.0</td>\n",
       "      <td>{}</td>\n",
       "      <td>[{'data': {'text/markdown': ['---\\n', '---\\n',...</td>\n",
       "      <td>[{{Ⅎill}}\\n, \\n, ## Jupyter for profit\\n, \\n, ...</td>\n",
       "    </tr>\n",
       "    <tr>\n",
       "      <th>15</th>\n",
       "      <td>code</td>\n",
       "      <td>15.0</td>\n",
       "      <td>{}</td>\n",
       "      <td>[{'data': {'text/markdown': ['---\\n', '---\\n',...</td>\n",
       "      <td>[{{Ⅎill}}\\n, \\n, \\n, ## Jupyter for Books]</td>\n",
       "    </tr>\n",
       "    <tr>\n",
       "      <th>16</th>\n",
       "      <td>code</td>\n",
       "      <td>16.0</td>\n",
       "      <td>{}</td>\n",
       "      <td>[{'data': {'text/markdown': ['# Rabst'], 'text...</td>\n",
       "      <td>[# Rabst]</td>\n",
       "    </tr>\n",
       "    <tr>\n",
       "      <th>17</th>\n",
       "      <td>code</td>\n",
       "      <td>17.0</td>\n",
       "      <td>{}</td>\n",
       "      <td>[{'data': {'text/markdown': ['# [Python Machin...</td>\n",
       "      <td>[# [Python Machine Learning (2nd edition)](htt...</td>\n",
       "    </tr>\n",
       "    <tr>\n",
       "      <th>18</th>\n",
       "      <td>code</td>\n",
       "      <td>18.0</td>\n",
       "      <td>{}</td>\n",
       "      <td>[{'data': {'text/markdown': ['# [Introduction ...</td>\n",
       "      <td>[# [Introduction to Artificial Neural Networks...</td>\n",
       "    </tr>\n",
       "    <tr>\n",
       "      <th>19</th>\n",
       "      <td>code</td>\n",
       "      <td>19.0</td>\n",
       "      <td>{}</td>\n",
       "      <td>[{'data': {'text/markdown': ['# Jake VanderPla...</td>\n",
       "      <td>[# Jake VanderPlas]</td>\n",
       "    </tr>\n",
       "    <tr>\n",
       "      <th>20</th>\n",
       "      <td>code</td>\n",
       "      <td>20.0</td>\n",
       "      <td>{}</td>\n",
       "      <td>[{'data': {'text/markdown': ['## [Python Data ...</td>\n",
       "      <td>[## [Python Data Science Handbook]({{publishin...</td>\n",
       "    </tr>\n",
       "    <tr>\n",
       "      <th>21</th>\n",
       "      <td>code</td>\n",
       "      <td>21.0</td>\n",
       "      <td>{}</td>\n",
       "      <td>[{'data': {'text/markdown': [\"# Immersive on d...</td>\n",
       "      <td>[# Immersive on demand notebooks with [O'Reill...</td>\n",
       "    </tr>\n",
       "    <tr>\n",
       "      <th>22</th>\n",
       "      <td>code</td>\n",
       "      <td>22.0</td>\n",
       "      <td>{}</td>\n",
       "      <td>[{'data': {'text/markdown': ['---\\n', '---\\n',...</td>\n",
       "      <td>[{{Ⅎill}}\\n, \\n, # {{topics[9]}}]</td>\n",
       "    </tr>\n",
       "    <tr>\n",
       "      <th>23</th>\n",
       "      <td>code</td>\n",
       "      <td>23.0</td>\n",
       "      <td>{}</td>\n",
       "      <td>[]</td>\n",
       "      <td>[    {{ligo_tutorial}}\\n,     \\n,     \\n, ##  ...</td>\n",
       "    </tr>\n",
       "    <tr>\n",
       "      <th>24</th>\n",
       "      <td>code</td>\n",
       "      <td>24.0</td>\n",
       "      <td>{}</td>\n",
       "      <td>[{'data': {'text/markdown': ['    https://mybi...</td>\n",
       "      <td>[    https://mybinder.org]</td>\n",
       "    </tr>\n",
       "    <tr>\n",
       "      <th>25</th>\n",
       "      <td>code</td>\n",
       "      <td>51.0</td>\n",
       "      <td>{}</td>\n",
       "      <td>[{'data': {'text/markdown': ['    http://jupyt...</td>\n",
       "      <td>[    http://jupyterhub.readthedocs.io/en/latest/]</td>\n",
       "    </tr>\n",
       "    <tr>\n",
       "      <th>26</th>\n",
       "      <td>code</td>\n",
       "      <td>52.0</td>\n",
       "      <td>{}</td>\n",
       "      <td>[{'data': {'text/markdown': ['    http://zero-...</td>\n",
       "      <td>[    http://zero-to-jupyterhub.readthedocs.io/]</td>\n",
       "    </tr>\n",
       "    <tr>\n",
       "      <th>27</th>\n",
       "      <td>code</td>\n",
       "      <td>54.0</td>\n",
       "      <td>{}</td>\n",
       "      <td>[{'data': {'text/markdown': ['[![](https://ima...</td>\n",
       "      <td>[[![](https://image.slidesharecdn.com/xheoqqbx...</td>\n",
       "    </tr>\n",
       "    <tr>\n",
       "      <th>28</th>\n",
       "      <td>code</td>\n",
       "      <td>28.0</td>\n",
       "      <td>{}</td>\n",
       "      <td>[{'data': {'text/markdown': ['    https://www....</td>\n",
       "      <td>[    https://www.chanzuckerberg.com/science/pr...</td>\n",
       "    </tr>\n",
       "    <tr>\n",
       "      <th>29</th>\n",
       "      <td>code</td>\n",
       "      <td>55.0</td>\n",
       "      <td>{}</td>\n",
       "      <td>[{'data': {'text/markdown': ['    https://www....</td>\n",
       "      <td>[    https://www.chanzuckerberg.com/wp-content...</td>\n",
       "    </tr>\n",
       "    <tr>\n",
       "      <th>...</th>\n",
       "      <th>...</th>\n",
       "      <td>...</td>\n",
       "      <td>...</td>\n",
       "      <td>...</td>\n",
       "      <td>...</td>\n",
       "      <td>...</td>\n",
       "    </tr>\n",
       "    <tr>\n",
       "      <th rowspan=\"5\" valign=\"top\">technical.ipynb</th>\n",
       "      <th>23</th>\n",
       "      <td>code</td>\n",
       "      <td>21.0</td>\n",
       "      <td>{}</td>\n",
       "      <td>[{'data': {'text/markdown': ['    https://blog...</td>\n",
       "      <td>[    https://blog.github.com/2015-05-07-github...</td>\n",
       "    </tr>\n",
       "    <tr>\n",
       "      <th>24</th>\n",
       "      <td>code</td>\n",
       "      <td>86.0</td>\n",
       "      <td>{}</td>\n",
       "      <td>[{'data': {'text/markdown': ['    https://getn...</td>\n",
       "      <td>[    https://getnikola.com/blog/\\n, \\n, ### Bl...</td>\n",
       "    </tr>\n",
       "    <tr>\n",
       "      <th>25</th>\n",
       "      <td>code</td>\n",
       "      <td>87.0</td>\n",
       "      <td>{}</td>\n",
       "      <td>[{'data': {'text/markdown': ['---\\n', '---\\n',...</td>\n",
       "      <td>[{{Ⅎill}}\\n, \\n, # Jupyter's Technical Value\\n...</td>\n",
       "    </tr>\n",
       "    <tr>\n",
       "      <th>26</th>\n",
       "      <td>code</td>\n",
       "      <td>23.0</td>\n",
       "      <td>{}</td>\n",
       "      <td>[{'data': {'text/markdown': ['## 🤛[The History...</td>\n",
       "      <td>[## 🤛[The History and Community.](history.ipyn...</td>\n",
       "    </tr>\n",
       "    <tr>\n",
       "      <th>27</th>\n",
       "      <td>code</td>\n",
       "      <td>NaN</td>\n",
       "      <td>{}</td>\n",
       "      <td>[]</td>\n",
       "      <td>[]</td>\n",
       "    </tr>\n",
       "    <tr>\n",
       "      <th rowspan=\"8\" valign=\"top\">utils/badges.ipynb</th>\n",
       "      <th>0</th>\n",
       "      <td>code</td>\n",
       "      <td>1.0</td>\n",
       "      <td>{}</td>\n",
       "      <td>[]</td>\n",
       "      <td>[    __file__ = globals().get('__file__', 'bad...</td>\n",
       "    </tr>\n",
       "    <tr>\n",
       "      <th>1</th>\n",
       "      <td>code</td>\n",
       "      <td>2.0</td>\n",
       "      <td>{}</td>\n",
       "      <td>[]</td>\n",
       "      <td>[    @dataclass\\n,     class Github:\\n,       ...</td>\n",
       "    </tr>\n",
       "    <tr>\n",
       "      <th>2</th>\n",
       "      <td>code</td>\n",
       "      <td>8.0</td>\n",
       "      <td>{}</td>\n",
       "      <td>[]</td>\n",
       "      <td>[    @dataclass\\n,     class Person(Github):\\n...</td>\n",
       "    </tr>\n",
       "    <tr>\n",
       "      <th>3</th>\n",
       "      <td>code</td>\n",
       "      <td>9.0</td>\n",
       "      <td>{}</td>\n",
       "      <td>[]</td>\n",
       "      <td>[    @dataclass\\n,     class Project(Github):\\...</td>\n",
       "    </tr>\n",
       "    <tr>\n",
       "      <th>4</th>\n",
       "      <td>code</td>\n",
       "      <td>10.0</td>\n",
       "      <td>{}</td>\n",
       "      <td>[{'data': {'text/markdown': [\"# [jupyter/noteb...</td>\n",
       "      <td>[    __name__ == '__main__' and Project(github...</td>\n",
       "    </tr>\n",
       "    <tr>\n",
       "      <th>5</th>\n",
       "      <td>code</td>\n",
       "      <td>11.0</td>\n",
       "      <td>{}</td>\n",
       "      <td>[{'name': 'stdout', 'output_type': 'stream', '...</td>\n",
       "      <td>[    if __name__ == \"__main__\":\\n,         __i...</td>\n",
       "    </tr>\n",
       "    <tr>\n",
       "      <th>6</th>\n",
       "      <td>code</td>\n",
       "      <td>NaN</td>\n",
       "      <td>{}</td>\n",
       "      <td>[]</td>\n",
       "      <td>[]</td>\n",
       "    </tr>\n",
       "    <tr>\n",
       "      <th>7</th>\n",
       "      <td>code</td>\n",
       "      <td>NaN</td>\n",
       "      <td>{}</td>\n",
       "      <td>[]</td>\n",
       "      <td>[]</td>\n",
       "    </tr>\n",
       "    <tr>\n",
       "      <th rowspan=\"8\" valign=\"top\">utils/search.ipynb</th>\n",
       "      <th>0</th>\n",
       "      <td>markdown</td>\n",
       "      <td>NaN</td>\n",
       "      <td>{}</td>\n",
       "      <td>NaN</td>\n",
       "      <td>[    https://github.com/conda-forge/feather-fo...</td>\n",
       "    </tr>\n",
       "    <tr>\n",
       "      <th>1</th>\n",
       "      <td>code</td>\n",
       "      <td>1.0</td>\n",
       "      <td>{}</td>\n",
       "      <td>[]</td>\n",
       "      <td>[    o = __name__ == '__main__'\\n,     __file_...</td>\n",
       "    </tr>\n",
       "    <tr>\n",
       "      <th>2</th>\n",
       "      <td>code</td>\n",
       "      <td>2.0</td>\n",
       "      <td>{}</td>\n",
       "      <td>[{'data': {'text/markdown': ['    from feather...</td>\n",
       "      <td>[    from feather import write_dataframe, read...</td>\n",
       "    </tr>\n",
       "    <tr>\n",
       "      <th>3</th>\n",
       "      <td>code</td>\n",
       "      <td>3.0</td>\n",
       "      <td>{}</td>\n",
       "      <td>[{'data': {'text/markdown': ['    from inspect...</td>\n",
       "      <td>[    from inspect import signature]</td>\n",
       "    </tr>\n",
       "    <tr>\n",
       "      <th>4</th>\n",
       "      <td>code</td>\n",
       "      <td>4.0</td>\n",
       "      <td>{}</td>\n",
       "      <td>[{'data': {'text/markdown': ['The search tool ...</td>\n",
       "      <td>[The search tool will help in sorting through ...</td>\n",
       "    </tr>\n",
       "    <tr>\n",
       "      <th>5</th>\n",
       "      <td>code</td>\n",
       "      <td>5.0</td>\n",
       "      <td>{}</td>\n",
       "      <td>[{'data': {'text/markdown': ['    %rm ten.book...</td>\n",
       "      <td>[#     %rm ten.book.feather\\n,     \\n,     @da...</td>\n",
       "    </tr>\n",
       "    <tr>\n",
       "      <th>6</th>\n",
       "      <td>code</td>\n",
       "      <td>6.0</td>\n",
       "      <td>{}</td>\n",
       "      <td>[{'data': {'text/markdown': ['    book = Book(...</td>\n",
       "      <td>[    book = Book()\\n, \\n,     book[\"Materials ...</td>\n",
       "    </tr>\n",
       "    <tr>\n",
       "      <th>7</th>\n",
       "      <td>code</td>\n",
       "      <td>NaN</td>\n",
       "      <td>{}</td>\n",
       "      <td>[]</td>\n",
       "      <td>[    ]</td>\n",
       "    </tr>\n",
       "    <tr>\n",
       "      <th rowspan=\"7\" valign=\"top\">utils/style.ipynb</th>\n",
       "      <th>0</th>\n",
       "      <td>code</td>\n",
       "      <td>1.0</td>\n",
       "      <td>{}</td>\n",
       "      <td>[]</td>\n",
       "      <td>[    style = __import__('IPython').display.HTM...</td>\n",
       "    </tr>\n",
       "    <tr>\n",
       "      <th>1</th>\n",
       "      <td>code</td>\n",
       "      <td>2.0</td>\n",
       "      <td>{}</td>\n",
       "      <td>[]</td>\n",
       "      <td>[    style.data += \"\"\"&lt;style&gt;\\n,     .jp-mod-p...</td>\n",
       "    </tr>\n",
       "    <tr>\n",
       "      <th>2</th>\n",
       "      <td>code</td>\n",
       "      <td>18.0</td>\n",
       "      <td>{}</td>\n",
       "      <td>[]</td>\n",
       "      <td>[    style.data+=\"\"\"&lt;style&gt;\\n,     .jp-mod-pre...</td>\n",
       "    </tr>\n",
       "    <tr>\n",
       "      <th>3</th>\n",
       "      <td>code</td>\n",
       "      <td>19.0</td>\n",
       "      <td>{}</td>\n",
       "      <td>[]</td>\n",
       "      <td>[    style.data += \"\"\"&lt;style&gt;\\n,     .jp-mod-p...</td>\n",
       "    </tr>\n",
       "    <tr>\n",
       "      <th>4</th>\n",
       "      <td>code</td>\n",
       "      <td>28.0</td>\n",
       "      <td>{}</td>\n",
       "      <td>[]</td>\n",
       "      <td>[    style.data += \"\"\"&lt;style&gt;\\n,     .jp-mod-p...</td>\n",
       "    </tr>\n",
       "    <tr>\n",
       "      <th>5</th>\n",
       "      <td>code</td>\n",
       "      <td>29.0</td>\n",
       "      <td>{}</td>\n",
       "      <td>[{'data': {'text/html': ['&lt;style&gt;\\n', '.jp-Ren...</td>\n",
       "      <td>[    style]</td>\n",
       "    </tr>\n",
       "    <tr>\n",
       "      <th>6</th>\n",
       "      <td>code</td>\n",
       "      <td>NaN</td>\n",
       "      <td>{}</td>\n",
       "      <td>[]</td>\n",
       "      <td>[]</td>\n",
       "    </tr>\n",
       "    <tr>\n",
       "      <th rowspan=\"2\" valign=\"top\">utils/unittest.ipynb</th>\n",
       "      <th>0</th>\n",
       "      <td>code</td>\n",
       "      <td>11.0</td>\n",
       "      <td>{}</td>\n",
       "      <td>[{'data': {'text/markdown': [\"    if __name__ ...</td>\n",
       "      <td>[    if __name__ == '__main__':\\n,         %re...</td>\n",
       "    </tr>\n",
       "    <tr>\n",
       "      <th>1</th>\n",
       "      <td>code</td>\n",
       "      <td>12.0</td>\n",
       "      <td>{}</td>\n",
       "      <td>[{'data': {'text/markdown': ['    def unittest...</td>\n",
       "      <td>[    def unittest(*tuple):\\n,         \"\"\"Unitt...</td>\n",
       "    </tr>\n",
       "  </tbody>\n",
       "</table>\n",
       "<p>295 rows × 5 columns</p>\n",
       "</div>"
      ],
      "text/plain": [
       "                        cell_type  execution_count metadata  \\\n",
       "collaboration.ipynb  0   markdown              NaN       {}   \n",
       "                     1       code              1.0       {}   \n",
       "                     2       code             38.0       {}   \n",
       "                     3       code             43.0       {}   \n",
       "                     4       code             44.0       {}   \n",
       "                     5       code             45.0       {}   \n",
       "                     6       code             46.0       {}   \n",
       "                     7       code             48.0       {}   \n",
       "                     8       code             49.0       {}   \n",
       "                     9       code              9.0       {}   \n",
       "                     10      code             10.0       {}   \n",
       "                     11      code             11.0       {}   \n",
       "                     12      code             12.0       {}   \n",
       "                     13      code             13.0       {}   \n",
       "                     14      code             14.0       {}   \n",
       "                     15      code             15.0       {}   \n",
       "                     16      code             16.0       {}   \n",
       "                     17      code             17.0       {}   \n",
       "                     18      code             18.0       {}   \n",
       "                     19      code             19.0       {}   \n",
       "                     20      code             20.0       {}   \n",
       "                     21      code             21.0       {}   \n",
       "                     22      code             22.0       {}   \n",
       "                     23      code             23.0       {}   \n",
       "                     24      code             24.0       {}   \n",
       "                     25      code             51.0       {}   \n",
       "                     26      code             52.0       {}   \n",
       "                     27      code             54.0       {}   \n",
       "                     28      code             28.0       {}   \n",
       "                     29      code             55.0       {}   \n",
       "...                           ...              ...      ...   \n",
       "technical.ipynb      23      code             21.0       {}   \n",
       "                     24      code             86.0       {}   \n",
       "                     25      code             87.0       {}   \n",
       "                     26      code             23.0       {}   \n",
       "                     27      code              NaN       {}   \n",
       "utils/badges.ipynb   0       code              1.0       {}   \n",
       "                     1       code              2.0       {}   \n",
       "                     2       code              8.0       {}   \n",
       "                     3       code              9.0       {}   \n",
       "                     4       code             10.0       {}   \n",
       "                     5       code             11.0       {}   \n",
       "                     6       code              NaN       {}   \n",
       "                     7       code              NaN       {}   \n",
       "utils/search.ipynb   0   markdown              NaN       {}   \n",
       "                     1       code              1.0       {}   \n",
       "                     2       code              2.0       {}   \n",
       "                     3       code              3.0       {}   \n",
       "                     4       code              4.0       {}   \n",
       "                     5       code              5.0       {}   \n",
       "                     6       code              6.0       {}   \n",
       "                     7       code              NaN       {}   \n",
       "utils/style.ipynb    0       code              1.0       {}   \n",
       "                     1       code              2.0       {}   \n",
       "                     2       code             18.0       {}   \n",
       "                     3       code             19.0       {}   \n",
       "                     4       code             28.0       {}   \n",
       "                     5       code             29.0       {}   \n",
       "                     6       code              NaN       {}   \n",
       "utils/unittest.ipynb 0       code             11.0       {}   \n",
       "                     1       code             12.0       {}   \n",
       "\n",
       "                                                                   outputs  \\\n",
       "collaboration.ipynb  0                                                 NaN   \n",
       "                     1   [{'data': {'text/html': ['<style>\\n', '.jp-Ren...   \n",
       "                     2                                                  []   \n",
       "                     3   [{'data': {'text/markdown': ['---\\n', '---\\n',...   \n",
       "                     4   [{'data': {'text/markdown': ['# Jupyter for sh...   \n",
       "                     5   [{'data': {'text/markdown': ['---\\n', '---\\n',...   \n",
       "                     6   [{'data': {'text/markdown': ['    digraph{rank...   \n",
       "                     7   [{'data': {'text/markdown': ['---\\n', '---\\n',...   \n",
       "                     8   [{'data': {'text/markdown': ['---\\n', '---\\n',...   \n",
       "                     9   [{'data': {'text/markdown': ['# At Georgia Tec...   \n",
       "                     10  [{'data': {'text/html': ['\\n', '        <ifram...   \n",
       "                     11  [{'data': {'text/markdown': [\"# [nbgrader](tea...   \n",
       "                     12  [{'data': {'text/markdown': ['    http://data8...   \n",
       "                     13  [{'data': {'text/markdown': ['> ## [5000+ tota...   \n",
       "                     14  [{'data': {'text/markdown': ['---\\n', '---\\n',...   \n",
       "                     15  [{'data': {'text/markdown': ['---\\n', '---\\n',...   \n",
       "                     16  [{'data': {'text/markdown': ['# Rabst'], 'text...   \n",
       "                     17  [{'data': {'text/markdown': ['# [Python Machin...   \n",
       "                     18  [{'data': {'text/markdown': ['# [Introduction ...   \n",
       "                     19  [{'data': {'text/markdown': ['# Jake VanderPla...   \n",
       "                     20  [{'data': {'text/markdown': ['## [Python Data ...   \n",
       "                     21  [{'data': {'text/markdown': [\"# Immersive on d...   \n",
       "                     22  [{'data': {'text/markdown': ['---\\n', '---\\n',...   \n",
       "                     23                                                 []   \n",
       "                     24  [{'data': {'text/markdown': ['    https://mybi...   \n",
       "                     25  [{'data': {'text/markdown': ['    http://jupyt...   \n",
       "                     26  [{'data': {'text/markdown': ['    http://zero-...   \n",
       "                     27  [{'data': {'text/markdown': ['[![](https://ima...   \n",
       "                     28  [{'data': {'text/markdown': ['    https://www....   \n",
       "                     29  [{'data': {'text/markdown': ['    https://www....   \n",
       "...                                                                    ...   \n",
       "technical.ipynb      23  [{'data': {'text/markdown': ['    https://blog...   \n",
       "                     24  [{'data': {'text/markdown': ['    https://getn...   \n",
       "                     25  [{'data': {'text/markdown': ['---\\n', '---\\n',...   \n",
       "                     26  [{'data': {'text/markdown': ['## 🤛[The History...   \n",
       "                     27                                                 []   \n",
       "utils/badges.ipynb   0                                                  []   \n",
       "                     1                                                  []   \n",
       "                     2                                                  []   \n",
       "                     3                                                  []   \n",
       "                     4   [{'data': {'text/markdown': [\"# [jupyter/noteb...   \n",
       "                     5   [{'name': 'stdout', 'output_type': 'stream', '...   \n",
       "                     6                                                  []   \n",
       "                     7                                                  []   \n",
       "utils/search.ipynb   0                                                 NaN   \n",
       "                     1                                                  []   \n",
       "                     2   [{'data': {'text/markdown': ['    from feather...   \n",
       "                     3   [{'data': {'text/markdown': ['    from inspect...   \n",
       "                     4   [{'data': {'text/markdown': ['The search tool ...   \n",
       "                     5   [{'data': {'text/markdown': ['    %rm ten.book...   \n",
       "                     6   [{'data': {'text/markdown': ['    book = Book(...   \n",
       "                     7                                                  []   \n",
       "utils/style.ipynb    0                                                  []   \n",
       "                     1                                                  []   \n",
       "                     2                                                  []   \n",
       "                     3                                                  []   \n",
       "                     4                                                  []   \n",
       "                     5   [{'data': {'text/html': ['<style>\\n', '.jp-Ren...   \n",
       "                     6                                                  []   \n",
       "utils/unittest.ipynb 0   [{'data': {'text/markdown': [\"    if __name__ ...   \n",
       "                     1   [{'data': {'text/markdown': ['    def unittest...   \n",
       "\n",
       "                                                                    source  \n",
       "collaboration.ipynb  0                           [⓷ `collaboration.ipynb`]  \n",
       "                     1   [    \\n,     o = __name__ == '__main__'\\n,    ...  \n",
       "                     2   [\\n,     try: \\n,         from .particles impo...  \n",
       "                     3   [{{Ⅎill}}\\n, \\n, # The Modern Scientist\\n, \\n,...  \n",
       "                     4   [# Jupyter for sharing and collaboration\\n, \\n...  \n",
       "                     5   [{{Ⅎill}}\\n, \\n, # {{topics[8]}}\\n,     \\n,   ...  \n",
       "                     6   [    digraph{rankdir=\"LR\";subgraph clusters{la...  \n",
       "                     7   [{{Ⅎill}}\\n, \\n, \\n, ## Jupyter for Publishing...  \n",
       "                     8       [{{Ⅎill}}\\n,     \\n, ## Jupyter for Teaching]  \n",
       "                     9   [# At Georgia Tech\\n, \\n, * https://github.com...  \n",
       "                     10              [    \\n,     http://lorenabarba.com/]  \n",
       "                     11  [# [nbgrader](teaching.nbgrader['embed'])\\n, \\...  \n",
       "                     12  [    {{teaching.bids['class']}}\\n,     \\n, # [...  \n",
       "                     13  [> ## [5000+ total users, 600+ active at 8PM P...  \n",
       "                     14  [{{Ⅎill}}\\n, \\n, ## Jupyter for profit\\n, \\n, ...  \n",
       "                     15         [{{Ⅎill}}\\n, \\n, \\n, ## Jupyter for Books]  \n",
       "                     16                                          [# Rabst]  \n",
       "                     17  [# [Python Machine Learning (2nd edition)](htt...  \n",
       "                     18  [# [Introduction to Artificial Neural Networks...  \n",
       "                     19                                [# Jake VanderPlas]  \n",
       "                     20  [## [Python Data Science Handbook]({{publishin...  \n",
       "                     21  [# Immersive on demand notebooks with [O'Reill...  \n",
       "                     22                  [{{Ⅎill}}\\n, \\n, # {{topics[9]}}]  \n",
       "                     23  [    {{ligo_tutorial}}\\n,     \\n,     \\n, ##  ...  \n",
       "                     24                         [    https://mybinder.org]  \n",
       "                     25  [    http://jupyterhub.readthedocs.io/en/latest/]  \n",
       "                     26    [    http://zero-to-jupyterhub.readthedocs.io/]  \n",
       "                     27  [[![](https://image.slidesharecdn.com/xheoqqbx...  \n",
       "                     28  [    https://www.chanzuckerberg.com/science/pr...  \n",
       "                     29  [    https://www.chanzuckerberg.com/wp-content...  \n",
       "...                                                                    ...  \n",
       "technical.ipynb      23  [    https://blog.github.com/2015-05-07-github...  \n",
       "                     24  [    https://getnikola.com/blog/\\n, \\n, ### Bl...  \n",
       "                     25  [{{Ⅎill}}\\n, \\n, # Jupyter's Technical Value\\n...  \n",
       "                     26  [## 🤛[The History and Community.](history.ipyn...  \n",
       "                     27                                                 []  \n",
       "utils/badges.ipynb   0   [    __file__ = globals().get('__file__', 'bad...  \n",
       "                     1   [    @dataclass\\n,     class Github:\\n,       ...  \n",
       "                     2   [    @dataclass\\n,     class Person(Github):\\n...  \n",
       "                     3   [    @dataclass\\n,     class Project(Github):\\...  \n",
       "                     4   [    __name__ == '__main__' and Project(github...  \n",
       "                     5   [    if __name__ == \"__main__\":\\n,         __i...  \n",
       "                     6                                                  []  \n",
       "                     7                                                  []  \n",
       "utils/search.ipynb   0   [    https://github.com/conda-forge/feather-fo...  \n",
       "                     1   [    o = __name__ == '__main__'\\n,     __file_...  \n",
       "                     2   [    from feather import write_dataframe, read...  \n",
       "                     3                 [    from inspect import signature]  \n",
       "                     4   [The search tool will help in sorting through ...  \n",
       "                     5   [#     %rm ten.book.feather\\n,     \\n,     @da...  \n",
       "                     6   [    book = Book()\\n, \\n,     book[\"Materials ...  \n",
       "                     7                                              [    ]  \n",
       "utils/style.ipynb    0   [    style = __import__('IPython').display.HTM...  \n",
       "                     1   [    style.data += \"\"\"<style>\\n,     .jp-mod-p...  \n",
       "                     2   [    style.data+=\"\"\"<style>\\n,     .jp-mod-pre...  \n",
       "                     3   [    style.data += \"\"\"<style>\\n,     .jp-mod-p...  \n",
       "                     4   [    style.data += \"\"\"<style>\\n,     .jp-mod-p...  \n",
       "                     5                                         [    style]  \n",
       "                     6                                                  []  \n",
       "utils/unittest.ipynb 0   [    if __name__ == '__main__':\\n,         %re...  \n",
       "                     1   [    def unittest(*tuple):\\n,         \"\"\"Unitt...  \n",
       "\n",
       "[295 rows x 5 columns]"
      ]
     },
     "execution_count": 94,
     "metadata": {},
     "output_type": "execute_result"
    }
   ],
   "source": [
    "## Turning this presentation into [tidy data](https://www.google.com/search?q=tidy+data&oq=tidy+data&aqs=chrome..69i57j0l5.1976j0j7&sourceid=chrome&ie=UTF-8)\n",
    "    \n",
    "    thisPresentation = (\n",
    "        the.Path().Path.rglob('*.ipynb')\n",
    "        .filter(the.str().contains('checkpoint').not_())\n",
    "        .map(λ[the.identity(), the.Path.read_text().json.loads().get('cells').pandas.DataFrame()])\n",
    "        .dict().pandas.concat()\n",
    "    )('.')\n",
    "    thisPresentation"
   ]
  },
  {
   "cell_type": "code",
   "execution_count": 95,
   "metadata": {},
   "outputs": [
    {
     "data": {
      "text/markdown": [
       "---\n",
       "---\n",
       "---\n",
       "---\n",
       "---\n",
       "---\n",
       "---\n",
       "---\n",
       "---\n",
       "---\n",
       "---\n",
       "---\n",
       "---\n",
       "---\n",
       "---\n",
       "---\n",
       "---\n",
       "---\n",
       "---\n",
       "---\n",
       "\n",
       "\n",
       "#  Jupyter is literate computing\n",
       "\n",
       "---\n",
       "\n",
       "> ## The purpose of computing is insight, not numbers.\n",
       "> - Richard Hamming"
      ],
      "text/plain": [
       "<IPython.core.display.Markdown object>"
      ]
     },
     "metadata": {},
     "output_type": "display_data"
    }
   ],
   "source": [
    "{{Ⅎill}}\n",
    "\n",
    "# {{topics[6]}}\n",
    "\n",
    "---\n",
    "\n",
    "> ## The purpose of computing is insight, not numbers.\n",
    "> - Richard Hamming"
   ]
  },
  {
   "cell_type": "code",
   "execution_count": 96,
   "metadata": {},
   "outputs": [
    {
     "data": {
      "text/markdown": [
       "    graph {rankdir=\"LR\"; data--science--computing--data}\n",
       "\n",
       "#### [\"Literate computing\" and computational reproducibility: IPython in the age of data-driven journalism](http://blog.fperez.org/2013/04/literate-computing-and-computational.html)\n",
       "> Our job with Jupyter~~IPython~~ is to think deeply about questions regarding the intersection of _**computing, data and science**_, but it's clear to me at this point that we can contribute in contexts beyond pure scientific research. I hope we'll be able to provide folks who have a _**direct intersection with the public**_, such as journalists, with tools that help a more informed and productive debate.\n",
       "\n",
       "> - Fernando Perez"
      ],
      "text/plain": [
       "<IPython.core.display.Markdown object>"
      ]
     },
     "metadata": {},
     "output_type": "display_data"
    },
    {
     "data": {
      "image/svg+xml": [
       "<?xml version=\"1.0\" encoding=\"UTF-8\" standalone=\"no\"?>\n",
       "<!DOCTYPE svg PUBLIC \"-//W3C//DTD SVG 1.1//EN\"\n",
       " \"http://www.w3.org/Graphics/SVG/1.1/DTD/svg11.dtd\">\n",
       "<!-- Generated by graphviz version 2.38.0 (20140413.2041)\n",
       " -->\n",
       "<!-- Title: %3 Pages: 1 -->\n",
       "<svg width=\"302pt\" height=\"67pt\"\n",
       " viewBox=\"0.00 0.00 302.12 67.00\" xmlns=\"http://www.w3.org/2000/svg\" xmlns:xlink=\"http://www.w3.org/1999/xlink\">\n",
       "<g id=\"graph0\" class=\"graph\" transform=\"scale(1 1) rotate(0) translate(4 63)\">\n",
       "<title>%3</title>\n",
       "<polygon fill=\"white\" stroke=\"none\" points=\"-4,4 -4,-63 298.122,-63 298.122,4 -4,4\"/>\n",
       "<!-- data -->\n",
       "<g id=\"node1\" class=\"node\"><title>data</title>\n",
       "<ellipse fill=\"none\" stroke=\"black\" cx=\"27\" cy=\"-18\" rx=\"27\" ry=\"18\"/>\n",
       "<text text-anchor=\"middle\" x=\"27\" y=\"-13.8\" font-family=\"Times,serif\" font-size=\"14.00\">data</text>\n",
       "</g>\n",
       "<!-- science -->\n",
       "<g id=\"node2\" class=\"node\"><title>science</title>\n",
       "<ellipse fill=\"none\" stroke=\"black\" cx=\"126.128\" cy=\"-41\" rx=\"36.2558\" ry=\"18\"/>\n",
       "<text text-anchor=\"middle\" x=\"126.128\" y=\"-36.8\" font-family=\"Times,serif\" font-size=\"14.00\">science</text>\n",
       "</g>\n",
       "<!-- data&#45;&#45;science -->\n",
       "<g id=\"edge1\" class=\"edge\"><title>data&#45;&#45;science</title>\n",
       "<path fill=\"none\" stroke=\"black\" d=\"M52.7607,-23.8634C65.0132,-26.7648 79.9513,-30.3022 93.0668,-33.4079\"/>\n",
       "</g>\n",
       "<!-- computing -->\n",
       "<g id=\"node3\" class=\"node\"><title>computing</title>\n",
       "<ellipse fill=\"none\" stroke=\"black\" cx=\"246.189\" cy=\"-18\" rx=\"47.8668\" ry=\"18\"/>\n",
       "<text text-anchor=\"middle\" x=\"246.189\" y=\"-13.8\" font-family=\"Times,serif\" font-size=\"14.00\">computing</text>\n",
       "</g>\n",
       "<!-- science&#45;&#45;computing -->\n",
       "<g id=\"edge2\" class=\"edge\"><title>science&#45;&#45;computing</title>\n",
       "<path fill=\"none\" stroke=\"black\" d=\"M160.014,-34.5932C173.387,-31.988 189.003,-28.9457 203.186,-26.1828\"/>\n",
       "</g>\n",
       "<!-- computing&#45;&#45;data -->\n",
       "<g id=\"edge3\" class=\"edge\"><title>computing&#45;&#45;data</title>\n",
       "<path fill=\"none\" stroke=\"black\" d=\"M198.708,-15.363C186.828,-14.7976 174.072,-14.2848 162.255,-14 130.151,-13.2262 122.097,-12.9657 90,-14 78.1413,-14.3821 65.0265,-15.1744 53.9246,-15.9538\"/>\n",
       "</g>\n",
       "</g>\n",
       "</svg>\n"
      ],
      "text/plain": [
       "<graphviz.files.Source at 0x10ef46898>"
      ]
     },
     "metadata": {},
     "output_type": "display_data"
    }
   ],
   "source": [
    "    graph {rankdir=\"LR\"; data--science--computing--data}\n",
    "\n",
    "#### [\"Literate computing\" and computational reproducibility: IPython in the age of data-driven journalism]({{computing.literate['ipython']}})\n",
    "> Our job with Jupyter~~IPython~~ is to think deeply about questions regarding the intersection of _**computing, data and science**_, but it's clear to me at this point that we can contribute in contexts beyond pure scientific research. I hope we'll be able to provide folks who have a _**direct intersection with the public**_, such as journalists, with tools that help a more informed and productive debate.\n",
    "\n",
    "> - Fernando Perez"
   ]
  },
  {
   "cell_type": "code",
   "execution_count": 97,
   "metadata": {},
   "outputs": [
    {
     "data": {
      "text/markdown": [
       "## Interactive Computing\n",
       "\n",
       "\n",
       "#### [Fernando Perez](None) - [The IPython notebook: a historical retrospective 👍](http://blog.fperez.org/2012/01/ipython-notebook-historical.html)    \n",
       "\n",
       "> I also read an article that mentioned two good interactive systems for Python, LazyPython and IPP, not surprisingly also created by scientists.  **I say this because the natural flow of scientific computing pretty much mandates a solid interactive environment**, so while other Python users and developers may like having occasional access to interactive facilities, **scientists more or less demand them**.  I contacted their authors,  Nathan Gray and Janko Hauser, seeking to join forces to create IPython;  they were both very gracious and let me use their code, but didn't have the time to participate in the effort.  *As any self-respecting graduate student with a dissertation deadline looming would do, I threw myself full-time into building the first 'real' IPython by merging my code with both of theirs* (eventually I did graduate, by the way)."
      ],
      "text/plain": [
       "<IPython.core.display.Markdown object>"
      ]
     },
     "metadata": {},
     "output_type": "display_data"
    }
   ],
   "source": [
    "## Interactive Computing\n",
    "\n",
    "\n",
    "#### [Fernando Perez]({{computing.people['perez']}}) - [The IPython notebook: a historical retrospective 👍]({{xx.ipython['history']}})    \n",
    "\n",
    "> I also read an article that mentioned two good interactive systems for Python, LazyPython and IPP, not surprisingly also created by scientists.  **I say this because the natural flow of scientific computing pretty much mandates a solid interactive environment**, so while other Python users and developers may like having occasional access to interactive facilities, **scientists more or less demand them**.  I contacted their authors,  Nathan Gray and Janko Hauser, seeking to join forces to create IPython;  they were both very gracious and let me use their code, but didn't have the time to participate in the effort.  *As any self-respecting graduate student with a dissertation deadline looming would do, I threw myself full-time into building the first 'real' IPython by merging my code with both of theirs* (eventually I did graduate, by the way)."
   ]
  },
  {
   "cell_type": "code",
   "execution_count": 67,
   "metadata": {},
   "outputs": [
    {
     "data": {
      "text/markdown": [
       "Give scope of what interactive computing is.\n",
       "\n",
       "* Licklider, Englebert, Alan Kay, TBL, Wolfram, Sage dude, Linus"
      ],
      "text/plain": [
       "<IPython.core.display.Markdown object>"
      ]
     },
     "metadata": {},
     "output_type": "display_data"
    }
   ],
   "source": [
    "Give scope of what interactive computing is.\n",
    "\n",
    "* Licklider, Englebert, Alan Kay, TBL, Wolfram, Sage dude, Linus"
   ]
  },
  {
   "cell_type": "code",
   "execution_count": 69,
   "metadata": {},
   "outputs": [
    {
     "data": {
      "text/markdown": [
       "### Interactive computing is multi-objective\n",
       "\n",
       "Modern scientists must consider tools that improve their interactions with machines, not how fast the machine works.  \n",
       "\n",
       "#### Tips for interactive computing\n",
       "\n",
       "* Caching\n",
       "* Separating production data from archival research data\n",
       "* Parallelization\n",
       "* Functional Programming _because names are the worst_\n",
       "* Reading over writing"
      ],
      "text/plain": [
       "<IPython.core.display.Markdown object>"
      ]
     },
     "metadata": {},
     "output_type": "display_data"
    }
   ],
   "source": [
    "### Interactive computing is multi-objective\n",
    "\n",
    "Modern scientists must consider tools that improve their interactions with machines, not how fast the machine works.  \n",
    "\n",
    "#### Tips for interactive computing\n",
    "\n",
    "* Caching\n",
    "* Separating production data from archival research data\n",
    "* Parallelization\n",
    "* Functional Programming _because names are the worst_\n",
    "* Reading over writing"
   ]
  },
  {
   "cell_type": "code",
   "execution_count": 74,
   "metadata": {},
   "outputs": [
    {
     "data": {
      "text/markdown": [
       "---\n",
       "---\n",
       "---\n",
       "---\n",
       "---\n",
       "---\n",
       "---\n",
       "---\n",
       "---\n",
       "---\n",
       "---\n",
       "---\n",
       "---\n",
       "---\n",
       "---\n",
       "---\n",
       "---\n",
       "---\n",
       "---\n",
       "---\n",
       "\n",
       "\n",
       "> ## ... surely nobody wants to admit writing an illiterate program.\n",
       "\n",
       "## [Donald Knuth](https://en.wikipedia.org/wiki/Donald_Knuth) - [Literate Programming](http://roxygen.org/knuth-literate-programming.pdf)\n",
       "    \n",
       "* [$\\TeX$](https://en.wikipedia.org/wiki/TeX)\n",
       "* [The Art of Computer Programming](https://en.wikipedia.org/wiki/The_Art_of_Computer_Programming)\n",
       "* [40 years of tests!](http://yakshav.es/the-patron-saint-of-yakshaves/)\n",
       "* [Book of the Century](https://web.archive.org/web/20080820030403/http://www.americanscientist.org/bookshelf/pub/100-or-so-books-that-shaped-a-century-of-science)"
      ],
      "text/plain": [
       "<IPython.core.display.Markdown object>"
      ]
     },
     "metadata": {},
     "output_type": "display_data"
    }
   ],
   "source": [
    "{{Ⅎill}}\n",
    "\n",
    "> ## ... surely nobody wants to admit writing an illiterate program.\n",
    "\n",
    "## [Donald Knuth]({{computing.people['knuth']}}) - [Literate Programming]({{computing.literate['pdf']}})\n",
    "    \n",
    "* [$\\TeX$](https://en.wikipedia.org/wiki/TeX)\n",
    "* [The Art of Computer Programming](https://en.wikipedia.org/wiki/The_Art_of_Computer_Programming)\n",
    "* [40 years of tests!](http://yakshav.es/the-patron-saint-of-yakshaves/)\n",
    "* [Book of the Century](https://web.archive.org/web/20080820030403/http://www.americanscientist.org/bookshelf/pub/100-or-so-books-that-shaped-a-century-of-science)"
   ]
  },
  {
   "cell_type": "code",
   "execution_count": 99,
   "metadata": {},
   "outputs": [
    {
     "data": {
      "text/markdown": [
       "#### Jupyter permits\n",
       "\n",
       "    digraph {rankdir=\"LR\"; subgraph clusterc{ label=\"literate computing\"; data->\"interactive computing\" ->data -> \"literate programming\" ->data} {\"interactive computing\" \"literate programming\"} -> machines \"literate programming\" -> people {machines people} -> 🙉🙈🙊} \n",
       "\n",
       "* [Markdown](https://daringfireball.net/projects/markdown/) - Order, emphasis, and hierarchy in plain-text\n",
       "* [Statements & Expressions]() ~~[Von Neumann Architecture](https://en.wikipedia.org/wiki/Von_Neumann_programming_languages)~~\n",
       "* [$\\LaTeX$](https://en.wikipedia.org/wiki/laTeX)"
      ],
      "text/plain": [
       "<IPython.core.display.Markdown object>"
      ]
     },
     "metadata": {},
     "output_type": "display_data"
    },
    {
     "data": {
      "image/svg+xml": [
       "<?xml version=\"1.0\" encoding=\"UTF-8\" standalone=\"no\"?>\n",
       "<!DOCTYPE svg PUBLIC \"-//W3C//DTD SVG 1.1//EN\"\n",
       " \"http://www.w3.org/Graphics/SVG/1.1/DTD/svg11.dtd\">\n",
       "<!-- Generated by graphviz version 2.38.0 (20140413.2041)\n",
       " -->\n",
       "<!-- Title: %3 Pages: 1 -->\n",
       "<svg width=\"551pt\" height=\"152pt\"\n",
       " viewBox=\"0.00 0.00 551.17 152.00\" xmlns=\"http://www.w3.org/2000/svg\" xmlns:xlink=\"http://www.w3.org/1999/xlink\">\n",
       "<g id=\"graph0\" class=\"graph\" transform=\"scale(1 1) rotate(0) translate(4 148)\">\n",
       "<title>%3</title>\n",
       "<polygon fill=\"white\" stroke=\"none\" points=\"-4,4 -4,-148 547.166,-148 547.166,4 -4,4\"/>\n",
       "<g id=\"clust1\" class=\"cluster\"><title>clusterc</title>\n",
       "<polygon fill=\"none\" stroke=\"black\" points=\"8,-8 8,-136 288.922,-136 288.922,-8 8,-8\"/>\n",
       "<text text-anchor=\"middle\" x=\"148.461\" y=\"-120.8\" font-family=\"Times,serif\" font-size=\"14.00\">literate computing</text>\n",
       "</g>\n",
       "<!-- data -->\n",
       "<g id=\"node1\" class=\"node\"><title>data</title>\n",
       "<ellipse fill=\"none\" stroke=\"black\" cx=\"43\" cy=\"-61\" rx=\"27\" ry=\"18\"/>\n",
       "<text text-anchor=\"middle\" x=\"43\" y=\"-56.8\" font-family=\"Times,serif\" font-size=\"14.00\">data</text>\n",
       "</g>\n",
       "<!-- interactive computing -->\n",
       "<g id=\"node2\" class=\"node\"><title>interactive computing</title>\n",
       "<ellipse fill=\"none\" stroke=\"black\" cx=\"193.461\" cy=\"-88\" rx=\"87.4225\" ry=\"18\"/>\n",
       "<text text-anchor=\"middle\" x=\"193.461\" y=\"-83.8\" font-family=\"Times,serif\" font-size=\"14.00\">interactive computing</text>\n",
       "</g>\n",
       "<!-- data&#45;&gt;interactive computing -->\n",
       "<g id=\"edge1\" class=\"edge\"><title>data&#45;&gt;interactive computing</title>\n",
       "<path fill=\"none\" stroke=\"black\" d=\"M70.2001,-60.4734C88.1025,-62.4422 112.537,-66.4507 134.857,-70.9265\"/>\n",
       "<polygon fill=\"black\" stroke=\"black\" points=\"134.43,-74.4124 144.932,-73.0102 135.848,-67.5574 134.43,-74.4124\"/>\n",
       "</g>\n",
       "<!-- literate programming -->\n",
       "<g id=\"node3\" class=\"node\"><title>literate programming</title>\n",
       "<ellipse fill=\"none\" stroke=\"black\" cx=\"193.461\" cy=\"-34\" rx=\"85.0085\" ry=\"18\"/>\n",
       "<text text-anchor=\"middle\" x=\"193.461\" y=\"-29.8\" font-family=\"Times,serif\" font-size=\"14.00\">literate programming</text>\n",
       "</g>\n",
       "<!-- data&#45;&gt;literate programming -->\n",
       "<g id=\"edge3\" class=\"edge\"><title>data&#45;&gt;literate programming</title>\n",
       "<path fill=\"none\" stroke=\"black\" d=\"M66.5481,-51.8899C77.3568,-49.0275 91.0679,-45.9836 105.439,-43.1663\"/>\n",
       "<polygon fill=\"black\" stroke=\"black\" points=\"106.296,-46.5659 115.465,-41.2571 104.987,-39.6895 106.296,-46.5659\"/>\n",
       "</g>\n",
       "<!-- interactive computing&#45;&gt;data -->\n",
       "<g id=\"edge2\" class=\"edge\"><title>interactive computing&#45;&gt;data</title>\n",
       "<path fill=\"none\" stroke=\"black\" d=\"M113.827,-80.4386C100.542,-77.9587 87.446,-75.2239 76.2486,-72.5453\"/>\n",
       "<polygon fill=\"black\" stroke=\"black\" points=\"77.0993,-69.1504 66.5481,-70.1101 75.3949,-75.9397 77.0993,-69.1504\"/>\n",
       "</g>\n",
       "<!-- machines -->\n",
       "<g id=\"node4\" class=\"node\"><title>machines</title>\n",
       "<ellipse fill=\"none\" stroke=\"black\" cx=\"360.425\" cy=\"-88\" rx=\"43.506\" ry=\"18\"/>\n",
       "<text text-anchor=\"middle\" x=\"360.425\" y=\"-83.8\" font-family=\"Times,serif\" font-size=\"14.00\">machines</text>\n",
       "</g>\n",
       "<!-- interactive computing&#45;&gt;machines -->\n",
       "<g id=\"edge5\" class=\"edge\"><title>interactive computing&#45;&gt;machines</title>\n",
       "<path fill=\"none\" stroke=\"black\" d=\"M281.291,-88C289.914,-88 298.474,-88 306.592,-88\"/>\n",
       "<polygon fill=\"black\" stroke=\"black\" points=\"306.609,-91.5001 316.609,-88 306.609,-84.5001 306.609,-91.5001\"/>\n",
       "</g>\n",
       "<!-- literate programming&#45;&gt;data -->\n",
       "<g id=\"edge4\" class=\"edge\"><title>literate programming&#45;&gt;data</title>\n",
       "<path fill=\"none\" stroke=\"black\" d=\"M145.231,-48.9258C124.192,-53.4248 99.8026,-57.7127 80.2354,-60.303\"/>\n",
       "<polygon fill=\"black\" stroke=\"black\" points=\"79.703,-56.8419 70.2001,-61.5266 80.5503,-63.7905 79.703,-56.8419\"/>\n",
       "</g>\n",
       "<!-- literate programming&#45;&gt;machines -->\n",
       "<g id=\"edge6\" class=\"edge\"><title>literate programming&#45;&gt;machines</title>\n",
       "<path fill=\"none\" stroke=\"black\" d=\"M246.681,-48.0452C260.49,-51.9991 275.332,-56.465 288.922,-61 298.807,-64.2983 309.351,-68.1519 319.193,-71.8978\"/>\n",
       "<polygon fill=\"black\" stroke=\"black\" points=\"318.16,-75.2506 328.749,-75.5833 320.678,-68.7194 318.16,-75.2506\"/>\n",
       "</g>\n",
       "<!-- people -->\n",
       "<g id=\"node5\" class=\"node\"><title>people</title>\n",
       "<ellipse fill=\"none\" stroke=\"black\" cx=\"360.425\" cy=\"-34\" rx=\"33.8596\" ry=\"18\"/>\n",
       "<text text-anchor=\"middle\" x=\"360.425\" y=\"-29.8\" font-family=\"Times,serif\" font-size=\"14.00\">people</text>\n",
       "</g>\n",
       "<!-- literate programming&#45;&gt;people -->\n",
       "<g id=\"edge7\" class=\"edge\"><title>literate programming&#45;&gt;people</title>\n",
       "<path fill=\"none\" stroke=\"black\" d=\"M278.876,-34C291.864,-34 304.789,-34 316.36,-34\"/>\n",
       "<polygon fill=\"black\" stroke=\"black\" points=\"316.569,-37.5001 326.569,-34 316.569,-30.5001 316.569,-37.5001\"/>\n",
       "</g>\n",
       "<!-- 🙉🙈🙊 -->\n",
       "<g id=\"node6\" class=\"node\"><title>🙉🙈🙊</title>\n",
       "<ellipse fill=\"none\" stroke=\"black\" cx=\"491.547\" cy=\"-61\" rx=\"51.7379\" ry=\"21.7969\"/>\n",
       "<text text-anchor=\"middle\" x=\"491.547\" y=\"-61.2844\" font-family=\"Times,serif\" font-size=\"14.00\">🙉🙈🙊</text>\n",
       "</g>\n",
       "<!-- machines&#45;&gt;🙉🙈🙊 -->\n",
       "<g id=\"edge8\" class=\"edge\"><title>machines&#45;&gt;🙉🙈🙊</title>\n",
       "<path fill=\"none\" stroke=\"black\" d=\"M399.468,-80.0451C410.626,-77.7118 423.064,-75.1111 435.074,-72.5998\"/>\n",
       "<polygon fill=\"black\" stroke=\"black\" points=\"435.952,-75.992 445.024,-70.5192 434.519,-69.1401 435.952,-75.992\"/>\n",
       "</g>\n",
       "<!-- people&#45;&gt;🙉🙈🙊 -->\n",
       "<g id=\"edge9\" class=\"edge\"><title>people&#45;&gt;🙉🙈🙊</title>\n",
       "<path fill=\"none\" stroke=\"black\" d=\"M392.026,-40.3986C404.871,-43.0847 420.225,-46.2952 434.945,-49.3732\"/>\n",
       "<polygon fill=\"black\" stroke=\"black\" points=\"434.491,-52.8539 444.995,-51.4749 435.923,-46.0021 434.491,-52.8539\"/>\n",
       "</g>\n",
       "</g>\n",
       "</svg>\n"
      ],
      "text/plain": [
       "<graphviz.files.Source at 0x10ef46da0>"
      ]
     },
     "metadata": {},
     "output_type": "display_data"
    }
   ],
   "source": [
    "#### Jupyter permits\n",
    "\n",
    "    digraph {rankdir=\"LR\"; subgraph clusterc{ label=\"literate computing\"; data->\"interactive computing\" ->data -> \"literate programming\" ->data} {\"interactive computing\" \"literate programming\"} -> machines \"literate programming\" -> people {machines people} -> 🙉🙈🙊} \n",
    "\n",
    "* [Markdown]({{computing.markdown}}) - Order, emphasis, and hierarchy in plain-text\n",
    "* [Statements & Expressions]() ~~[Von Neumann Architecture]({{computing.paradigms['Von_Neumann']}})~~\n",
    "* [$\\LaTeX$](https://en.wikipedia.org/wiki/laTeX)\n"
   ]
  },
  {
   "cell_type": "code",
   "execution_count": 100,
   "metadata": {},
   "outputs": [
    {
     "data": {
      "text/markdown": [
       "## [Jupyter Rich Display System](http://jeffskinnerbox.me/notebooks/ipython's-rich-display-system.html)\n",
       "    \n",
       "    from IPython.display import (\n",
       "        Audio, GeoJSON, HTML, \n",
       "        IFrame, Image, JSON, \n",
       "        Javascript, Latex, Markdown, \n",
       "        Math, SVG, VimeoVideo, \n",
       "        YouTubeVideo, display\n",
       "    )"
      ],
      "text/plain": [
       "<IPython.core.display.Markdown object>"
      ]
     },
     "metadata": {},
     "output_type": "display_data"
    }
   ],
   "source": [
    "## [Jupyter Rich Display System](http://jeffskinnerbox.me/notebooks/ipython's-rich-display-system.html)\n",
    "    \n",
    "    from IPython.display import (\n",
    "        Audio, GeoJSON, HTML, \n",
    "        IFrame, Image, JSON, \n",
    "        Javascript, Latex, Markdown, \n",
    "        Math, SVG, VimeoVideo, \n",
    "        YouTubeVideo, display\n",
    "    )"
   ]
  },
  {
   "cell_type": "code",
   "execution_count": 101,
   "metadata": {},
   "outputs": [
    {
     "data": {
      "text/markdown": [
       "    from ipywidgets import interact"
      ],
      "text/plain": [
       "<IPython.core.display.Markdown object>"
      ]
     },
     "metadata": {},
     "output_type": "display_data"
    }
   ],
   "source": [
    "    from ipywidgets import interact"
   ]
  },
  {
   "cell_type": "code",
   "execution_count": 106,
   "metadata": {},
   "outputs": [
    {
     "data": {
      "text/markdown": [
       "## Jupyter Macros\n",
       "\n",
       "Macros are an essential features of literate programming.  The Jupyter ecosystem provides quite a few ways to enhance your Jupyter experience.\n",
       "\n",
       "* [IPython magics](http://ipython.readthedocs.io/en/stable/interactive/magics.html)\n",
       "* [Widgets](https://ipywidgets.readthedocs.io/en/latest/)\n",
       "\n",
       "        @interact\n",
       "        def f(a=(-.5, .5, .001), b=list(range(0,900,10))):\n",
       "            print(b**a)\n",
       "            \n",
       "* [Rich Display System](http://jeffskinnerbox.me/notebooks/ipython's-rich-display-system.html)\n",
       "* [Jupyter Renderers](https://github.com/jupyterlab/jupyter-renderers)\n",
       "* [Jupyter lab extensions](http://jupyterlab.readthedocs.io/en/stable/user/extensions.html)\n",
       "* [28 Jupyter Notebook tips, tricks, and shortcuts](https://www.dataquest.io/blog/jupyter-notebook-tips-tricks-shortcuts/)\n",
       "* [nbextensions](https://carreau.gitbooks.io/jupyter-book/content/notebook-extensions.html)[✅](http://localhost:8888/tree#nbextensions_configurator)"
      ],
      "text/plain": [
       "<IPython.core.display.Markdown object>"
      ]
     },
     "metadata": {},
     "output_type": "display_data"
    },
    {
     "data": {
      "application/vnd.jupyter.widget-view+json": {
       "model_id": "1feb7439f22646729a3cec8926403823",
       "version_major": 2,
       "version_minor": 0
      },
      "text/html": [
       "<p>Failed to display Jupyter Widget of type <code>interactive</code>.</p>\n",
       "<p>\n",
       "  If you're reading this message in the Jupyter Notebook or JupyterLab Notebook, it may mean\n",
       "  that the widgets JavaScript is still loading. If this message persists, it\n",
       "  likely means that the widgets JavaScript library is either not installed or\n",
       "  not enabled. See the <a href=\"https://ipywidgets.readthedocs.io/en/stable/user_install.html\">Jupyter\n",
       "  Widgets Documentation</a> for setup instructions.\n",
       "</p>\n",
       "<p>\n",
       "  If you're reading this message in another frontend (for example, a static\n",
       "  rendering on GitHub or <a href=\"https://nbviewer.jupyter.org/\">NBViewer</a>),\n",
       "  it may mean that your frontend doesn't currently support widgets.\n",
       "</p>\n"
      ],
      "text/plain": [
       "interactive(children=(FloatSlider(value=0.0, description='a', max=0.5, min=-0.5, step=0.001), Dropdown(description='b', options=(0, 10, 20, 30, 40, 50, 60, 70, 80, 90, 100, 110, 120, 130, 140, 150, 160, 170, 180, 190, 200, 210, 220, 230, 240, 250, 260, 270, 280, 290, 300, 310, 320, 330, 340, 350, 360, 370, 380, 390, 400, 410, 420, 430, 440, 450, 460, 470, 480, 490, 500, 510, 520, 530, 540, 550, 560, 570, 580, 590, 600, 610, 620, 630, 640, 650, 660, 670, 680, 690, 700, 710, 720, 730, 740, 750, 760, 770, 780, 790, 800, 810, 820, 830, 840, 850, 860, 870, 880, 890), value=0), Output()), _dom_classes=('widget-interact',))"
      ]
     },
     "metadata": {},
     "output_type": "display_data"
    }
   ],
   "source": [
    "## Jupyter Macros\n",
    "\n",
    "Macros are an essential features of literate programming.  The Jupyter ecosystem provides quite a few ways to enhance your Jupyter experience.\n",
    "\n",
    "* [IPython magics](http://ipython.readthedocs.io/en/stable/interactive/magics.html)\n",
    "* [Widgets](https://ipywidgets.readthedocs.io/en/latest/)\n",
    "\n",
    "        @interact\n",
    "        def f(a=(-.5, .5, .001), b=list(range(0,900,10))):\n",
    "            print(b**a)\n",
    "            \n",
    "* [Rich Display System](http://jeffskinnerbox.me/notebooks/ipython's-rich-display-system.html)\n",
    "* [Jupyter Renderers](https://github.com/jupyterlab/jupyter-renderers)\n",
    "* [Jupyter lab extensions](http://jupyterlab.readthedocs.io/en/stable/user/extensions.html)\n",
    "* [28 Jupyter Notebook tips, tricks, and shortcuts]({{jupyter.tips['dataquest']}})\n",
    "* [nbextensions]({{jupyter.extensions}})[✅](http://localhost:8888/tree#nbextensions_configurator)"
   ]
  },
  {
   "cell_type": "code",
   "execution_count": 107,
   "metadata": {},
   "outputs": [
    {
     "data": {
      "text/markdown": [
       "---\n",
       "---\n",
       "---\n",
       "---\n",
       "---\n",
       "---\n",
       "---\n",
       "---\n",
       "---\n",
       "---\n",
       "---\n",
       "---\n",
       "---\n",
       "---\n",
       "---\n",
       "---\n",
       "---\n",
       "---\n",
       "---\n",
       "---\n",
       "\n",
       "\n",
       "## Jupyter Development Environments\n",
       "\n",
       "Jupyter provides core abstractions for other modern literate computing interfaces.\n",
       "\n",
       "### Browser\n",
       "* [classic](https://github.com/jupyter/notebook)\n",
       "* [lab](https://github.com/jupyterlab/jupyterlab)\n",
       "\n",
       "### Desktop\n",
       "\n",
       "Based on [Github Electron](<module 'ten.particles.github' from '/Users/tonyfast/_ten/ten/particles/github.ipynb'>)\n",
       "\n",
       "* [NetFlix nteract](https://github.com/nteract/)\n",
       "* [hydrogen](https://atom.io/packages/hydrogen)\n",
       "\n",
       "### Cloud\n",
       "\n",
       "* [jupyterhub](https://github.com/jupyterhub/jupyterhub)\n",
       "* [Microsoft Azure](https://notebooks.azure.com/)\n",
       "* [Google datalab](https://cloud.google.com/datalab/)\n",
       "* [cocalc](https://cocalc.com/)"
      ],
      "text/plain": [
       "<IPython.core.display.Markdown object>"
      ]
     },
     "metadata": {},
     "output_type": "display_data"
    }
   ],
   "source": [
    "{{Ⅎill}}\n",
    "\n",
    "## Jupyter Development Environments\n",
    "\n",
    "Jupyter provides core abstractions for other modern literate computing interfaces.\n",
    "\n",
    "### Browser\n",
    "* [classic](https://github.com/jupyter/notebook)\n",
    "* [lab](https://github.com/jupyterlab/jupyterlab)\n",
    "\n",
    "### Desktop\n",
    "\n",
    "Based on [Github Electron]({{github}})\n",
    "\n",
    "* [NetFlix nteract](https://github.com/nteract/)\n",
    "* [hydrogen](https://atom.io/packages/hydrogen)\n",
    "\n",
    "### Cloud\n",
    "\n",
    "* [jupyterhub](https://github.com/jupyterhub/jupyterhub)\n",
    "* [Microsoft Azure](https://notebooks.azure.com/)\n",
    "* [Google datalab](https://cloud.google.com/datalab/)\n",
    "* [cocalc](https://cocalc.com/)"
   ]
  },
  {
   "cell_type": "code",
   "execution_count": 84,
   "metadata": {},
   "outputs": [
    {
     "data": {
      "text/markdown": [
       "---\n",
       "---\n",
       "---\n",
       "---\n",
       "---\n",
       "---\n",
       "---\n",
       "---\n",
       "---\n",
       "---\n",
       "---\n",
       "---\n",
       "---\n",
       "---\n",
       "---\n",
       "---\n",
       "---\n",
       "---\n",
       "---\n",
       "---\n",
       "\n",
       "\n",
       "#  Jupyter is for documents\n",
       "\n",
       "    import nbconvert\n",
       "    print(nbconvert.__doc__)"
      ],
      "text/plain": [
       "<IPython.core.display.Markdown object>"
      ]
     },
     "metadata": {},
     "output_type": "display_data"
    },
    {
     "name": "stdout",
     "output_type": "stream",
     "text": [
      "Utilities for converting notebooks to and from different formats.\n"
     ]
    }
   ],
   "source": [
    "{{Ⅎill}}\n",
    "\n",
    "# {{topics[7]}}\n",
    "\n",
    "    import nbconvert\n",
    "    print(nbconvert.__doc__)"
   ]
  },
  {
   "cell_type": "code",
   "execution_count": 83,
   "metadata": {},
   "outputs": [
    {
     "data": {
      "text/markdown": [
       "# 👁❤️`nbconvert`\n",
       "\n",
       "    if __name__ == '__main__':\n",
       "        !jupyter nbconvert --to html \"$__file__\"\n",
       "        !jupyter nbconvert --to markdown \"$__file__\"\n",
       "        !jupyter nbconvert --to python \"$__file__\"\n",
       "        # !jupyter nbconvert --to slides $__file__ \n",
       "        %rm technical.py\n",
       "\n",
       "---"
      ],
      "text/plain": [
       "<IPython.core.display.Markdown object>"
      ]
     },
     "metadata": {},
     "output_type": "display_data"
    },
    {
     "name": "stdout",
     "output_type": "stream",
     "text": [
      "[NbConvertApp] Converting notebook technical.ipynb to html\n",
      "[NbConvertApp] Writing 338941 bytes to technical.html\n",
      "[NbConvertApp] Converting notebook technical.ipynb to markdown\n",
      "[NbConvertApp] Support files will be in technical_files/\n",
      "[NbConvertApp] Making directory technical_files\n",
      "[NbConvertApp] Making directory technical_files\n",
      "[NbConvertApp] Making directory technical_files\n",
      "[NbConvertApp] Making directory technical_files\n",
      "[NbConvertApp] Writing 32042 bytes to technical.md\n",
      "[NbConvertApp] Converting notebook technical.ipynb to python\n",
      "[NbConvertApp] Writing 7882 bytes to technical.py\n"
     ]
    }
   ],
   "source": [
    "# 👁❤️`nbconvert`\n",
    "\n",
    "    if __name__ == '__main__':\n",
    "        !jupyter nbconvert --to html \"$__file__\"\n",
    "        !jupyter nbconvert --to markdown \"$__file__\"\n",
    "        !jupyter nbconvert --to python \"$__file__\"\n",
    "        # !jupyter nbconvert --to slides $__file__ \n",
    "        %rm technical.py\n",
    "\n",
    "---"
   ]
  },
  {
   "cell_type": "code",
   "execution_count": 26,
   "metadata": {},
   "outputs": [
    {
     "data": {
      "text/markdown": [
       "    http://nbviewer.jupyter.org/"
      ],
      "text/plain": [
       "<IPython.core.display.Markdown object>"
      ]
     },
     "metadata": {},
     "output_type": "display_data"
    },
    {
     "data": {
      "text/html": [
       "\n",
       "        <iframe\n",
       "            width=\"800\"\n",
       "            height=\"600\"\n",
       "            src=\"http://nbviewer.jupyter.org/\"\n",
       "            frameborder=\"0\"\n",
       "            allowfullscreen\n",
       "        ></iframe>\n",
       "        "
      ],
      "text/plain": [
       "<IPython.lib.display.IFrame at 0x1095b8780>"
      ]
     },
     "metadata": {},
     "output_type": "display_data"
    }
   ],
   "source": [
    "    http://nbviewer.jupyter.org/"
   ]
  },
  {
   "cell_type": "code",
   "execution_count": 21,
   "metadata": {},
   "outputs": [
    {
     "data": {
      "text/markdown": [
       "    https://blog.github.com/2015-05-07-github-jupyter-notebooks-3/"
      ],
      "text/plain": [
       "<IPython.core.display.Markdown object>"
      ]
     },
     "metadata": {},
     "output_type": "display_data"
    },
    {
     "data": {
      "text/html": [
       "\n",
       "        <iframe\n",
       "            width=\"800\"\n",
       "            height=\"600\"\n",
       "            src=\"https://blog.github.com/2015-05-07-github-jupyter-notebooks-3/\"\n",
       "            frameborder=\"0\"\n",
       "            allowfullscreen\n",
       "        ></iframe>\n",
       "        "
      ],
      "text/plain": [
       "<IPython.lib.display.IFrame at 0x10a632240>"
      ]
     },
     "metadata": {},
     "output_type": "display_data"
    }
   ],
   "source": [
    "    https://blog.github.com/2015-05-07-github-jupyter-notebooks-3/"
   ]
  },
  {
   "cell_type": "code",
   "execution_count": 86,
   "metadata": {},
   "outputs": [
    {
     "data": {
      "text/markdown": [
       "    https://getnikola.com/blog/\n",
       "\n",
       "### Blogging with Jupyter\n",
       "\n",
       "\n",
       "@damianavila"
      ],
      "text/plain": [
       "<IPython.core.display.Markdown object>"
      ]
     },
     "metadata": {},
     "output_type": "display_data"
    },
    {
     "data": {
      "text/html": [
       "\n",
       "        <iframe\n",
       "            width=\"800\"\n",
       "            height=\"600\"\n",
       "            src=\"https://getnikola.com/blog/\"\n",
       "            frameborder=\"0\"\n",
       "            allowfullscreen\n",
       "        ></iframe>\n",
       "        "
      ],
      "text/plain": [
       "<IPython.lib.display.IFrame at 0x10eb59518>"
      ]
     },
     "metadata": {},
     "output_type": "display_data"
    }
   ],
   "source": [
    "    https://getnikola.com/blog/\n",
    "\n",
    "### Blogging with Jupyter\n",
    "\n",
    "\n",
    "@damianavila"
   ]
  },
  {
   "cell_type": "code",
   "execution_count": 87,
   "metadata": {},
   "outputs": [
    {
     "data": {
      "text/markdown": [
       "---\n",
       "---\n",
       "---\n",
       "---\n",
       "---\n",
       "---\n",
       "---\n",
       "---\n",
       "---\n",
       "---\n",
       "---\n",
       "---\n",
       "---\n",
       "---\n",
       "---\n",
       "---\n",
       "---\n",
       "---\n",
       "---\n",
       "---\n",
       "\n",
       "\n",
       "# Jupyter's Technical Value\n",
       "\n",
       "0. Jupyter is data \n",
       "0. Jupyter is literate computing\n",
       "0. Jupyter is for documents"
      ],
      "text/plain": [
       "<IPython.core.display.Markdown object>"
      ]
     },
     "metadata": {},
     "output_type": "display_data"
    }
   ],
   "source": [
    "{{Ⅎill}}\n",
    "\n",
    "# Jupyter's Technical Value\n",
    "\n",
    "{{bullets(5, 8).replace('*', '0.')}}"
   ]
  },
  {
   "cell_type": "code",
   "execution_count": 23,
   "metadata": {},
   "outputs": [
    {
     "data": {
      "text/markdown": [
       "## 🤛[The History and Community.](history.ipynb)\n",
       "## 🤜[Collaborative Literate Computing.](collaboration.ipynb)"
      ],
      "text/plain": [
       "<IPython.core.display.Markdown object>"
      ]
     },
     "metadata": {},
     "output_type": "display_data"
    }
   ],
   "source": [
    "## 🤛[The History and Community.](history.ipynb)\n",
    "## 🤜[Collaborative Literate Computing.](collaboration.ipynb)"
   ]
  },
  {
   "cell_type": "code",
   "execution_count": null,
   "metadata": {},
   "outputs": [],
   "source": []
  }
 ],
 "metadata": {
  "celltoolbar": "Slideshow",
  "kernelspec": {
   "display_name": "p6",
   "language": "python",
   "name": "other-env"
  },
  "language_info": {
   "codemirror_mode": {
    "name": "ipython",
    "version": 3
   },
   "file_extension": ".py",
   "mimetype": "text/x-python",
   "name": "python",
   "nbconvert_exporter": "python",
   "pygments_lexer": "ipython3",
   "version": "3.6.3"
  }
 },
 "nbformat": 4,
 "nbformat_minor": 2
}
