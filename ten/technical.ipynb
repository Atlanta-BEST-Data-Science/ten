{
 "cells": [
  {
   "cell_type": "markdown",
   "metadata": {},
   "source": [
    "⓶ `technical.ipynb`"
   ]
  },
  {
   "cell_type": "code",
   "execution_count": 1,
   "metadata": {},
   "outputs": [
    {
     "data": {
      "text/html": [
       "<style>\n",
       ".jp-RenderedHTMLCommon pre code {\n",
       "    text-decoration: line-through wavy;\n",
       "}\n",
       ".jp-RenderedHTMLCommon pre code:hover {\n",
       "    text-decoration: none;\n",
       "\n",
       "}\n",
       ".jp-Placeholder-content .jp-MoreHorizIcon {\n",
       "    background-size: 32px;\n",
       "}\n",
       "\n",
       "@import url(\"https://cdn.jsdelivr.net/npm/firacode@1.205.0/distr/fira_code.css\")\n",
       "\n",
       ".CodeMirror * {\n",
       "  font-family: 'Fira Code' !important; \n",
       "  font-variant-ligatures: initial !important;\n",
       "}\n",
       "\n",
       ".cm-string {\n",
       "    font-variant-ligatures: none;\n",
       "}\n",
       "</style><style>\n",
       ".jp-mod-presentationMode .jp-SideBar,\n",
       ".jp-mod-presentationMode #jp-top-panel {\n",
       "    opacity: 0.0;\n",
       "    transition: all 0.2s;\n",
       "}\n",
       ".jp-mod-presentationMode .jp-SideBar:hover,\n",
       ".jp-mod-presentationMode #jp-top-panel:hover {\n",
       "    opacity: 0.9;\n",
       "    transition: all 0.2s;\n",
       "}\n",
       "\n",
       "</style><style>\n",
       ".jp-mod-presentationMode.jp-ApplicationShell,\n",
       ".jp-mod-presentationMode .p-TabBar-content{\n",
       "    background-color: var(--jp-layout-color0);\n",
       "}\n",
       "</style><style>\n",
       ".jp-mod-presentationMode .p-DockPanel-widget,\n",
       ".jp-mod-presentationMode #jp-left-stack{\n",
       "    border-color: transparent;\n",
       "}\n",
       ".jp-mod-presentationMode .jp-Toolbar-item,\n",
       ".jp-mod-presentationMode .jp-Toolbar {\n",
       "    opacity: 0.1;\n",
       "    transition: all 0.2s;\n",
       "}\n",
       ".jp-mod-presentationMode .jp-Toolbar-item:hover,\n",
       ".jp-mod-presentationMode .jp-Toolbar:hover {\n",
       "    opacity: 0.9;\n",
       "    transition: all 0.2s;\n",
       "}\n",
       "\n",
       "</style><style>\n",
       ".jp-mod-presentationMode .jp-OutputPrompt,\n",
       ".jp-mod-presentationMode .jp-InputPrompt {\n",
       "    max-width: 2rem !important;\n",
       "    transition: all 0.2s;\n",
       "}\n",
       ".jp-mod-presentationMode .jp-Cell.jp-mod-selected .jp-OutputPrompt,\n",
       ".jp-mod-presentationMode .jp-Cell.jp-mod-selected .jp-InputPrompt,\n",
       ".jp-mod-presentationMode .jp-Cell:hover .jp-OutputPrompt,\n",
       ".jp-mod-presentationMode .jp-Cell:hover .jp-InputPrompt {\n",
       "    max-width: 10rem !important;\n",
       "    transition: all 0.2s;\n",
       "}\n",
       "\n",
       ".jp-mod-presentationMode .jp-Cell {\n",
       "    margin-bottom: 5rem;\n",
       "}\n",
       "\n",
       ".jp-mod-presentationMode hr {\n",
       "    opacity: 0.1;\n",
       "}\n",
       "</style>"
      ],
      "text/plain": [
       "<IPython.core.display.HTML object>"
      ]
     },
     "execution_count": 1,
     "metadata": {},
     "output_type": "execute_result"
    }
   ],
   "source": [
    "    \n",
    "    o = __name__ == '__main__'\n",
    "    from poser import *\n",
    "    if o:\n",
    "        %reload_ext rites.all\n",
    "    try: \n",
    "        from .utils.style import style\n",
    "        from .particles import jupyter, github\n",
    "        from .intro import bullets, topics\n",
    "    except: \n",
    "        from ten.utils.style import style\n",
    "        from ten.particles import jupyter, github\n",
    "        from ten.intro import bullets, topics\n",
    "    __file__ = globals().get('__file__', 'technical.ipynb')\n",
    "    Ⅎill = \"\"\"---\\n\"\"\"*20\n",
    "\n",
    "    style"
   ]
  },
  {
   "cell_type": "code",
   "execution_count": 2,
   "metadata": {},
   "outputs": [],
   "source": [
    "\n",
    "    try: \n",
    "        from .particles import refs as xx, teaching, publishing, recent, journalism, computing\n",
    "    except: \n",
    "        from ten.particles import refs as xx, teaching, publishing, recent, journalism, computing"
   ]
  },
  {
   "cell_type": "code",
   "execution_count": 3,
   "metadata": {},
   "outputs": [
    {
     "data": {
      "text/markdown": [
       "    digraph{rankdir=\"LR\"; subgraph cluster{label=\"Research Assets\"; code->data->machines->code}}\n",
       "\n",
       "# The Modern Scientist\n",
       "\n",
       "... uses computers as research equipment to generate data and reports.  They manage a lot information with varying degrees of expertise.  They focus on narrative over tooling."
      ],
      "text/plain": [
       "<IPython.core.display.Markdown object>"
      ]
     },
     "metadata": {},
     "output_type": "display_data"
    },
    {
     "data": {
      "image/svg+xml": [
       "<?xml version=\"1.0\" encoding=\"UTF-8\" standalone=\"no\"?>\n",
       "<!DOCTYPE svg PUBLIC \"-//W3C//DTD SVG 1.1//EN\"\n",
       " \"http://www.w3.org/Graphics/SVG/1.1/DTD/svg11.dtd\">\n",
       "<!-- Generated by graphviz version 2.38.0 (20140413.2041)\n",
       " -->\n",
       "<!-- Title: %3 Pages: 1 -->\n",
       "<svg width=\"307pt\" height=\"118pt\"\n",
       " viewBox=\"0.00 0.00 307.01 118.00\" xmlns=\"http://www.w3.org/2000/svg\" xmlns:xlink=\"http://www.w3.org/1999/xlink\">\n",
       "<g id=\"graph0\" class=\"graph\" transform=\"scale(1 1) rotate(0) translate(4 114)\">\n",
       "<title>%3</title>\n",
       "<polygon fill=\"white\" stroke=\"none\" points=\"-4,4 -4,-114 303.006,-114 303.006,4 -4,4\"/>\n",
       "<g id=\"clust1\" class=\"cluster\"><title>cluster</title>\n",
       "<polygon fill=\"none\" stroke=\"black\" points=\"8,-8 8,-102 291.006,-102 291.006,-8 8,-8\"/>\n",
       "<text text-anchor=\"middle\" x=\"149.503\" y=\"-86.8\" font-family=\"Times,serif\" font-size=\"14.00\">Research Assets</text>\n",
       "</g>\n",
       "<!-- code -->\n",
       "<g id=\"node1\" class=\"node\"><title>code</title>\n",
       "<ellipse fill=\"none\" stroke=\"black\" cx=\"43\" cy=\"-44\" rx=\"27\" ry=\"18\"/>\n",
       "<text text-anchor=\"middle\" x=\"43\" y=\"-39.8\" font-family=\"Times,serif\" font-size=\"14.00\">code</text>\n",
       "</g>\n",
       "<!-- data -->\n",
       "<g id=\"node2\" class=\"node\"><title>data</title>\n",
       "<ellipse fill=\"none\" stroke=\"black\" cx=\"133\" cy=\"-34\" rx=\"27\" ry=\"18\"/>\n",
       "<text text-anchor=\"middle\" x=\"133\" y=\"-29.8\" font-family=\"Times,serif\" font-size=\"14.00\">data</text>\n",
       "</g>\n",
       "<!-- code&#45;&gt;data -->\n",
       "<g id=\"edge1\" class=\"edge\"><title>code&#45;&gt;data</title>\n",
       "<path fill=\"none\" stroke=\"black\" d=\"M69.9269,-41.0538C78.1623,-40.1179 87.4201,-39.0659 96.2226,-38.0656\"/>\n",
       "<polygon fill=\"black\" stroke=\"black\" points=\"96.7175,-41.532 106.258,-36.9252 95.9271,-34.5768 96.7175,-41.532\"/>\n",
       "</g>\n",
       "<!-- machines -->\n",
       "<g id=\"node3\" class=\"node\"><title>machines</title>\n",
       "<ellipse fill=\"none\" stroke=\"black\" cx=\"239.503\" cy=\"-44\" rx=\"43.506\" ry=\"18\"/>\n",
       "<text text-anchor=\"middle\" x=\"239.503\" y=\"-39.8\" font-family=\"Times,serif\" font-size=\"14.00\">machines</text>\n",
       "</g>\n",
       "<!-- data&#45;&gt;machines -->\n",
       "<g id=\"edge2\" class=\"edge\"><title>data&#45;&gt;machines</title>\n",
       "<path fill=\"none\" stroke=\"black\" d=\"M159.832,-36.4719C167.999,-37.2534 177.335,-38.1468 186.654,-39.0385\"/>\n",
       "<polygon fill=\"black\" stroke=\"black\" points=\"186.415,-42.5316 196.703,-40.0001 187.082,-35.5634 186.415,-42.5316\"/>\n",
       "</g>\n",
       "<!-- machines&#45;&gt;code -->\n",
       "<g id=\"edge3\" class=\"edge\"><title>machines&#45;&gt;code</title>\n",
       "<path fill=\"none\" stroke=\"black\" d=\"M202.418,-53.501C189.178,-56.5387 174.004,-59.501 160,-61 136.136,-63.5543 129.785,-64.2018 106,-61 96.4146,-59.7097 86.2144,-57.345 76.9139,-54.7812\"/>\n",
       "<polygon fill=\"black\" stroke=\"black\" points=\"77.8267,-51.4016 67.2467,-51.9624 75.8672,-58.1218 77.8267,-51.4016\"/>\n",
       "</g>\n",
       "</g>\n",
       "</svg>\n"
      ],
      "text/plain": [
       "<graphviz.files.Source at 0x113d9c630>"
      ]
     },
     "metadata": {},
     "output_type": "display_data"
    }
   ],
   "source": [
    "    digraph{rankdir=\"LR\"; subgraph cluster{label=\"Research Assets\"; code->data->machines->code}}\n",
    "\n",
    "# The Modern Scientist\n",
    "\n",
    "... uses computers as research equipment to generate data and reports.  They manage a lot information with varying degrees of expertise.  They focus on narrative over tooling."
   ]
  },
  {
   "cell_type": "code",
   "execution_count": 4,
   "metadata": {},
   "outputs": [
    {
     "data": {
      "text/markdown": [
       "# Jupyter's Technical Value\n",
       "\n",
       "0. Jupyter is data \n",
       "0. Jupyter is literate computing\n",
       "0. Jupyter is for documents"
      ],
      "text/plain": [
       "<IPython.core.display.Markdown object>"
      ]
     },
     "metadata": {},
     "output_type": "display_data"
    }
   ],
   "source": [
    "# Jupyter's Technical Value\n",
    "\n",
    "{{bullets(5, 8).replace('*', '0.')}}"
   ]
  },
  {
   "cell_type": "code",
   "execution_count": 5,
   "metadata": {},
   "outputs": [
    {
     "data": {
      "text/markdown": [
       "---\n",
       "---\n",
       "---\n",
       "---\n",
       "---\n",
       "---\n",
       "---\n",
       "---\n",
       "---\n",
       "---\n",
       "---\n",
       "---\n",
       "---\n",
       "---\n",
       "---\n",
       "---\n",
       "---\n",
       "---\n",
       "---\n",
       "---\n",
       "\n",
       "\n",
       "#  Jupyter is data \n",
       "\n",
       "    digraph{rankdir=\"LR\"; subgraph clusterd{label=\"Big Data\"; Volume->Velocity->Variety->Veracity->Value}}"
      ],
      "text/plain": [
       "<IPython.core.display.Markdown object>"
      ]
     },
     "metadata": {},
     "output_type": "display_data"
    },
    {
     "data": {
      "image/svg+xml": [
       "<?xml version=\"1.0\" encoding=\"UTF-8\" standalone=\"no\"?>\n",
       "<!DOCTYPE svg PUBLIC \"-//W3C//DTD SVG 1.1//EN\"\n",
       " \"http://www.w3.org/Graphics/SVG/1.1/DTD/svg11.dtd\">\n",
       "<!-- Generated by graphviz version 2.38.0 (20140413.2041)\n",
       " -->\n",
       "<!-- Title: %3 Pages: 1 -->\n",
       "<svg width=\"549pt\" height=\"98pt\"\n",
       " viewBox=\"0.00 0.00 548.98 98.00\" xmlns=\"http://www.w3.org/2000/svg\" xmlns:xlink=\"http://www.w3.org/1999/xlink\">\n",
       "<g id=\"graph0\" class=\"graph\" transform=\"scale(1 1) rotate(0) translate(4 94)\">\n",
       "<title>%3</title>\n",
       "<polygon fill=\"white\" stroke=\"none\" points=\"-4,4 -4,-94 544.982,-94 544.982,4 -4,4\"/>\n",
       "<g id=\"clust1\" class=\"cluster\"><title>clusterd</title>\n",
       "<polygon fill=\"none\" stroke=\"black\" points=\"8,-8 8,-82 532.982,-82 532.982,-8 8,-8\"/>\n",
       "<text text-anchor=\"middle\" x=\"270.491\" y=\"-66.8\" font-family=\"Times,serif\" font-size=\"14.00\">Big Data</text>\n",
       "</g>\n",
       "<!-- Volume -->\n",
       "<g id=\"node1\" class=\"node\"><title>Volume</title>\n",
       "<ellipse fill=\"none\" stroke=\"black\" cx=\"53.4577\" cy=\"-34\" rx=\"37.4154\" ry=\"18\"/>\n",
       "<text text-anchor=\"middle\" x=\"53.4577\" y=\"-29.8\" font-family=\"Times,serif\" font-size=\"14.00\">Volume</text>\n",
       "</g>\n",
       "<!-- Velocity -->\n",
       "<g id=\"node2\" class=\"node\"><title>Velocity</title>\n",
       "<ellipse fill=\"none\" stroke=\"black\" cx=\"166.493\" cy=\"-34\" rx=\"39.6558\" ry=\"18\"/>\n",
       "<text text-anchor=\"middle\" x=\"166.493\" y=\"-29.8\" font-family=\"Times,serif\" font-size=\"14.00\">Velocity</text>\n",
       "</g>\n",
       "<!-- Volume&#45;&gt;Velocity -->\n",
       "<g id=\"edge1\" class=\"edge\"><title>Volume&#45;&gt;Velocity</title>\n",
       "<path fill=\"none\" stroke=\"black\" d=\"M91.1226,-34C99.2061,-34 107.895,-34 116.381,-34\"/>\n",
       "<polygon fill=\"black\" stroke=\"black\" points=\"116.578,-37.5001 126.578,-34 116.578,-30.5001 116.578,-37.5001\"/>\n",
       "</g>\n",
       "<!-- Variety -->\n",
       "<g id=\"node3\" class=\"node\"><title>Variety</title>\n",
       "<ellipse fill=\"none\" stroke=\"black\" cx=\"277.715\" cy=\"-34\" rx=\"35.7887\" ry=\"18\"/>\n",
       "<text text-anchor=\"middle\" x=\"277.715\" y=\"-29.8\" font-family=\"Times,serif\" font-size=\"14.00\">Variety</text>\n",
       "</g>\n",
       "<!-- Velocity&#45;&gt;Variety -->\n",
       "<g id=\"edge2\" class=\"edge\"><title>Velocity&#45;&gt;Variety</title>\n",
       "<path fill=\"none\" stroke=\"black\" d=\"M206.308,-34C214.591,-34 223.403,-34 231.89,-34\"/>\n",
       "<polygon fill=\"black\" stroke=\"black\" points=\"232.023,-37.5001 242.023,-34 232.023,-30.5001 232.023,-37.5001\"/>\n",
       "</g>\n",
       "<!-- Veracity -->\n",
       "<g id=\"node4\" class=\"node\"><title>Veracity</title>\n",
       "<ellipse fill=\"none\" stroke=\"black\" cx=\"388.928\" cy=\"-34\" rx=\"39.6385\" ry=\"18\"/>\n",
       "<text text-anchor=\"middle\" x=\"388.928\" y=\"-29.8\" font-family=\"Times,serif\" font-size=\"14.00\">Veracity</text>\n",
       "</g>\n",
       "<!-- Variety&#45;&gt;Veracity -->\n",
       "<g id=\"edge3\" class=\"edge\"><title>Variety&#45;&gt;Veracity</title>\n",
       "<path fill=\"none\" stroke=\"black\" d=\"M313.571,-34C321.737,-34 330.584,-34 339.231,-34\"/>\n",
       "<polygon fill=\"black\" stroke=\"black\" points=\"339.238,-37.5001 349.238,-34 339.238,-30.5001 339.238,-37.5001\"/>\n",
       "</g>\n",
       "<!-- Value -->\n",
       "<g id=\"node5\" class=\"node\"><title>Value</title>\n",
       "<ellipse fill=\"none\" stroke=\"black\" cx=\"494.74\" cy=\"-34\" rx=\"30.4862\" ry=\"18\"/>\n",
       "<text text-anchor=\"middle\" x=\"494.74\" y=\"-29.8\" font-family=\"Times,serif\" font-size=\"14.00\">Value</text>\n",
       "</g>\n",
       "<!-- Veracity&#45;&gt;Value -->\n",
       "<g id=\"edge4\" class=\"edge\"><title>Veracity&#45;&gt;Value</title>\n",
       "<path fill=\"none\" stroke=\"black\" d=\"M428.584,-34C437.026,-34 445.97,-34 454.437,-34\"/>\n",
       "<polygon fill=\"black\" stroke=\"black\" points=\"454.464,-37.5001 464.464,-34 454.464,-30.5001 454.464,-37.5001\"/>\n",
       "</g>\n",
       "</g>\n",
       "</svg>\n"
      ],
      "text/plain": [
       "<graphviz.files.Source at 0x11370ffd0>"
      ]
     },
     "metadata": {},
     "output_type": "display_data"
    }
   ],
   "source": [
    "{{Ⅎill}}\n",
    "\n",
    "# {{topics[5]}}\n",
    "\n",
    "    digraph{rankdir=\"LR\"; subgraph clusterd{label=\"Big Data\"; Volume->Velocity->Variety->Veracity->Value}}"
   ]
  },
  {
   "cell_type": "code",
   "execution_count": 6,
   "metadata": {},
   "outputs": [
    {
     "data": {
      "text/markdown": [
       "### Everyone has more data than they know what to do with."
      ],
      "text/plain": [
       "<IPython.core.display.Markdown object>"
      ]
     },
     "metadata": {},
     "output_type": "display_data"
    }
   ],
   "source": [
    "### Everyone has more data than they know what to do with."
   ]
  },
  {
   "cell_type": "code",
   "execution_count": 7,
   "metadata": {},
   "outputs": [
    {
     "data": {
      "text/markdown": [
       "# Jupyter *en*code*s* process as data.\n",
       "\n",
       "Code🆙Data🆙"
      ],
      "text/plain": [
       "<IPython.core.display.Markdown object>"
      ]
     },
     "metadata": {},
     "output_type": "display_data"
    }
   ],
   "source": [
    "# Jupyter *en*code*s* process as data.\n",
    "\n",
    "Code🆙Data🆙"
   ]
  },
  {
   "cell_type": "code",
   "execution_count": 8,
   "metadata": {},
   "outputs": [
    {
     "data": {
      "text/markdown": [
       "## Jupyter notebooks are `json`.  \n",
       "\n",
       "\n",
       "    with open('technical.ipynb') as file: \n",
       "        nb = __import__('json').load(file)\n",
       "\n",
       "#### `nbformat` provides validates our data for past, present, and future formats\n",
       "\n",
       "    from nbformat import v1, v2, v3, v4, ValidationError \n",
       "    with open('technical.ipynb') as file: \n",
       "        nb = __import__('nbformat').read(file, as_version=4)\n",
       "\n",
       "\n",
       "It assures our code is formatted correctly.\n",
       "    \n",
       "    try: \n",
       "        v4.new_notebook(cells=dict())    \n",
       "    except ValidationError as Exception: print(Exception)\n",
       "---"
      ],
      "text/plain": [
       "<IPython.core.display.Markdown object>"
      ]
     },
     "metadata": {},
     "output_type": "display_data"
    },
    {
     "name": "stdout",
     "output_type": "stream",
     "text": [
      "{} is not of type 'array'\n",
      "\n",
      "Failed validating 'type' in notebook['properties']['cells']:\n",
      "\n",
      "On instance['cells']:\n",
      "{}\n"
     ]
    }
   ],
   "source": [
    "## Jupyter notebooks are `json`.  \n",
    "\n",
    "\n",
    "    with open('{{__file__}}') as file: \n",
    "        nb = __import__('json').load(file)\n",
    "\n",
    "#### `nbformat` provides validates our data for past, present, and future formats\n",
    "\n",
    "    from nbformat import v1, v2, v3, v4, ValidationError \n",
    "    with open('{{__file__}}') as file: \n",
    "        nb = __import__('nbformat').read(file, as_version=4)\n",
    "\n",
    "\n",
    "It assures our code is formatted correctly.\n",
    "    \n",
    "    try: \n",
    "        v4.new_notebook(cells=dict())    \n",
    "    except ValidationError as Exception: print(Exception)\n",
    "---"
   ]
  },
  {
   "cell_type": "code",
   "execution_count": 9,
   "metadata": {},
   "outputs": [
    {
     "data": {
      "text/markdown": [
       "## Turning this presentation into [tidy data](https://www.google.com/search?q=tidy+data&oq=tidy+data&aqs=chrome..69i57j0l5.1976j0j7&sourceid=chrome&ie=UTF-8)\n",
       "    \n",
       "    thisPresentation = (\n",
       "        the.Path().Path.rglob('*.ipynb')\n",
       "        .filter(the.str().contains('checkpoint').not_())\n",
       "        .map(λ[the.identity(), the.Path.read_text().json.loads().get('cells').pandas.DataFrame()])\n",
       "        .dict().pandas.concat()\n",
       "    )('.')"
      ],
      "text/plain": [
       "<IPython.core.display.Markdown object>"
      ]
     },
     "metadata": {},
     "output_type": "display_data"
    }
   ],
   "source": [
    "## Turning this presentation into [tidy data](https://www.google.com/search?q=tidy+data&oq=tidy+data&aqs=chrome..69i57j0l5.1976j0j7&sourceid=chrome&ie=UTF-8)\n",
    "    \n",
    "    thisPresentation = (\n",
    "        the.Path().Path.rglob('*.ipynb')\n",
    "        .filter(the.str().contains('checkpoint').not_())\n",
    "        .map(λ[the.identity(), the.Path.read_text().json.loads().get('cells').pandas.DataFrame()])\n",
    "        .dict().pandas.concat()\n",
    "    )('.')"
   ]
  },
  {
   "cell_type": "code",
   "execution_count": 11,
   "metadata": {},
   "outputs": [
    {
     "data": {
      "text/markdown": [
       "<div><style>    .dataframe thead tr:only-child th {        text-align: right;    }    .dataframe thead th {        text-align: left;    }    .dataframe tbody tr th {        vertical-align: top;    }</style><table border=\"1\" class=\"dataframe\">  <thead>    <tr style=\"text-align: right;\">      <th></th>      <th></th>      <th>cell_type</th>      <th>execution_count</th>      <th>metadata</th>      <th>outputs</th>      <th>source</th>    </tr>  </thead>  <tbody>    <tr>      <th rowspan=\"30\" valign=\"top\">collaboration.ipynb</th>      <th>0</th>      <td>markdown</td>      <td>NaN</td>      <td>{}</td>      <td>NaN</td>      <td>[⓷ `collaboration.ipynb`]</td>    </tr>    <tr>      <th>1</th>      <td>code</td>      <td>1.0</td>      <td>{}</td>      <td>[{'data': {'text/html': ['&lt;style&gt;\\n', '.jp-Ren...</td>      <td>[    \\n,     o = __name__ == '__main__'\\n,    ...</td>    </tr>    <tr>      <th>2</th>      <td>code</td>      <td>2.0</td>      <td>{}</td>      <td>[]</td>      <td>[\\n,     try: \\n,         from .particles impo...</td>    </tr>    <tr>      <th>3</th>      <td>code</td>      <td>3.0</td>      <td>{}</td>      <td>[{'data': {'text/markdown': ['---\\n', '---\\n',...</td>      <td>[{.{Ⅎill}}\\n, \\n, # The Modern Scientist\\n, \\n,...</td>    </tr>    <tr>      <th>4</th>      <td>code</td>      <td>4.0</td>      <td>{}</td>      <td>[{'data': {'text/markdown': ['# Jupyter for sh...</td>      <td>[# Jupyter for sharing and collaboration\\n, \\n...</td>    </tr>    <tr>      <th>5</th>      <td>code</td>      <td>5.0</td>      <td>{}</td>      <td>[{'data': {'text/markdown': ['---\\n', '---\\n',...</td>      <td>[{.{Ⅎill}}\\n, \\n, # {.{topics[8]}}\\n,     \\n,   ...</td>    </tr>    <tr>      <th>6</th>      <td>code</td>      <td>6.0</td>      <td>{}</td>      <td>[{'data': {'text/markdown': ['    digraph{rank...</td>      <td>[    digraph{rankdir=\"LR\";subgraph clusters{la...</td>    </tr>    <tr>      <th>7</th>      <td>code</td>      <td>7.0</td>      <td>{}</td>      <td>[{'data': {'text/markdown': ['---\\n', '---\\n',...</td>      <td>[{.{Ⅎill}}\\n, \\n, \\n, ## Jupyter for Publishing...</td>    </tr>    <tr>      <th>8</th>      <td>code</td>      <td>8.0</td>      <td>{}</td>      <td>[{'data': {'text/markdown': ['---\\n', '---\\n',...</td>      <td>[{.{Ⅎill}}\\n,     \\n, ## Jupyter for Teaching]</td>    </tr>    <tr>      <th>9</th>      <td>code</td>      <td>9.0</td>      <td>{}</td>      <td>[{'data': {'text/markdown': ['# At Georgia Tec...</td>      <td>[# At Georgia Tech\\n, \\n, * https://github.com...</td>    </tr>    <tr>      <th>10</th>      <td>code</td>      <td>10.0</td>      <td>{}</td>      <td>[{'data': {'text/markdown': ['    http://loren...</td>      <td>[    http://lorenabarba.com/tag/open-edx/]</td>    </tr>    <tr>      <th>11</th>      <td>code</td>      <td>11.0</td>      <td>{}</td>      <td>[{'data': {'text/markdown': [\"# [nbgrader](tea...</td>      <td>[# [nbgrader](teaching.nbgrader['embed'])\\n, \\...</td>    </tr>    <tr>      <th>12</th>      <td>code</td>      <td>12.0</td>      <td>{}</td>      <td>[{'data': {'text/markdown': ['    http://data8...</td>      <td>[    {.{teaching.bids['class']}}\\n,     \\n, # [...</td>    </tr>    <tr>      <th>13</th>      <td>code</td>      <td>13.0</td>      <td>{}</td>      <td>[{'data': {'text/markdown': ['&lt;blockquote clas...</td>      <td>[&lt;blockquote class=\"twitter-tweet\" data-lang=\"...</td>    </tr>    <tr>      <th>14</th>      <td>code</td>      <td>14.0</td>      <td>{}</td>      <td>[{'data': {'text/markdown': ['---\\n', '---\\n',...</td>      <td>[{.{Ⅎill}}\\n, \\n, ## Jupyter for profit\\n, \\n, ...</td>    </tr>    <tr>      <th>15</th>      <td>code</td>      <td>15.0</td>      <td>{}</td>      <td>[{'data': {'text/markdown': ['---\\n', '---\\n',...</td>      <td>[{.{Ⅎill}}\\n, \\n, \\n, ## Jupyter for Books]</td>    </tr>    <tr>      <th>16</th>      <td>code</td>      <td>37.0</td>      <td>{}</td>      <td>[{'data': {'text/markdown': ['# [Sebastian Ras...</td>      <td>[# {.{people.rasbt}}]</td>    </tr>    <tr>      <th>17</th>      <td>code</td>      <td>17.0</td>      <td>{}</td>      <td>[{'data': {'text/markdown': ['# [Python Machin...</td>      <td>[# [Python Machine Learning (2nd edition)](htt...</td>    </tr>    <tr>      <th>18</th>      <td>code</td>      <td>18.0</td>      <td>{}</td>      <td>[{'data': {'text/markdown': ['# [Introduction ...</td>      <td>[# [Introduction to Artificial Neural Networks...</td>    </tr>    <tr>      <th>19</th>      <td>code</td>      <td>36.0</td>      <td>{}</td>      <td>[{'data': {'text/markdown': ['# [Jake VanderPl...</td>      <td>[# {.{people.jakevdp}}]</td>    </tr>    <tr>      <th>20</th>      <td>code</td>      <td>20.0</td>      <td>{}</td>      <td>[{'data': {'text/markdown': ['## [Python Data ...</td>      <td>[## [Python Data Science Handbook]({.{publishin...</td>    </tr>    <tr>      <th>21</th>      <td>code</td>      <td>21.0</td>      <td>{}</td>      <td>[{'data': {'text/markdown': [\"# Immersive on d...</td>      <td>[# Immersive on demand notebooks with [O'Reill...</td>    </tr>    <tr>      <th>22</th>      <td>code</td>      <td>22.0</td>      <td>{}</td>      <td>[{'data': {'text/markdown': ['---\\n', '---\\n',...</td>      <td>[{.{Ⅎill}}\\n, \\n, # {.{topics[9]}}]</td>    </tr>    <tr>      <th>23</th>      <td>code</td>      <td>23.0</td>      <td>{}</td>      <td>[]</td>      <td>[    {.{ligo_tutorial}}\\n,     \\n,     \\n, ##  ...</td>    </tr>    <tr>      <th>24</th>      <td>code</td>      <td>24.0</td>      <td>{}</td>      <td>[{'data': {'text/markdown': ['    https://mybi...</td>      <td>[    https://mybinder.org]</td>    </tr>    <tr>      <th>25</th>      <td>code</td>      <td>25.0</td>      <td>{}</td>      <td>[{'data': {'text/markdown': ['    http://jupyt...</td>      <td>[    http://jupyterhub.readthedocs.io/en/latest/]</td>    </tr>    <tr>      <th>26</th>      <td>code</td>      <td>26.0</td>      <td>{}</td>      <td>[{'data': {'text/markdown': ['    http://zero-...</td>      <td>[    http://zero-to-jupyterhub.readthedocs.io/]</td>    </tr>    <tr>      <th>27</th>      <td>code</td>      <td>27.0</td>      <td>{}</td>      <td>[{'data': {'text/markdown': ['[![](https://ima...</td>      <td>[[![](https://image.slidesharecdn.com/xheoqqbx...</td>    </tr>    <tr>      <th>28</th>      <td>code</td>      <td>28.0</td>      <td>{}</td>      <td>[{'data': {'text/markdown': ['    https://www....</td>      <td>[    https://www.chanzuckerberg.com/wp-content...</td>    </tr>    <tr>      <th>29</th>      <td>code</td>      <td>29.0</td>      <td>{}</td>      <td>[{'data': {'text/markdown': ['---\\n', '---\\n',...</td>      <td>[{.{Ⅎill}}\\n, \\n, # {.{topics[10]}}\\n, \\n,     d...</td>    </tr>    <tr>      <th>...</th>      <th>...</th>      <td>...</td>      <td>...</td>      <td>...</td>      <td>...</td>      <td>...</td>    </tr>    <tr>      <th rowspan=\"5\" valign=\"top\">technical.ipynb</th>      <th>25</th>      <td>code</td>      <td>24.0</td>      <td>{}</td>      <td>[{'data': {'text/markdown': ['    https://blog...</td>      <td>[    https://blog.github.com/2015-05-07-github...</td>    </tr>    <tr>      <th>26</th>      <td>code</td>      <td>25.0</td>      <td>{}</td>      <td>[{'data': {'text/markdown': ['    https://getn...</td>      <td>[    https://getnikola.com/blog/\\n, \\n, ### Bl...</td>    </tr>    <tr>      <th>27</th>      <td>code</td>      <td>26.0</td>      <td>{}</td>      <td>[{'data': {'text/markdown': ['---\\n', '---\\n',...</td>      <td>[{.{Ⅎill}}\\n, \\n, # Jupyter's Technical Value\\n...</td>    </tr>    <tr>      <th>28</th>      <td>code</td>      <td>27.0</td>      <td>{}</td>      <td>[{'data': {'text/markdown': ['## 🤛[The History...</td>      <td>[## 🤛[The History and Community.](history.ipyn...</td>    </tr>    <tr>      <th>29</th>      <td>code</td>      <td>NaN</td>      <td>{}</td>      <td>[]</td>      <td>[]</td>    </tr>    <tr>      <th rowspan=\"8\" valign=\"top\">utils/badges.ipynb</th>      <th>0</th>      <td>code</td>      <td>1.0</td>      <td>{}</td>      <td>[]</td>      <td>[    __file__ = globals().get('__file__', 'bad...</td>    </tr>    <tr>      <th>1</th>      <td>code</td>      <td>2.0</td>      <td>{}</td>      <td>[]</td>      <td>[    @dataclass\\n,     class Github:\\n,       ...</td>    </tr>    <tr>      <th>2</th>      <td>code</td>      <td>13.0</td>      <td>{}</td>      <td>[]</td>      <td>[    @dataclass\\n,     class Person(Github):\\n...</td>    </tr>    <tr>      <th>3</th>      <td>code</td>      <td>9.0</td>      <td>{}</td>      <td>[]</td>      <td>[    @dataclass\\n,     class Project(Github):\\...</td>    </tr>    <tr>      <th>4</th>      <td>code</td>      <td>10.0</td>      <td>{}</td>      <td>[{'data': {'text/markdown': [\"# [jupyter/noteb...</td>      <td>[    __name__ == '__main__' and Project(github...</td>    </tr>    <tr>      <th>5</th>      <td>code</td>      <td>11.0</td>      <td>{}</td>      <td>[{'name': 'stdout', 'output_type': 'stream', '...</td>      <td>[    if __name__ == \"__main__\":\\n,         __i...</td>    </tr>    <tr>      <th>6</th>      <td>code</td>      <td>NaN</td>      <td>{}</td>      <td>[]</td>      <td>[]</td>    </tr>    <tr>      <th>7</th>      <td>code</td>      <td>NaN</td>      <td>{}</td>      <td>[]</td>      <td>[]</td>    </tr>    <tr>      <th rowspan=\"8\" valign=\"top\">utils/search.ipynb</th>      <th>0</th>      <td>markdown</td>      <td>NaN</td>      <td>{}</td>      <td>NaN</td>      <td>[    https://github.com/conda-forge/feather-fo...</td>    </tr>    <tr>      <th>1</th>      <td>code</td>      <td>1.0</td>      <td>{}</td>      <td>[]</td>      <td>[    o = __name__ == '__main__'\\n,     __file_...</td>    </tr>    <tr>      <th>2</th>      <td>code</td>      <td>2.0</td>      <td>{}</td>      <td>[{'data': {'text/markdown': ['    from feather...</td>      <td>[    from feather import write_dataframe, read...</td>    </tr>    <tr>      <th>3</th>      <td>code</td>      <td>3.0</td>      <td>{}</td>      <td>[{'data': {'text/markdown': ['    from inspect...</td>      <td>[    from inspect import signature]</td>    </tr>    <tr>      <th>4</th>      <td>code</td>      <td>4.0</td>      <td>{}</td>      <td>[{'data': {'text/markdown': ['The search tool ...</td>      <td>[The search tool will help in sorting through ...</td>    </tr>    <tr>      <th>5</th>      <td>code</td>      <td>5.0</td>      <td>{}</td>      <td>[{'data': {'text/markdown': ['    %rm ten.book...</td>      <td>[#     %rm ten.book.feather\\n,     \\n,     @da...</td>    </tr>    <tr>      <th>6</th>      <td>code</td>      <td>6.0</td>      <td>{}</td>      <td>[{'data': {'text/markdown': ['    book = Book(...</td>      <td>[    book = Book()\\n, \\n,     book[\"Materials ...</td>    </tr>    <tr>      <th>7</th>      <td>code</td>      <td>NaN</td>      <td>{}</td>      <td>[]</td>      <td>[    ]</td>    </tr>    <tr>      <th rowspan=\"7\" valign=\"top\">utils/style.ipynb</th>      <th>0</th>      <td>code</td>      <td>1.0</td>      <td>{}</td>      <td>[]</td>      <td>[    style = __import__('IPython').display.HTM...</td>    </tr>    <tr>      <th>1</th>      <td>code</td>      <td>2.0</td>      <td>{}</td>      <td>[]</td>      <td>[    style.data += \"\"\"&lt;style&gt;\\n,     .jp-mod-p...</td>    </tr>    <tr>      <th>2</th>      <td>code</td>      <td>18.0</td>      <td>{}</td>      <td>[]</td>      <td>[    style.data+=\"\"\"&lt;style&gt;\\n,     .jp-mod-pre...</td>    </tr>    <tr>      <th>3</th>      <td>code</td>      <td>19.0</td>      <td>{}</td>      <td>[]</td>      <td>[    style.data += \"\"\"&lt;style&gt;\\n,     .jp-mod-p...</td>    </tr>    <tr>      <th>4</th>      <td>code</td>      <td>28.0</td>      <td>{}</td>      <td>[]</td>      <td>[    style.data += \"\"\"&lt;style&gt;\\n,     .jp-mod-p...</td>    </tr>    <tr>      <th>5</th>      <td>code</td>      <td>29.0</td>      <td>{}</td>      <td>[{'data': {'text/html': ['&lt;style&gt;\\n', '.jp-Ren...</td>      <td>[    style]</td>    </tr>    <tr>      <th>6</th>      <td>code</td>      <td>NaN</td>      <td>{}</td>      <td>[]</td>      <td>[]</td>    </tr>    <tr>      <th rowspan=\"2\" valign=\"top\">utils/unittest.ipynb</th>      <th>0</th>      <td>code</td>      <td>11.0</td>      <td>{}</td>      <td>[{'data': {'text/markdown': [\"    if __name__ ...</td>      <td>[    if __name__ == '__main__':\\n,         %re...</td>    </tr>    <tr>      <th>1</th>      <td>code</td>      <td>12.0</td>      <td>{}</td>      <td>[{'data': {'text/markdown': ['    def unittest...</td>      <td>[    def unittest(*tuple):\\n,         \"\"\"Unitt...</td>    </tr>  </tbody></table><p>298 rows × 5 columns</p></div>"
      ],
      "text/plain": [
       "<IPython.core.display.Markdown object>"
      ]
     },
     "metadata": {},
     "output_type": "display_data"
    }
   ],
   "source": [
    "{{''.join(thisPresentation._repr_html_().replace('{{', '{.{').splitlines())}}"
   ]
  },
  {
   "cell_type": "code",
   "execution_count": null,
   "metadata": {},
   "outputs": [],
   "source": [
    "{{Ⅎill}}\n",
    "\n",
    "# {{topics[6]}}\n",
    "\n",
    "---\n",
    "\n",
    "> ## The purpose of computing is insight, not numbers.\n",
    "> - Richard Hamming"
   ]
  },
  {
   "cell_type": "code",
   "execution_count": null,
   "metadata": {},
   "outputs": [],
   "source": [
    "    graph {rankdir=\"LR\"; data--science--computing--data}\n",
    "\n",
    "#### [\"Literate computing\" and computational reproducibility: IPython in the age of data-driven journalism]({{computing.literate['ipython']}})\n",
    "> Our job with Jupyter~~IPython~~ is to think deeply about questions regarding the intersection of _**computing, data and science**_, but it's clear to me at this point that we can contribute in contexts beyond pure scientific research. I hope we'll be able to provide folks who have a _**direct intersection with the public**_, such as journalists, with tools that help a more informed and productive debate.\n",
    "\n",
    "> - Fernando Perez"
   ]
  },
  {
   "cell_type": "code",
   "execution_count": null,
   "metadata": {},
   "outputs": [],
   "source": [
    "## Interactive Computing\n",
    "\n",
    "\n",
    "#### [Fernando Perez]({{computing.people['perez']}}) - [The IPython notebook: a historical retrospective 👍]({{xx.ipython['history']}})    \n",
    "\n",
    "> I also read an article that mentioned two good interactive systems for Python, LazyPython and IPP, not surprisingly also created by scientists.  **I say this because the natural flow of scientific computing pretty much mandates a solid interactive environment**, so while other Python users and developers may like having occasional access to interactive facilities, **scientists more or less demand them**.  I contacted their authors,  Nathan Gray and Janko Hauser, seeking to join forces to create IPython;  they were both very gracious and let me use their code, but didn't have the time to participate in the effort.  *As any self-respecting graduate student with a dissertation deadline looming would do, I threw myself full-time into building the first 'real' IPython by merging my code with both of theirs* (eventually I did graduate, by the way)."
   ]
  },
  {
   "cell_type": "code",
   "execution_count": null,
   "metadata": {},
   "outputs": [],
   "source": [
    "    computing.licklider"
   ]
  },
  {
   "cell_type": "code",
   "execution_count": null,
   "metadata": {},
   "outputs": [],
   "source": [
    "* [Licklider](https://en.wikipedia.org/wiki/J._C._R._Licklider) - cybernetic, ai\n",
    "* [Englebart](http://americanhistory.si.edu/comphist/englebar.htm) - [Mother of all Demos](https://www.youtube.com/watch?v=yJDv-zdhzMY)\n",
    "\n",
    "    ![](https://deiimages.files.wordpress.com/2016/03/first_mouse.jpg)\n",
    "* [Alan Kay](https://medium.com/the-polymath-project/alan-kay-on-how-many-books-you-can-read-in-a-lifetime-e0f08682b13d) - object-oriented computing, graphical UI, the personal computer\n",
    "* [TBL](https://en.wikipedia.org/wiki/Tim_Berners-Lee) - The World Wide Web\n",
    "* [Stephen Wolfram](https://en.wikipedia.org/wiki/Stephen_Wolfram)\n",
    "* [Linus Torvalds](https://en.wikipedia.org/wiki/Linus_Torvalds) - [git](https://en.wikipedia.org/wiki/Git#History)\n",
    "* [Willian Stein](https://wstein.org/) [SageMath](http://www.sagemath.org/) - [CoCalc](https://cocalc.com/)"
   ]
  },
  {
   "cell_type": "code",
   "execution_count": null,
   "metadata": {},
   "outputs": [],
   "source": [
    "### Interactive computing is multi-objective\n",
    "\n",
    "Modern scientists must consider tools that improve their interactions with machines, not how fast the machine works.  \n",
    "\n",
    "#### Tips for interactive computing\n",
    "\n",
    "* <a href=\"https://en.wikipedia.org/wiki/Cache_(computing)\">Caching</a>\n",
    "    * Separating production data from archival research data\n",
    "    \n",
    "            from toolz import memoize\n",
    "            from functools import lru_cache\n",
    "        \n",
    "* [Parallelization](https://en.wikipedia.org/wiki/Parallel_computing)\n",
    "\n",
    "            from joblib import delayed, parallel\n",
    "            import ipyparallel\n",
    "    \n",
    "* [Functional Programming](http://toolz.readthedocs.io/en/latest/heritage.html) _because names are the worst_\n",
    "\n",
    "            from toolz import curry\n",
    "* [Reading over writing](https://en.wikipedia.org/wiki/Literate_programming)"
   ]
  },
  {
   "cell_type": "code",
   "execution_count": null,
   "metadata": {},
   "outputs": [],
   "source": [
    "{{Ⅎill}}\n",
    "\n",
    "> ## ... surely nobody wants to admit writing an illiterate program.\n",
    "\n",
    "## [Donald Knuth]({{computing.people['knuth']}}) - [Literate Programming]({{computing.literate['pdf']}})\n",
    "    \n",
    "* [$\\TeX$](https://en.wikipedia.org/wiki/TeX)\n",
    "* [The Art of Computer Programming](https://en.wikipedia.org/wiki/The_Art_of_Computer_Programming)\n",
    "* [40 years of tests!](http://yakshav.es/the-patron-saint-of-yakshaves/)\n",
    "* [Book of the Century](https://web.archive.org/web/20080820030403/http://www.americanscientist.org/bookshelf/pub/100-or-so-books-that-shaped-a-century-of-science)"
   ]
  },
  {
   "cell_type": "code",
   "execution_count": null,
   "metadata": {},
   "outputs": [],
   "source": [
    "#### Jupyter permits\n",
    "\n",
    "    digraph {rankdir=\"LR\"; subgraph clusterc{ label=\"literate computing\"; data->\"interactive computing\" ->data -> \"literate programming\" ->data} {\"interactive computing\" \"literate programming\"} -> machines \"literate programming\" -> people {machines people} -> 🙉🙈🙊} \n",
    "\n",
    "* [Markdown]({{computing.markdown}}) - Order, emphasis, and hierarchy in plain-text\n",
    "* <a href=\"https://en.wikipedia.org/wiki/Statement_(computer_science)\">Statements</a> & <a href=\"https://en.wikipedia.org/wiki/Expression_(computer_science)\">Expressions</a> ~~[Von Neumann Architecture]({{computing.paradigms['Von_Neumann']}})~~\n",
    "* [$\\LaTeX$](https://en.wikipedia.org/wiki/laTeX)\n"
   ]
  },
  {
   "cell_type": "code",
   "execution_count": null,
   "metadata": {},
   "outputs": [],
   "source": [
    "## [Jupyter Rich Display System](http://jeffskinnerbox.me/notebooks/ipython's-rich-display-system.html)\n",
    "    \n",
    "    from IPython.display import (\n",
    "        Audio, GeoJSON, HTML, \n",
    "        IFrame, Image, JSON, \n",
    "        Javascript, Latex, Markdown, \n",
    "        Math, SVG, VimeoVideo, \n",
    "        YouTubeVideo, display\n",
    "    )"
   ]
  },
  {
   "cell_type": "code",
   "execution_count": null,
   "metadata": {},
   "outputs": [],
   "source": [
    "## Jupyter Macros\n",
    "\n",
    "Macros are an essential features of literate programming.  The Jupyter ecosystem provides quite a few ways to enhance your Jupyter experience.\n",
    "\n",
    "* [IPython magics](http://ipython.readthedocs.io/en/stable/interactive/magics.html)\n",
    "* [Widgets](https://ipywidgets.readthedocs.io/en/latest/)\n",
    "\n",
    "        from ipywidgets import interact\n",
    "        @interact\n",
    "        def f(a=(-.5, .5, .001), b=list(range(0,900,10))):\n",
    "            print(b**a)\n",
    "            \n",
    "* [Rich Display System](http://jeffskinnerbox.me/notebooks/ipython's-rich-display-system.html)\n",
    "* [Jupyter Renderers](https://github.com/jupyterlab/jupyter-renderers)\n",
    "* [Jupyter lab extensions](http://jupyterlab.readthedocs.io/en/stable/user/extensions.html)\n",
    "* [28 Jupyter Notebook tips, tricks, and shortcuts]({{jupyter.tips['dataquest']}})\n",
    "* [nbextensions]({{jupyter.extensions}})[✅](http://localhost:8888/tree#nbextensions_configurator)"
   ]
  },
  {
   "cell_type": "code",
   "execution_count": null,
   "metadata": {},
   "outputs": [],
   "source": [
    "{{Ⅎill}}\n",
    "\n",
    "## Jupyter Development Environments\n",
    "\n",
    "Jupyter provides core abstractions for other modern literate computing interfaces.\n",
    "\n",
    "### Browser\n",
    "* [classic](https://github.com/jupyter/notebook)\n",
    "* [lab](https://github.com/jupyterlab/jupyterlab)\n",
    "\n",
    "### Desktop\n",
    "\n",
    "Based on [Github Electron]({{github}})\n",
    "\n",
    "* [NetFlix nteract](https://github.com/nteract/)\n",
    "* [hydrogen](https://atom.io/packages/hydrogen)\n",
    "\n",
    "### Cloud\n",
    "\n",
    "* [jupyterhub](https://github.com/jupyterhub/jupyterhub)\n",
    "* [Microsoft Azure](https://notebooks.azure.com/)\n",
    "* [Google datalab](https://cloud.google.com/datalab/)\n",
    "* [cocalc](https://cocalc.com/)"
   ]
  },
  {
   "cell_type": "code",
   "execution_count": null,
   "metadata": {},
   "outputs": [],
   "source": [
    "{{Ⅎill}}\n",
    "\n",
    "# {{topics[7]}}\n",
    "\n",
    "    import nbconvert\n",
    "    print(nbconvert.__doc__)"
   ]
  },
  {
   "cell_type": "code",
   "execution_count": null,
   "metadata": {},
   "outputs": [],
   "source": [
    "# 👁❤️`nbconvert`\n",
    "\n",
    "    if __name__ == '__main__':\n",
    "        !jupyter nbconvert --to html $__file__\n",
    "        !jupyter nbconvert --to markdown $__file__\n",
    "        !jupyter nbconvert --to python $__file__\n",
    "        # !jupyter nbconvert --to slides $__file__ \n",
    "        %rm technical.py\n",
    "\n",
    "---"
   ]
  },
  {
   "cell_type": "code",
   "execution_count": null,
   "metadata": {},
   "outputs": [],
   "source": [
    "    http://nbviewer.jupyter.org/"
   ]
  },
  {
   "cell_type": "code",
   "execution_count": null,
   "metadata": {},
   "outputs": [],
   "source": [
    "    https://blog.github.com/2015-05-07-github-jupyter-notebooks-3/"
   ]
  },
  {
   "cell_type": "code",
   "execution_count": null,
   "metadata": {},
   "outputs": [],
   "source": [
    "    https://getnikola.com/blog/\n",
    "\n",
    "### Blogging with Jupyter\n",
    "\n",
    "\n",
    "@damianavila"
   ]
  },
  {
   "cell_type": "code",
   "execution_count": null,
   "metadata": {},
   "outputs": [],
   "source": [
    "{{Ⅎill}}\n",
    "\n",
    "# Jupyter's Technical Value\n",
    "\n",
    "{{bullets(5, 8).replace('*', '0.')}}"
   ]
  },
  {
   "cell_type": "code",
   "execution_count": null,
   "metadata": {},
   "outputs": [],
   "source": [
    "## 🤛[The History and Community.](history.ipynb)\n",
    "## 🤜[Collaborative Literate Computing.](collaboration.ipynb)"
   ]
  },
  {
   "cell_type": "code",
   "execution_count": null,
   "metadata": {},
   "outputs": [],
   "source": []
  }
 ],
 "metadata": {
  "celltoolbar": "Slideshow",
  "kernelspec": {
   "display_name": "p6",
   "language": "python",
   "name": "other-env"
  },
  "language_info": {
   "codemirror_mode": {
    "name": "ipython",
    "version": 3
   },
   "file_extension": ".py",
   "mimetype": "text/x-python",
   "name": "python",
   "nbconvert_exporter": "python",
   "pygments_lexer": "ipython3",
   "version": "3.6.3"
  }
 },
 "nbformat": 4,
 "nbformat_minor": 2
}
