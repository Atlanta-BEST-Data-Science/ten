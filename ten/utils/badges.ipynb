{
 "cells": [
  {
   "cell_type": "code",
   "execution_count": 1,
   "metadata": {},
   "outputs": [],
   "source": [
    "    __file__ = globals().get('__file__', 'badges.ipynb')\n",
    "\n",
    "    from poser import *\n",
    "    __import__('requests_cache').install_cache(\n",
    "        str(a.Path()[x.parent](__file__) / 'ten'))\n",
    "    from dataclasses import dataclass, field\n",
    "\n",
    "    get = a.requests.get().methodcaller('json')"
   ]
  },
  {
   "cell_type": "code",
   "execution_count": 2,
   "metadata": {},
   "outputs": [],
   "source": [
    "    @dataclass\n",
    "    class Github:\n",
    "        api = 'users'\n",
    "        github: str = None\n",
    "        info: dict = field(default_factory=dict)\n",
    "\n",
    "        def __post_init__(Github): Github.info = a[(\n",
    "                f\"\"\"https://api.github.com/{Github.api}\"\"\"+\"\"\"/{}\"\"\"\n",
    "            ).format][get](Github.github)"
   ]
  },
  {
   "cell_type": "code",
   "execution_count": 13,
   "metadata": {},
   "outputs": [],
   "source": [
    "    @dataclass\n",
    "    class Person(Github):\n",
    "        \"\"\">>> assert Person(name=\"Tony Fast\", github=\"tonyfast\", linkedin='tonyfast', slideshare='tonyfast1', twitter='docfast')._repr_markdown_()\"\"\"\n",
    "        name: str = None\n",
    "        twitter: str = None\n",
    "        linkedin: str = None\n",
    "        slideshare: str = None\n",
    "        img: str = None\n",
    "            \n",
    "        def __str__(Person):return f\"\"\"[{Person.name}]({Person.info['html_url']})\"\"\"\n",
    "        \n",
    "        def _repr_markdown_(Person):\n",
    "            return f\"\"\"\n",
    "    \n",
    "    ![{Person.name}]({Person.img or Person.info['avatar_url']})\n",
    "    \n",
    "    > {Person.name} | \\\n",
    "    {\"[Github](https://github.com/\"+Person.github+\") | \" if Person.github else \"\"}\\\n",
    "    {\"[Linkedin](https://linkedin.com/in/\"+Person.linkedin+\") | \" if Person.linkedin else \"\"}\\\n",
    "    {\"[Twitter](https://twitter.com/\"+Person.twitter+\") | \" if Person.twitter else \"\"}\\\n",
    "    {\"[SlideShare](https://www.slideshare.net/\"+Person.slideshare+\") | \" if Person.slideshare else \"\"}\n",
    "    \n",
    "    \"\"\"\n",
    "\n",
    "    "
   ]
  },
  {
   "cell_type": "code",
   "execution_count": 9,
   "metadata": {},
   "outputs": [],
   "source": [
    "    @dataclass\n",
    "    class Project(Github):\n",
    "        def __post_init__(Project):\n",
    "            from importlib import import_module\n",
    "            super().__post_init__()\n",
    "            if Project.package:\n",
    "                Project.module = __import__(Project.package)\n",
    "                \n",
    "        def _repr_markdown_(Project):\n",
    "            return f\"\"\"# [{Project.info['full_name']}](Project.info['html_url'])\n",
    "\n",
    "    {'[![Binder](https://mybinder.org/badge.svg)](https://mybinder.org/v2/gh/'+Project.info['full_name']+'/master) |'\n",
    "     if Project.binder else ''} {Project.info['stargazers_count']} ⭐️ | {Project.info['forks']} 🍴\n",
    "    \"\"\"\n",
    "        api = 'repos'\n",
    "        binder: bool = False\n",
    "        docs: str = None\n",
    "        package: str = None\n",
    "        module: __import__('types').ModuleType = None \n",
    "        "
   ]
  },
  {
   "cell_type": "code",
   "execution_count": 10,
   "metadata": {},
   "outputs": [
    {
     "data": {
      "text/markdown": [
       "# [jupyter/notebook](Project.info['html_url'])\n",
       "\n",
       "[![Binder](https://mybinder.org/badge.svg)](https://mybinder.org/v2/gh/jupyter/notebook/master) | 3833 ⭐️ | 1311 🍴\n"
      ],
      "text/plain": [
       "Project(github='jupyter/notebook', info={'id': 33653601, 'name': 'notebook', 'full_name': 'jupyter/notebook', 'owner': {'login': 'jupyter', 'id': 7388996, 'avatar_url': 'https://avatars1.githubusercontent.com/u/7388996?v=4', 'gravatar_id': '', 'url': 'https://api.github.com/users/jupyter', 'html_url': 'https://github.com/jupyter', 'followers_url': 'https://api.github.com/users/jupyter/followers', 'following_url': 'https://api.github.com/users/jupyter/following{/other_user}', 'gists_url': 'https://api.github.com/users/jupyter/gists{/gist_id}', 'starred_url': 'https://api.github.com/users/jupyter/starred{/owner}{/repo}', 'subscriptions_url': 'https://api.github.com/users/jupyter/subscriptions', 'organizations_url': 'https://api.github.com/users/jupyter/orgs', 'repos_url': 'https://api.github.com/users/jupyter/repos', 'events_url': 'https://api.github.com/users/jupyter/events{/privacy}', 'received_events_url': 'https://api.github.com/users/jupyter/received_events', 'type': 'Organization', 'site_admin': False}, 'private': False, 'html_url': 'https://github.com/jupyter/notebook', 'description': 'Jupyter Interactive Notebook', 'fork': False, 'url': 'https://api.github.com/repos/jupyter/notebook', 'forks_url': 'https://api.github.com/repos/jupyter/notebook/forks', 'keys_url': 'https://api.github.com/repos/jupyter/notebook/keys{/key_id}', 'collaborators_url': 'https://api.github.com/repos/jupyter/notebook/collaborators{/collaborator}', 'teams_url': 'https://api.github.com/repos/jupyter/notebook/teams', 'hooks_url': 'https://api.github.com/repos/jupyter/notebook/hooks', 'issue_events_url': 'https://api.github.com/repos/jupyter/notebook/issues/events{/number}', 'events_url': 'https://api.github.com/repos/jupyter/notebook/events', 'assignees_url': 'https://api.github.com/repos/jupyter/notebook/assignees{/user}', 'branches_url': 'https://api.github.com/repos/jupyter/notebook/branches{/branch}', 'tags_url': 'https://api.github.com/repos/jupyter/notebook/tags', 'blobs_url': 'https://api.github.com/repos/jupyter/notebook/git/blobs{/sha}', 'git_tags_url': 'https://api.github.com/repos/jupyter/notebook/git/tags{/sha}', 'git_refs_url': 'https://api.github.com/repos/jupyter/notebook/git/refs{/sha}', 'trees_url': 'https://api.github.com/repos/jupyter/notebook/git/trees{/sha}', 'statuses_url': 'https://api.github.com/repos/jupyter/notebook/statuses/{sha}', 'languages_url': 'https://api.github.com/repos/jupyter/notebook/languages', 'stargazers_url': 'https://api.github.com/repos/jupyter/notebook/stargazers', 'contributors_url': 'https://api.github.com/repos/jupyter/notebook/contributors', 'subscribers_url': 'https://api.github.com/repos/jupyter/notebook/subscribers', 'subscription_url': 'https://api.github.com/repos/jupyter/notebook/subscription', 'commits_url': 'https://api.github.com/repos/jupyter/notebook/commits{/sha}', 'git_commits_url': 'https://api.github.com/repos/jupyter/notebook/git/commits{/sha}', 'comments_url': 'https://api.github.com/repos/jupyter/notebook/comments{/number}', 'issue_comment_url': 'https://api.github.com/repos/jupyter/notebook/issues/comments{/number}', 'contents_url': 'https://api.github.com/repos/jupyter/notebook/contents/{+path}', 'compare_url': 'https://api.github.com/repos/jupyter/notebook/compare/{base}...{head}', 'merges_url': 'https://api.github.com/repos/jupyter/notebook/merges', 'archive_url': 'https://api.github.com/repos/jupyter/notebook/{archive_format}{/ref}', 'downloads_url': 'https://api.github.com/repos/jupyter/notebook/downloads', 'issues_url': 'https://api.github.com/repos/jupyter/notebook/issues{/number}', 'pulls_url': 'https://api.github.com/repos/jupyter/notebook/pulls{/number}', 'milestones_url': 'https://api.github.com/repos/jupyter/notebook/milestones{/number}', 'notifications_url': 'https://api.github.com/repos/jupyter/notebook/notifications{?since,all,participating}', 'labels_url': 'https://api.github.com/repos/jupyter/notebook/labels{/name}', 'releases_url': 'https://api.github.com/repos/jupyter/notebook/releases{/id}', 'deployments_url': 'https://api.github.com/repos/jupyter/notebook/deployments', 'created_at': '2015-04-09T06:58:03Z', 'updated_at': '2018-03-21T16:49:43Z', 'pushed_at': '2018-03-19T16:06:23Z', 'git_url': 'git://github.com/jupyter/notebook.git', 'ssh_url': 'git@github.com:jupyter/notebook.git', 'clone_url': 'https://github.com/jupyter/notebook.git', 'svn_url': 'https://github.com/jupyter/notebook', 'homepage': 'https://jupyter-notebook.readthedocs.io/', 'size': 22354, 'stargazers_count': 3833, 'watchers_count': 3833, 'language': 'JavaScript', 'has_issues': True, 'has_projects': True, 'has_downloads': True, 'has_wiki': False, 'has_pages': False, 'forks_count': 1311, 'mirror_url': None, 'archived': False, 'open_issues_count': 875, 'license': {'key': 'other', 'name': 'Other', 'spdx_id': None, 'url': None}, 'forks': 1311, 'open_issues': 875, 'watchers': 3833, 'default_branch': 'master', 'organization': {'login': 'jupyter', 'id': 7388996, 'avatar_url': 'https://avatars1.githubusercontent.com/u/7388996?v=4', 'gravatar_id': '', 'url': 'https://api.github.com/users/jupyter', 'html_url': 'https://github.com/jupyter', 'followers_url': 'https://api.github.com/users/jupyter/followers', 'following_url': 'https://api.github.com/users/jupyter/following{/other_user}', 'gists_url': 'https://api.github.com/users/jupyter/gists{/gist_id}', 'starred_url': 'https://api.github.com/users/jupyter/starred{/owner}{/repo}', 'subscriptions_url': 'https://api.github.com/users/jupyter/subscriptions', 'organizations_url': 'https://api.github.com/users/jupyter/orgs', 'repos_url': 'https://api.github.com/users/jupyter/repos', 'events_url': 'https://api.github.com/users/jupyter/events{/privacy}', 'received_events_url': 'https://api.github.com/users/jupyter/received_events', 'type': 'Organization', 'site_admin': False}, 'network_count': 1311, 'subscribers_count': 212}, binder=True, docs=None, package='notebook', module=<module 'notebook' from '/Users/tonyfast/anaconda/envs/p6/lib/python3.6/site-packages/notebook/__init__.py'>)"
      ]
     },
     "execution_count": 10,
     "metadata": {},
     "output_type": "execute_result"
    }
   ],
   "source": [
    "    __name__ == '__main__' and Project(github='jupyter/notebook', binder=True, package='notebook')"
   ]
  },
  {
   "cell_type": "code",
   "execution_count": 11,
   "metadata": {},
   "outputs": [
    {
     "name": "stdout",
     "output_type": "stream",
     "text": [
      "Trying:\n",
      "    assert Person(name=\"Tony Fast\", github=\"tonyfast\", linkedin='tonyfast', slideshare='tonyfast1', twitter='docfast')._repr_markdown_()\n",
      "Expecting nothing\n",
      "ok\n",
      "7 items had no tests:\n",
      "    __main__\n",
      "    __main__.Github\n",
      "    __main__.Github.__post_init__\n",
      "    __main__.Person._repr_markdown_\n",
      "    __main__.Project\n",
      "    __main__.Project.__post_init__\n",
      "    __main__.Project._repr_markdown_\n",
      "1 items passed all tests:\n",
      "   1 tests in __main__.Person\n",
      "1 tests in 8 items.\n",
      "1 passed and 0 failed.\n",
      "Test passed.\n"
     ]
    }
   ],
   "source": [
    "    if __name__ == \"__main__\":\n",
    "        __import__('doctest').testmod(verbose=2)"
   ]
  },
  {
   "cell_type": "code",
   "execution_count": null,
   "metadata": {},
   "outputs": [],
   "source": []
  },
  {
   "cell_type": "code",
   "execution_count": null,
   "metadata": {},
   "outputs": [],
   "source": []
  }
 ],
 "metadata": {
  "kernelspec": {
   "display_name": "p6",
   "language": "python",
   "name": "other-env"
  },
  "language_info": {
   "codemirror_mode": {
    "name": "ipython",
    "version": 3
   },
   "file_extension": ".py",
   "mimetype": "text/x-python",
   "name": "python",
   "nbconvert_exporter": "python",
   "pygments_lexer": "ipython3",
   "version": "3.6.3"
  }
 },
 "nbformat": 4,
 "nbformat_minor": 2
}
