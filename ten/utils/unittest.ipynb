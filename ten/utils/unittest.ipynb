{
 "cells": [
  {
   "cell_type": "code",
   "execution_count": 11,
   "metadata": {},
   "outputs": [
    {
     "data": {
      "text/markdown": [
       "    if __name__ == '__main__':\n",
       "        %reload_ext rites.all\n",
       "    from poser import *"
      ],
      "text/plain": [
       "<IPython.core.display.Markdown object>"
      ]
     },
     "metadata": {},
     "output_type": "display_data"
    }
   ],
   "source": [
    "    if __name__ == '__main__':\n",
    "        %reload_ext rites.all\n",
    "    from poser import *\n",
    "    __all__ = 'unittest',"
   ]
  },
  {
   "cell_type": "code",
   "execution_count": 12,
   "metadata": {},
   "outputs": [
    {
     "data": {
      "text/markdown": [
       "    def unittest(*tuple):\n",
       "        \"\"\"Unittest a function or class.\"\"\"\n",
       "        from unittest import TestSuite, TestResult, FunctionTestCase, TestLoader\n",
       "        return TestSuite(\n",
       "            (FunctionTestCase if isinstance(object, __import__('types').FunctionType) else TestLoader().loadTestsFromTestCase)(object) for object in tuple\n",
       "        ).run(TestResult())"
      ],
      "text/plain": [
       "<IPython.core.display.Markdown object>"
      ]
     },
     "metadata": {},
     "output_type": "display_data"
    }
   ],
   "source": [
    "    def unittest(*tuple):\n",
    "        \"\"\"Unittest a function or class.\"\"\"\n",
    "        from unittest import TestSuite, TestResult, FunctionTestCase, TestLoader\n",
    "        return TestSuite(\n",
    "            (FunctionTestCase if isinstance(object, __import__('types').FunctionType) else TestLoader().loadTestsFromTestCase)(object) for object in tuple\n",
    "        ).run(TestResult())"
   ]
  }
 ],
 "metadata": {
  "kernelspec": {
   "display_name": "p6",
   "language": "python",
   "name": "other-env"
  },
  "language_info": {
   "codemirror_mode": {
    "name": "ipython",
    "version": 3
   },
   "file_extension": ".py",
   "mimetype": "text/x-python",
   "name": "python",
   "nbconvert_exporter": "python",
   "pygments_lexer": "ipython3",
   "version": "3.6.3"
  }
 },
 "nbformat": 4,
 "nbformat_minor": 2
}
