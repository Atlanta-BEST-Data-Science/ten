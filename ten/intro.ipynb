{
 "cells": [
  {
   "cell_type": "markdown",
   "metadata": {},
   "source": [
    "⓪ `intro.ipynb`"
   ]
  },
  {
   "cell_type": "code",
   "execution_count": 43,
   "metadata": {},
   "outputs": [
    {
     "data": {
      "text/html": [
       "<style>\n",
       ".jp-RenderedHTMLCommon pre code {\n",
       "    text-decoration: line-through wavy;\n",
       "}\n",
       ".jp-RenderedHTMLCommon pre code:hover {\n",
       "    text-decoration: none;\n",
       "\n",
       "}\n",
       ".jp-Placeholder-content .jp-MoreHorizIcon {\n",
       "    background-size: 32px;\n",
       "}\n",
       "\n",
       "@import url(\"https://cdn.jsdelivr.net/npm/firacode@1.205.0/distr/fira_code.css\")\n",
       "\n",
       ".CodeMirror * {\n",
       "  font-family: 'Fira Code' !important; \n",
       "  font-variant-ligatures: initial !important;\n",
       "}\n",
       "\n",
       ".cm-string {\n",
       "    font-variant-ligatures: none;\n",
       "}\n",
       "</style><style>\n",
       ".jp-mod-presentationMode .jp-SideBar,\n",
       ".jp-mod-presentationMode #jp-top-panel {\n",
       "    opacity: 0.0;\n",
       "    transition: all 0.2s;\n",
       "}\n",
       ".jp-mod-presentationMode .jp-SideBar:hover,\n",
       ".jp-mod-presentationMode #jp-top-panel:hover {\n",
       "    opacity: 0.9;\n",
       "    transition: all 0.2s;\n",
       "}\n",
       "\n",
       "</style><style>\n",
       ".jp-mod-presentationMode.jp-ApplicationShell,\n",
       ".jp-mod-presentationMode .p-TabBar-content{\n",
       "    background-color: var(--jp-layout-color0);\n",
       "}\n",
       "</style><style>\n",
       ".jp-mod-presentationMode .p-DockPanel-widget,\n",
       ".jp-mod-presentationMode #jp-left-stack{\n",
       "    border-color: transparent;\n",
       "}\n",
       ".jp-mod-presentationMode .jp-Toolbar-item,\n",
       ".jp-mod-presentationMode .jp-Toolbar {\n",
       "    opacity: 0.1;\n",
       "    transition: all 0.2s;\n",
       "}\n",
       ".jp-mod-presentationMode .jp-Toolbar-item:hover,\n",
       ".jp-mod-presentationMode .jp-Toolbar:hover {\n",
       "    opacity: 0.9;\n",
       "    transition: all 0.2s;\n",
       "}\n",
       "\n",
       "</style><style>\n",
       ".jp-mod-presentationMode .jp-OutputPrompt,\n",
       ".jp-mod-presentationMode .jp-InputPrompt {\n",
       "    max-width: 2rem !important;\n",
       "    transition: all 0.2s;\n",
       "}\n",
       ".jp-mod-presentationMode .jp-Cell.jp-mod-selected .jp-OutputPrompt,\n",
       ".jp-mod-presentationMode .jp-Cell.jp-mod-selected .jp-InputPrompt,\n",
       ".jp-mod-presentationMode .jp-Cell:hover .jp-OutputPrompt,\n",
       ".jp-mod-presentationMode .jp-Cell:hover .jp-InputPrompt {\n",
       "    max-width: 10rem !important;\n",
       "    transition: all 0.2s;\n",
       "}\n",
       "\n",
       ".jp-mod-presentationMode .jp-Cell {\n",
       "    margin-bottom: 5rem;\n",
       "}\n",
       "\n",
       ".jp-mod-presentationMode hr {\n",
       "    opacity: 0.1;\n",
       "}\n",
       "</style>"
      ],
      "text/plain": [
       "<IPython.core.display.HTML object>"
      ]
     },
     "execution_count": 43,
     "metadata": {},
     "output_type": "execute_result"
    }
   ],
   "source": [
    "    \n",
    "    from poser import *\n",
    "    from importlib import reload\n",
    "    if __name__ == '__main__':\n",
    "        %reload_ext rites.all\n",
    "    try:\n",
    "        from .particles import docfast, people, community\n",
    "        from .utils.style import style\n",
    "        from .utils.badges import Person, Project\n",
    "    except: \n",
    "        from ten.particles import docfast, people, community\n",
    "        from ten.utils.style import style\n",
    "        from ten.utils.badges import Person, Project\n",
    "    Ⅎill = \"\"\"---\\n\"\"\"*30\n",
    "    style"
   ]
  },
  {
   "cell_type": "code",
   "execution_count": 2,
   "metadata": {},
   "outputs": [],
   "source": [
    "\n",
    "    title = \"\"\"Ten Things You Didn't Know About Project Jupyter\"\"\"\n",
    "    abstract = \"\"\"Project Jupyter is a growing ecosystem of free, open source scientific software for interactive computing, consisting of millions of users and over a million notebooks on GitHub.  Jupyter's Notebook, and related experiences, are becoming standard interfaces for scientists and engineers.  The notebook interface is impacting the broader landscapes of research, computing, and teaching where data and code are essential; the stakeholders span industry, academia, and philanthropy.\n",
    "\n",
    "    This talk will review the history of Project Jupyter as scientific software born from the Scientific Python (SciPy) community.  Since it's inception, the community has extended Jupyter to work with over 50 different languages and provided new options for interactive development, research and presentation, including JupyterLab, the next generation of the Notebook.  In the broader open source community we find Jupyter tools for grading, batch processing, app development, documentation, tests, and even source code.\n",
    "\n",
    "\n",
    "    Within organizations, Jupyter notebooks are commonly used to exchange ideas and build knowledge bases across diverse disciplines.  The talk will highlight recent case studies in Jupyter transforming classroom education, massive collaboration in physics, and the entire multimedia experience of learning.\n",
    "    \"\"\"\n",
    "    img = \"\"\"https://user-images.githubusercontent.com/4236275/35933146-bfb7ec94-0c07-11e8-98d5-8972dc4b4e39.png\"\"\"\n",
    "    github = \"\"\"hsttps://github.com/tonyfast/ten\"\"\"\n",
    "    binder = \"\"\"[![Binder](https://mybinder.org/badge.svg)](https://mybinder.org/v2/gh/tonyfast/ten/master?filepath=readme.ipynb)\"\"\"\n",
    "    gitter = \"\"\"[![Gitter](https://badges.gitter.im/tonyfast/ten.png)](https://gitter.im/tonyfast-ten)\"\"\"\n",
    "    nbviewer = \"\"\"http://nbviewer.jupyter.org/github/tonyfast/ten/blob/master/ten/intro.ipynb\"\"\"\n",
    "    pages = \"\"\"https://tonyfast.github.io/ten\"\"\""
   ]
  },
  {
   "cell_type": "code",
   "execution_count": 66,
   "metadata": {},
   "outputs": [
    {
     "data": {
      "text/markdown": [
       "# ✌️"
      ],
      "text/plain": [
       "<IPython.core.display.Markdown object>"
      ]
     },
     "metadata": {},
     "output_type": "display_data"
    }
   ],
   "source": [
    "# ✌️"
   ]
  },
  {
   "cell_type": "code",
   "execution_count": 68,
   "metadata": {},
   "outputs": [
    {
     "data": {
      "text/markdown": [
       "# I'm a materials scientist\n",
       "\n",
       "---\n",
       "\n",
       "## [materials informatics course](http://materials-informatics-lab.github.io/)\n",
       "\n",
       "## [pymks](https://github.com/materialsinnovation/pymks)\n",
       "\n",
       "* [GT turned it in a  📺 show.](https://www.coursera.org/learn/material-informatics/lecture/yPdqs/introduction-to-pymks-materials-knowledge-systems-in-python)\n",
       "    \n",
       "## [matin](http://matin.gatech.edu/)\n",
       "\n",
       "* [JupyterHub](https://matin.gatech.edu:9012/hub)\n",
       "\n",
       "        people.tonyfast"
      ],
      "text/plain": [
       "<IPython.core.display.Markdown object>"
      ]
     },
     "metadata": {},
     "output_type": "display_data"
    },
    {
     "data": {
      "text/markdown": [
       "\n",
       "\n",
       "![Tony Fast](https://farm5.staticflickr.com/4711/39039663625_fd5fbec123_z_d.jpg)\n",
       "\n",
       "> Tony Fast | [Github](https://github.com/tonyfast) | [Linkedin](https://linkedin.com/in/tonyfast) | [Twitter](https://twitter.com/docfast) | [SlideShare](https://www.slideshare.net/tonyfast1) | \n",
       "\n"
      ],
      "text/plain": [
       "Person(github='tonyfast', info={'login': 'tonyfast', 'id': 4236275, 'avatar_url': 'https://avatars3.githubusercontent.com/u/4236275?v=4', 'gravatar_id': '', 'url': 'https://api.github.com/users/tonyfast', 'html_url': 'https://github.com/tonyfast', 'followers_url': 'https://api.github.com/users/tonyfast/followers', 'following_url': 'https://api.github.com/users/tonyfast/following{/other_user}', 'gists_url': 'https://api.github.com/users/tonyfast/gists{/gist_id}', 'starred_url': 'https://api.github.com/users/tonyfast/starred{/owner}{/repo}', 'subscriptions_url': 'https://api.github.com/users/tonyfast/subscriptions', 'organizations_url': 'https://api.github.com/users/tonyfast/orgs', 'repos_url': 'https://api.github.com/users/tonyfast/repos', 'events_url': 'https://api.github.com/users/tonyfast/events{/privacy}', 'received_events_url': 'https://api.github.com/users/tonyfast/received_events', 'type': 'User', 'site_admin': False, 'name': 'Tony Fast', 'company': '...', 'blog': 'http://anaconda.org/tonyfast', 'location': 'Atlanta', 'email': None, 'hireable': None, 'bio': None, 'public_repos': 144, 'public_gists': 481, 'followers': 65, 'following': 18, 'created_at': '2013-04-23T15:17:05Z', 'updated_at': '2018-03-14T02:43:31Z'}, name='Tony Fast', twitter='docfast', linkedin='tonyfast', slideshare='tonyfast1', img='https://farm5.staticflickr.com/4711/39039663625_fd5fbec123_z_d.jpg')"
      ]
     },
     "execution_count": 68,
     "metadata": {},
     "output_type": "execute_result"
    }
   ],
   "source": [
    "# I'm a materials scientist\n",
    "\n",
    "---\n",
    "\n",
    "## [materials informatics course]({{docfast.course}})\n",
    "\n",
    "## [pymks](https://github.com/materialsinnovation/pymks)\n",
    "\n",
    "* [GT turned it in a  📺 show.](https://www.coursera.org/learn/material-informatics/lecture/yPdqs/introduction-to-pymks-materials-knowledge-systems-in-python)\n",
    "    \n",
    "## [matin](http://matin.gatech.edu/)\n",
    "\n",
    "* [JupyterHub](https://matin.gatech.edu:9012/hub)\n",
    "\n",
    "        people.tonyfast"
   ]
  },
  {
   "cell_type": "code",
   "execution_count": 69,
   "metadata": {},
   "outputs": [
    {
     "data": {
      "text/markdown": [
       "---\n",
       "---\n",
       "---\n",
       "---\n",
       "---\n",
       "---\n",
       "---\n",
       "---\n",
       "---\n",
       "---\n",
       "---\n",
       "---\n",
       "---\n",
       "---\n",
       "---\n",
       "---\n",
       "---\n",
       "---\n",
       "---\n",
       "---\n",
       "---\n",
       "---\n",
       "---\n",
       "---\n",
       "---\n",
       "---\n",
       "---\n",
       "---\n",
       "---\n",
       "---"
      ],
      "text/plain": [
       "<IPython.core.display.Markdown object>"
      ]
     },
     "metadata": {},
     "output_type": "display_data"
    }
   ],
   "source": [
    "{{Ⅎill}}"
   ]
  },
  {
   "cell_type": "code",
   "execution_count": 17,
   "metadata": {},
   "outputs": [
    {
     "data": {
      "text/markdown": [
       "    people.slstarnes"
      ],
      "text/plain": [
       "<IPython.core.display.Markdown object>"
      ]
     },
     "metadata": {},
     "output_type": "display_data"
    },
    {
     "data": {
      "text/markdown": [
       "\n",
       "\n",
       "![Luke Starnes](https://avatars2.githubusercontent.com/u/4350027?v=4)\n",
       "\n",
       "> Luke Starnes | [Github](https://github.com/slstarnes) | \n",
       "\n"
      ],
      "text/plain": [
       "Person(github='slstarnes', info={'login': 'slstarnes', 'id': 4350027, 'avatar_url': 'https://avatars2.githubusercontent.com/u/4350027?v=4', 'gravatar_id': '', 'url': 'https://api.github.com/users/slstarnes', 'html_url': 'https://github.com/slstarnes', 'followers_url': 'https://api.github.com/users/slstarnes/followers', 'following_url': 'https://api.github.com/users/slstarnes/following{/other_user}', 'gists_url': 'https://api.github.com/users/slstarnes/gists{/gist_id}', 'starred_url': 'https://api.github.com/users/slstarnes/starred{/owner}{/repo}', 'subscriptions_url': 'https://api.github.com/users/slstarnes/subscriptions', 'organizations_url': 'https://api.github.com/users/slstarnes/orgs', 'repos_url': 'https://api.github.com/users/slstarnes/repos', 'events_url': 'https://api.github.com/users/slstarnes/events{/privacy}', 'received_events_url': 'https://api.github.com/users/slstarnes/received_events', 'type': 'User', 'site_admin': False, 'name': 'Luke Starnes', 'company': 'Georgia Tech Research Institute', 'blog': 'www.lstarnes.com', 'location': 'Atlanta, GA', 'email': None, 'hireable': None, 'bio': None, 'public_repos': 15, 'public_gists': 0, 'followers': 5, 'following': 11, 'created_at': '2013-05-06T01:30:43Z', 'updated_at': '2018-02-18T03:12:34Z'}, name='Luke Starnes', twitter=None, linkedin=None, slideshare=None, img=None)"
      ]
     },
     "execution_count": 17,
     "metadata": {},
     "output_type": "execute_result"
    }
   ],
   "source": [
    "    people.slstarnes"
   ]
  },
  {
   "cell_type": "code",
   "execution_count": 70,
   "metadata": {},
   "outputs": [
    {
     "data": {
      "text/markdown": [
       "    http://nbviewer.jupyter.org/github/slstarnes/adsb-exploration/blob/master/notebooks/\n",
       "        \n",
       "# Luke makes cool notebooks about airplanes."
      ],
      "text/plain": [
       "<IPython.core.display.Markdown object>"
      ]
     },
     "metadata": {},
     "output_type": "display_data"
    },
    {
     "data": {
      "text/html": [
       "\n",
       "        <iframe\n",
       "            width=\"800\"\n",
       "            height=\"600\"\n",
       "            src=\"http://nbviewer.jupyter.org/github/slstarnes/adsb-exploration/blob/master/notebooks/\"\n",
       "            frameborder=\"0\"\n",
       "            allowfullscreen\n",
       "        ></iframe>\n",
       "        "
      ],
      "text/plain": [
       "<IPython.lib.display.IFrame at 0x106adada0>"
      ]
     },
     "metadata": {},
     "output_type": "display_data"
    }
   ],
   "source": [
    "    http://nbviewer.jupyter.org/github/slstarnes/adsb-exploration/blob/master/notebooks/\n",
    "        \n",
    "# Luke makes cool notebooks about airplanes."
   ]
  },
  {
   "cell_type": "code",
   "execution_count": 63,
   "metadata": {},
   "outputs": [
    {
     "data": {
      "text/markdown": [
       "    https://www.meetup.com/Atlanta-Jupyter-User-Group/\n",
       "    \n",
       "# Monthly Jupyter User Group Meetings"
      ],
      "text/plain": [
       "<IPython.core.display.Markdown object>"
      ]
     },
     "metadata": {},
     "output_type": "display_data"
    },
    {
     "data": {
      "text/html": [
       "\n",
       "        <iframe\n",
       "            width=\"800\"\n",
       "            height=\"600\"\n",
       "            src=\"https://www.meetup.com/Atlanta-Jupyter-User-Group/\"\n",
       "            frameborder=\"0\"\n",
       "            allowfullscreen\n",
       "        ></iframe>\n",
       "        "
      ],
      "text/plain": [
       "<IPython.lib.display.IFrame at 0x106b00fd0>"
      ]
     },
     "metadata": {},
     "output_type": "display_data"
    }
   ],
   "source": [
    "    {{community.jug}}\n",
    "    \n",
    "# Monthly Jupyter User Group Meetings"
   ]
  },
  {
   "cell_type": "code",
   "execution_count": 44,
   "metadata": {},
   "outputs": [
    {
     "data": {
      "text/markdown": [
       "[![](https://image.slidesharecdn.com/2017jupyterconmusic-170824121421/95/jupyter-and-music-36-638.jpg?cb=1503576881)](https://www.slideshare.net/willingc/jupyter-and-music)\n",
       "\n",
       "# [Jupyter Day 2016](https://jupyterday-atlanta-2016.github.io)"
      ],
      "text/plain": [
       "<IPython.core.display.Markdown object>"
      ]
     },
     "metadata": {},
     "output_type": "display_data"
    }
   ],
   "source": [
    "[![](https://image.slidesharecdn.com/2017jupyterconmusic-170824121421/95/jupyter-and-music-36-638.jpg?cb=1503576881)](https://www.slideshare.net/willingc/jupyter-and-music)\n",
    "\n",
    "# [Jupyter Day 2016](https://jupyterday-atlanta-2016.github.io)"
   ]
  },
  {
   "cell_type": "code",
   "execution_count": 45,
   "metadata": {},
   "outputs": [
    {
     "data": {
      "text/markdown": [
       "    people.bollwyvl"
      ],
      "text/plain": [
       "<IPython.core.display.Markdown object>"
      ]
     },
     "metadata": {},
     "output_type": "display_data"
    },
    {
     "data": {
      "text/markdown": [
       "\n",
       "\n",
       "![Nick Bollweg](https://avatars2.githubusercontent.com/u/45380?v=4)\n",
       "\n",
       "> Nick Bollweg | [Github](https://github.com/bollwyvl) | \n",
       "\n"
      ],
      "text/plain": [
       "Person(github='bollwyvl', info={'login': 'bollwyvl', 'id': 45380, 'avatar_url': 'https://avatars2.githubusercontent.com/u/45380?v=4', 'gravatar_id': '', 'url': 'https://api.github.com/users/bollwyvl', 'html_url': 'https://github.com/bollwyvl', 'followers_url': 'https://api.github.com/users/bollwyvl/followers', 'following_url': 'https://api.github.com/users/bollwyvl/following{/other_user}', 'gists_url': 'https://api.github.com/users/bollwyvl/gists{/gist_id}', 'starred_url': 'https://api.github.com/users/bollwyvl/starred{/owner}{/repo}', 'subscriptions_url': 'https://api.github.com/users/bollwyvl/subscriptions', 'organizations_url': 'https://api.github.com/users/bollwyvl/orgs', 'repos_url': 'https://api.github.com/users/bollwyvl/repos', 'events_url': 'https://api.github.com/users/bollwyvl/events{/privacy}', 'received_events_url': 'https://api.github.com/users/bollwyvl/received_events', 'type': 'User', 'site_admin': False, 'name': 'Nicholas Bollweg', 'company': None, 'blog': '', 'location': 'Atlanta, GA', 'email': None, 'hireable': None, 'bio': None, 'public_repos': 239, 'public_gists': 145, 'followers': 80, 'following': 3, 'created_at': '2009-01-09T18:01:57Z', 'updated_at': '2018-03-16T16:26:53Z'}, name='Nick Bollweg', twitter=None, linkedin=None, slideshare=None, img=None)"
      ]
     },
     "execution_count": 45,
     "metadata": {},
     "output_type": "execute_result"
    }
   ],
   "source": [
    "    people.bollwyvl"
   ]
  },
  {
   "cell_type": "code",
   "execution_count": 46,
   "metadata": {},
   "outputs": [
    {
     "data": {
      "text/markdown": [
       "    https://jupyter-day-atlanta.eventbrite.com"
      ],
      "text/plain": [
       "<IPython.core.display.Markdown object>"
      ]
     },
     "metadata": {},
     "output_type": "display_data"
    },
    {
     "data": {
      "text/html": [
       "\n",
       "        <iframe\n",
       "            width=\"800\"\n",
       "            height=\"600\"\n",
       "            src=\"https://jupyter-day-atlanta.eventbrite.com\"\n",
       "            frameborder=\"0\"\n",
       "            allowfullscreen\n",
       "        ></iframe>\n",
       "        "
      ],
      "text/plain": [
       "<IPython.lib.display.IFrame at 0x101deeb70>"
      ]
     },
     "metadata": {},
     "output_type": "display_data"
    }
   ],
   "source": [
    "    {{community.day}}"
   ]
  },
  {
   "cell_type": "code",
   "execution_count": 71,
   "metadata": {},
   "outputs": [
    {
     "data": {
      "text/markdown": [
       "# Jupyter Day Speakers    \n",
       "    \n",
       "    a.display()(*a.attrgetter(*'cwilling parente pacoid bollwyvl tonyfast'.split())(people))"
      ],
      "text/plain": [
       "<IPython.core.display.Markdown object>"
      ]
     },
     "metadata": {},
     "output_type": "display_data"
    },
    {
     "data": {
      "text/markdown": [
       "\n",
       "\n",
       "![Carol Willing](https://avatars3.githubusercontent.com/u/2680980?v=4)\n",
       "\n",
       "> Carol Willing | [Github](https://github.com/willingc) | [Twitter](https://twitter.com/willingcarol) | \n",
       "\n"
      ],
      "text/plain": [
       "Person(github='willingc', info={'login': 'willingc', 'id': 2680980, 'avatar_url': 'https://avatars3.githubusercontent.com/u/2680980?v=4', 'gravatar_id': '', 'url': 'https://api.github.com/users/willingc', 'html_url': 'https://github.com/willingc', 'followers_url': 'https://api.github.com/users/willingc/followers', 'following_url': 'https://api.github.com/users/willingc/following{/other_user}', 'gists_url': 'https://api.github.com/users/willingc/gists{/gist_id}', 'starred_url': 'https://api.github.com/users/willingc/starred{/owner}{/repo}', 'subscriptions_url': 'https://api.github.com/users/willingc/subscriptions', 'organizations_url': 'https://api.github.com/users/willingc/orgs', 'repos_url': 'https://api.github.com/users/willingc/repos', 'events_url': 'https://api.github.com/users/willingc/events{/privacy}', 'received_events_url': 'https://api.github.com/users/willingc/received_events', 'type': 'User', 'site_admin': False, 'name': 'Carol Willing', 'company': 'Willing Consulting', 'blog': 'https://www.willingconsulting.com', 'location': 'San Diego', 'email': None, 'hireable': None, 'bio': 'Project Jupyter core developer\\r\\n\\r\\n@jupyter | @jupyterhub | @ipython | @jupyter-incubator | @jupyter-resources | @jupytercalpoly | @jupyter-attic', 'public_repos': 609, 'public_gists': 51, 'followers': 316, 'following': 225, 'created_at': '2012-10-30T05:07:14Z', 'updated_at': '2018-03-13T18:54:23Z'}, name='Carol Willing', twitter='willingcarol', linkedin=None, slideshare=None, img=None)"
      ]
     },
     "metadata": {},
     "output_type": "display_data"
    },
    {
     "data": {
      "text/markdown": [
       "\n",
       "\n",
       "![Peter Parente](https://avatars1.githubusercontent.com/u/153745?v=4)\n",
       "\n",
       "> Peter Parente | [Github](https://github.com/parente) | [Twitter](https://twitter.com/parente) | \n",
       "\n"
      ],
      "text/plain": [
       "Person(github='parente', info={'login': 'parente', 'id': 153745, 'avatar_url': 'https://avatars1.githubusercontent.com/u/153745?v=4', 'gravatar_id': '', 'url': 'https://api.github.com/users/parente', 'html_url': 'https://github.com/parente', 'followers_url': 'https://api.github.com/users/parente/followers', 'following_url': 'https://api.github.com/users/parente/following{/other_user}', 'gists_url': 'https://api.github.com/users/parente/gists{/gist_id}', 'starred_url': 'https://api.github.com/users/parente/starred{/owner}{/repo}', 'subscriptions_url': 'https://api.github.com/users/parente/subscriptions', 'organizations_url': 'https://api.github.com/users/parente/orgs', 'repos_url': 'https://api.github.com/users/parente/repos', 'events_url': 'https://api.github.com/users/parente/events{/privacy}', 'received_events_url': 'https://api.github.com/users/parente/received_events', 'type': 'User', 'site_admin': False, 'name': 'Peter Parente', 'company': 'Valassis Digital', 'blog': 'http://mindtrove.info', 'location': 'Durham, NC', 'email': None, 'hireable': None, 'bio': None, 'public_repos': 123, 'public_gists': 94, 'followers': 126, 'following': 11, 'created_at': '2009-11-16T02:57:23Z', 'updated_at': '2018-02-24T04:44:28Z'}, name='Peter Parente', twitter='parente', linkedin=None, slideshare=None, img=None)"
      ]
     },
     "metadata": {},
     "output_type": "display_data"
    },
    {
     "data": {
      "text/markdown": [
       "\n",
       "\n",
       "![Paco Nathan](https://avatars3.githubusercontent.com/u/57973?v=4)\n",
       "\n",
       "> Paco Nathan | [Github](https://github.com/ceteri) | [Twitter](https://twitter.com/pacoid) | \n",
       "\n"
      ],
      "text/plain": [
       "Person(github='ceteri', info={'login': 'ceteri', 'id': 57973, 'avatar_url': 'https://avatars3.githubusercontent.com/u/57973?v=4', 'gravatar_id': '', 'url': 'https://api.github.com/users/ceteri', 'html_url': 'https://github.com/ceteri', 'followers_url': 'https://api.github.com/users/ceteri/followers', 'following_url': 'https://api.github.com/users/ceteri/following{/other_user}', 'gists_url': 'https://api.github.com/users/ceteri/gists{/gist_id}', 'starred_url': 'https://api.github.com/users/ceteri/starred{/owner}{/repo}', 'subscriptions_url': 'https://api.github.com/users/ceteri/subscriptions', 'organizations_url': 'https://api.github.com/users/ceteri/orgs', 'repos_url': 'https://api.github.com/users/ceteri/repos', 'events_url': 'https://api.github.com/users/ceteri/events{/privacy}', 'received_events_url': 'https://api.github.com/users/ceteri/received_events', 'type': 'User', 'site_admin': False, 'name': 'Paco Nathan', 'company': \"O'Reilly Media\", 'blog': 'http://liber118.com/pxn/', 'location': 'Sebastopol, CA', 'email': None, 'hireable': None, 'bio': 'Evil Mad Scientist', 'public_repos': 26, 'public_gists': 37, 'followers': 473, 'following': 406, 'created_at': '2009-02-25T20:17:04Z', 'updated_at': '2018-02-07T19:14:44Z'}, name='Paco Nathan', twitter='pacoid', linkedin=None, slideshare=None, img=None)"
      ]
     },
     "metadata": {},
     "output_type": "display_data"
    },
    {
     "data": {
      "text/markdown": [
       "\n",
       "\n",
       "![Nick Bollweg](https://avatars2.githubusercontent.com/u/45380?v=4)\n",
       "\n",
       "> Nick Bollweg | [Github](https://github.com/bollwyvl) | \n",
       "\n"
      ],
      "text/plain": [
       "Person(github='bollwyvl', info={'login': 'bollwyvl', 'id': 45380, 'avatar_url': 'https://avatars2.githubusercontent.com/u/45380?v=4', 'gravatar_id': '', 'url': 'https://api.github.com/users/bollwyvl', 'html_url': 'https://github.com/bollwyvl', 'followers_url': 'https://api.github.com/users/bollwyvl/followers', 'following_url': 'https://api.github.com/users/bollwyvl/following{/other_user}', 'gists_url': 'https://api.github.com/users/bollwyvl/gists{/gist_id}', 'starred_url': 'https://api.github.com/users/bollwyvl/starred{/owner}{/repo}', 'subscriptions_url': 'https://api.github.com/users/bollwyvl/subscriptions', 'organizations_url': 'https://api.github.com/users/bollwyvl/orgs', 'repos_url': 'https://api.github.com/users/bollwyvl/repos', 'events_url': 'https://api.github.com/users/bollwyvl/events{/privacy}', 'received_events_url': 'https://api.github.com/users/bollwyvl/received_events', 'type': 'User', 'site_admin': False, 'name': 'Nicholas Bollweg', 'company': None, 'blog': '', 'location': 'Atlanta, GA', 'email': None, 'hireable': None, 'bio': None, 'public_repos': 239, 'public_gists': 145, 'followers': 80, 'following': 3, 'created_at': '2009-01-09T18:01:57Z', 'updated_at': '2018-03-16T16:26:53Z'}, name='Nick Bollweg', twitter=None, linkedin=None, slideshare=None, img=None)"
      ]
     },
     "metadata": {},
     "output_type": "display_data"
    },
    {
     "data": {
      "text/markdown": [
       "\n",
       "\n",
       "![Tony Fast](https://farm5.staticflickr.com/4711/39039663625_fd5fbec123_z_d.jpg)\n",
       "\n",
       "> Tony Fast | [Github](https://github.com/tonyfast) | [Linkedin](https://linkedin.com/in/tonyfast) | [Twitter](https://twitter.com/docfast) | [SlideShare](https://www.slideshare.net/tonyfast1) | \n",
       "\n"
      ],
      "text/plain": [
       "Person(github='tonyfast', info={'login': 'tonyfast', 'id': 4236275, 'avatar_url': 'https://avatars3.githubusercontent.com/u/4236275?v=4', 'gravatar_id': '', 'url': 'https://api.github.com/users/tonyfast', 'html_url': 'https://github.com/tonyfast', 'followers_url': 'https://api.github.com/users/tonyfast/followers', 'following_url': 'https://api.github.com/users/tonyfast/following{/other_user}', 'gists_url': 'https://api.github.com/users/tonyfast/gists{/gist_id}', 'starred_url': 'https://api.github.com/users/tonyfast/starred{/owner}{/repo}', 'subscriptions_url': 'https://api.github.com/users/tonyfast/subscriptions', 'organizations_url': 'https://api.github.com/users/tonyfast/orgs', 'repos_url': 'https://api.github.com/users/tonyfast/repos', 'events_url': 'https://api.github.com/users/tonyfast/events{/privacy}', 'received_events_url': 'https://api.github.com/users/tonyfast/received_events', 'type': 'User', 'site_admin': False, 'name': 'Tony Fast', 'company': '...', 'blog': 'http://anaconda.org/tonyfast', 'location': 'Atlanta', 'email': None, 'hireable': None, 'bio': None, 'public_repos': 144, 'public_gists': 481, 'followers': 65, 'following': 18, 'created_at': '2013-04-23T15:17:05Z', 'updated_at': '2018-03-14T02:43:31Z'}, name='Tony Fast', twitter='docfast', linkedin='tonyfast', slideshare='tonyfast1', img='https://farm5.staticflickr.com/4711/39039663625_fd5fbec123_z_d.jpg')"
      ]
     },
     "metadata": {},
     "output_type": "display_data"
    }
   ],
   "source": [
    "# Jupyter Day Speakers    \n",
    "    \n",
    "    a.display()(*a.attrgetter(*'cwilling parente pacoid bollwyvl tonyfast'.split())(people))"
   ]
  },
  {
   "cell_type": "code",
   "execution_count": 50,
   "metadata": {},
   "outputs": [
    {
     "data": {
      "text/markdown": [
       "---\n",
       "---\n",
       "---\n",
       "---\n",
       "---\n",
       "---\n",
       "---\n",
       "---\n",
       "---\n",
       "---\n",
       "---\n",
       "---\n",
       "---\n",
       "---\n",
       "---\n",
       "---\n",
       "---\n",
       "---\n",
       "---\n",
       "---\n",
       "---\n",
       "---\n",
       "---\n",
       "---\n",
       "---\n",
       "---\n",
       "---\n",
       "---\n",
       "---\n",
       "---\n",
       "\n",
       "\n",
       "[![](https://user-images.githubusercontent.com/4236275/35933146-bfb7ec94-0c07-11e8-98d5-8972dc4b4e39.png)](hsttps://github.com/tonyfast/ten)\n",
       "\n",
       "> __Disclaimer__: This presentation is very dense.  The resources below allow the audience to explore this talk after we meet.  It is full of great resources for students and teachers using computers as research equipment.  \n",
       "    \n",
       "### [Github](hsttps://github.com/tonyfast/ten) | [NBViewer](http://nbviewer.jupyter.org/urls/github.com/tonyfast/ten/intro.ipynb) | [Pages](https://tonyfast.github.io/ten)\n",
       "\n",
       "[![Binder](https://mybinder.org/badge.svg)](https://mybinder.org/v2/gh/tonyfast/ten/master?filepath=readme.ipynb)\n",
       "[![Gitter](https://badges.gitter.im/tonyfast/ten.png)](https://gitter.im/tonyfast-ten)"
      ],
      "text/plain": [
       "<IPython.core.display.Markdown object>"
      ]
     },
     "metadata": {},
     "output_type": "display_data"
    }
   ],
   "source": [
    "{{Ⅎill}}\n",
    "\n",
    "[![]({{img}})]({{github}})\n",
    "\n",
    "> __Disclaimer__: This presentation is very dense.  The resources below allow the audience to explore this talk after we meet.  It is full of great resources for students and teachers using computers as research equipment.  \n",
    "    \n",
    "### [Github]({{github}}) | [NBViewer]({{nbviewer}}) | [Pages]({{pages}})\n",
    "\n",
    "{{binder}}\n",
    "{{gitter}}\n",
    "\n"
   ]
  },
  {
   "cell_type": "code",
   "execution_count": 35,
   "metadata": {},
   "outputs": [
    {
     "data": {
      "text/markdown": [
       "    https://leanpub.com/modernscientist"
      ],
      "text/plain": [
       "<IPython.core.display.Markdown object>"
      ]
     },
     "metadata": {},
     "output_type": "display_data"
    },
    {
     "data": {
      "text/html": [
       "\n",
       "        <iframe\n",
       "            width=\"800\"\n",
       "            height=\"600\"\n",
       "            src=\"https://leanpub.com/modernscientist\"\n",
       "            frameborder=\"0\"\n",
       "            allowfullscreen\n",
       "        ></iframe>\n",
       "        "
      ],
      "text/plain": [
       "<IPython.lib.display.IFrame at 0x106b02ba8>"
      ]
     },
     "metadata": {},
     "output_type": "display_data"
    }
   ],
   "source": [
    "    https://leanpub.com/modernscientist"
   ]
  },
  {
   "cell_type": "code",
   "execution_count": 55,
   "metadata": {},
   "outputs": [
    {
     "data": {
      "text/markdown": [
       "[![](http://rse.shef.ac.uk/images/sc-dc-logos.png)](https://software-carpentry.org/)"
      ],
      "text/plain": [
       "<IPython.core.display.Markdown object>"
      ]
     },
     "metadata": {},
     "output_type": "display_data"
    }
   ],
   "source": [
    "[![](http://rse.shef.ac.uk/images/sc-dc-logos.png)](https://software-carpentry.org/)"
   ]
  },
  {
   "cell_type": "code",
   "execution_count": 37,
   "metadata": {},
   "outputs": [
    {
     "data": {
      "text/markdown": [
       "# Are you a modern scientist?\n",
       "\n",
       "* Do you have less boundaries?\n",
       "* Are you information rich?\n",
       "* Are you knowledge poor?\n",
       "* Do you work with people?\n",
       "* Do you work with machines?\n",
       "\n",
       "<code><pre>  * Do you question why we still have libraries?</code></pre>"
      ],
      "text/plain": [
       "<IPython.core.display.Markdown object>"
      ]
     },
     "metadata": {},
     "output_type": "display_data"
    }
   ],
   "source": [
    "# Are you a modern scientist?\n",
    "\n",
    "* Do you have less boundaries?\n",
    "* Are you information rich?\n",
    "* Are you knowledge poor?\n",
    "* Do you work with people?\n",
    "* Do you work with machines?\n",
    "\n",
    "<code><pre>  * Do you question why we still have libraries?</code></pre>"
   ]
  },
  {
   "cell_type": "code",
   "execution_count": 20,
   "metadata": {},
   "outputs": [
    {
     "data": {
      "text/markdown": [
       "---\n",
       "---\n",
       "---\n",
       "---\n",
       "---\n",
       "---\n",
       "---\n",
       "---\n",
       "---\n",
       "---\n",
       "---\n",
       "---\n",
       "---\n",
       "---\n",
       "---\n",
       "---\n",
       "---\n",
       "---\n",
       "---\n",
       "---\n",
       "---\n",
       "---\n",
       "---\n",
       "---\n",
       "---\n",
       "---\n",
       "---\n",
       "---\n",
       "---\n",
       "---\n",
       "\n",
       "\n",
       "## [~~Data~~ Science](intro.ipynb)\n",
       "\n",
       "\n",
       "[![Drew Conway](https://static1.squarespace.com/static/5150aec6e4b0e340ec52710a/t/51525c33e4b0b3e0d10f77ab/1364352052403/Data_Science_VD.png?format=1500w)](http://drewconway.com/zia/2013/3/26/the-data-science-venn-diagram)\n",
       "\n",
       "Data science has transformed the lives of modern scientists. "
      ],
      "text/plain": [
       "<IPython.core.display.Markdown object>"
      ]
     },
     "metadata": {},
     "output_type": "display_data"
    }
   ],
   "source": [
    "{{Ⅎill}}\n",
    "\n",
    "## [~~Data~~ Science](intro.ipynb)\n",
    "\n",
    "\n",
    "[![Drew Conway](https://static1.squarespace.com/static/5150aec6e4b0e340ec52710a/t/51525c33e4b0b3e0d10f77ab/1364352052403/Data_Science_VD.png?format=1500w)](http://drewconway.com/zia/2013/3/26/the-data-science-venn-diagram)\n",
    "\n",
    "Data science has transformed the lives of modern scientists. "
   ]
  },
  {
   "cell_type": "code",
   "execution_count": 41,
   "metadata": {},
   "outputs": [
    {
     "data": {
      "text/markdown": [
       "    order = \"\"\"\n",
       "    \n",
       "## [Introduction.](intro.ipynb)\n",
       "\n",
       "![](https://github.com/jupyter/design/blob/master/logos/Rectangle%20Logo/rectanglelogo-greytext-orangebody-greymoons/rectanglelogo-greytext-orangebody-greymoons.png?raw=true)\n",
       "\n",
       "\n",
       "## [The History and Community.](history.ipynb)\n",
       "\n",
       "    1. Jupyter is scientific software    \n",
       "    2. Jupyter is language agnostic\n",
       "    3. Jupyter is an ecosystem\n",
       "    4. Jupyter is a community\n",
       "    \n",
       "## [Technical Value.](technical.ipynb)\n",
       "        \n",
       "    5. Jupyter is data \n",
       "    6. Jupyter is literate computing\n",
       "    7. Jupyter is for documents\n",
       "    \n",
       "## [Collaborative Literate Computing.](collaboration.ipynb)\n",
       "        \n",
       "    8. Jupyter is for sharing data\n",
       "    9. Jupyter is for collaboration\n",
       "    10. Jupyter is reusable\n",
       "\n",
       "---\n",
       "\n",
       "    \"\"\".strip()"
      ],
      "text/plain": [
       "<IPython.core.display.Markdown object>"
      ]
     },
     "metadata": {},
     "output_type": "display_data"
    }
   ],
   "source": [
    "    order = \"\"\"\n",
    "    \n",
    "## [Introduction.](intro.ipynb)\n",
    "\n",
    "![](https://github.com/jupyter/design/blob/master/logos/Rectangle%20Logo/rectanglelogo-greytext-orangebody-greymoons/rectanglelogo-greytext-orangebody-greymoons.png?raw=true)\n",
    "\n",
    "\n",
    "## [The History and Community.](history.ipynb)\n",
    "\n",
    "    1. Jupyter is scientific software    \n",
    "    2. Jupyter is language agnostic\n",
    "    3. Jupyter is an ecosystem\n",
    "    4. Jupyter is a community\n",
    "    \n",
    "## [Technical Value.](technical.ipynb)\n",
    "        \n",
    "    5. Jupyter is data \n",
    "    6. Jupyter is literate computing\n",
    "    7. Jupyter is for documents\n",
    "    \n",
    "## [Collaborative Literate Computing.](collaboration.ipynb)\n",
    "        \n",
    "    8. Jupyter is for sharing data\n",
    "    9. Jupyter is for collaboration\n",
    "    10. Jupyter is reusable\n",
    "\n",
    "---\n",
    "\n",
    "    \"\"\".strip()"
   ]
  },
  {
   "cell_type": "code",
   "execution_count": 16,
   "metadata": {},
   "outputs": [
    {
     "data": {
      "text/markdown": [
       "---\n",
       "---\n",
       "---\n",
       "---\n",
       "---\n",
       "---\n",
       "---\n",
       "---\n",
       "---\n",
       "---\n",
       "---\n",
       "---\n",
       "---\n",
       "---\n",
       "---\n",
       "---\n",
       "---\n",
       "---\n",
       "---\n",
       "---\n",
       "---\n",
       "---\n",
       "---\n",
       "---\n",
       "---\n",
       "---\n",
       "---\n",
       "---\n",
       "---\n",
       "---\n",
       "\n",
       "\n",
       "<div style=\"font-size: 6rem;\">Jupyter == IPython</div>\n",
       "\n",
       "> If you don't know, now ya do."
      ],
      "text/plain": [
       "<IPython.core.display.Markdown object>"
      ]
     },
     "metadata": {},
     "output_type": "display_data"
    }
   ],
   "source": [
    "{{Ⅎill}}\n",
    "\n",
    "<div style=\"font-size: 6rem;\">Jupyter == IPython</div>\n",
    "\n",
    "> If you don't know, now ya do."
   ]
  },
  {
   "cell_type": "code",
   "execution_count": 17,
   "metadata": {},
   "outputs": [
    {
     "data": {
      "text/markdown": [
       "---\n",
       "\n",
       "\n",
       "\n",
       "## 🤜[The History and Community.](history.ipynb)"
      ],
      "text/plain": [
       "<IPython.core.display.Markdown object>"
      ]
     },
     "metadata": {},
     "output_type": "display_data"
    }
   ],
   "source": [
    "---\n",
    "\n",
    "\n",
    "\n",
    "## 🤜[The History and Community.](history.ipynb)"
   ]
  },
  {
   "cell_type": "code",
   "execution_count": 18,
   "metadata": {},
   "outputs": [
    {
     "data": {
      "text/markdown": [
       "---\n",
       "---\n",
       "---\n",
       "---\n",
       "---\n",
       "---\n",
       "---\n",
       "---\n",
       "---\n",
       "---\n",
       "---\n",
       "---\n",
       "---\n",
       "---\n",
       "---\n",
       "---\n",
       "---\n",
       "---\n",
       "---\n",
       "---\n",
       "---\n",
       "---\n",
       "---\n",
       "---\n",
       "---\n",
       "---\n",
       "---\n",
       "---\n",
       "---\n",
       "---\n",
       "    "
      ],
      "text/plain": [
       "<IPython.core.display.Markdown object>"
      ]
     },
     "metadata": {},
     "output_type": "display_data"
    }
   ],
   "source": [
    "{{Ⅎill}}    "
   ]
  },
  {
   "cell_type": "code",
   "execution_count": 19,
   "metadata": {},
   "outputs": [],
   "source": [
    "    \n",
    "    topics = {int(k): v for k, v in (str.split('.') for str in order.splitlines() if str.split('.')[0].isnumeric())}    \n",
    "    bullets = the.range().map(topics.get).map(the.str.lstrip()).append('\\n'.join).textwrap.indent(prefix='* ')"
   ]
  }
 ],
 "metadata": {
  "celltoolbar": "Slideshow",
  "kernelspec": {
   "display_name": "p6",
   "language": "python",
   "name": "other-env"
  },
  "language_info": {
   "codemirror_mode": {
    "name": "ipython",
    "version": 3
   },
   "file_extension": ".py",
   "mimetype": "text/x-python",
   "name": "python",
   "nbconvert_exporter": "python",
   "pygments_lexer": "ipython3",
   "version": "3.6.3"
  }
 },
 "nbformat": 4,
 "nbformat_minor": 2
}
